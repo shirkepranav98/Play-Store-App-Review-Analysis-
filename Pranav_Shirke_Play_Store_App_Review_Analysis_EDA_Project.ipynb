{
  "nbformat": 4,
  "nbformat_minor": 0,
  "metadata": {
    "kernelspec": {
      "display_name": "Python 3",
      "language": "python",
      "name": "python3"
    },
    "language_info": {
      "codemirror_mode": {
        "name": "ipython",
        "version": 3
      },
      "file_extension": ".py",
      "mimetype": "text/x-python",
      "name": "python",
      "nbconvert_exporter": "python",
      "pygments_lexer": "ipython3",
      "version": "3.6.6"
    },
    "colab": {
      "name": "Pranav Shirke-Play Store App Review Analysis - EDA Project.ipynb",
      "provenance": [],
      "collapsed_sections": []
    }
  },
  "cells": [
    {
      "cell_type": "markdown",
      "metadata": {
        "id": "Y06xIdG26kRF"
      },
      "source": [
        "## <b> The Play Store apps data has enormous potential to drive app-making businesses to success. Actionable insights can be drawn for developers to work on and capture the Android market. </b>\n",
        "\n",
        "## <b> Each app (row) has values for catergory, rating, size, and more. Another dataset contains customer reviews of the android apps.</b>\n",
        "\n",
        "## <b> Explore and analyze the data to discover key factors responsible for app engagement and success. </b>"
      ]
    },
    {
      "cell_type": "markdown",
      "metadata": {
        "id": "1TS9M_G-DFoV"
      },
      "source": [
        "# Mounting the Drive and Loading the csv files\n",
        "\n",
        "\n",
        "\n"
      ]
    },
    {
      "cell_type": "code",
      "metadata": {
        "id": "Zs9tFn_4DHYB",
        "colab": {
          "base_uri": "https://localhost:8080/"
        },
        "outputId": "7ed29b97-0468-403c-af0b-29cb31181e1d"
      },
      "source": [
        "#Mounting Drive\n",
        "from google.colab import drive\n",
        "drive.mount('/content/drive')"
      ],
      "execution_count": 3,
      "outputs": [
        {
          "output_type": "stream",
          "name": "stdout",
          "text": [
            "Mounted at /content/drive\n"
          ]
        }
      ]
    },
    {
      "cell_type": "code",
      "metadata": {
        "id": "_5xtQzJjDc6G"
      },
      "source": [
        "# Import pandas\n",
        "\n",
        "import pandas as pd\n",
        "import numpy as np\n",
        "import seaborn as sns\n",
        "import matplotlib.pyplot as plt\n",
        "import plotly\n",
        "import plotly.graph_objects as go\n",
        "import plotly.express as px\n",
        "from plotly.offline import plot"
      ],
      "execution_count": 103,
      "outputs": []
    },
    {
      "cell_type": "code",
      "metadata": {
        "id": "eDu-blm2Ttxg"
      },
      "source": [
        "# Loading two csv files as path1 and path2\n",
        "path1 = '/content/drive/MyDrive/AlmaBetter/Project on play store/csv files/'\n",
        "path2 = '/content/drive/MyDrive/AlmaBetter/Project on play store/csv files/'"
      ],
      "execution_count": 5,
      "outputs": []
    },
    {
      "cell_type": "code",
      "metadata": {
        "id": "pddW5NVKTtuZ"
      },
      "source": [
        "play_s_df = pd.read_csv(path1 + 'Play Store Data.csv')\n",
        "user_r_df = pd.read_csv(path2 + 'User Reviews.csv')"
      ],
      "execution_count": 6,
      "outputs": []
    },
    {
      "cell_type": "markdown",
      "metadata": {
        "id": "Z5_86bBbCIkV"
      },
      "source": [
        "# **1. INTRODUCTION TO DATA**\n",
        "---\n",
        "Firstly let's get to know data. While I was analyzing the data, I used Pandas library.\n",
        "\n",
        "1. info(): It informs about data columns and data types.\n",
        "2. head(): It returns the first five data.\n",
        "3. tail(): It returns the last five data.\n",
        "4. columns : It returns data columns\n",
        "5. describe : To get some basic statistical details\n",
        "5. shape : It gives number of rows and columns in a tuble."
      ]
    },
    {
      "cell_type": "code",
      "metadata": {
        "id": "IZWpvLCVF9Ei",
        "colab": {
          "base_uri": "https://localhost:8080/"
        },
        "outputId": "71b473ed-81db-41fb-b477-1cd6a879bea1"
      },
      "source": [
        "play_s_df.info()"
      ],
      "execution_count": 7,
      "outputs": [
        {
          "output_type": "stream",
          "name": "stdout",
          "text": [
            "<class 'pandas.core.frame.DataFrame'>\n",
            "RangeIndex: 10841 entries, 0 to 10840\n",
            "Data columns (total 13 columns):\n",
            " #   Column          Non-Null Count  Dtype  \n",
            "---  ------          --------------  -----  \n",
            " 0   App             10841 non-null  object \n",
            " 1   Category        10841 non-null  object \n",
            " 2   Rating          9367 non-null   float64\n",
            " 3   Reviews         10841 non-null  object \n",
            " 4   Size            10841 non-null  object \n",
            " 5   Installs        10841 non-null  object \n",
            " 6   Type            10840 non-null  object \n",
            " 7   Price           10841 non-null  object \n",
            " 8   Content Rating  10840 non-null  object \n",
            " 9   Genres          10841 non-null  object \n",
            " 10  Last Updated    10841 non-null  object \n",
            " 11  Current Ver     10833 non-null  object \n",
            " 12  Android Ver     10838 non-null  object \n",
            "dtypes: float64(1), object(12)\n",
            "memory usage: 1.1+ MB\n"
          ]
        }
      ]
    },
    {
      "cell_type": "code",
      "metadata": {
        "id": "wEulCxUsG1ps",
        "colab": {
          "base_uri": "https://localhost:8080/",
          "height": 204
        },
        "outputId": "f44c0c65-b893-4f34-d290-08afa8e3263e"
      },
      "source": [
        "play_s_df.head()"
      ],
      "execution_count": 8,
      "outputs": [
        {
          "output_type": "execute_result",
          "data": {
            "text/html": [
              "<div>\n",
              "<style scoped>\n",
              "    .dataframe tbody tr th:only-of-type {\n",
              "        vertical-align: middle;\n",
              "    }\n",
              "\n",
              "    .dataframe tbody tr th {\n",
              "        vertical-align: top;\n",
              "    }\n",
              "\n",
              "    .dataframe thead th {\n",
              "        text-align: right;\n",
              "    }\n",
              "</style>\n",
              "<table border=\"1\" class=\"dataframe\">\n",
              "  <thead>\n",
              "    <tr style=\"text-align: right;\">\n",
              "      <th></th>\n",
              "      <th>App</th>\n",
              "      <th>Category</th>\n",
              "      <th>Rating</th>\n",
              "      <th>Reviews</th>\n",
              "      <th>Size</th>\n",
              "      <th>Installs</th>\n",
              "      <th>Type</th>\n",
              "      <th>Price</th>\n",
              "      <th>Content Rating</th>\n",
              "      <th>Genres</th>\n",
              "      <th>Last Updated</th>\n",
              "      <th>Current Ver</th>\n",
              "      <th>Android Ver</th>\n",
              "    </tr>\n",
              "  </thead>\n",
              "  <tbody>\n",
              "    <tr>\n",
              "      <th>0</th>\n",
              "      <td>Photo Editor &amp; Candy Camera &amp; Grid &amp; ScrapBook</td>\n",
              "      <td>ART_AND_DESIGN</td>\n",
              "      <td>4.1</td>\n",
              "      <td>159</td>\n",
              "      <td>19M</td>\n",
              "      <td>10,000+</td>\n",
              "      <td>Free</td>\n",
              "      <td>0</td>\n",
              "      <td>Everyone</td>\n",
              "      <td>Art &amp; Design</td>\n",
              "      <td>January 7, 2018</td>\n",
              "      <td>1.0.0</td>\n",
              "      <td>4.0.3 and up</td>\n",
              "    </tr>\n",
              "    <tr>\n",
              "      <th>1</th>\n",
              "      <td>Coloring book moana</td>\n",
              "      <td>ART_AND_DESIGN</td>\n",
              "      <td>3.9</td>\n",
              "      <td>967</td>\n",
              "      <td>14M</td>\n",
              "      <td>500,000+</td>\n",
              "      <td>Free</td>\n",
              "      <td>0</td>\n",
              "      <td>Everyone</td>\n",
              "      <td>Art &amp; Design;Pretend Play</td>\n",
              "      <td>January 15, 2018</td>\n",
              "      <td>2.0.0</td>\n",
              "      <td>4.0.3 and up</td>\n",
              "    </tr>\n",
              "    <tr>\n",
              "      <th>2</th>\n",
              "      <td>U Launcher Lite – FREE Live Cool Themes, Hide ...</td>\n",
              "      <td>ART_AND_DESIGN</td>\n",
              "      <td>4.7</td>\n",
              "      <td>87510</td>\n",
              "      <td>8.7M</td>\n",
              "      <td>5,000,000+</td>\n",
              "      <td>Free</td>\n",
              "      <td>0</td>\n",
              "      <td>Everyone</td>\n",
              "      <td>Art &amp; Design</td>\n",
              "      <td>August 1, 2018</td>\n",
              "      <td>1.2.4</td>\n",
              "      <td>4.0.3 and up</td>\n",
              "    </tr>\n",
              "    <tr>\n",
              "      <th>3</th>\n",
              "      <td>Sketch - Draw &amp; Paint</td>\n",
              "      <td>ART_AND_DESIGN</td>\n",
              "      <td>4.5</td>\n",
              "      <td>215644</td>\n",
              "      <td>25M</td>\n",
              "      <td>50,000,000+</td>\n",
              "      <td>Free</td>\n",
              "      <td>0</td>\n",
              "      <td>Teen</td>\n",
              "      <td>Art &amp; Design</td>\n",
              "      <td>June 8, 2018</td>\n",
              "      <td>Varies with device</td>\n",
              "      <td>4.2 and up</td>\n",
              "    </tr>\n",
              "    <tr>\n",
              "      <th>4</th>\n",
              "      <td>Pixel Draw - Number Art Coloring Book</td>\n",
              "      <td>ART_AND_DESIGN</td>\n",
              "      <td>4.3</td>\n",
              "      <td>967</td>\n",
              "      <td>2.8M</td>\n",
              "      <td>100,000+</td>\n",
              "      <td>Free</td>\n",
              "      <td>0</td>\n",
              "      <td>Everyone</td>\n",
              "      <td>Art &amp; Design;Creativity</td>\n",
              "      <td>June 20, 2018</td>\n",
              "      <td>1.1</td>\n",
              "      <td>4.4 and up</td>\n",
              "    </tr>\n",
              "  </tbody>\n",
              "</table>\n",
              "</div>"
            ],
            "text/plain": [
              "                                                 App  ...   Android Ver\n",
              "0     Photo Editor & Candy Camera & Grid & ScrapBook  ...  4.0.3 and up\n",
              "1                                Coloring book moana  ...  4.0.3 and up\n",
              "2  U Launcher Lite – FREE Live Cool Themes, Hide ...  ...  4.0.3 and up\n",
              "3                              Sketch - Draw & Paint  ...    4.2 and up\n",
              "4              Pixel Draw - Number Art Coloring Book  ...    4.4 and up\n",
              "\n",
              "[5 rows x 13 columns]"
            ]
          },
          "metadata": {},
          "execution_count": 8
        }
      ]
    },
    {
      "cell_type": "code",
      "metadata": {
        "id": "ZLInYkEbLv4T",
        "colab": {
          "base_uri": "https://localhost:8080/",
          "height": 271
        },
        "outputId": "af44f1da-35b8-4b4a-c675-75c124a54e65"
      },
      "source": [
        "play_s_df.tail()"
      ],
      "execution_count": 9,
      "outputs": [
        {
          "output_type": "execute_result",
          "data": {
            "text/html": [
              "<div>\n",
              "<style scoped>\n",
              "    .dataframe tbody tr th:only-of-type {\n",
              "        vertical-align: middle;\n",
              "    }\n",
              "\n",
              "    .dataframe tbody tr th {\n",
              "        vertical-align: top;\n",
              "    }\n",
              "\n",
              "    .dataframe thead th {\n",
              "        text-align: right;\n",
              "    }\n",
              "</style>\n",
              "<table border=\"1\" class=\"dataframe\">\n",
              "  <thead>\n",
              "    <tr style=\"text-align: right;\">\n",
              "      <th></th>\n",
              "      <th>App</th>\n",
              "      <th>Category</th>\n",
              "      <th>Rating</th>\n",
              "      <th>Reviews</th>\n",
              "      <th>Size</th>\n",
              "      <th>Installs</th>\n",
              "      <th>Type</th>\n",
              "      <th>Price</th>\n",
              "      <th>Content Rating</th>\n",
              "      <th>Genres</th>\n",
              "      <th>Last Updated</th>\n",
              "      <th>Current Ver</th>\n",
              "      <th>Android Ver</th>\n",
              "    </tr>\n",
              "  </thead>\n",
              "  <tbody>\n",
              "    <tr>\n",
              "      <th>10836</th>\n",
              "      <td>Sya9a Maroc - FR</td>\n",
              "      <td>FAMILY</td>\n",
              "      <td>4.5</td>\n",
              "      <td>38</td>\n",
              "      <td>53M</td>\n",
              "      <td>5,000+</td>\n",
              "      <td>Free</td>\n",
              "      <td>0</td>\n",
              "      <td>Everyone</td>\n",
              "      <td>Education</td>\n",
              "      <td>July 25, 2017</td>\n",
              "      <td>1.48</td>\n",
              "      <td>4.1 and up</td>\n",
              "    </tr>\n",
              "    <tr>\n",
              "      <th>10837</th>\n",
              "      <td>Fr. Mike Schmitz Audio Teachings</td>\n",
              "      <td>FAMILY</td>\n",
              "      <td>5.0</td>\n",
              "      <td>4</td>\n",
              "      <td>3.6M</td>\n",
              "      <td>100+</td>\n",
              "      <td>Free</td>\n",
              "      <td>0</td>\n",
              "      <td>Everyone</td>\n",
              "      <td>Education</td>\n",
              "      <td>July 6, 2018</td>\n",
              "      <td>1.0</td>\n",
              "      <td>4.1 and up</td>\n",
              "    </tr>\n",
              "    <tr>\n",
              "      <th>10838</th>\n",
              "      <td>Parkinson Exercices FR</td>\n",
              "      <td>MEDICAL</td>\n",
              "      <td>NaN</td>\n",
              "      <td>3</td>\n",
              "      <td>9.5M</td>\n",
              "      <td>1,000+</td>\n",
              "      <td>Free</td>\n",
              "      <td>0</td>\n",
              "      <td>Everyone</td>\n",
              "      <td>Medical</td>\n",
              "      <td>January 20, 2017</td>\n",
              "      <td>1.0</td>\n",
              "      <td>2.2 and up</td>\n",
              "    </tr>\n",
              "    <tr>\n",
              "      <th>10839</th>\n",
              "      <td>The SCP Foundation DB fr nn5n</td>\n",
              "      <td>BOOKS_AND_REFERENCE</td>\n",
              "      <td>4.5</td>\n",
              "      <td>114</td>\n",
              "      <td>Varies with device</td>\n",
              "      <td>1,000+</td>\n",
              "      <td>Free</td>\n",
              "      <td>0</td>\n",
              "      <td>Mature 17+</td>\n",
              "      <td>Books &amp; Reference</td>\n",
              "      <td>January 19, 2015</td>\n",
              "      <td>Varies with device</td>\n",
              "      <td>Varies with device</td>\n",
              "    </tr>\n",
              "    <tr>\n",
              "      <th>10840</th>\n",
              "      <td>iHoroscope - 2018 Daily Horoscope &amp; Astrology</td>\n",
              "      <td>LIFESTYLE</td>\n",
              "      <td>4.5</td>\n",
              "      <td>398307</td>\n",
              "      <td>19M</td>\n",
              "      <td>10,000,000+</td>\n",
              "      <td>Free</td>\n",
              "      <td>0</td>\n",
              "      <td>Everyone</td>\n",
              "      <td>Lifestyle</td>\n",
              "      <td>July 25, 2018</td>\n",
              "      <td>Varies with device</td>\n",
              "      <td>Varies with device</td>\n",
              "    </tr>\n",
              "  </tbody>\n",
              "</table>\n",
              "</div>"
            ],
            "text/plain": [
              "                                                 App  ...         Android Ver\n",
              "10836                               Sya9a Maroc - FR  ...          4.1 and up\n",
              "10837               Fr. Mike Schmitz Audio Teachings  ...          4.1 and up\n",
              "10838                         Parkinson Exercices FR  ...          2.2 and up\n",
              "10839                  The SCP Foundation DB fr nn5n  ...  Varies with device\n",
              "10840  iHoroscope - 2018 Daily Horoscope & Astrology  ...  Varies with device\n",
              "\n",
              "[5 rows x 13 columns]"
            ]
          },
          "metadata": {},
          "execution_count": 9
        }
      ]
    },
    {
      "cell_type": "code",
      "metadata": {
        "id": "ja8vP0DHECRs",
        "colab": {
          "base_uri": "https://localhost:8080/"
        },
        "outputId": "71e13ee6-c248-4f46-e6f7-448347a16987"
      },
      "source": [
        "play_s_df.columns"
      ],
      "execution_count": 10,
      "outputs": [
        {
          "output_type": "execute_result",
          "data": {
            "text/plain": [
              "Index(['App', 'Category', 'Rating', 'Reviews', 'Size', 'Installs', 'Type',\n",
              "       'Price', 'Content Rating', 'Genres', 'Last Updated', 'Current Ver',\n",
              "       'Android Ver'],\n",
              "      dtype='object')"
            ]
          },
          "metadata": {},
          "execution_count": 10
        }
      ]
    },
    {
      "cell_type": "code",
      "metadata": {
        "id": "DUZGfgLJ1e3e",
        "colab": {
          "base_uri": "https://localhost:8080/",
          "height": 296
        },
        "outputId": "3012289d-582b-4734-804a-02204c67e7b0"
      },
      "source": [
        "play_s_df.describe()"
      ],
      "execution_count": 11,
      "outputs": [
        {
          "output_type": "execute_result",
          "data": {
            "text/html": [
              "<div>\n",
              "<style scoped>\n",
              "    .dataframe tbody tr th:only-of-type {\n",
              "        vertical-align: middle;\n",
              "    }\n",
              "\n",
              "    .dataframe tbody tr th {\n",
              "        vertical-align: top;\n",
              "    }\n",
              "\n",
              "    .dataframe thead th {\n",
              "        text-align: right;\n",
              "    }\n",
              "</style>\n",
              "<table border=\"1\" class=\"dataframe\">\n",
              "  <thead>\n",
              "    <tr style=\"text-align: right;\">\n",
              "      <th></th>\n",
              "      <th>Rating</th>\n",
              "    </tr>\n",
              "  </thead>\n",
              "  <tbody>\n",
              "    <tr>\n",
              "      <th>count</th>\n",
              "      <td>9367.000000</td>\n",
              "    </tr>\n",
              "    <tr>\n",
              "      <th>mean</th>\n",
              "      <td>4.193338</td>\n",
              "    </tr>\n",
              "    <tr>\n",
              "      <th>std</th>\n",
              "      <td>0.537431</td>\n",
              "    </tr>\n",
              "    <tr>\n",
              "      <th>min</th>\n",
              "      <td>1.000000</td>\n",
              "    </tr>\n",
              "    <tr>\n",
              "      <th>25%</th>\n",
              "      <td>4.000000</td>\n",
              "    </tr>\n",
              "    <tr>\n",
              "      <th>50%</th>\n",
              "      <td>4.300000</td>\n",
              "    </tr>\n",
              "    <tr>\n",
              "      <th>75%</th>\n",
              "      <td>4.500000</td>\n",
              "    </tr>\n",
              "    <tr>\n",
              "      <th>max</th>\n",
              "      <td>19.000000</td>\n",
              "    </tr>\n",
              "  </tbody>\n",
              "</table>\n",
              "</div>"
            ],
            "text/plain": [
              "            Rating\n",
              "count  9367.000000\n",
              "mean      4.193338\n",
              "std       0.537431\n",
              "min       1.000000\n",
              "25%       4.000000\n",
              "50%       4.300000\n",
              "75%       4.500000\n",
              "max      19.000000"
            ]
          },
          "metadata": {},
          "execution_count": 11
        }
      ]
    },
    {
      "cell_type": "code",
      "metadata": {
        "id": "fyOBtHP5EvZs",
        "colab": {
          "base_uri": "https://localhost:8080/"
        },
        "outputId": "183e9f6e-aba2-42e1-c088-7fe6671c739e"
      },
      "source": [
        "play_s_df.shape"
      ],
      "execution_count": 12,
      "outputs": [
        {
          "output_type": "execute_result",
          "data": {
            "text/plain": [
              "(10841, 13)"
            ]
          },
          "metadata": {},
          "execution_count": 12
        }
      ]
    },
    {
      "cell_type": "markdown",
      "metadata": {
        "id": "s_RHQMh0CAFR"
      },
      "source": [
        "# **Cleaning of Data**\n",
        "---\n",
        "\n"
      ]
    },
    {
      "cell_type": "code",
      "metadata": {
        "id": "DdNTIuZhQWF_",
        "colab": {
          "base_uri": "https://localhost:8080/"
        },
        "outputId": "a5079958-c4ca-455e-c4dc-ad2ac29e5cf8"
      },
      "source": [
        "play_s_df.App.nunique()"
      ],
      "execution_count": 13,
      "outputs": [
        {
          "output_type": "execute_result",
          "data": {
            "text/plain": [
              "9660"
            ]
          },
          "metadata": {},
          "execution_count": 13
        }
      ]
    },
    {
      "cell_type": "markdown",
      "metadata": {
        "id": "5UBxBqrqE7he"
      },
      "source": [
        "# **Remove** **Duplicates** -\n",
        "### There is always a possibility that duplicates may exist within the dataframe and eliminating those duplicates is major task while analyzing the data. This can be done by drop_duplicates method."
      ]
    },
    {
      "cell_type": "code",
      "metadata": {
        "id": "0nelxrJz5SVL",
        "colab": {
          "base_uri": "https://localhost:8080/",
          "height": 204
        },
        "outputId": "bdfe2f2b-d5a7-43aa-d16e-e052d508211a"
      },
      "source": [
        "# Firstly, Showing the existence of duplicates using app and counting the values of duplicate apps\n",
        "duplicate =play_s_df.groupby(['App']).agg({'Category': 'count'}).reset_index()\n",
        "duplicate = duplicate.sort_values(by=['Category'], ascending=False)\n",
        "duplicate.head(5)"
      ],
      "execution_count": 14,
      "outputs": [
        {
          "output_type": "execute_result",
          "data": {
            "text/html": [
              "<div>\n",
              "<style scoped>\n",
              "    .dataframe tbody tr th:only-of-type {\n",
              "        vertical-align: middle;\n",
              "    }\n",
              "\n",
              "    .dataframe tbody tr th {\n",
              "        vertical-align: top;\n",
              "    }\n",
              "\n",
              "    .dataframe thead th {\n",
              "        text-align: right;\n",
              "    }\n",
              "</style>\n",
              "<table border=\"1\" class=\"dataframe\">\n",
              "  <thead>\n",
              "    <tr style=\"text-align: right;\">\n",
              "      <th></th>\n",
              "      <th>App</th>\n",
              "      <th>Category</th>\n",
              "    </tr>\n",
              "  </thead>\n",
              "  <tbody>\n",
              "    <tr>\n",
              "      <th>7302</th>\n",
              "      <td>ROBLOX</td>\n",
              "      <td>9</td>\n",
              "    </tr>\n",
              "    <tr>\n",
              "      <th>1934</th>\n",
              "      <td>CBS Sports App - Scores, News, Stats &amp; Watch Live</td>\n",
              "      <td>8</td>\n",
              "    </tr>\n",
              "    <tr>\n",
              "      <th>2364</th>\n",
              "      <td>Candy Crush Saga</td>\n",
              "      <td>7</td>\n",
              "    </tr>\n",
              "    <tr>\n",
              "      <th>3504</th>\n",
              "      <td>Duolingo: Learn Languages Free</td>\n",
              "      <td>7</td>\n",
              "    </tr>\n",
              "    <tr>\n",
              "      <th>101</th>\n",
              "      <td>8 Ball Pool</td>\n",
              "      <td>7</td>\n",
              "    </tr>\n",
              "  </tbody>\n",
              "</table>\n",
              "</div>"
            ],
            "text/plain": [
              "                                                    App  Category\n",
              "7302                                             ROBLOX         9\n",
              "1934  CBS Sports App - Scores, News, Stats & Watch Live         8\n",
              "2364                                   Candy Crush Saga         7\n",
              "3504                     Duolingo: Learn Languages Free         7\n",
              "101                                         8 Ball Pool         7"
            ]
          },
          "metadata": {},
          "execution_count": 14
        }
      ]
    },
    {
      "cell_type": "code",
      "metadata": {
        "colab": {
          "base_uri": "https://localhost:8080/"
        },
        "id": "QxOmqW_47oAN",
        "outputId": "3ac2650c-5b92-4bb1-d3fd-af06bfa5b94b"
      },
      "source": [
        "# Total entries with duplicates\n",
        "before = len(play_s_df.index)\n",
        "print('Total entries with duplicates were '+ (str(before)))"
      ],
      "execution_count": 15,
      "outputs": [
        {
          "output_type": "stream",
          "name": "stdout",
          "text": [
            "Total entries with duplicates were 10841\n"
          ]
        }
      ]
    },
    {
      "cell_type": "code",
      "metadata": {
        "id": "a7Ln7k386PtN"
      },
      "source": [
        "# Sorting the valuse with descending order such as to retain the row which has maximum number of reviews in duplicates\n",
        "play_s_df.sort_values('Reviews',ascending=False,inplace=True)"
      ],
      "execution_count": 16,
      "outputs": []
    },
    {
      "cell_type": "code",
      "metadata": {
        "id": "DyyqY6Ex5_WR",
        "colab": {
          "base_uri": "https://localhost:8080/"
        },
        "outputId": "8833fb57-abaf-41e9-d49c-3717fe76c2e3"
      },
      "source": [
        "# Drop duplicates with a value in a specific column.\n",
        "\n",
        "play_s_df.drop_duplicates(subset=['App','Category'],inplace=True)\n",
        "\n",
        "after = len(play_s_df.index)\n",
        "print('Total entries after duplicates were dropped are '+ (str(after)))\n",
        "print('Total '+ (str(before-after))+' entries were dropped.')"
      ],
      "execution_count": 17,
      "outputs": [
        {
          "output_type": "stream",
          "name": "stdout",
          "text": [
            "Total entries after duplicates were dropped are 9745\n",
            "Total 1096 entries were dropped.\n"
          ]
        }
      ]
    },
    {
      "cell_type": "code",
      "metadata": {
        "id": "h1-DWm9JFTjL",
        "colab": {
          "base_uri": "https://localhost:8080/"
        },
        "outputId": "9996a8e4-96b2-4c32-b9b0-3b4894b7b7ad"
      },
      "source": [
        "# Shape of dataframe after removing duplicates\n",
        "play_s_df.shape"
      ],
      "execution_count": 18,
      "outputs": [
        {
          "output_type": "execute_result",
          "data": {
            "text/plain": [
              "(9745, 13)"
            ]
          },
          "metadata": {},
          "execution_count": 18
        }
      ]
    },
    {
      "cell_type": "markdown",
      "metadata": {
        "id": "9ieV2FFta54m"
      },
      "source": [
        "#**Column: Rating**"
      ]
    },
    {
      "cell_type": "code",
      "metadata": {
        "id": "zj78vDeOE2E9"
      },
      "source": [
        "# Changing the column names to one word\n",
        "play_s_df.rename(columns={'Last Updated':'Last_Updated', 'Content Rating':'Content_Rating', 'Current Ver':'Current_Version', 'Android Ver':'Android_Version'}, inplace = True)"
      ],
      "execution_count": 19,
      "outputs": []
    },
    {
      "cell_type": "code",
      "metadata": {
        "id": "FLyHayo92QxG",
        "colab": {
          "base_uri": "https://localhost:8080/"
        },
        "outputId": "493fed53-21f8-4584-aa99-1e6081ce9f1f"
      },
      "source": [
        "# Finding the sum of null values for each dataseries throughout the Dataframe\n",
        "play_s_df.isnull().sum()"
      ],
      "execution_count": 20,
      "outputs": [
        {
          "output_type": "execute_result",
          "data": {
            "text/plain": [
              "App                   0\n",
              "Category              0\n",
              "Rating             1464\n",
              "Reviews               0\n",
              "Size                  0\n",
              "Installs              0\n",
              "Type                  1\n",
              "Price                 0\n",
              "Content_Rating        1\n",
              "Genres                0\n",
              "Last_Updated          0\n",
              "Current_Version       8\n",
              "Android_Version       3\n",
              "dtype: int64"
            ]
          },
          "metadata": {},
          "execution_count": 20
        }
      ]
    },
    {
      "cell_type": "code",
      "metadata": {
        "id": "Q2vsqNYK4o53",
        "colab": {
          "base_uri": "https://localhost:8080/",
          "height": 265
        },
        "outputId": "3346b0bb-cdcc-414f-ef76-b4fd1491b529"
      },
      "source": [
        "# Plotting Box plot to check outliers exists or not!\n",
        "play_s_df.boxplot(column='Rating');"
      ],
      "execution_count": 21,
      "outputs": [
        {
          "output_type": "display_data",
          "data": {
            "image/png": "[encoded data removed]",
            "text/plain": [
              "<Figure size 432x288 with 1 Axes>"
            ]
          },
          "metadata": {
            "needs_background": "light"
          }
        }
      ]
    },
    {
      "cell_type": "markdown",
      "metadata": {
        "id": "FbgpzRri3tLE"
      },
      "source": [
        "### From above we observed that there is one outlier which affects our distribution in a dataframe so we will remove it."
      ]
    },
    {
      "cell_type": "code",
      "metadata": {
        "id": "U113DwVl20UG",
        "colab": {
          "base_uri": "https://localhost:8080/",
          "height": 80
        },
        "outputId": "ca2744c7-20c1-4953-f899-27d9b4229ec6"
      },
      "source": [
        "# Checking the outliers \n",
        "play_s_df[play_s_df.Rating>5]"
      ],
      "execution_count": 22,
      "outputs": [
        {
          "output_type": "execute_result",
          "data": {
            "text/html": [
              "<div>\n",
              "<style scoped>\n",
              "    .dataframe tbody tr th:only-of-type {\n",
              "        vertical-align: middle;\n",
              "    }\n",
              "\n",
              "    .dataframe tbody tr th {\n",
              "        vertical-align: top;\n",
              "    }\n",
              "\n",
              "    .dataframe thead th {\n",
              "        text-align: right;\n",
              "    }\n",
              "</style>\n",
              "<table border=\"1\" class=\"dataframe\">\n",
              "  <thead>\n",
              "    <tr style=\"text-align: right;\">\n",
              "      <th></th>\n",
              "      <th>App</th>\n",
              "      <th>Category</th>\n",
              "      <th>Rating</th>\n",
              "      <th>Reviews</th>\n",
              "      <th>Size</th>\n",
              "      <th>Installs</th>\n",
              "      <th>Type</th>\n",
              "      <th>Price</th>\n",
              "      <th>Content_Rating</th>\n",
              "      <th>Genres</th>\n",
              "      <th>Last_Updated</th>\n",
              "      <th>Current_Version</th>\n",
              "      <th>Android_Version</th>\n",
              "    </tr>\n",
              "  </thead>\n",
              "  <tbody>\n",
              "    <tr>\n",
              "      <th>10472</th>\n",
              "      <td>Life Made WI-Fi Touchscreen Photo Frame</td>\n",
              "      <td>1.9</td>\n",
              "      <td>19.0</td>\n",
              "      <td>3.0M</td>\n",
              "      <td>1,000+</td>\n",
              "      <td>Free</td>\n",
              "      <td>0</td>\n",
              "      <td>Everyone</td>\n",
              "      <td>NaN</td>\n",
              "      <td>February 11, 2018</td>\n",
              "      <td>1.0.19</td>\n",
              "      <td>4.0 and up</td>\n",
              "      <td>NaN</td>\n",
              "    </tr>\n",
              "  </tbody>\n",
              "</table>\n",
              "</div>"
            ],
            "text/plain": [
              "                                           App  ... Android_Version\n",
              "10472  Life Made WI-Fi Touchscreen Photo Frame  ...             NaN\n",
              "\n",
              "[1 rows x 13 columns]"
            ]
          },
          "metadata": {},
          "execution_count": 22
        }
      ]
    },
    {
      "cell_type": "code",
      "metadata": {
        "id": "dqHnXe_n3EhJ"
      },
      "source": [
        "# Removing the outliers from column because it increases variability in our data.\n",
        "play_s_df.drop([10472],inplace=True)"
      ],
      "execution_count": 23,
      "outputs": []
    },
    {
      "cell_type": "code",
      "metadata": {
        "id": "U4DcMMjP27tu",
        "colab": {
          "base_uri": "https://localhost:8080/",
          "height": 49
        },
        "outputId": "b3c31830-3bf9-4856-9aaa-6722b3abc132"
      },
      "source": [
        "# Checking the dropped outliers with method of slicing\n",
        "play_s_df[10471:10473]"
      ],
      "execution_count": 24,
      "outputs": [
        {
          "output_type": "execute_result",
          "data": {
            "text/html": [
              "<div>\n",
              "<style scoped>\n",
              "    .dataframe tbody tr th:only-of-type {\n",
              "        vertical-align: middle;\n",
              "    }\n",
              "\n",
              "    .dataframe tbody tr th {\n",
              "        vertical-align: top;\n",
              "    }\n",
              "\n",
              "    .dataframe thead th {\n",
              "        text-align: right;\n",
              "    }\n",
              "</style>\n",
              "<table border=\"1\" class=\"dataframe\">\n",
              "  <thead>\n",
              "    <tr style=\"text-align: right;\">\n",
              "      <th></th>\n",
              "      <th>App</th>\n",
              "      <th>Category</th>\n",
              "      <th>Rating</th>\n",
              "      <th>Reviews</th>\n",
              "      <th>Size</th>\n",
              "      <th>Installs</th>\n",
              "      <th>Type</th>\n",
              "      <th>Price</th>\n",
              "      <th>Content_Rating</th>\n",
              "      <th>Genres</th>\n",
              "      <th>Last_Updated</th>\n",
              "      <th>Current_Version</th>\n",
              "      <th>Android_Version</th>\n",
              "    </tr>\n",
              "  </thead>\n",
              "  <tbody>\n",
              "  </tbody>\n",
              "</table>\n",
              "</div>"
            ],
            "text/plain": [
              "Empty DataFrame\n",
              "Columns: [App, Category, Rating, Reviews, Size, Installs, Type, Price, Content_Rating, Genres, Last_Updated, Current_Version, Android_Version]\n",
              "Index: []"
            ]
          },
          "metadata": {},
          "execution_count": 24
        }
      ]
    },
    {
      "cell_type": "code",
      "metadata": {
        "id": "Usyy7c0uUmS3",
        "colab": {
          "base_uri": "https://localhost:8080/",
          "height": 281
        },
        "outputId": "50a07353-5a5f-4acc-95fc-89437b2ebc0b"
      },
      "source": [
        "play_s_df.hist(column='Rating',edgecolor='black');"
      ],
      "execution_count": 25,
      "outputs": [
        {
          "output_type": "display_data",
          "data": {
            "image/png": "[encoded data removed]",
            "text/plain": [
              "<Figure size 432x288 with 1 Axes>"
            ]
          },
          "metadata": {
            "needs_background": "light"
          }
        }
      ]
    },
    {
      "cell_type": "code",
      "metadata": {
        "id": "C89ajLIa-2Xl",
        "colab": {
          "base_uri": "https://localhost:8080/",
          "height": 430
        },
        "outputId": "93a19752-3552-4103-e0a4-e265c7e10cad"
      },
      "source": [
        "sns.set(rc={'figure.figsize':(8,5)});\n",
        "sns.distplot(play_s_df.Rating);"
      ],
      "execution_count": 26,
      "outputs": [
        {
          "output_type": "stream",
          "name": "stderr",
          "text": [
            "/usr/local/lib/python3.7/dist-packages/seaborn/distributions.py:2619: FutureWarning:\n",
            "\n",
            "`distplot` is a deprecated function and will be removed in a future version. Please adapt your code to use either `displot` (a figure-level function with similar flexibility) or `histplot` (an axes-level function for histograms).\n",
            "\n"
          ]
        },
        {
          "output_type": "display_data",
          "data": {
            "image/png": "[encoded data removed]",
            "text/plain": [
              "<Figure size 576x360 with 1 Axes>"
            ]
          },
          "metadata": {}
        }
      ]
    },
    {
      "cell_type": "markdown",
      "metadata": {
        "id": "gT484KLP4fZT"
      },
      "source": [
        "### We recognized here from previous graph that our distribution appears as left skewed in direction."
      ]
    },
    {
      "cell_type": "code",
      "metadata": {
        "id": "R1nVfs6WTUWQ"
      },
      "source": [
        "''' Filling null values with median value because as we can see from the above distplot appeared as skewed to left. \n",
        "So the median is usually preferred in measures of central tendency when your data set is skewed '''\n",
        "\n",
        "play_s_df['Rating'] = play_s_df['Rating'].fillna(play_s_df['Rating'].median())"
      ],
      "execution_count": 27,
      "outputs": []
    },
    {
      "cell_type": "code",
      "metadata": {
        "id": "_uMSYxwCTUay",
        "colab": {
          "base_uri": "https://localhost:8080/"
        },
        "outputId": "62671e81-312f-415b-f9d6-7b6ef4e602c0"
      },
      "source": [
        "# Counting the number of null values in Rating column\n",
        "play_s_df.Rating.isnull().sum()"
      ],
      "execution_count": 28,
      "outputs": [
        {
          "output_type": "execute_result",
          "data": {
            "text/plain": [
              "0"
            ]
          },
          "metadata": {},
          "execution_count": 28
        }
      ]
    },
    {
      "cell_type": "markdown",
      "metadata": {
        "id": "8tlf2UtObK9l"
      },
      "source": [
        "#**Column: Last_Updated**"
      ]
    },
    {
      "cell_type": "code",
      "metadata": {
        "id": "zgsGZFkvLuAT"
      },
      "source": [
        "# Converting datetime format for Last_Updated column\n",
        "# Importing datetime modules\n",
        "from datetime import datetime\n",
        "from datetime import date"
      ],
      "execution_count": 29,
      "outputs": []
    },
    {
      "cell_type": "code",
      "metadata": {
        "colab": {
          "base_uri": "https://localhost:8080/"
        },
        "id": "e9_-zOEu5Gdd",
        "outputId": "7795c967-8eaa-4581-8993-95182e9f79d1"
      },
      "source": [
        "# Look into datatype for Last_Updated \n",
        "play_s_df['Last_Updated'].dtype"
      ],
      "execution_count": 30,
      "outputs": [
        {
          "output_type": "execute_result",
          "data": {
            "text/plain": [
              "dtype('O')"
            ]
          },
          "metadata": {},
          "execution_count": 30
        }
      ]
    },
    {
      "cell_type": "code",
      "metadata": {
        "id": "a0T9XbUGxejF"
      },
      "source": [
        "# We examined that 'O' is for object dtype so we'll convert it into datetime format\n",
        "play_s_df['Last_Updated'] = pd.to_datetime(play_s_df['Last_Updated'],errors='coerce')"
      ],
      "execution_count": 31,
      "outputs": []
    },
    {
      "cell_type": "markdown",
      "metadata": {
        "id": "yp0ScJHebrcG"
      },
      "source": [
        "#**Column: Reviews**"
      ]
    },
    {
      "cell_type": "code",
      "metadata": {
        "id": "U07nsV2_bam3",
        "colab": {
          "base_uri": "https://localhost:8080/"
        },
        "outputId": "8e67cb80-7c4c-4501-8eda-501d55c025bb"
      },
      "source": [
        "#Checking null values\n",
        "play_s_df.Reviews.isnull().sum()"
      ],
      "execution_count": 32,
      "outputs": [
        {
          "output_type": "execute_result",
          "data": {
            "text/plain": [
              "0"
            ]
          },
          "metadata": {},
          "execution_count": 32
        }
      ]
    },
    {
      "cell_type": "code",
      "metadata": {
        "id": "OSQT-nk91Xpd"
      },
      "source": [
        "# Converting the datatype of Reviews into numeric datatype\n",
        "play_s_df['Reviews'] = pd.to_numeric(play_s_df['Reviews'])"
      ],
      "execution_count": 33,
      "outputs": []
    },
    {
      "cell_type": "code",
      "metadata": {
        "id": "mz0HtnyJ99Qq",
        "colab": {
          "base_uri": "https://localhost:8080/"
        },
        "outputId": "3334a350-a0f1-4ea7-b209-4509a55a90b7"
      },
      "source": [
        "# Checking the changes in a datatype of Reviews\n",
        "play_s_df.Reviews.dtype"
      ],
      "execution_count": 34,
      "outputs": [
        {
          "output_type": "execute_result",
          "data": {
            "text/plain": [
              "dtype('int64')"
            ]
          },
          "metadata": {},
          "execution_count": 34
        }
      ]
    },
    {
      "cell_type": "markdown",
      "metadata": {
        "id": "AR3r8aWVcTTE"
      },
      "source": [
        "#**Column: Type**"
      ]
    },
    {
      "cell_type": "code",
      "metadata": {
        "id": "7sGmZo6aBHTV",
        "colab": {
          "base_uri": "https://localhost:8080/"
        },
        "outputId": "48b47ef0-ab8c-4fe9-8e7a-6b2f30e48b4e"
      },
      "source": [
        "# Checking the null values in Type Column\n",
        "play_s_df['Type'].isnull().sum()"
      ],
      "execution_count": 35,
      "outputs": [
        {
          "output_type": "execute_result",
          "data": {
            "text/plain": [
              "1"
            ]
          },
          "metadata": {},
          "execution_count": 35
        }
      ]
    },
    {
      "cell_type": "code",
      "metadata": {
        "colab": {
          "base_uri": "https://localhost:8080/"
        },
        "id": "c5FLXW9RE_hb",
        "outputId": "2af38712-80c7-4824-b4ed-f6f639a2a1c3"
      },
      "source": [
        "# Checking the mode of Type Column\n",
        "play_s_df['Type'].mode()"
      ],
      "execution_count": 36,
      "outputs": [
        {
          "output_type": "execute_result",
          "data": {
            "text/plain": [
              "0    Free\n",
              "dtype: object"
            ]
          },
          "metadata": {},
          "execution_count": 36
        }
      ]
    },
    {
      "cell_type": "code",
      "metadata": {
        "id": "6ODal38B9q0V",
        "colab": {
          "base_uri": "https://localhost:8080/",
          "height": 80
        },
        "outputId": "d397a7e5-ec0b-4bd2-b808-a1332d6568da"
      },
      "source": [
        "# Display the row which have null values in Type Column. Apart from Free and Paid Type, this column also has 1 NaN, which is displayed below:\n",
        "play_s_df[play_s_df.Type.isna()]"
      ],
      "execution_count": 37,
      "outputs": [
        {
          "output_type": "execute_result",
          "data": {
            "text/html": [
              "<div>\n",
              "<style scoped>\n",
              "    .dataframe tbody tr th:only-of-type {\n",
              "        vertical-align: middle;\n",
              "    }\n",
              "\n",
              "    .dataframe tbody tr th {\n",
              "        vertical-align: top;\n",
              "    }\n",
              "\n",
              "    .dataframe thead th {\n",
              "        text-align: right;\n",
              "    }\n",
              "</style>\n",
              "<table border=\"1\" class=\"dataframe\">\n",
              "  <thead>\n",
              "    <tr style=\"text-align: right;\">\n",
              "      <th></th>\n",
              "      <th>App</th>\n",
              "      <th>Category</th>\n",
              "      <th>Rating</th>\n",
              "      <th>Reviews</th>\n",
              "      <th>Size</th>\n",
              "      <th>Installs</th>\n",
              "      <th>Type</th>\n",
              "      <th>Price</th>\n",
              "      <th>Content_Rating</th>\n",
              "      <th>Genres</th>\n",
              "      <th>Last_Updated</th>\n",
              "      <th>Current_Version</th>\n",
              "      <th>Android_Version</th>\n",
              "    </tr>\n",
              "  </thead>\n",
              "  <tbody>\n",
              "    <tr>\n",
              "      <th>9148</th>\n",
              "      <td>Command &amp; Conquer: Rivals</td>\n",
              "      <td>FAMILY</td>\n",
              "      <td>4.3</td>\n",
              "      <td>0</td>\n",
              "      <td>Varies with device</td>\n",
              "      <td>0</td>\n",
              "      <td>NaN</td>\n",
              "      <td>0</td>\n",
              "      <td>Everyone 10+</td>\n",
              "      <td>Strategy</td>\n",
              "      <td>2018-06-28</td>\n",
              "      <td>Varies with device</td>\n",
              "      <td>Varies with device</td>\n",
              "    </tr>\n",
              "  </tbody>\n",
              "</table>\n",
              "</div>"
            ],
            "text/plain": [
              "                            App  ...     Android_Version\n",
              "9148  Command & Conquer: Rivals  ...  Varies with device\n",
              "\n",
              "[1 rows x 13 columns]"
            ]
          },
          "metadata": {},
          "execution_count": 37
        }
      ]
    },
    {
      "cell_type": "code",
      "metadata": {
        "id": "1lvhnWyFEj6s"
      },
      "source": [
        "# We can see from above row that it contains one null value so we can replace it by mode of Type column\n",
        "# Because displayed row has a Price equal to 0, so from this we can conclude finally to change the value into 'Free'\n",
        "play_s_df['Type'] = play_s_df['Type'].fillna('Free')"
      ],
      "execution_count": 38,
      "outputs": []
    },
    {
      "cell_type": "code",
      "metadata": {
        "id": "jH1hrhbGo8lz",
        "colab": {
          "base_uri": "https://localhost:8080/"
        },
        "outputId": "eebb8b02-d64b-4a5e-ad65-6674579e768e"
      },
      "source": [
        "# Checking the null values in Type Column\n",
        "play_s_df.Type.isnull().sum()"
      ],
      "execution_count": 39,
      "outputs": [
        {
          "output_type": "execute_result",
          "data": {
            "text/plain": [
              "0"
            ]
          },
          "metadata": {},
          "execution_count": 39
        }
      ]
    },
    {
      "cell_type": "markdown",
      "metadata": {
        "id": "U4Nb6SdIdHzk"
      },
      "source": [
        "#**Column: Size**"
      ]
    },
    {
      "cell_type": "code",
      "metadata": {
        "colab": {
          "base_uri": "https://localhost:8080/",
          "height": 49
        },
        "id": "9wKnNJtnCmU1",
        "outputId": "01adc626-4697-4d2e-f935-f79b0636aea2"
      },
      "source": [
        "# Checking null values \n",
        "play_s_df[play_s_df['Size'].isna()]"
      ],
      "execution_count": 40,
      "outputs": [
        {
          "output_type": "execute_result",
          "data": {
            "text/html": [
              "<div>\n",
              "<style scoped>\n",
              "    .dataframe tbody tr th:only-of-type {\n",
              "        vertical-align: middle;\n",
              "    }\n",
              "\n",
              "    .dataframe tbody tr th {\n",
              "        vertical-align: top;\n",
              "    }\n",
              "\n",
              "    .dataframe thead th {\n",
              "        text-align: right;\n",
              "    }\n",
              "</style>\n",
              "<table border=\"1\" class=\"dataframe\">\n",
              "  <thead>\n",
              "    <tr style=\"text-align: right;\">\n",
              "      <th></th>\n",
              "      <th>App</th>\n",
              "      <th>Category</th>\n",
              "      <th>Rating</th>\n",
              "      <th>Reviews</th>\n",
              "      <th>Size</th>\n",
              "      <th>Installs</th>\n",
              "      <th>Type</th>\n",
              "      <th>Price</th>\n",
              "      <th>Content_Rating</th>\n",
              "      <th>Genres</th>\n",
              "      <th>Last_Updated</th>\n",
              "      <th>Current_Version</th>\n",
              "      <th>Android_Version</th>\n",
              "    </tr>\n",
              "  </thead>\n",
              "  <tbody>\n",
              "  </tbody>\n",
              "</table>\n",
              "</div>"
            ],
            "text/plain": [
              "Empty DataFrame\n",
              "Columns: [App, Category, Rating, Reviews, Size, Installs, Type, Price, Content_Rating, Genres, Last_Updated, Current_Version, Android_Version]\n",
              "Index: []"
            ]
          },
          "metadata": {},
          "execution_count": 40
        }
      ]
    },
    {
      "cell_type": "code",
      "metadata": {
        "colab": {
          "base_uri": "https://localhost:8080/"
        },
        "id": "-nDA39alQmIt",
        "outputId": "1e9e6abb-ccd9-4f2f-f96b-d1523679e615"
      },
      "source": [
        "# It returns a scalar value which is the count of all the unique values in the index\n",
        "play_s_df.Size.nunique()"
      ],
      "execution_count": 41,
      "outputs": [
        {
          "output_type": "execute_result",
          "data": {
            "text/plain": [
              "461"
            ]
          },
          "metadata": {},
          "execution_count": 41
        }
      ]
    },
    {
      "cell_type": "code",
      "metadata": {
        "id": "nujujkKadWmC",
        "colab": {
          "base_uri": "https://localhost:8080/"
        },
        "outputId": "564a82b0-a4e7-4e5e-b04a-9d32c8dc1166"
      },
      "source": [
        "# Examining the Unique values\n",
        "play_s_df.Size.unique()[:7]"
      ],
      "execution_count": 42,
      "outputs": [
        {
          "output_type": "execute_result",
          "data": {
            "text/plain": [
              "array(['31M', '91k', '18M', '33M', '22M', 'Varies with device', '5.5M'],\n",
              "      dtype=object)"
            ]
          },
          "metadata": {},
          "execution_count": 42
        }
      ]
    },
    {
      "cell_type": "markdown",
      "metadata": {
        "id": "Ul6ubsv-QijL"
      },
      "source": [
        "### Above array of values shows that there is a different types values including such as '31M', 'Varies with device', '91k', etc."
      ]
    },
    {
      "cell_type": "markdown",
      "metadata": {
        "id": "k2UzOKegjFpK"
      },
      "source": [
        "### Amidst all the apps in this dataset, none has its size reach 1GB. All the values we have to parse either end with ‘M’ (Megabyte) or ‘k’ (kilobyte). So here we parsed the values in only MB(megabyte) as it is better way of representing the size in a dataset."
      ]
    },
    {
      "cell_type": "code",
      "metadata": {
        "id": "0XV4uwgfdWR-",
        "colab": {
          "base_uri": "https://localhost:8080/"
        },
        "outputId": "63a0beca-c130-44a9-b04b-f65518633b2e"
      },
      "source": [
        "# Expressly Transforming the Variable Size value into proper float value\n",
        "play_s_df['Size'] = play_s_df.Size.apply(lambda x: str(x).replace(\"Varies with device\",'NaN') if \"Varies with device\" in str(x) else x)\n",
        "play_s_df['Size'] = play_s_df.Size.apply(lambda x: str(x).replace(\"M\",\"\") if \"M\" in str(x) else x)\n",
        "play_s_df['Size'] = play_s_df.Size.apply(lambda x: float(str(x).replace(\"k\",\"\"))/1024 if \"k\" in str(x) else x) # 1 MB = 1024kb\n",
        "play_s_df['Size'] = play_s_df['Size'].astype(float)\n",
        "play_s_df['Size'] = play_s_df['Size'].fillna(play_s_df['Size'].mean())\n",
        "play_s_df['Size'].dtype"
      ],
      "execution_count": 43,
      "outputs": [
        {
          "output_type": "execute_result",
          "data": {
            "text/plain": [
              "dtype('float64')"
            ]
          },
          "metadata": {},
          "execution_count": 43
        }
      ]
    },
    {
      "cell_type": "code",
      "metadata": {
        "id": "h7yOhr6RP7aW"
      },
      "source": [
        "play_s_df['Installs1']=play_s_df.Installs"
      ],
      "execution_count": 44,
      "outputs": []
    },
    {
      "cell_type": "markdown",
      "metadata": {
        "id": "Ek5ZAFsNAVvZ"
      },
      "source": [
        "#**Column: Installs**"
      ]
    },
    {
      "cell_type": "code",
      "metadata": {
        "id": "QjCNGtap_oM-",
        "colab": {
          "base_uri": "https://localhost:8080/"
        },
        "outputId": "ba02efeb-ff56-4d33-fa37-231cd7bf7323"
      },
      "source": [
        "# Checking unique values in Column\n",
        "play_s_df.Installs.unique()"
      ],
      "execution_count": 45,
      "outputs": [
        {
          "output_type": "execute_result",
          "data": {
            "text/plain": [
              "array(['1,000,000+', '100,000+', '500,000+', '50,000+', '10,000,000+',\n",
              "       '5,000,000+', '10,000+', '50,000,000+', '100,000,000+', '5,000+',\n",
              "       '1,000+', '1,000,000,000+', '500+', '10+', '100+', '50+',\n",
              "       '500,000,000+', '5+', '1+', '0+', '0'], dtype=object)"
            ]
          },
          "metadata": {},
          "execution_count": 45
        }
      ]
    },
    {
      "cell_type": "markdown",
      "metadata": {
        "id": "durJi3HxN4m5"
      },
      "source": [
        "### Data type of Installs is object. We make similar procedures, which constructed in the 'Size'."
      ]
    },
    {
      "cell_type": "code",
      "metadata": {
        "id": "_bKZKTR0Mb0R",
        "colab": {
          "base_uri": "https://localhost:8080/"
        },
        "outputId": "db1bc356-5445-484d-efc4-e75f3936ebbc"
      },
      "source": [
        "# Now Transforming number of Installs into proper integer number \n",
        "play_s_df['Installs'] = play_s_df.Installs.apply(lambda x: str(x).replace(\"+\",\"\") if \"+\" in str(x) else x)\n",
        "play_s_df['Installs'] = play_s_df.Installs.apply(lambda x: str(x).replace(\",\",\"\") if \",\" in str(x) else x)\n",
        "play_s_df['Installs'] = play_s_df.Installs.astype(int)\n",
        "play_s_df['Installs'].dtype"
      ],
      "execution_count": 46,
      "outputs": [
        {
          "output_type": "execute_result",
          "data": {
            "text/plain": [
              "dtype('int64')"
            ]
          },
          "metadata": {},
          "execution_count": 46
        }
      ]
    },
    {
      "cell_type": "markdown",
      "metadata": {
        "id": "XG6sjlr7QzXW"
      },
      "source": [
        "# **Column: Price**"
      ]
    },
    {
      "cell_type": "code",
      "metadata": {
        "id": "Y-RXMM_gRfKY",
        "colab": {
          "base_uri": "https://localhost:8080/"
        },
        "outputId": "9f3b2946-b0d2-4e37-bc4b-2ce51637d479"
      },
      "source": [
        "# Observing the unique values in Column\n",
        "play_s_df.Price.min(),play_s_df.Price.max()"
      ],
      "execution_count": 47,
      "outputs": [
        {
          "output_type": "execute_result",
          "data": {
            "text/plain": [
              "('$0.99', '0')"
            ]
          },
          "metadata": {},
          "execution_count": 47
        }
      ]
    },
    {
      "cell_type": "markdown",
      "metadata": {
        "id": "4q_mjmMmRyG-"
      },
      "source": [
        "### As we look out for unique values that will be like this lead: ‘0’ if it is free, else a '$' sign followed by a floating-point number. Datatype of Price is object. We made similar code as in Installs to get appropriate dtype. "
      ]
    },
    {
      "cell_type": "code",
      "metadata": {
        "id": "NeNLM7zi_u3a",
        "colab": {
          "base_uri": "https://localhost:8080/"
        },
        "outputId": "c7de8532-fd7c-4b75-8097-acf293f646b4"
      },
      "source": [
        "play_s_df['Price'] = play_s_df['Price'].apply(lambda x: str(x).replace(\"$\",\"\") if \"$\" in str(x) else x)\n",
        "play_s_df['Price'] = play_s_df['Price'].astype(float)\n",
        "play_s_df['Price'].dtype"
      ],
      "execution_count": 48,
      "outputs": [
        {
          "output_type": "execute_result",
          "data": {
            "text/plain": [
              "dtype('float64')"
            ]
          },
          "metadata": {},
          "execution_count": 48
        }
      ]
    },
    {
      "cell_type": "markdown",
      "metadata": {
        "id": "3BZ1yfw7ELWU"
      },
      "source": [
        "# **Column: Current_Version**"
      ]
    },
    {
      "cell_type": "code",
      "metadata": {
        "id": "Ws_C-QPbEWXS",
        "colab": {
          "base_uri": "https://localhost:8080/"
        },
        "outputId": "f0b642af-a182-462e-9a97-8f44efd14646"
      },
      "source": [
        "# Observing the null values in Current_Version Column\n",
        "play_s_df.Current_Version.isnull().sum()"
      ],
      "execution_count": 49,
      "outputs": [
        {
          "output_type": "execute_result",
          "data": {
            "text/plain": [
              "8"
            ]
          },
          "metadata": {},
          "execution_count": 49
        }
      ]
    },
    {
      "cell_type": "code",
      "metadata": {
        "id": "6wRHH8lJEfW8",
        "colab": {
          "base_uri": "https://localhost:8080/",
          "height": 296
        },
        "outputId": "8a87bb42-9d69-4616-9c74-37383dcd113e"
      },
      "source": [
        "# Displaying NaN values which we have to fill with mode of Current_Version\n",
        "play_s_df[play_s_df.Current_Version.isna()]"
      ],
      "execution_count": 50,
      "outputs": [
        {
          "output_type": "execute_result",
          "data": {
            "text/html": [
              "<div>\n",
              "<style scoped>\n",
              "    .dataframe tbody tr th:only-of-type {\n",
              "        vertical-align: middle;\n",
              "    }\n",
              "\n",
              "    .dataframe tbody tr th {\n",
              "        vertical-align: top;\n",
              "    }\n",
              "\n",
              "    .dataframe thead th {\n",
              "        text-align: right;\n",
              "    }\n",
              "</style>\n",
              "<table border=\"1\" class=\"dataframe\">\n",
              "  <thead>\n",
              "    <tr style=\"text-align: right;\">\n",
              "      <th></th>\n",
              "      <th>App</th>\n",
              "      <th>Category</th>\n",
              "      <th>Rating</th>\n",
              "      <th>Reviews</th>\n",
              "      <th>Size</th>\n",
              "      <th>Installs</th>\n",
              "      <th>Type</th>\n",
              "      <th>Price</th>\n",
              "      <th>Content_Rating</th>\n",
              "      <th>Genres</th>\n",
              "      <th>Last_Updated</th>\n",
              "      <th>Current_Version</th>\n",
              "      <th>Android_Version</th>\n",
              "      <th>Installs1</th>\n",
              "    </tr>\n",
              "  </thead>\n",
              "  <tbody>\n",
              "    <tr>\n",
              "      <th>10342</th>\n",
              "      <td>La Fe de Jesus</td>\n",
              "      <td>BOOKS_AND_REFERENCE</td>\n",
              "      <td>4.3</td>\n",
              "      <td>8</td>\n",
              "      <td>0.642578</td>\n",
              "      <td>1000</td>\n",
              "      <td>Free</td>\n",
              "      <td>0.00</td>\n",
              "      <td>Everyone</td>\n",
              "      <td>Books &amp; Reference</td>\n",
              "      <td>2017-01-31</td>\n",
              "      <td>NaN</td>\n",
              "      <td>3.0 and up</td>\n",
              "      <td>1,000+</td>\n",
              "    </tr>\n",
              "    <tr>\n",
              "      <th>15</th>\n",
              "      <td>Learn To Draw Kawaii Characters</td>\n",
              "      <td>ART_AND_DESIGN</td>\n",
              "      <td>3.2</td>\n",
              "      <td>55</td>\n",
              "      <td>2.700000</td>\n",
              "      <td>5000</td>\n",
              "      <td>Free</td>\n",
              "      <td>0.00</td>\n",
              "      <td>Everyone</td>\n",
              "      <td>Art &amp; Design</td>\n",
              "      <td>2018-06-06</td>\n",
              "      <td>NaN</td>\n",
              "      <td>4.2 and up</td>\n",
              "      <td>5,000+</td>\n",
              "    </tr>\n",
              "    <tr>\n",
              "      <th>7407</th>\n",
              "      <td>Calculate My IQ</td>\n",
              "      <td>FAMILY</td>\n",
              "      <td>4.3</td>\n",
              "      <td>44</td>\n",
              "      <td>7.200000</td>\n",
              "      <td>10000</td>\n",
              "      <td>Free</td>\n",
              "      <td>0.00</td>\n",
              "      <td>Everyone</td>\n",
              "      <td>Entertainment</td>\n",
              "      <td>2017-04-03</td>\n",
              "      <td>NaN</td>\n",
              "      <td>2.3 and up</td>\n",
              "      <td>10,000+</td>\n",
              "    </tr>\n",
              "    <tr>\n",
              "      <th>6322</th>\n",
              "      <td>Virtual DJ Sound Mixer</td>\n",
              "      <td>TOOLS</td>\n",
              "      <td>4.2</td>\n",
              "      <td>4010</td>\n",
              "      <td>8.700000</td>\n",
              "      <td>500000</td>\n",
              "      <td>Free</td>\n",
              "      <td>0.00</td>\n",
              "      <td>Everyone</td>\n",
              "      <td>Tools</td>\n",
              "      <td>2017-05-10</td>\n",
              "      <td>NaN</td>\n",
              "      <td>4.0 and up</td>\n",
              "      <td>500,000+</td>\n",
              "    </tr>\n",
              "    <tr>\n",
              "      <th>1553</th>\n",
              "      <td>Market Update Helper</td>\n",
              "      <td>LIBRARIES_AND_DEMO</td>\n",
              "      <td>4.1</td>\n",
              "      <td>20145</td>\n",
              "      <td>0.010742</td>\n",
              "      <td>1000000</td>\n",
              "      <td>Free</td>\n",
              "      <td>0.00</td>\n",
              "      <td>Everyone</td>\n",
              "      <td>Libraries &amp; Demo</td>\n",
              "      <td>2013-02-12</td>\n",
              "      <td>NaN</td>\n",
              "      <td>1.5 and up</td>\n",
              "      <td>1,000,000+</td>\n",
              "    </tr>\n",
              "    <tr>\n",
              "      <th>7333</th>\n",
              "      <td>Dots puzzle</td>\n",
              "      <td>FAMILY</td>\n",
              "      <td>4.0</td>\n",
              "      <td>179</td>\n",
              "      <td>14.000000</td>\n",
              "      <td>50000</td>\n",
              "      <td>Paid</td>\n",
              "      <td>0.99</td>\n",
              "      <td>Everyone</td>\n",
              "      <td>Puzzle</td>\n",
              "      <td>2018-04-18</td>\n",
              "      <td>NaN</td>\n",
              "      <td>4.0 and up</td>\n",
              "      <td>50,000+</td>\n",
              "    </tr>\n",
              "    <tr>\n",
              "      <th>7730</th>\n",
              "      <td>UFO-CQ</td>\n",
              "      <td>TOOLS</td>\n",
              "      <td>4.3</td>\n",
              "      <td>1</td>\n",
              "      <td>0.231445</td>\n",
              "      <td>10</td>\n",
              "      <td>Paid</td>\n",
              "      <td>0.99</td>\n",
              "      <td>Everyone</td>\n",
              "      <td>Tools</td>\n",
              "      <td>2016-07-04</td>\n",
              "      <td>NaN</td>\n",
              "      <td>2.0 and up</td>\n",
              "      <td>10+</td>\n",
              "    </tr>\n",
              "    <tr>\n",
              "      <th>6803</th>\n",
              "      <td>BT Master</td>\n",
              "      <td>FAMILY</td>\n",
              "      <td>4.3</td>\n",
              "      <td>0</td>\n",
              "      <td>0.216797</td>\n",
              "      <td>100</td>\n",
              "      <td>Free</td>\n",
              "      <td>0.00</td>\n",
              "      <td>Everyone</td>\n",
              "      <td>Education</td>\n",
              "      <td>2016-11-06</td>\n",
              "      <td>NaN</td>\n",
              "      <td>1.6 and up</td>\n",
              "      <td>100+</td>\n",
              "    </tr>\n",
              "  </tbody>\n",
              "</table>\n",
              "</div>"
            ],
            "text/plain": [
              "                                   App  ...   Installs1\n",
              "10342                   La Fe de Jesus  ...      1,000+\n",
              "15     Learn To Draw Kawaii Characters  ...      5,000+\n",
              "7407                   Calculate My IQ  ...     10,000+\n",
              "6322            Virtual DJ Sound Mixer  ...    500,000+\n",
              "1553              Market Update Helper  ...  1,000,000+\n",
              "7333                       Dots puzzle  ...     50,000+\n",
              "7730                            UFO-CQ  ...         10+\n",
              "6803                         BT Master  ...        100+\n",
              "\n",
              "[8 rows x 14 columns]"
            ]
          },
          "metadata": {},
          "execution_count": 50
        }
      ]
    },
    {
      "cell_type": "code",
      "metadata": {
        "id": "k1RV0POEEfSn"
      },
      "source": [
        "# # Filling NaN values with mode of Current_Version\n",
        "play_s_df['Current_Version'].fillna(str(play_s_df['Current_Version'].mode().values[0]), inplace=True)"
      ],
      "execution_count": 51,
      "outputs": []
    },
    {
      "cell_type": "markdown",
      "metadata": {
        "id": "8DVmVefz0fGZ"
      },
      "source": [
        "# **Column: Android_Version**"
      ]
    },
    {
      "cell_type": "code",
      "metadata": {
        "id": "r1OLGHMT0XJb",
        "colab": {
          "base_uri": "https://localhost:8080/"
        },
        "outputId": "8cec9266-8599-4c05-f208-886b989c68a7"
      },
      "source": [
        "# Observing the null values in Android_Version Column\n",
        "play_s_df.Android_Version.isnull().sum()"
      ],
      "execution_count": 52,
      "outputs": [
        {
          "output_type": "execute_result",
          "data": {
            "text/plain": [
              "2"
            ]
          },
          "metadata": {},
          "execution_count": 52
        }
      ]
    },
    {
      "cell_type": "code",
      "metadata": {
        "id": "9fDVWglR09-h",
        "colab": {
          "base_uri": "https://localhost:8080/",
          "height": 111
        },
        "outputId": "3bf5b341-22db-4f5c-a60d-1cc3f302910a"
      },
      "source": [
        "# Displaying NaN values which we have to fill with mode of Current_Version\n",
        "play_s_df[play_s_df.Android_Version.isna()]"
      ],
      "execution_count": 53,
      "outputs": [
        {
          "output_type": "execute_result",
          "data": {
            "text/html": [
              "<div>\n",
              "<style scoped>\n",
              "    .dataframe tbody tr th:only-of-type {\n",
              "        vertical-align: middle;\n",
              "    }\n",
              "\n",
              "    .dataframe tbody tr th {\n",
              "        vertical-align: top;\n",
              "    }\n",
              "\n",
              "    .dataframe thead th {\n",
              "        text-align: right;\n",
              "    }\n",
              "</style>\n",
              "<table border=\"1\" class=\"dataframe\">\n",
              "  <thead>\n",
              "    <tr style=\"text-align: right;\">\n",
              "      <th></th>\n",
              "      <th>App</th>\n",
              "      <th>Category</th>\n",
              "      <th>Rating</th>\n",
              "      <th>Reviews</th>\n",
              "      <th>Size</th>\n",
              "      <th>Installs</th>\n",
              "      <th>Type</th>\n",
              "      <th>Price</th>\n",
              "      <th>Content_Rating</th>\n",
              "      <th>Genres</th>\n",
              "      <th>Last_Updated</th>\n",
              "      <th>Current_Version</th>\n",
              "      <th>Android_Version</th>\n",
              "      <th>Installs1</th>\n",
              "    </tr>\n",
              "  </thead>\n",
              "  <tbody>\n",
              "    <tr>\n",
              "      <th>4453</th>\n",
              "      <td>[substratum] Vacuum: P</td>\n",
              "      <td>PERSONALIZATION</td>\n",
              "      <td>4.4</td>\n",
              "      <td>230</td>\n",
              "      <td>11.0</td>\n",
              "      <td>1000</td>\n",
              "      <td>Paid</td>\n",
              "      <td>1.49</td>\n",
              "      <td>Everyone</td>\n",
              "      <td>Personalization</td>\n",
              "      <td>2018-07-20</td>\n",
              "      <td>4.4</td>\n",
              "      <td>NaN</td>\n",
              "      <td>1,000+</td>\n",
              "    </tr>\n",
              "    <tr>\n",
              "      <th>4490</th>\n",
              "      <td>Pi Dark [substratum]</td>\n",
              "      <td>PERSONALIZATION</td>\n",
              "      <td>4.5</td>\n",
              "      <td>189</td>\n",
              "      <td>2.1</td>\n",
              "      <td>10000</td>\n",
              "      <td>Free</td>\n",
              "      <td>0.00</td>\n",
              "      <td>Everyone</td>\n",
              "      <td>Personalization</td>\n",
              "      <td>2018-03-27</td>\n",
              "      <td>1.1</td>\n",
              "      <td>NaN</td>\n",
              "      <td>10,000+</td>\n",
              "    </tr>\n",
              "  </tbody>\n",
              "</table>\n",
              "</div>"
            ],
            "text/plain": [
              "                         App         Category  ...  Android_Version  Installs1\n",
              "4453  [substratum] Vacuum: P  PERSONALIZATION  ...              NaN     1,000+\n",
              "4490    Pi Dark [substratum]  PERSONALIZATION  ...              NaN    10,000+\n",
              "\n",
              "[2 rows x 14 columns]"
            ]
          },
          "metadata": {},
          "execution_count": 53
        }
      ]
    },
    {
      "cell_type": "code",
      "metadata": {
        "id": "17Ilt3jO1Eb1"
      },
      "source": [
        "# # Filling NaN values with mode of Android_Version and replacing 'and up' with empty quotes\n",
        "play_s_df['Android_Version'].fillna(str(play_s_df['Android_Version'].mode().values[0]), inplace=True)\n"
      ],
      "execution_count": 54,
      "outputs": []
    },
    {
      "cell_type": "code",
      "metadata": {
        "id": "C_QlPjzn5Plt",
        "colab": {
          "base_uri": "https://localhost:8080/"
        },
        "outputId": "7253b8b4-ccda-4499-ad50-81620d73c5b6"
      },
      "source": [
        "play_s_df.isnull().sum()"
      ],
      "execution_count": 55,
      "outputs": [
        {
          "output_type": "execute_result",
          "data": {
            "text/plain": [
              "App                0\n",
              "Category           0\n",
              "Rating             0\n",
              "Reviews            0\n",
              "Size               0\n",
              "Installs           0\n",
              "Type               0\n",
              "Price              0\n",
              "Content_Rating     0\n",
              "Genres             0\n",
              "Last_Updated       0\n",
              "Current_Version    0\n",
              "Android_Version    0\n",
              "Installs1          0\n",
              "dtype: int64"
            ]
          },
          "metadata": {},
          "execution_count": 55
        }
      ]
    },
    {
      "cell_type": "markdown",
      "metadata": {
        "id": "r6SvpREnThCZ"
      },
      "source": [
        "# **User Review** "
      ]
    },
    {
      "cell_type": "code",
      "metadata": {
        "colab": {
          "base_uri": "https://localhost:8080/",
          "height": 204
        },
        "id": "gqJ65nhJLkpZ",
        "outputId": "d1248008-ff05-4ffd-b4a8-dda07c73551c"
      },
      "source": [
        "user_r_df.head()"
      ],
      "execution_count": 56,
      "outputs": [
        {
          "output_type": "execute_result",
          "data": {
            "text/html": [
              "<div>\n",
              "<style scoped>\n",
              "    .dataframe tbody tr th:only-of-type {\n",
              "        vertical-align: middle;\n",
              "    }\n",
              "\n",
              "    .dataframe tbody tr th {\n",
              "        vertical-align: top;\n",
              "    }\n",
              "\n",
              "    .dataframe thead th {\n",
              "        text-align: right;\n",
              "    }\n",
              "</style>\n",
              "<table border=\"1\" class=\"dataframe\">\n",
              "  <thead>\n",
              "    <tr style=\"text-align: right;\">\n",
              "      <th></th>\n",
              "      <th>App</th>\n",
              "      <th>Translated_Review</th>\n",
              "      <th>Sentiment</th>\n",
              "      <th>Sentiment_Polarity</th>\n",
              "      <th>Sentiment_Subjectivity</th>\n",
              "    </tr>\n",
              "  </thead>\n",
              "  <tbody>\n",
              "    <tr>\n",
              "      <th>0</th>\n",
              "      <td>10 Best Foods for You</td>\n",
              "      <td>I like eat delicious food. That's I'm cooking ...</td>\n",
              "      <td>Positive</td>\n",
              "      <td>1.00</td>\n",
              "      <td>0.533333</td>\n",
              "    </tr>\n",
              "    <tr>\n",
              "      <th>1</th>\n",
              "      <td>10 Best Foods for You</td>\n",
              "      <td>This help eating healthy exercise regular basis</td>\n",
              "      <td>Positive</td>\n",
              "      <td>0.25</td>\n",
              "      <td>0.288462</td>\n",
              "    </tr>\n",
              "    <tr>\n",
              "      <th>2</th>\n",
              "      <td>10 Best Foods for You</td>\n",
              "      <td>NaN</td>\n",
              "      <td>NaN</td>\n",
              "      <td>NaN</td>\n",
              "      <td>NaN</td>\n",
              "    </tr>\n",
              "    <tr>\n",
              "      <th>3</th>\n",
              "      <td>10 Best Foods for You</td>\n",
              "      <td>Works great especially going grocery store</td>\n",
              "      <td>Positive</td>\n",
              "      <td>0.40</td>\n",
              "      <td>0.875000</td>\n",
              "    </tr>\n",
              "    <tr>\n",
              "      <th>4</th>\n",
              "      <td>10 Best Foods for You</td>\n",
              "      <td>Best idea us</td>\n",
              "      <td>Positive</td>\n",
              "      <td>1.00</td>\n",
              "      <td>0.300000</td>\n",
              "    </tr>\n",
              "  </tbody>\n",
              "</table>\n",
              "</div>"
            ],
            "text/plain": [
              "                     App  ... Sentiment_Subjectivity\n",
              "0  10 Best Foods for You  ...               0.533333\n",
              "1  10 Best Foods for You  ...               0.288462\n",
              "2  10 Best Foods for You  ...                    NaN\n",
              "3  10 Best Foods for You  ...               0.875000\n",
              "4  10 Best Foods for You  ...               0.300000\n",
              "\n",
              "[5 rows x 5 columns]"
            ]
          },
          "metadata": {},
          "execution_count": 56
        }
      ]
    },
    {
      "cell_type": "code",
      "metadata": {
        "colab": {
          "base_uri": "https://localhost:8080/",
          "height": 204
        },
        "id": "CmMo9ZLJTn_K",
        "outputId": "9b29df9c-bc0c-4ff7-d315-e57d48cec2a7"
      },
      "source": [
        "user_r_df.tail()"
      ],
      "execution_count": 57,
      "outputs": [
        {
          "output_type": "execute_result",
          "data": {
            "text/html": [
              "<div>\n",
              "<style scoped>\n",
              "    .dataframe tbody tr th:only-of-type {\n",
              "        vertical-align: middle;\n",
              "    }\n",
              "\n",
              "    .dataframe tbody tr th {\n",
              "        vertical-align: top;\n",
              "    }\n",
              "\n",
              "    .dataframe thead th {\n",
              "        text-align: right;\n",
              "    }\n",
              "</style>\n",
              "<table border=\"1\" class=\"dataframe\">\n",
              "  <thead>\n",
              "    <tr style=\"text-align: right;\">\n",
              "      <th></th>\n",
              "      <th>App</th>\n",
              "      <th>Translated_Review</th>\n",
              "      <th>Sentiment</th>\n",
              "      <th>Sentiment_Polarity</th>\n",
              "      <th>Sentiment_Subjectivity</th>\n",
              "    </tr>\n",
              "  </thead>\n",
              "  <tbody>\n",
              "    <tr>\n",
              "      <th>64290</th>\n",
              "      <td>Houzz Interior Design Ideas</td>\n",
              "      <td>NaN</td>\n",
              "      <td>NaN</td>\n",
              "      <td>NaN</td>\n",
              "      <td>NaN</td>\n",
              "    </tr>\n",
              "    <tr>\n",
              "      <th>64291</th>\n",
              "      <td>Houzz Interior Design Ideas</td>\n",
              "      <td>NaN</td>\n",
              "      <td>NaN</td>\n",
              "      <td>NaN</td>\n",
              "      <td>NaN</td>\n",
              "    </tr>\n",
              "    <tr>\n",
              "      <th>64292</th>\n",
              "      <td>Houzz Interior Design Ideas</td>\n",
              "      <td>NaN</td>\n",
              "      <td>NaN</td>\n",
              "      <td>NaN</td>\n",
              "      <td>NaN</td>\n",
              "    </tr>\n",
              "    <tr>\n",
              "      <th>64293</th>\n",
              "      <td>Houzz Interior Design Ideas</td>\n",
              "      <td>NaN</td>\n",
              "      <td>NaN</td>\n",
              "      <td>NaN</td>\n",
              "      <td>NaN</td>\n",
              "    </tr>\n",
              "    <tr>\n",
              "      <th>64294</th>\n",
              "      <td>Houzz Interior Design Ideas</td>\n",
              "      <td>NaN</td>\n",
              "      <td>NaN</td>\n",
              "      <td>NaN</td>\n",
              "      <td>NaN</td>\n",
              "    </tr>\n",
              "  </tbody>\n",
              "</table>\n",
              "</div>"
            ],
            "text/plain": [
              "                               App  ... Sentiment_Subjectivity\n",
              "64290  Houzz Interior Design Ideas  ...                    NaN\n",
              "64291  Houzz Interior Design Ideas  ...                    NaN\n",
              "64292  Houzz Interior Design Ideas  ...                    NaN\n",
              "64293  Houzz Interior Design Ideas  ...                    NaN\n",
              "64294  Houzz Interior Design Ideas  ...                    NaN\n",
              "\n",
              "[5 rows x 5 columns]"
            ]
          },
          "metadata": {},
          "execution_count": 57
        }
      ]
    },
    {
      "cell_type": "code",
      "metadata": {
        "colab": {
          "base_uri": "https://localhost:8080/"
        },
        "id": "LGEc64oRcZON",
        "outputId": "37629517-176e-4cd7-de2f-55570f15b622"
      },
      "source": [
        "user_r_df.columns"
      ],
      "execution_count": 58,
      "outputs": [
        {
          "output_type": "execute_result",
          "data": {
            "text/plain": [
              "Index(['App', 'Translated_Review', 'Sentiment', 'Sentiment_Polarity',\n",
              "       'Sentiment_Subjectivity'],\n",
              "      dtype='object')"
            ]
          },
          "metadata": {},
          "execution_count": 58
        }
      ]
    },
    {
      "cell_type": "code",
      "metadata": {
        "colab": {
          "base_uri": "https://localhost:8080/"
        },
        "id": "UgkoPSTvTtHC",
        "outputId": "508de5d4-1f5e-4a69-bbd7-f426efc27a8d"
      },
      "source": [
        "user_r_df.shape"
      ],
      "execution_count": 59,
      "outputs": [
        {
          "output_type": "execute_result",
          "data": {
            "text/plain": [
              "(64295, 5)"
            ]
          },
          "metadata": {},
          "execution_count": 59
        }
      ]
    },
    {
      "cell_type": "code",
      "metadata": {
        "colab": {
          "base_uri": "https://localhost:8080/",
          "height": 296
        },
        "id": "T6jjZ3dsTztL",
        "outputId": "d5d2e542-61bb-4157-9a8d-99a9afc7373c"
      },
      "source": [
        "user_r_df.describe()"
      ],
      "execution_count": 60,
      "outputs": [
        {
          "output_type": "execute_result",
          "data": {
            "text/html": [
              "<div>\n",
              "<style scoped>\n",
              "    .dataframe tbody tr th:only-of-type {\n",
              "        vertical-align: middle;\n",
              "    }\n",
              "\n",
              "    .dataframe tbody tr th {\n",
              "        vertical-align: top;\n",
              "    }\n",
              "\n",
              "    .dataframe thead th {\n",
              "        text-align: right;\n",
              "    }\n",
              "</style>\n",
              "<table border=\"1\" class=\"dataframe\">\n",
              "  <thead>\n",
              "    <tr style=\"text-align: right;\">\n",
              "      <th></th>\n",
              "      <th>Sentiment_Polarity</th>\n",
              "      <th>Sentiment_Subjectivity</th>\n",
              "    </tr>\n",
              "  </thead>\n",
              "  <tbody>\n",
              "    <tr>\n",
              "      <th>count</th>\n",
              "      <td>37432.000000</td>\n",
              "      <td>37432.000000</td>\n",
              "    </tr>\n",
              "    <tr>\n",
              "      <th>mean</th>\n",
              "      <td>0.182146</td>\n",
              "      <td>0.492704</td>\n",
              "    </tr>\n",
              "    <tr>\n",
              "      <th>std</th>\n",
              "      <td>0.351301</td>\n",
              "      <td>0.259949</td>\n",
              "    </tr>\n",
              "    <tr>\n",
              "      <th>min</th>\n",
              "      <td>-1.000000</td>\n",
              "      <td>0.000000</td>\n",
              "    </tr>\n",
              "    <tr>\n",
              "      <th>25%</th>\n",
              "      <td>0.000000</td>\n",
              "      <td>0.357143</td>\n",
              "    </tr>\n",
              "    <tr>\n",
              "      <th>50%</th>\n",
              "      <td>0.150000</td>\n",
              "      <td>0.514286</td>\n",
              "    </tr>\n",
              "    <tr>\n",
              "      <th>75%</th>\n",
              "      <td>0.400000</td>\n",
              "      <td>0.650000</td>\n",
              "    </tr>\n",
              "    <tr>\n",
              "      <th>max</th>\n",
              "      <td>1.000000</td>\n",
              "      <td>1.000000</td>\n",
              "    </tr>\n",
              "  </tbody>\n",
              "</table>\n",
              "</div>"
            ],
            "text/plain": [
              "       Sentiment_Polarity  Sentiment_Subjectivity\n",
              "count        37432.000000            37432.000000\n",
              "mean             0.182146                0.492704\n",
              "std              0.351301                0.259949\n",
              "min             -1.000000                0.000000\n",
              "25%              0.000000                0.357143\n",
              "50%              0.150000                0.514286\n",
              "75%              0.400000                0.650000\n",
              "max              1.000000                1.000000"
            ]
          },
          "metadata": {},
          "execution_count": 60
        }
      ]
    },
    {
      "cell_type": "markdown",
      "metadata": {
        "id": "DvreIZrH1Xef"
      },
      "source": [
        "# **Merging two dataset**\n",
        "## While functioning with CSV files during data analysis, there are two files named as User Reviews and Play Store Data in which we have to commit the data visualization. For that there’s a need to merge these two files into a single data frame. Favorably, the Pandas library contribute us with various methods such as merge, concat, and join to make this feasible. \n",
        "\n"
      ]
    },
    {
      "cell_type": "code",
      "metadata": {
        "id": "4i6_qCSa7EQJ"
      },
      "source": [
        "# Defining variable to two merged dataset as merged_df\n",
        "merged_df = play_s_df.merge(user_r_df, on='App')"
      ],
      "execution_count": 61,
      "outputs": []
    },
    {
      "cell_type": "code",
      "metadata": {
        "id": "AzjRIew27EK7",
        "colab": {
          "base_uri": "https://localhost:8080/",
          "height": 392
        },
        "outputId": "8219dfa3-da08-40cc-a5e2-b864afead333"
      },
      "source": [
        "merged_df.head(5)"
      ],
      "execution_count": 62,
      "outputs": [
        {
          "output_type": "execute_result",
          "data": {
            "text/html": [
              "<div>\n",
              "<style scoped>\n",
              "    .dataframe tbody tr th:only-of-type {\n",
              "        vertical-align: middle;\n",
              "    }\n",
              "\n",
              "    .dataframe tbody tr th {\n",
              "        vertical-align: top;\n",
              "    }\n",
              "\n",
              "    .dataframe thead th {\n",
              "        text-align: right;\n",
              "    }\n",
              "</style>\n",
              "<table border=\"1\" class=\"dataframe\">\n",
              "  <thead>\n",
              "    <tr style=\"text-align: right;\">\n",
              "      <th></th>\n",
              "      <th>App</th>\n",
              "      <th>Category</th>\n",
              "      <th>Rating</th>\n",
              "      <th>Reviews</th>\n",
              "      <th>Size</th>\n",
              "      <th>Installs</th>\n",
              "      <th>Type</th>\n",
              "      <th>Price</th>\n",
              "      <th>Content_Rating</th>\n",
              "      <th>Genres</th>\n",
              "      <th>Last_Updated</th>\n",
              "      <th>Current_Version</th>\n",
              "      <th>Android_Version</th>\n",
              "      <th>Installs1</th>\n",
              "      <th>Translated_Review</th>\n",
              "      <th>Sentiment</th>\n",
              "      <th>Sentiment_Polarity</th>\n",
              "      <th>Sentiment_Subjectivity</th>\n",
              "    </tr>\n",
              "  </thead>\n",
              "  <tbody>\n",
              "    <tr>\n",
              "      <th>0</th>\n",
              "      <td>DreamTrips</td>\n",
              "      <td>TRAVEL_AND_LOCAL</td>\n",
              "      <td>4.7</td>\n",
              "      <td>9971</td>\n",
              "      <td>22.0</td>\n",
              "      <td>500000</td>\n",
              "      <td>Free</td>\n",
              "      <td>0.0</td>\n",
              "      <td>Teen</td>\n",
              "      <td>Travel &amp; Local</td>\n",
              "      <td>2018-08-06</td>\n",
              "      <td>1.28.1</td>\n",
              "      <td>5.0 and up</td>\n",
              "      <td>500,000+</td>\n",
              "      <td>NaN</td>\n",
              "      <td>NaN</td>\n",
              "      <td>NaN</td>\n",
              "      <td>NaN</td>\n",
              "    </tr>\n",
              "    <tr>\n",
              "      <th>1</th>\n",
              "      <td>DreamTrips</td>\n",
              "      <td>TRAVEL_AND_LOCAL</td>\n",
              "      <td>4.7</td>\n",
              "      <td>9971</td>\n",
              "      <td>22.0</td>\n",
              "      <td>500000</td>\n",
              "      <td>Free</td>\n",
              "      <td>0.0</td>\n",
              "      <td>Teen</td>\n",
              "      <td>Travel &amp; Local</td>\n",
              "      <td>2018-08-06</td>\n",
              "      <td>1.28.1</td>\n",
              "      <td>5.0 and up</td>\n",
              "      <td>500,000+</td>\n",
              "      <td>NaN</td>\n",
              "      <td>NaN</td>\n",
              "      <td>NaN</td>\n",
              "      <td>NaN</td>\n",
              "    </tr>\n",
              "    <tr>\n",
              "      <th>2</th>\n",
              "      <td>DreamTrips</td>\n",
              "      <td>TRAVEL_AND_LOCAL</td>\n",
              "      <td>4.7</td>\n",
              "      <td>9971</td>\n",
              "      <td>22.0</td>\n",
              "      <td>500000</td>\n",
              "      <td>Free</td>\n",
              "      <td>0.0</td>\n",
              "      <td>Teen</td>\n",
              "      <td>Travel &amp; Local</td>\n",
              "      <td>2018-08-06</td>\n",
              "      <td>1.28.1</td>\n",
              "      <td>5.0 and up</td>\n",
              "      <td>500,000+</td>\n",
              "      <td>NaN</td>\n",
              "      <td>NaN</td>\n",
              "      <td>NaN</td>\n",
              "      <td>NaN</td>\n",
              "    </tr>\n",
              "    <tr>\n",
              "      <th>3</th>\n",
              "      <td>DreamTrips</td>\n",
              "      <td>TRAVEL_AND_LOCAL</td>\n",
              "      <td>4.7</td>\n",
              "      <td>9971</td>\n",
              "      <td>22.0</td>\n",
              "      <td>500000</td>\n",
              "      <td>Free</td>\n",
              "      <td>0.0</td>\n",
              "      <td>Teen</td>\n",
              "      <td>Travel &amp; Local</td>\n",
              "      <td>2018-08-06</td>\n",
              "      <td>1.28.1</td>\n",
              "      <td>5.0 and up</td>\n",
              "      <td>500,000+</td>\n",
              "      <td>NaN</td>\n",
              "      <td>NaN</td>\n",
              "      <td>NaN</td>\n",
              "      <td>NaN</td>\n",
              "    </tr>\n",
              "    <tr>\n",
              "      <th>4</th>\n",
              "      <td>DreamTrips</td>\n",
              "      <td>TRAVEL_AND_LOCAL</td>\n",
              "      <td>4.7</td>\n",
              "      <td>9971</td>\n",
              "      <td>22.0</td>\n",
              "      <td>500000</td>\n",
              "      <td>Free</td>\n",
              "      <td>0.0</td>\n",
              "      <td>Teen</td>\n",
              "      <td>Travel &amp; Local</td>\n",
              "      <td>2018-08-06</td>\n",
              "      <td>1.28.1</td>\n",
              "      <td>5.0 and up</td>\n",
              "      <td>500,000+</td>\n",
              "      <td>NaN</td>\n",
              "      <td>NaN</td>\n",
              "      <td>NaN</td>\n",
              "      <td>NaN</td>\n",
              "    </tr>\n",
              "  </tbody>\n",
              "</table>\n",
              "</div>"
            ],
            "text/plain": [
              "          App          Category  ...  Sentiment_Polarity  Sentiment_Subjectivity\n",
              "0  DreamTrips  TRAVEL_AND_LOCAL  ...                 NaN                     NaN\n",
              "1  DreamTrips  TRAVEL_AND_LOCAL  ...                 NaN                     NaN\n",
              "2  DreamTrips  TRAVEL_AND_LOCAL  ...                 NaN                     NaN\n",
              "3  DreamTrips  TRAVEL_AND_LOCAL  ...                 NaN                     NaN\n",
              "4  DreamTrips  TRAVEL_AND_LOCAL  ...                 NaN                     NaN\n",
              "\n",
              "[5 rows x 18 columns]"
            ]
          },
          "metadata": {},
          "execution_count": 62
        }
      ]
    },
    {
      "cell_type": "code",
      "metadata": {
        "id": "QB4CtAdtHTQI",
        "colab": {
          "base_uri": "https://localhost:8080/"
        },
        "outputId": "2a503a43-f69b-473b-ffeb-a55683239724"
      },
      "source": [
        "# Checking the null values in merged dataset\n",
        "merged_df.isnull().sum()"
      ],
      "execution_count": 63,
      "outputs": [
        {
          "output_type": "execute_result",
          "data": {
            "text/plain": [
              "App                           0\n",
              "Category                      0\n",
              "Rating                        0\n",
              "Reviews                       0\n",
              "Size                          0\n",
              "Installs                      0\n",
              "Type                          0\n",
              "Price                         0\n",
              "Content_Rating                0\n",
              "Genres                        0\n",
              "Last_Updated                  0\n",
              "Current_Version               0\n",
              "Android_Version               0\n",
              "Installs1                     0\n",
              "Translated_Review         27480\n",
              "Sentiment                 27475\n",
              "Sentiment_Polarity        27475\n",
              "Sentiment_Subjectivity    27475\n",
              "dtype: int64"
            ]
          },
          "metadata": {},
          "execution_count": 63
        }
      ]
    },
    {
      "cell_type": "code",
      "metadata": {
        "id": "KCgvYyPwHTOK"
      },
      "source": [
        "# Eliminating the null values as this affect the performance and accuracy of our data analysis. \n",
        "merged_df.dropna(inplace=True)"
      ],
      "execution_count": 64,
      "outputs": []
    },
    {
      "cell_type": "code",
      "metadata": {
        "id": "TaAq3Sba7EJJ",
        "colab": {
          "base_uri": "https://localhost:8080/"
        },
        "outputId": "19a9b4dd-5f15-49ba-c37e-b3f13a02a0cc"
      },
      "source": [
        "# Acquiring details for merged dataset after removing all null values\n",
        "merged_df.info()"
      ],
      "execution_count": 65,
      "outputs": [
        {
          "output_type": "stream",
          "name": "stdout",
          "text": [
            "<class 'pandas.core.frame.DataFrame'>\n",
            "Int64Index: 38494 entries, 6 to 65971\n",
            "Data columns (total 18 columns):\n",
            " #   Column                  Non-Null Count  Dtype         \n",
            "---  ------                  --------------  -----         \n",
            " 0   App                     38494 non-null  object        \n",
            " 1   Category                38494 non-null  object        \n",
            " 2   Rating                  38494 non-null  float64       \n",
            " 3   Reviews                 38494 non-null  int64         \n",
            " 4   Size                    38494 non-null  float64       \n",
            " 5   Installs                38494 non-null  int64         \n",
            " 6   Type                    38494 non-null  object        \n",
            " 7   Price                   38494 non-null  float64       \n",
            " 8   Content_Rating          38494 non-null  object        \n",
            " 9   Genres                  38494 non-null  object        \n",
            " 10  Last_Updated            38494 non-null  datetime64[ns]\n",
            " 11  Current_Version         38494 non-null  object        \n",
            " 12  Android_Version         38494 non-null  object        \n",
            " 13  Installs1               38494 non-null  object        \n",
            " 14  Translated_Review       38494 non-null  object        \n",
            " 15  Sentiment               38494 non-null  object        \n",
            " 16  Sentiment_Polarity      38494 non-null  float64       \n",
            " 17  Sentiment_Subjectivity  38494 non-null  float64       \n",
            "dtypes: datetime64[ns](1), float64(5), int64(2), object(10)\n",
            "memory usage: 5.6+ MB\n"
          ]
        }
      ]
    },
    {
      "cell_type": "code",
      "metadata": {
        "id": "NiSiSNwTOvGJ",
        "colab": {
          "base_uri": "https://localhost:8080/",
          "height": 296
        },
        "outputId": "9140f955-1f7b-4971-bb98-6eeee713f875"
      },
      "source": [
        "# Computing some basic statistical details like mean, max, std, IQR,etc\n",
        "merged_df.describe()"
      ],
      "execution_count": 66,
      "outputs": [
        {
          "output_type": "execute_result",
          "data": {
            "text/html": [
              "<div>\n",
              "<style scoped>\n",
              "    .dataframe tbody tr th:only-of-type {\n",
              "        vertical-align: middle;\n",
              "    }\n",
              "\n",
              "    .dataframe tbody tr th {\n",
              "        vertical-align: top;\n",
              "    }\n",
              "\n",
              "    .dataframe thead th {\n",
              "        text-align: right;\n",
              "    }\n",
              "</style>\n",
              "<table border=\"1\" class=\"dataframe\">\n",
              "  <thead>\n",
              "    <tr style=\"text-align: right;\">\n",
              "      <th></th>\n",
              "      <th>Rating</th>\n",
              "      <th>Reviews</th>\n",
              "      <th>Size</th>\n",
              "      <th>Installs</th>\n",
              "      <th>Price</th>\n",
              "      <th>Sentiment_Polarity</th>\n",
              "      <th>Sentiment_Subjectivity</th>\n",
              "    </tr>\n",
              "  </thead>\n",
              "  <tbody>\n",
              "    <tr>\n",
              "      <th>count</th>\n",
              "      <td>38494.000000</td>\n",
              "      <td>3.849400e+04</td>\n",
              "      <td>38494.000000</td>\n",
              "      <td>3.849400e+04</td>\n",
              "      <td>38494.000000</td>\n",
              "      <td>38494.000000</td>\n",
              "      <td>38494.000000</td>\n",
              "    </tr>\n",
              "    <tr>\n",
              "      <th>mean</th>\n",
              "      <td>4.303788</td>\n",
              "      <td>1.765131e+06</td>\n",
              "      <td>27.486221</td>\n",
              "      <td>4.698885e+07</td>\n",
              "      <td>0.101921</td>\n",
              "      <td>0.176653</td>\n",
              "      <td>0.494367</td>\n",
              "    </tr>\n",
              "    <tr>\n",
              "      <th>std</th>\n",
              "      <td>0.298290</td>\n",
              "      <td>6.180830e+06</td>\n",
              "      <td>22.865211</td>\n",
              "      <td>1.453509e+08</td>\n",
              "      <td>1.258622</td>\n",
              "      <td>0.347698</td>\n",
              "      <td>0.254838</td>\n",
              "    </tr>\n",
              "    <tr>\n",
              "      <th>min</th>\n",
              "      <td>2.600000</td>\n",
              "      <td>1.140000e+02</td>\n",
              "      <td>0.008301</td>\n",
              "      <td>1.000000e+03</td>\n",
              "      <td>0.000000</td>\n",
              "      <td>-1.000000</td>\n",
              "      <td>0.000000</td>\n",
              "    </tr>\n",
              "    <tr>\n",
              "      <th>25%</th>\n",
              "      <td>4.200000</td>\n",
              "      <td>1.179800e+04</td>\n",
              "      <td>14.000000</td>\n",
              "      <td>1.000000e+06</td>\n",
              "      <td>0.000000</td>\n",
              "      <td>0.000000</td>\n",
              "      <td>0.366667</td>\n",
              "    </tr>\n",
              "    <tr>\n",
              "      <th>50%</th>\n",
              "      <td>4.300000</td>\n",
              "      <td>6.941700e+04</td>\n",
              "      <td>20.524013</td>\n",
              "      <td>5.000000e+06</td>\n",
              "      <td>0.000000</td>\n",
              "      <td>0.148052</td>\n",
              "      <td>0.513333</td>\n",
              "    </tr>\n",
              "    <tr>\n",
              "      <th>75%</th>\n",
              "      <td>4.500000</td>\n",
              "      <td>8.071550e+05</td>\n",
              "      <td>31.000000</td>\n",
              "      <td>1.000000e+07</td>\n",
              "      <td>0.000000</td>\n",
              "      <td>0.400000</td>\n",
              "      <td>0.650000</td>\n",
              "    </tr>\n",
              "    <tr>\n",
              "      <th>max</th>\n",
              "      <td>4.900000</td>\n",
              "      <td>7.815831e+07</td>\n",
              "      <td>99.000000</td>\n",
              "      <td>1.000000e+09</td>\n",
              "      <td>29.990000</td>\n",
              "      <td>1.000000</td>\n",
              "      <td>1.000000</td>\n",
              "    </tr>\n",
              "  </tbody>\n",
              "</table>\n",
              "</div>"
            ],
            "text/plain": [
              "             Rating       Reviews  ...  Sentiment_Polarity  Sentiment_Subjectivity\n",
              "count  38494.000000  3.849400e+04  ...        38494.000000            38494.000000\n",
              "mean       4.303788  1.765131e+06  ...            0.176653                0.494367\n",
              "std        0.298290  6.180830e+06  ...            0.347698                0.254838\n",
              "min        2.600000  1.140000e+02  ...           -1.000000                0.000000\n",
              "25%        4.200000  1.179800e+04  ...            0.000000                0.366667\n",
              "50%        4.300000  6.941700e+04  ...            0.148052                0.513333\n",
              "75%        4.500000  8.071550e+05  ...            0.400000                0.650000\n",
              "max        4.900000  7.815831e+07  ...            1.000000                1.000000\n",
              "\n",
              "[8 rows x 7 columns]"
            ]
          },
          "metadata": {},
          "execution_count": 66
        }
      ]
    },
    {
      "cell_type": "markdown",
      "metadata": {
        "id": "n1-AzBB3MRGR"
      },
      "source": [
        "# **Exploratory Analysis and Visualization**"
      ]
    },
    {
      "cell_type": "markdown",
      "metadata": {
        "id": "Vlvx8K1b-Bj4"
      },
      "source": [
        "# 1- Correlation Map\n",
        "### Let us find correlation between columns in a dataframe. Correlation map is used to detect the pairwise correlation between all quantitative measurables in a dataset. "
      ]
    },
    {
      "cell_type": "code",
      "metadata": {
        "id": "z0W4GGkRQG1d",
        "colab": {
          "base_uri": "https://localhost:8080/",
          "height": 662
        },
        "outputId": "6a831182-8efe-4776-cac1-20cb08f962f8"
      },
      "source": [
        "# Correlation map\n",
        "f,ax = plt.subplots(figsize=(12,9))\n",
        "sns.heatmap(merged_df.corr(), annot=True, linewidths=.8, fmt= '.2f',ax=ax)\n",
        "plt.show()"
      ],
      "execution_count": 67,
      "outputs": [
        {
          "output_type": "display_data",
          "data": {
            "image/png": "[encoded data removed]",
            "text/plain": [
              "<Figure size 864x648 with 2 Axes>"
            ]
          },
          "metadata": {}
        }
      ]
    },
    {
      "cell_type": "markdown",
      "metadata": {
        "id": "Ge613AFve0VT"
      },
      "source": [
        "# We can determine from above that **Installs** and **Reviews** are Highly Positively Correlated."
      ]
    },
    {
      "cell_type": "markdown",
      "metadata": {
        "id": "pLEx1GpVddXM"
      },
      "source": [
        "\n",
        "## 2 - Most Downloaded apps in Play Store Dataset\n",
        "\n",
        "\n",
        "\n"
      ]
    },
    {
      "cell_type": "code",
      "metadata": {
        "colab": {
          "base_uri": "https://localhost:8080/"
        },
        "id": "N1I4INDsRTvH",
        "outputId": "620cacb2-620e-4ab5-f853-54391faa5406"
      },
      "source": [
        "pd.DatetimeIndex(merged_df['Last_Updated']).year"
      ],
      "execution_count": 68,
      "outputs": [
        {
          "output_type": "execute_result",
          "data": {
            "text/plain": [
              "Int64Index([2018, 2018, 2018, 2018, 2018, 2018, 2018, 2018, 2018, 2018,\n",
              "            ...\n",
              "            2018, 2018, 2018, 2018, 2018, 2018, 2018, 2018, 2018, 2018],\n",
              "           dtype='int64', name='Last_Updated', length=38494)"
            ]
          },
          "metadata": {},
          "execution_count": 68
        }
      ]
    },
    {
      "cell_type": "code",
      "metadata": {
        "id": "wYVcXzxdUYW-"
      },
      "source": [
        "merged_df['Year'] =  pd.DatetimeIndex(merged_df['Last_Updated']).year"
      ],
      "execution_count": 69,
      "outputs": []
    },
    {
      "cell_type": "code",
      "metadata": {
        "id": "8TsABG-RQNPz",
        "colab": {
          "base_uri": "https://localhost:8080/",
          "height": 204
        },
        "outputId": "dab2e519-a35c-482c-b55a-29dff79e783c"
      },
      "source": [
        "# Counting the Apps within in each Category over all Columns and saving it in Category_df dataframe\n",
        "\n",
        "Category_df=merged_df.groupby(['Category','Year']).count()\n",
        "Category_df.reset_index(inplace=True)\n",
        "Category_df = Category_df[['Category', 'Installs','Year']]\n",
        "Category_df.head()"
      ],
      "execution_count": 70,
      "outputs": [
        {
          "output_type": "execute_result",
          "data": {
            "text/html": [
              "<div>\n",
              "<style scoped>\n",
              "    .dataframe tbody tr th:only-of-type {\n",
              "        vertical-align: middle;\n",
              "    }\n",
              "\n",
              "    .dataframe tbody tr th {\n",
              "        vertical-align: top;\n",
              "    }\n",
              "\n",
              "    .dataframe thead th {\n",
              "        text-align: right;\n",
              "    }\n",
              "</style>\n",
              "<table border=\"1\" class=\"dataframe\">\n",
              "  <thead>\n",
              "    <tr style=\"text-align: right;\">\n",
              "      <th></th>\n",
              "      <th>Category</th>\n",
              "      <th>Installs</th>\n",
              "      <th>Year</th>\n",
              "    </tr>\n",
              "  </thead>\n",
              "  <tbody>\n",
              "    <tr>\n",
              "      <th>0</th>\n",
              "      <td>ART_AND_DESIGN</td>\n",
              "      <td>128</td>\n",
              "      <td>2017</td>\n",
              "    </tr>\n",
              "    <tr>\n",
              "      <th>1</th>\n",
              "      <td>ART_AND_DESIGN</td>\n",
              "      <td>254</td>\n",
              "      <td>2018</td>\n",
              "    </tr>\n",
              "    <tr>\n",
              "      <th>2</th>\n",
              "      <td>AUTO_AND_VEHICLES</td>\n",
              "      <td>289</td>\n",
              "      <td>2018</td>\n",
              "    </tr>\n",
              "    <tr>\n",
              "      <th>3</th>\n",
              "      <td>BEAUTY</td>\n",
              "      <td>65</td>\n",
              "      <td>2017</td>\n",
              "    </tr>\n",
              "    <tr>\n",
              "      <th>4</th>\n",
              "      <td>BEAUTY</td>\n",
              "      <td>273</td>\n",
              "      <td>2018</td>\n",
              "    </tr>\n",
              "  </tbody>\n",
              "</table>\n",
              "</div>"
            ],
            "text/plain": [
              "            Category  Installs  Year\n",
              "0     ART_AND_DESIGN       128  2017\n",
              "1     ART_AND_DESIGN       254  2018\n",
              "2  AUTO_AND_VEHICLES       289  2018\n",
              "3             BEAUTY        65  2017\n",
              "4             BEAUTY       273  2018"
            ]
          },
          "metadata": {},
          "execution_count": 70
        }
      ]
    },
    {
      "cell_type": "code",
      "metadata": {
        "colab": {
          "base_uri": "https://localhost:8080/",
          "height": 517
        },
        "id": "yiQ27SehypMM",
        "outputId": "2707b086-d592-45da-f307-0d2ce48fe87e"
      },
      "source": [
        "# \n",
        "fig = px.bar(Category_df, x='Installs', y='Year',color='Category',orientation='h',barmode='relative',text='Installs',\n",
        "             title='Number of Installs for each Category in a Year',height=500,)\n",
        "fig.show()"
      ],
      "execution_count": 71,
      "outputs": [
        {
          "output_type": "display_data",
          "data": {
            "text/html": [
              "<html>\n",
              "<head><meta charset=\"utf-8\" /></head>\n",
              "<body>\n",
              "    <div>\n",
              "            <script src=\"https://cdnjs.cloudflare.com/ajax/libs/mathjax/2.7.5/MathJax.js?config=TeX-AMS-MML_SVG\"></script><script type=\"text/javascript\">if (window.MathJax) {MathJax.Hub.Config({SVG: {font: \"STIX-Web\"}});}</script>\n",
              "                <script type=\"text/javascript\">window.PlotlyConfig = {MathJaxConfig: 'local'};</script>\n",
              "        <script src=\"https://cdn.plot.ly/plotly-latest.min.js\"></script>    \n",
              "            <div id=\"201a966b-2b15-48ec-95ad-3b93126b5d92\" class=\"plotly-graph-div\" style=\"height:500px; width:100%;\"></div>\n",
              "            <script type=\"text/javascript\">\n",
              "                \n",
              "                    window.PLOTLYENV=window.PLOTLYENV || {};\n",
              "                    \n",
              "                if (document.getElementById(\"201a966b-2b15-48ec-95ad-3b93126b5d92\")) {\n",
              "                    Plotly.newPlot(\n",
              "                        '201a966b-2b15-48ec-95ad-3b93126b5d92',\n",
              "                        [{\"alignmentgroup\": \"True\", \"hoverlabel\": {\"namelength\": 0}, \"hovertemplate\": \"Category=ART_AND_DESIGN<br>Installs=%{text}<br>Year=%{y}\", \"legendgroup\": \"Category=ART_AND_DESIGN\", \"marker\": {\"color\": \"#636efa\"}, \"name\": \"Category=ART_AND_DESIGN\", \"offsetgroup\": \"Category=ART_AND_DESIGN\", \"orientation\": \"h\", \"showlegend\": true, \"text\": [128.0, 254.0], \"textposition\": \"auto\", \"type\": \"bar\", \"x\": [128, 254], \"xaxis\": \"x\", \"y\": [2017, 2018], \"yaxis\": \"y\"}, {\"alignmentgroup\": \"True\", \"hoverlabel\": {\"namelength\": 0}, \"hovertemplate\": \"Category=AUTO_AND_VEHICLES<br>Installs=%{text}<br>Year=%{y}\", \"legendgroup\": \"Category=AUTO_AND_VEHICLES\", \"marker\": {\"color\": \"#EF553B\"}, \"name\": \"Category=AUTO_AND_VEHICLES\", \"offsetgroup\": \"Category=AUTO_AND_VEHICLES\", \"orientation\": \"h\", \"showlegend\": true, \"text\": [289.0], \"textposition\": \"auto\", \"type\": \"bar\", \"x\": [289], \"xaxis\": \"x\", \"y\": [2018], \"yaxis\": \"y\"}, {\"alignmentgroup\": \"True\", \"hoverlabel\": {\"namelength\": 0}, \"hovertemplate\": \"Category=BEAUTY<br>Installs=%{text}<br>Year=%{y}\", \"legendgroup\": \"Category=BEAUTY\", \"marker\": {\"color\": \"#00cc96\"}, \"name\": \"Category=BEAUTY\", \"offsetgroup\": \"Category=BEAUTY\", \"orientation\": \"h\", \"showlegend\": true, \"text\": [65.0, 273.0], \"textposition\": \"auto\", \"type\": \"bar\", \"x\": [65, 273], \"xaxis\": \"x\", \"y\": [2017, 2018], \"yaxis\": \"y\"}, {\"alignmentgroup\": \"True\", \"hoverlabel\": {\"namelength\": 0}, \"hovertemplate\": \"Category=BOOKS_AND_REFERENCE<br>Installs=%{text}<br>Year=%{y}\", \"legendgroup\": \"Category=BOOKS_AND_REFERENCE\", \"marker\": {\"color\": \"#ab63fa\"}, \"name\": \"Category=BOOKS_AND_REFERENCE\", \"offsetgroup\": \"Category=BOOKS_AND_REFERENCE\", \"orientation\": \"h\", \"showlegend\": true, \"text\": [38.0, 40.0, 573.0], \"textposition\": \"auto\", \"type\": \"bar\", \"x\": [38, 40, 573], \"xaxis\": \"x\", \"y\": [2015, 2017, 2018], \"yaxis\": \"y\"}, {\"alignmentgroup\": \"True\", \"hoverlabel\": {\"namelength\": 0}, \"hovertemplate\": \"Category=BUSINESS<br>Installs=%{text}<br>Year=%{y}\", \"legendgroup\": \"Category=BUSINESS\", \"marker\": {\"color\": \"#FFA15A\"}, \"name\": \"Category=BUSINESS\", \"offsetgroup\": \"Category=BUSINESS\", \"orientation\": \"h\", \"showlegend\": true, \"text\": [1082.0], \"textposition\": \"auto\", \"type\": \"bar\", \"x\": [1082], \"xaxis\": \"x\", \"y\": [2018], \"yaxis\": \"y\"}, {\"alignmentgroup\": \"True\", \"hoverlabel\": {\"namelength\": 0}, \"hovertemplate\": \"Category=COMICS<br>Installs=%{text}<br>Year=%{y}\", \"legendgroup\": \"Category=COMICS\", \"marker\": {\"color\": \"#19d3f3\"}, \"name\": \"Category=COMICS\", \"offsetgroup\": \"Category=COMICS\", \"orientation\": \"h\", \"showlegend\": true, \"text\": [45.0], \"textposition\": \"auto\", \"type\": \"bar\", \"x\": [45], \"xaxis\": \"x\", \"y\": [2018], \"yaxis\": \"y\"}, {\"alignmentgroup\": \"True\", \"hoverlabel\": {\"namelength\": 0}, \"hovertemplate\": \"Category=COMMUNICATION<br>Installs=%{text}<br>Year=%{y}\", \"legendgroup\": \"Category=COMMUNICATION\", \"marker\": {\"color\": \"#FF6692\"}, \"name\": \"Category=COMMUNICATION\", \"offsetgroup\": \"Category=COMMUNICATION\", \"orientation\": \"h\", \"showlegend\": true, \"text\": [34.0, 41.0, 29.0, 923.0], \"textposition\": \"auto\", \"type\": \"bar\", \"x\": [34, 41, 29, 923], \"xaxis\": \"x\", \"y\": [2014, 2016, 2017, 2018], \"yaxis\": \"y\"}, {\"alignmentgroup\": \"True\", \"hoverlabel\": {\"namelength\": 0}, \"hovertemplate\": \"Category=DATING<br>Installs=%{text}<br>Year=%{y}\", \"legendgroup\": \"Category=DATING\", \"marker\": {\"color\": \"#B6E880\"}, \"name\": \"Category=DATING\", \"offsetgroup\": \"Category=DATING\", \"orientation\": \"h\", \"showlegend\": true, \"text\": [169.0, 1546.0], \"textposition\": \"auto\", \"type\": \"bar\", \"x\": [169, 1546], \"xaxis\": \"x\", \"y\": [2017, 2018], \"yaxis\": \"y\"}, {\"alignmentgroup\": \"True\", \"hoverlabel\": {\"namelength\": 0}, \"hovertemplate\": \"Category=EDUCATION<br>Installs=%{text}<br>Year=%{y}\", \"legendgroup\": \"Category=EDUCATION\", \"marker\": {\"color\": \"#FF97FF\"}, \"name\": \"Category=EDUCATION\", \"offsetgroup\": \"Category=EDUCATION\", \"orientation\": \"h\", \"showlegend\": true, \"text\": [39.0, 36.0, 142.0, 9.0, 36.0, 585.0], \"textposition\": \"auto\", \"type\": \"bar\", \"x\": [39, 36, 142, 9, 36, 585], \"xaxis\": \"x\", \"y\": [2013, 2014, 2015, 2016, 2017, 2018], \"yaxis\": \"y\"}, {\"alignmentgroup\": \"True\", \"hoverlabel\": {\"namelength\": 0}, \"hovertemplate\": \"Category=ENTERTAINMENT<br>Installs=%{text}<br>Year=%{y}\", \"legendgroup\": \"Category=ENTERTAINMENT\", \"marker\": {\"color\": \"#FECB52\"}, \"name\": \"Category=ENTERTAINMENT\", \"offsetgroup\": \"Category=ENTERTAINMENT\", \"orientation\": \"h\", \"showlegend\": true, \"text\": [24.0, 15.0, 1225.0], \"textposition\": \"auto\", \"type\": \"bar\", \"x\": [24, 15, 1225], \"xaxis\": \"x\", \"y\": [2016, 2017, 2018], \"yaxis\": \"y\"}, {\"alignmentgroup\": \"True\", \"hoverlabel\": {\"namelength\": 0}, \"hovertemplate\": \"Category=EVENTS<br>Installs=%{text}<br>Year=%{y}\", \"legendgroup\": \"Category=EVENTS\", \"marker\": {\"color\": \"#636efa\"}, \"name\": \"Category=EVENTS\", \"offsetgroup\": \"Category=EVENTS\", \"orientation\": \"h\", \"showlegend\": true, \"text\": [17.0, 141.0], \"textposition\": \"auto\", \"type\": \"bar\", \"x\": [17, 141], \"xaxis\": \"x\", \"y\": [2017, 2018], \"yaxis\": \"y\"}, {\"alignmentgroup\": \"True\", \"hoverlabel\": {\"namelength\": 0}, \"hovertemplate\": \"Category=FAMILY<br>Installs=%{text}<br>Year=%{y}\", \"legendgroup\": \"Category=FAMILY\", \"marker\": {\"color\": \"#EF553B\"}, \"name\": \"Category=FAMILY\", \"offsetgroup\": \"Category=FAMILY\", \"orientation\": \"h\", \"showlegend\": true, \"text\": [72.0, 35.0, 108.0, 295.0, 3839.0], \"textposition\": \"auto\", \"type\": \"bar\", \"x\": [72, 35, 108, 295, 3839], \"xaxis\": \"x\", \"y\": [2014, 2015, 2016, 2017, 2018], \"yaxis\": \"y\"}, {\"alignmentgroup\": \"True\", \"hoverlabel\": {\"namelength\": 0}, \"hovertemplate\": \"Category=FINANCE<br>Installs=%{text}<br>Year=%{y}\", \"legendgroup\": \"Category=FINANCE\", \"marker\": {\"color\": \"#00cc96\"}, \"name\": \"Category=FINANCE\", \"offsetgroup\": \"Category=FINANCE\", \"orientation\": \"h\", \"showlegend\": true, \"text\": [1435.0], \"textposition\": \"auto\", \"type\": \"bar\", \"x\": [1435], \"xaxis\": \"x\", \"y\": [2018], \"yaxis\": \"y\"}, {\"alignmentgroup\": \"True\", \"hoverlabel\": {\"namelength\": 0}, \"hovertemplate\": \"Category=FOOD_AND_DRINK<br>Installs=%{text}<br>Year=%{y}\", \"legendgroup\": \"Category=FOOD_AND_DRINK\", \"marker\": {\"color\": \"#ab63fa\"}, \"name\": \"Category=FOOD_AND_DRINK\", \"offsetgroup\": \"Category=FOOD_AND_DRINK\", \"orientation\": \"h\", \"showlegend\": true, \"text\": [79.0, 559.0], \"textposition\": \"auto\", \"type\": \"bar\", \"x\": [79, 559], \"xaxis\": \"x\", \"y\": [2017, 2018], \"yaxis\": \"y\"}, {\"alignmentgroup\": \"True\", \"hoverlabel\": {\"namelength\": 0}, \"hovertemplate\": \"Category=GAME<br>Installs=%{text}<br>Year=%{y}\", \"legendgroup\": \"Category=GAME\", \"marker\": {\"color\": \"#FFA15A\"}, \"name\": \"Category=GAME\", \"offsetgroup\": \"Category=GAME\", \"orientation\": \"h\", \"showlegend\": true, \"text\": [61.0, 3.0, 361.0, 6253.0], \"textposition\": \"auto\", \"type\": \"bar\", \"x\": [61, 3, 361, 6253], \"xaxis\": \"x\", \"y\": [2015, 2016, 2017, 2018], \"yaxis\": \"y\"}, {\"alignmentgroup\": \"True\", \"hoverlabel\": {\"namelength\": 0}, \"hovertemplate\": \"Category=HEALTH_AND_FITNESS<br>Installs=%{text}<br>Year=%{y}\", \"legendgroup\": \"Category=HEALTH_AND_FITNESS\", \"marker\": {\"color\": \"#19d3f3\"}, \"name\": \"Category=HEALTH_AND_FITNESS\", \"offsetgroup\": \"Category=HEALTH_AND_FITNESS\", \"orientation\": \"h\", \"showlegend\": true, \"text\": [90.0, 200.0, 233.0, 1726.0], \"textposition\": \"auto\", \"type\": \"bar\", \"x\": [90, 200, 233, 1726], \"xaxis\": \"x\", \"y\": [2014, 2016, 2017, 2018], \"yaxis\": \"y\"}, {\"alignmentgroup\": \"True\", \"hoverlabel\": {\"namelength\": 0}, \"hovertemplate\": \"Category=HOUSE_AND_HOME<br>Installs=%{text}<br>Year=%{y}\", \"legendgroup\": \"Category=HOUSE_AND_HOME\", \"marker\": {\"color\": \"#FF6692\"}, \"name\": \"Category=HOUSE_AND_HOME\", \"offsetgroup\": \"Category=HOUSE_AND_HOME\", \"orientation\": \"h\", \"showlegend\": true, \"text\": [41.0, 470.0], \"textposition\": \"auto\", \"type\": \"bar\", \"x\": [41, 470], \"xaxis\": \"x\", \"y\": [2015, 2018], \"yaxis\": \"y\"}, {\"alignmentgroup\": \"True\", \"hoverlabel\": {\"namelength\": 0}, \"hovertemplate\": \"Category=LIBRARIES_AND_DEMO<br>Installs=%{text}<br>Year=%{y}\", \"legendgroup\": \"Category=LIBRARIES_AND_DEMO\", \"marker\": {\"color\": \"#B6E880\"}, \"name\": \"Category=LIBRARIES_AND_DEMO\", \"offsetgroup\": \"Category=LIBRARIES_AND_DEMO\", \"orientation\": \"h\", \"showlegend\": true, \"text\": [27.0, 37.0, 37.0, 40.0, 192.0], \"textposition\": \"auto\", \"type\": \"bar\", \"x\": [27, 37, 37, 40, 192], \"xaxis\": \"x\", \"y\": [2011, 2012, 2013, 2017, 2018], \"yaxis\": \"y\"}, {\"alignmentgroup\": \"True\", \"hoverlabel\": {\"namelength\": 0}, \"hovertemplate\": \"Category=LIFESTYLE<br>Installs=%{text}<br>Year=%{y}\", \"legendgroup\": \"Category=LIFESTYLE\", \"marker\": {\"color\": \"#FF97FF\"}, \"name\": \"Category=LIFESTYLE\", \"offsetgroup\": \"Category=LIFESTYLE\", \"orientation\": \"h\", \"showlegend\": true, \"text\": [260.0, 107.0, 587.0], \"textposition\": \"auto\", \"type\": \"bar\", \"x\": [260, 107, 587], \"xaxis\": \"x\", \"y\": [2016, 2017, 2018], \"yaxis\": \"y\"}, {\"alignmentgroup\": \"True\", \"hoverlabel\": {\"namelength\": 0}, \"hovertemplate\": \"Category=MAPS_AND_NAVIGATION<br>Installs=%{text}<br>Year=%{y}\", \"legendgroup\": \"Category=MAPS_AND_NAVIGATION\", \"marker\": {\"color\": \"#FECB52\"}, \"name\": \"Category=MAPS_AND_NAVIGATION\", \"offsetgroup\": \"Category=MAPS_AND_NAVIGATION\", \"orientation\": \"h\", \"showlegend\": true, \"text\": [28.0, 164.0], \"textposition\": \"auto\", \"type\": \"bar\", \"x\": [28, 164], \"xaxis\": \"x\", \"y\": [2017, 2018], \"yaxis\": \"y\"}, {\"alignmentgroup\": \"True\", \"hoverlabel\": {\"namelength\": 0}, \"hovertemplate\": \"Category=MEDICAL<br>Installs=%{text}<br>Year=%{y}\", \"legendgroup\": \"Category=MEDICAL\", \"marker\": {\"color\": \"#636efa\"}, \"name\": \"Category=MEDICAL\", \"offsetgroup\": \"Category=MEDICAL\", \"orientation\": \"h\", \"showlegend\": true, \"text\": [80.0, 37.0, 133.0, 68.0, 1082.0], \"textposition\": \"auto\", \"type\": \"bar\", \"x\": [80, 37, 133, 68, 1082], \"xaxis\": \"x\", \"y\": [2014, 2015, 2016, 2017, 2018], \"yaxis\": \"y\"}, {\"alignmentgroup\": \"True\", \"hoverlabel\": {\"namelength\": 0}, \"hovertemplate\": \"Category=NEWS_AND_MAGAZINES<br>Installs=%{text}<br>Year=%{y}\", \"legendgroup\": \"Category=NEWS_AND_MAGAZINES\", \"marker\": {\"color\": \"#EF553B\"}, \"name\": \"Category=NEWS_AND_MAGAZINES\", \"offsetgroup\": \"Category=NEWS_AND_MAGAZINES\", \"orientation\": \"h\", \"showlegend\": true, \"text\": [33.0, 36.0, 971.0], \"textposition\": \"auto\", \"type\": \"bar\", \"x\": [33, 36, 971], \"xaxis\": \"x\", \"y\": [2016, 2017, 2018], \"yaxis\": \"y\"}, {\"alignmentgroup\": \"True\", \"hoverlabel\": {\"namelength\": 0}, \"hovertemplate\": \"Category=PARENTING<br>Installs=%{text}<br>Year=%{y}\", \"legendgroup\": \"Category=PARENTING\", \"marker\": {\"color\": \"#00cc96\"}, \"name\": \"Category=PARENTING\", \"offsetgroup\": \"Category=PARENTING\", \"orientation\": \"h\", \"showlegend\": true, \"text\": [260.0], \"textposition\": \"auto\", \"type\": \"bar\", \"x\": [260], \"xaxis\": \"x\", \"y\": [2018], \"yaxis\": \"y\"}, {\"alignmentgroup\": \"True\", \"hoverlabel\": {\"namelength\": 0}, \"hovertemplate\": \"Category=PERSONALIZATION<br>Installs=%{text}<br>Year=%{y}\", \"legendgroup\": \"Category=PERSONALIZATION\", \"marker\": {\"color\": \"#ab63fa\"}, \"name\": \"Category=PERSONALIZATION\", \"offsetgroup\": \"Category=PERSONALIZATION\", \"orientation\": \"h\", \"showlegend\": true, \"text\": [52.0, 109.0, 238.0, 604.0], \"textposition\": \"auto\", \"type\": \"bar\", \"x\": [52, 109, 238, 604], \"xaxis\": \"x\", \"y\": [2014, 2016, 2017, 2018], \"yaxis\": \"y\"}, {\"alignmentgroup\": \"True\", \"hoverlabel\": {\"namelength\": 0}, \"hovertemplate\": \"Category=PHOTOGRAPHY<br>Installs=%{text}<br>Year=%{y}\", \"legendgroup\": \"Category=PHOTOGRAPHY\", \"marker\": {\"color\": \"#FFA15A\"}, \"name\": \"Category=PHOTOGRAPHY\", \"offsetgroup\": \"Category=PHOTOGRAPHY\", \"orientation\": \"h\", \"showlegend\": true, \"text\": [18.0, 120.0, 1038.0], \"textposition\": \"auto\", \"type\": \"bar\", \"x\": [18, 120, 1038], \"xaxis\": \"x\", \"y\": [2015, 2017, 2018], \"yaxis\": \"y\"}, {\"alignmentgroup\": \"True\", \"hoverlabel\": {\"namelength\": 0}, \"hovertemplate\": \"Category=PRODUCTIVITY<br>Installs=%{text}<br>Year=%{y}\", \"legendgroup\": \"Category=PRODUCTIVITY\", \"marker\": {\"color\": \"#19d3f3\"}, \"name\": \"Category=PRODUCTIVITY\", \"offsetgroup\": \"Category=PRODUCTIVITY\", \"orientation\": \"h\", \"showlegend\": true, \"text\": [23.0, 14.0, 125.0, 128.0, 1173.0], \"textposition\": \"auto\", \"type\": \"bar\", \"x\": [23, 14, 125, 128, 1173], \"xaxis\": \"x\", \"y\": [2013, 2015, 2016, 2017, 2018], \"yaxis\": \"y\"}, {\"alignmentgroup\": \"True\", \"hoverlabel\": {\"namelength\": 0}, \"hovertemplate\": \"Category=SHOPPING<br>Installs=%{text}<br>Year=%{y}\", \"legendgroup\": \"Category=SHOPPING\", \"marker\": {\"color\": \"#FF6692\"}, \"name\": \"Category=SHOPPING\", \"offsetgroup\": \"Category=SHOPPING\", \"orientation\": \"h\", \"showlegend\": true, \"text\": [31.0, 867.0], \"textposition\": \"auto\", \"type\": \"bar\", \"x\": [31, 867], \"xaxis\": \"x\", \"y\": [2017, 2018], \"yaxis\": \"y\"}, {\"alignmentgroup\": \"True\", \"hoverlabel\": {\"namelength\": 0}, \"hovertemplate\": \"Category=SOCIAL<br>Installs=%{text}<br>Year=%{y}\", \"legendgroup\": \"Category=SOCIAL\", \"marker\": {\"color\": \"#B6E880\"}, \"name\": \"Category=SOCIAL\", \"offsetgroup\": \"Category=SOCIAL\", \"orientation\": \"h\", \"showlegend\": true, \"text\": [62.0, 77.0, 75.0, 527.0], \"textposition\": \"auto\", \"type\": \"bar\", \"x\": [62, 77, 75, 527], \"xaxis\": \"x\", \"y\": [2015, 2016, 2017, 2018], \"yaxis\": \"y\"}, {\"alignmentgroup\": \"True\", \"hoverlabel\": {\"namelength\": 0}, \"hovertemplate\": \"Category=SPORTS<br>Installs=%{text}<br>Year=%{y}\", \"legendgroup\": \"Category=SPORTS\", \"marker\": {\"color\": \"#FF97FF\"}, \"name\": \"Category=SPORTS\", \"offsetgroup\": \"Category=SPORTS\", \"orientation\": \"h\", \"showlegend\": true, \"text\": [98.0, 39.0, 1564.0], \"textposition\": \"auto\", \"type\": \"bar\", \"x\": [98, 39, 1564], \"xaxis\": \"x\", \"y\": [2015, 2016, 2018], \"yaxis\": \"y\"}, {\"alignmentgroup\": \"True\", \"hoverlabel\": {\"namelength\": 0}, \"hovertemplate\": \"Category=TOOLS<br>Installs=%{text}<br>Year=%{y}\", \"legendgroup\": \"Category=TOOLS\", \"marker\": {\"color\": \"#FECB52\"}, \"name\": \"Category=TOOLS\", \"offsetgroup\": \"Category=TOOLS\", \"orientation\": \"h\", \"showlegend\": true, \"text\": [40.0, 112.0, 269.0, 1030.0], \"textposition\": \"auto\", \"type\": \"bar\", \"x\": [40, 112, 269, 1030], \"xaxis\": \"x\", \"y\": [2014, 2016, 2017, 2018], \"yaxis\": \"y\"}, {\"alignmentgroup\": \"True\", \"hoverlabel\": {\"namelength\": 0}, \"hovertemplate\": \"Category=TRAVEL_AND_LOCAL<br>Installs=%{text}<br>Year=%{y}\", \"legendgroup\": \"Category=TRAVEL_AND_LOCAL\", \"marker\": {\"color\": \"#636efa\"}, \"name\": \"Category=TRAVEL_AND_LOCAL\", \"offsetgroup\": \"Category=TRAVEL_AND_LOCAL\", \"orientation\": \"h\", \"showlegend\": true, \"text\": [22.0, 36.0, 54.0, 1580.0], \"textposition\": \"auto\", \"type\": \"bar\", \"x\": [22, 36, 54, 1580], \"xaxis\": \"x\", \"y\": [2015, 2016, 2017, 2018], \"yaxis\": \"y\"}, {\"alignmentgroup\": \"True\", \"hoverlabel\": {\"namelength\": 0}, \"hovertemplate\": \"Category=VIDEO_PLAYERS<br>Installs=%{text}<br>Year=%{y}\", \"legendgroup\": \"Category=VIDEO_PLAYERS\", \"marker\": {\"color\": \"#EF553B\"}, \"name\": \"Category=VIDEO_PLAYERS\", \"offsetgroup\": \"Category=VIDEO_PLAYERS\", \"orientation\": \"h\", \"showlegend\": true, \"text\": [117.0, 28.0, 186.0], \"textposition\": \"auto\", \"type\": \"bar\", \"x\": [117, 28, 186], \"xaxis\": \"x\", \"y\": [2015, 2016, 2018], \"yaxis\": \"y\"}, {\"alignmentgroup\": \"True\", \"hoverlabel\": {\"namelength\": 0}, \"hovertemplate\": \"Category=WEATHER<br>Installs=%{text}<br>Year=%{y}\", \"legendgroup\": \"Category=WEATHER\", \"marker\": {\"color\": \"#00cc96\"}, \"name\": \"Category=WEATHER\", \"offsetgroup\": \"Category=WEATHER\", \"orientation\": \"h\", \"showlegend\": true, \"text\": [76.0, 125.0], \"textposition\": \"auto\", \"type\": \"bar\", \"x\": [76, 125], \"xaxis\": \"x\", \"y\": [2017, 2018], \"yaxis\": \"y\"}],\n",
              "                        {\"barmode\": \"relative\", \"height\": 500, \"legend\": {\"tracegroupgap\": 0}, \"template\": {\"data\": {\"bar\": [{\"error_x\": {\"color\": \"#2a3f5f\"}, \"error_y\": {\"color\": \"#2a3f5f\"}, \"marker\": {\"line\": {\"color\": \"#E5ECF6\", \"width\": 0.5}}, \"type\": \"bar\"}], \"barpolar\": [{\"marker\": {\"line\": {\"color\": \"#E5ECF6\", \"width\": 0.5}}, \"type\": \"barpolar\"}], \"carpet\": [{\"aaxis\": {\"endlinecolor\": \"#2a3f5f\", \"gridcolor\": \"white\", \"linecolor\": \"white\", \"minorgridcolor\": \"white\", \"startlinecolor\": \"#2a3f5f\"}, \"baxis\": {\"endlinecolor\": \"#2a3f5f\", \"gridcolor\": \"white\", \"linecolor\": \"white\", \"minorgridcolor\": \"white\", \"startlinecolor\": \"#2a3f5f\"}, \"type\": \"carpet\"}], \"choropleth\": [{\"colorbar\": {\"outlinewidth\": 0, \"ticks\": \"\"}, \"type\": \"choropleth\"}], \"contour\": [{\"colorbar\": {\"outlinewidth\": 0, \"ticks\": \"\"}, \"colorscale\": [[0.0, \"#0d0887\"], [0.1111111111111111, \"#46039f\"], [0.2222222222222222, \"#7201a8\"], [0.3333333333333333, \"#9c179e\"], [0.4444444444444444, \"#bd3786\"], [0.5555555555555556, \"#d8576b\"], [0.6666666666666666, \"#ed7953\"], [0.7777777777777778, \"#fb9f3a\"], [0.8888888888888888, \"#fdca26\"], [1.0, \"#f0f921\"]], \"type\": \"contour\"}], \"contourcarpet\": [{\"colorbar\": {\"outlinewidth\": 0, \"ticks\": \"\"}, \"type\": \"contourcarpet\"}], \"heatmap\": [{\"colorbar\": {\"outlinewidth\": 0, \"ticks\": \"\"}, \"colorscale\": [[0.0, \"#0d0887\"], [0.1111111111111111, \"#46039f\"], [0.2222222222222222, \"#7201a8\"], [0.3333333333333333, \"#9c179e\"], [0.4444444444444444, \"#bd3786\"], [0.5555555555555556, \"#d8576b\"], [0.6666666666666666, \"#ed7953\"], [0.7777777777777778, \"#fb9f3a\"], [0.8888888888888888, \"#fdca26\"], [1.0, \"#f0f921\"]], \"type\": \"heatmap\"}], \"heatmapgl\": [{\"colorbar\": {\"outlinewidth\": 0, \"ticks\": \"\"}, \"colorscale\": [[0.0, \"#0d0887\"], [0.1111111111111111, \"#46039f\"], [0.2222222222222222, \"#7201a8\"], [0.3333333333333333, \"#9c179e\"], [0.4444444444444444, \"#bd3786\"], [0.5555555555555556, \"#d8576b\"], [0.6666666666666666, \"#ed7953\"], [0.7777777777777778, \"#fb9f3a\"], [0.8888888888888888, \"#fdca26\"], [1.0, \"#f0f921\"]], \"type\": \"heatmapgl\"}], \"histogram\": [{\"marker\": {\"colorbar\": {\"outlinewidth\": 0, \"ticks\": \"\"}}, \"type\": \"histogram\"}], \"histogram2d\": [{\"colorbar\": {\"outlinewidth\": 0, \"ticks\": \"\"}, \"colorscale\": [[0.0, \"#0d0887\"], [0.1111111111111111, \"#46039f\"], [0.2222222222222222, \"#7201a8\"], [0.3333333333333333, \"#9c179e\"], [0.4444444444444444, \"#bd3786\"], [0.5555555555555556, \"#d8576b\"], [0.6666666666666666, \"#ed7953\"], [0.7777777777777778, \"#fb9f3a\"], [0.8888888888888888, \"#fdca26\"], [1.0, \"#f0f921\"]], \"type\": \"histogram2d\"}], \"histogram2dcontour\": [{\"colorbar\": {\"outlinewidth\": 0, \"ticks\": \"\"}, \"colorscale\": [[0.0, \"#0d0887\"], [0.1111111111111111, \"#46039f\"], [0.2222222222222222, \"#7201a8\"], [0.3333333333333333, \"#9c179e\"], [0.4444444444444444, \"#bd3786\"], [0.5555555555555556, \"#d8576b\"], [0.6666666666666666, \"#ed7953\"], [0.7777777777777778, \"#fb9f3a\"], [0.8888888888888888, \"#fdca26\"], [1.0, \"#f0f921\"]], \"type\": \"histogram2dcontour\"}], \"mesh3d\": [{\"colorbar\": {\"outlinewidth\": 0, \"ticks\": \"\"}, \"type\": \"mesh3d\"}], \"parcoords\": [{\"line\": {\"colorbar\": {\"outlinewidth\": 0, \"ticks\": \"\"}}, \"type\": \"parcoords\"}], \"pie\": [{\"automargin\": true, \"type\": \"pie\"}], \"scatter\": [{\"marker\": {\"colorbar\": {\"outlinewidth\": 0, \"ticks\": \"\"}}, \"type\": \"scatter\"}], \"scatter3d\": [{\"line\": {\"colorbar\": {\"outlinewidth\": 0, \"ticks\": \"\"}}, \"marker\": {\"colorbar\": {\"outlinewidth\": 0, \"ticks\": \"\"}}, \"type\": \"scatter3d\"}], \"scattercarpet\": [{\"marker\": {\"colorbar\": {\"outlinewidth\": 0, \"ticks\": \"\"}}, \"type\": \"scattercarpet\"}], \"scattergeo\": [{\"marker\": {\"colorbar\": {\"outlinewidth\": 0, \"ticks\": \"\"}}, \"type\": \"scattergeo\"}], \"scattergl\": [{\"marker\": {\"colorbar\": {\"outlinewidth\": 0, \"ticks\": \"\"}}, \"type\": \"scattergl\"}], \"scattermapbox\": [{\"marker\": {\"colorbar\": {\"outlinewidth\": 0, \"ticks\": \"\"}}, \"type\": \"scattermapbox\"}], \"scatterpolar\": [{\"marker\": {\"colorbar\": {\"outlinewidth\": 0, \"ticks\": \"\"}}, \"type\": \"scatterpolar\"}], \"scatterpolargl\": [{\"marker\": {\"colorbar\": {\"outlinewidth\": 0, \"ticks\": \"\"}}, \"type\": \"scatterpolargl\"}], \"scatterternary\": [{\"marker\": {\"colorbar\": {\"outlinewidth\": 0, \"ticks\": \"\"}}, \"type\": \"scatterternary\"}], \"surface\": [{\"colorbar\": {\"outlinewidth\": 0, \"ticks\": \"\"}, \"colorscale\": [[0.0, \"#0d0887\"], [0.1111111111111111, \"#46039f\"], [0.2222222222222222, \"#7201a8\"], [0.3333333333333333, \"#9c179e\"], [0.4444444444444444, \"#bd3786\"], [0.5555555555555556, \"#d8576b\"], [0.6666666666666666, \"#ed7953\"], [0.7777777777777778, \"#fb9f3a\"], [0.8888888888888888, \"#fdca26\"], [1.0, \"#f0f921\"]], \"type\": \"surface\"}], \"table\": [{\"cells\": {\"fill\": {\"color\": \"#EBF0F8\"}, \"line\": {\"color\": \"white\"}}, \"header\": {\"fill\": {\"color\": \"#C8D4E3\"}, \"line\": {\"color\": \"white\"}}, \"type\": \"table\"}]}, \"layout\": {\"annotationdefaults\": {\"arrowcolor\": \"#2a3f5f\", \"arrowhead\": 0, \"arrowwidth\": 1}, \"coloraxis\": {\"colorbar\": {\"outlinewidth\": 0, \"ticks\": \"\"}}, \"colorscale\": {\"diverging\": [[0, \"#8e0152\"], [0.1, \"#c51b7d\"], [0.2, \"#de77ae\"], [0.3, \"#f1b6da\"], [0.4, \"#fde0ef\"], [0.5, \"#f7f7f7\"], [0.6, \"#e6f5d0\"], [0.7, \"#b8e186\"], [0.8, \"#7fbc41\"], [0.9, \"#4d9221\"], [1, \"#276419\"]], \"sequential\": [[0.0, \"#0d0887\"], [0.1111111111111111, \"#46039f\"], [0.2222222222222222, \"#7201a8\"], [0.3333333333333333, \"#9c179e\"], [0.4444444444444444, \"#bd3786\"], [0.5555555555555556, \"#d8576b\"], [0.6666666666666666, \"#ed7953\"], [0.7777777777777778, \"#fb9f3a\"], [0.8888888888888888, \"#fdca26\"], [1.0, \"#f0f921\"]], \"sequentialminus\": [[0.0, \"#0d0887\"], [0.1111111111111111, \"#46039f\"], [0.2222222222222222, \"#7201a8\"], [0.3333333333333333, \"#9c179e\"], [0.4444444444444444, \"#bd3786\"], [0.5555555555555556, \"#d8576b\"], [0.6666666666666666, \"#ed7953\"], [0.7777777777777778, \"#fb9f3a\"], [0.8888888888888888, \"#fdca26\"], [1.0, \"#f0f921\"]]}, \"colorway\": [\"#636efa\", \"#EF553B\", \"#00cc96\", \"#ab63fa\", \"#FFA15A\", \"#19d3f3\", \"#FF6692\", \"#B6E880\", \"#FF97FF\", \"#FECB52\"], \"font\": {\"color\": \"#2a3f5f\"}, \"geo\": {\"bgcolor\": \"white\", \"lakecolor\": \"white\", \"landcolor\": \"#E5ECF6\", \"showlakes\": true, \"showland\": true, \"subunitcolor\": \"white\"}, \"hoverlabel\": {\"align\": \"left\"}, \"hovermode\": \"closest\", \"mapbox\": {\"style\": \"light\"}, \"paper_bgcolor\": \"white\", \"plot_bgcolor\": \"#E5ECF6\", \"polar\": {\"angularaxis\": {\"gridcolor\": \"white\", \"linecolor\": \"white\", \"ticks\": \"\"}, \"bgcolor\": \"#E5ECF6\", \"radialaxis\": {\"gridcolor\": \"white\", \"linecolor\": \"white\", \"ticks\": \"\"}}, \"scene\": {\"xaxis\": {\"backgroundcolor\": \"#E5ECF6\", \"gridcolor\": \"white\", \"gridwidth\": 2, \"linecolor\": \"white\", \"showbackground\": true, \"ticks\": \"\", \"zerolinecolor\": \"white\"}, \"yaxis\": {\"backgroundcolor\": \"#E5ECF6\", \"gridcolor\": \"white\", \"gridwidth\": 2, \"linecolor\": \"white\", \"showbackground\": true, \"ticks\": \"\", \"zerolinecolor\": \"white\"}, \"zaxis\": {\"backgroundcolor\": \"#E5ECF6\", \"gridcolor\": \"white\", \"gridwidth\": 2, \"linecolor\": \"white\", \"showbackground\": true, \"ticks\": \"\", \"zerolinecolor\": \"white\"}}, \"shapedefaults\": {\"line\": {\"color\": \"#2a3f5f\"}}, \"ternary\": {\"aaxis\": {\"gridcolor\": \"white\", \"linecolor\": \"white\", \"ticks\": \"\"}, \"baxis\": {\"gridcolor\": \"white\", \"linecolor\": \"white\", \"ticks\": \"\"}, \"bgcolor\": \"#E5ECF6\", \"caxis\": {\"gridcolor\": \"white\", \"linecolor\": \"white\", \"ticks\": \"\"}}, \"title\": {\"x\": 0.05}, \"xaxis\": {\"automargin\": true, \"gridcolor\": \"white\", \"linecolor\": \"white\", \"ticks\": \"\", \"title\": {\"standoff\": 15}, \"zerolinecolor\": \"white\", \"zerolinewidth\": 2}, \"yaxis\": {\"automargin\": true, \"gridcolor\": \"white\", \"linecolor\": \"white\", \"ticks\": \"\", \"title\": {\"standoff\": 15}, \"zerolinecolor\": \"white\", \"zerolinewidth\": 2}}}, \"title\": {\"text\": \"Number of Installs for each Category in a Year\"}, \"xaxis\": {\"anchor\": \"y\", \"domain\": [0.0, 1.0], \"title\": {\"text\": \"Installs\"}}, \"yaxis\": {\"anchor\": \"x\", \"domain\": [0.0, 1.0], \"title\": {\"text\": \"Year\"}}},\n",
              "                        {\"responsive\": true}\n",
              "                    ).then(function(){\n",
              "                            \n",
              "var gd = document.getElementById('201a966b-2b15-48ec-95ad-3b93126b5d92');\n",
              "var x = new MutationObserver(function (mutations, observer) {{\n",
              "        var display = window.getComputedStyle(gd).display;\n",
              "        if (!display || display === 'none') {{\n",
              "            console.log([gd, 'removed!']);\n",
              "            Plotly.purge(gd);\n",
              "            observer.disconnect();\n",
              "        }}\n",
              "}});\n",
              "\n",
              "// Listen for the removal of the full notebook cells\n",
              "var notebookContainer = gd.closest('#notebook-container');\n",
              "if (notebookContainer) {{\n",
              "    x.observe(notebookContainer, {childList: true});\n",
              "}}\n",
              "\n",
              "// Listen for the clearing of the current output cell\n",
              "var outputEl = gd.closest('.output');\n",
              "if (outputEl) {{\n",
              "    x.observe(outputEl, {childList: true});\n",
              "}}\n",
              "\n",
              "                        })\n",
              "                };\n",
              "                \n",
              "            </script>\n",
              "        </div>\n",
              "</body>\n",
              "</html>"
            ]
          },
          "metadata": {}
        }
      ]
    },
    {
      "cell_type": "code",
      "metadata": {
        "colab": {
          "base_uri": "https://localhost:8080/",
          "height": 542
        },
        "id": "HYU7n5vBjL9S",
        "outputId": "6fbe5cc4-87a1-401a-91c4-4cc1265b01cc"
      },
      "source": [
        "# data = px.data.gapminder()\n",
        "fig = px.bar(Category_df, x=\"Category\", y=\"Installs\", color='Year',title=\"Category vs Apps\")\n",
        "fig.show()"
      ],
      "execution_count": 72,
      "outputs": [
        {
          "output_type": "display_data",
          "data": {
            "text/html": [
              "<html>\n",
              "<head><meta charset=\"utf-8\" /></head>\n",
              "<body>\n",
              "    <div>\n",
              "            <script src=\"https://cdnjs.cloudflare.com/ajax/libs/mathjax/2.7.5/MathJax.js?config=TeX-AMS-MML_SVG\"></script><script type=\"text/javascript\">if (window.MathJax) {MathJax.Hub.Config({SVG: {font: \"STIX-Web\"}});}</script>\n",
              "                <script type=\"text/javascript\">window.PlotlyConfig = {MathJaxConfig: 'local'};</script>\n",
              "        <script src=\"https://cdn.plot.ly/plotly-latest.min.js\"></script>    \n",
              "            <div id=\"eb13d715-23e2-44e5-b5dd-240b1238328e\" class=\"plotly-graph-div\" style=\"height:525px; width:100%;\"></div>\n",
              "            <script type=\"text/javascript\">\n",
              "                \n",
              "                    window.PLOTLYENV=window.PLOTLYENV || {};\n",
              "                    \n",
              "                if (document.getElementById(\"eb13d715-23e2-44e5-b5dd-240b1238328e\")) {\n",
              "                    Plotly.newPlot(\n",
              "                        'eb13d715-23e2-44e5-b5dd-240b1238328e',\n",
              "                        [{\"alignmentgroup\": \"True\", \"hoverlabel\": {\"namelength\": 0}, \"hovertemplate\": \"Category=%{x}<br>Installs=%{y}<br>Year=%{marker.color}\", \"legendgroup\": \"\", \"marker\": {\"color\": [2017, 2018, 2018, 2017, 2018, 2015, 2017, 2018, 2018, 2018, 2014, 2016, 2017, 2018, 2017, 2018, 2013, 2014, 2015, 2016, 2017, 2018, 2016, 2017, 2018, 2017, 2018, 2014, 2015, 2016, 2017, 2018, 2018, 2017, 2018, 2015, 2016, 2017, 2018, 2014, 2016, 2017, 2018, 2015, 2018, 2011, 2012, 2013, 2017, 2018, 2016, 2017, 2018, 2017, 2018, 2014, 2015, 2016, 2017, 2018, 2016, 2017, 2018, 2018, 2014, 2016, 2017, 2018, 2015, 2017, 2018, 2013, 2015, 2016, 2017, 2018, 2017, 2018, 2015, 2016, 2017, 2018, 2015, 2016, 2018, 2014, 2016, 2017, 2018, 2015, 2016, 2017, 2018, 2015, 2016, 2018, 2017, 2018], \"coloraxis\": \"coloraxis\"}, \"name\": \"\", \"offsetgroup\": \"\", \"orientation\": \"v\", \"showlegend\": false, \"textposition\": \"auto\", \"type\": \"bar\", \"x\": [\"ART_AND_DESIGN\", \"ART_AND_DESIGN\", \"AUTO_AND_VEHICLES\", \"BEAUTY\", \"BEAUTY\", \"BOOKS_AND_REFERENCE\", \"BOOKS_AND_REFERENCE\", \"BOOKS_AND_REFERENCE\", \"BUSINESS\", \"COMICS\", \"COMMUNICATION\", \"COMMUNICATION\", \"COMMUNICATION\", \"COMMUNICATION\", \"DATING\", \"DATING\", \"EDUCATION\", \"EDUCATION\", \"EDUCATION\", \"EDUCATION\", \"EDUCATION\", \"EDUCATION\", \"ENTERTAINMENT\", \"ENTERTAINMENT\", \"ENTERTAINMENT\", \"EVENTS\", \"EVENTS\", \"FAMILY\", \"FAMILY\", \"FAMILY\", \"FAMILY\", \"FAMILY\", \"FINANCE\", \"FOOD_AND_DRINK\", \"FOOD_AND_DRINK\", \"GAME\", \"GAME\", \"GAME\", \"GAME\", \"HEALTH_AND_FITNESS\", \"HEALTH_AND_FITNESS\", \"HEALTH_AND_FITNESS\", \"HEALTH_AND_FITNESS\", \"HOUSE_AND_HOME\", \"HOUSE_AND_HOME\", \"LIBRARIES_AND_DEMO\", \"LIBRARIES_AND_DEMO\", \"LIBRARIES_AND_DEMO\", \"LIBRARIES_AND_DEMO\", \"LIBRARIES_AND_DEMO\", \"LIFESTYLE\", \"LIFESTYLE\", \"LIFESTYLE\", \"MAPS_AND_NAVIGATION\", \"MAPS_AND_NAVIGATION\", \"MEDICAL\", \"MEDICAL\", \"MEDICAL\", \"MEDICAL\", \"MEDICAL\", \"NEWS_AND_MAGAZINES\", \"NEWS_AND_MAGAZINES\", \"NEWS_AND_MAGAZINES\", \"PARENTING\", \"PERSONALIZATION\", \"PERSONALIZATION\", \"PERSONALIZATION\", \"PERSONALIZATION\", \"PHOTOGRAPHY\", \"PHOTOGRAPHY\", \"PHOTOGRAPHY\", \"PRODUCTIVITY\", \"PRODUCTIVITY\", \"PRODUCTIVITY\", \"PRODUCTIVITY\", \"PRODUCTIVITY\", \"SHOPPING\", \"SHOPPING\", \"SOCIAL\", \"SOCIAL\", \"SOCIAL\", \"SOCIAL\", \"SPORTS\", \"SPORTS\", \"SPORTS\", \"TOOLS\", \"TOOLS\", \"TOOLS\", \"TOOLS\", \"TRAVEL_AND_LOCAL\", \"TRAVEL_AND_LOCAL\", \"TRAVEL_AND_LOCAL\", \"TRAVEL_AND_LOCAL\", \"VIDEO_PLAYERS\", \"VIDEO_PLAYERS\", \"VIDEO_PLAYERS\", \"WEATHER\", \"WEATHER\"], \"xaxis\": \"x\", \"y\": [128, 254, 289, 65, 273, 38, 40, 573, 1082, 45, 34, 41, 29, 923, 169, 1546, 39, 36, 142, 9, 36, 585, 24, 15, 1225, 17, 141, 72, 35, 108, 295, 3839, 1435, 79, 559, 61, 3, 361, 6253, 90, 200, 233, 1726, 41, 470, 27, 37, 37, 40, 192, 260, 107, 587, 28, 164, 80, 37, 133, 68, 1082, 33, 36, 971, 260, 52, 109, 238, 604, 18, 120, 1038, 23, 14, 125, 128, 1173, 31, 867, 62, 77, 75, 527, 98, 39, 1564, 40, 112, 269, 1030, 22, 36, 54, 1580, 117, 28, 186, 76, 125], \"yaxis\": \"y\"}],\n",
              "                        {\"barmode\": \"relative\", \"coloraxis\": {\"colorbar\": {\"title\": {\"text\": \"Year\"}}, \"colorscale\": [[0.0, \"#0d0887\"], [0.1111111111111111, \"#46039f\"], [0.2222222222222222, \"#7201a8\"], [0.3333333333333333, \"#9c179e\"], [0.4444444444444444, \"#bd3786\"], [0.5555555555555556, \"#d8576b\"], [0.6666666666666666, \"#ed7953\"], [0.7777777777777778, \"#fb9f3a\"], [0.8888888888888888, \"#fdca26\"], [1.0, \"#f0f921\"]]}, \"legend\": {\"tracegroupgap\": 0}, \"template\": {\"data\": {\"bar\": [{\"error_x\": {\"color\": \"#2a3f5f\"}, \"error_y\": {\"color\": \"#2a3f5f\"}, \"marker\": {\"line\": {\"color\": \"#E5ECF6\", \"width\": 0.5}}, \"type\": \"bar\"}], \"barpolar\": [{\"marker\": {\"line\": {\"color\": \"#E5ECF6\", \"width\": 0.5}}, \"type\": \"barpolar\"}], \"carpet\": [{\"aaxis\": {\"endlinecolor\": \"#2a3f5f\", \"gridcolor\": \"white\", \"linecolor\": \"white\", \"minorgridcolor\": \"white\", \"startlinecolor\": \"#2a3f5f\"}, \"baxis\": {\"endlinecolor\": \"#2a3f5f\", \"gridcolor\": \"white\", \"linecolor\": \"white\", \"minorgridcolor\": \"white\", \"startlinecolor\": \"#2a3f5f\"}, \"type\": \"carpet\"}], \"choropleth\": [{\"colorbar\": {\"outlinewidth\": 0, \"ticks\": \"\"}, \"type\": \"choropleth\"}], \"contour\": [{\"colorbar\": {\"outlinewidth\": 0, \"ticks\": \"\"}, \"colorscale\": [[0.0, \"#0d0887\"], [0.1111111111111111, \"#46039f\"], [0.2222222222222222, \"#7201a8\"], [0.3333333333333333, \"#9c179e\"], [0.4444444444444444, \"#bd3786\"], [0.5555555555555556, \"#d8576b\"], [0.6666666666666666, \"#ed7953\"], [0.7777777777777778, \"#fb9f3a\"], [0.8888888888888888, \"#fdca26\"], [1.0, \"#f0f921\"]], \"type\": \"contour\"}], \"contourcarpet\": [{\"colorbar\": {\"outlinewidth\": 0, \"ticks\": \"\"}, \"type\": \"contourcarpet\"}], \"heatmap\": [{\"colorbar\": {\"outlinewidth\": 0, \"ticks\": \"\"}, \"colorscale\": [[0.0, \"#0d0887\"], [0.1111111111111111, \"#46039f\"], [0.2222222222222222, \"#7201a8\"], [0.3333333333333333, \"#9c179e\"], [0.4444444444444444, \"#bd3786\"], [0.5555555555555556, \"#d8576b\"], [0.6666666666666666, \"#ed7953\"], [0.7777777777777778, \"#fb9f3a\"], [0.8888888888888888, \"#fdca26\"], [1.0, \"#f0f921\"]], \"type\": \"heatmap\"}], \"heatmapgl\": [{\"colorbar\": {\"outlinewidth\": 0, \"ticks\": \"\"}, \"colorscale\": [[0.0, \"#0d0887\"], [0.1111111111111111, \"#46039f\"], [0.2222222222222222, \"#7201a8\"], [0.3333333333333333, \"#9c179e\"], [0.4444444444444444, \"#bd3786\"], [0.5555555555555556, \"#d8576b\"], [0.6666666666666666, \"#ed7953\"], [0.7777777777777778, \"#fb9f3a\"], [0.8888888888888888, \"#fdca26\"], [1.0, \"#f0f921\"]], \"type\": \"heatmapgl\"}], \"histogram\": [{\"marker\": {\"colorbar\": {\"outlinewidth\": 0, \"ticks\": \"\"}}, \"type\": \"histogram\"}], \"histogram2d\": [{\"colorbar\": {\"outlinewidth\": 0, \"ticks\": \"\"}, \"colorscale\": [[0.0, \"#0d0887\"], [0.1111111111111111, \"#46039f\"], [0.2222222222222222, \"#7201a8\"], [0.3333333333333333, \"#9c179e\"], [0.4444444444444444, \"#bd3786\"], [0.5555555555555556, \"#d8576b\"], [0.6666666666666666, \"#ed7953\"], [0.7777777777777778, \"#fb9f3a\"], [0.8888888888888888, \"#fdca26\"], [1.0, \"#f0f921\"]], \"type\": \"histogram2d\"}], \"histogram2dcontour\": [{\"colorbar\": {\"outlinewidth\": 0, \"ticks\": \"\"}, \"colorscale\": [[0.0, \"#0d0887\"], [0.1111111111111111, \"#46039f\"], [0.2222222222222222, \"#7201a8\"], [0.3333333333333333, \"#9c179e\"], [0.4444444444444444, \"#bd3786\"], [0.5555555555555556, \"#d8576b\"], [0.6666666666666666, \"#ed7953\"], [0.7777777777777778, \"#fb9f3a\"], [0.8888888888888888, \"#fdca26\"], [1.0, \"#f0f921\"]], \"type\": \"histogram2dcontour\"}], \"mesh3d\": [{\"colorbar\": {\"outlinewidth\": 0, \"ticks\": \"\"}, \"type\": \"mesh3d\"}], \"parcoords\": [{\"line\": {\"colorbar\": {\"outlinewidth\": 0, \"ticks\": \"\"}}, \"type\": \"parcoords\"}], \"pie\": [{\"automargin\": true, \"type\": \"pie\"}], \"scatter\": [{\"marker\": {\"colorbar\": {\"outlinewidth\": 0, \"ticks\": \"\"}}, \"type\": \"scatter\"}], \"scatter3d\": [{\"line\": {\"colorbar\": {\"outlinewidth\": 0, \"ticks\": \"\"}}, \"marker\": {\"colorbar\": {\"outlinewidth\": 0, \"ticks\": \"\"}}, \"type\": \"scatter3d\"}], \"scattercarpet\": [{\"marker\": {\"colorbar\": {\"outlinewidth\": 0, \"ticks\": \"\"}}, \"type\": \"scattercarpet\"}], \"scattergeo\": [{\"marker\": {\"colorbar\": {\"outlinewidth\": 0, \"ticks\": \"\"}}, \"type\": \"scattergeo\"}], \"scattergl\": [{\"marker\": {\"colorbar\": {\"outlinewidth\": 0, \"ticks\": \"\"}}, \"type\": \"scattergl\"}], \"scattermapbox\": [{\"marker\": {\"colorbar\": {\"outlinewidth\": 0, \"ticks\": \"\"}}, \"type\": \"scattermapbox\"}], \"scatterpolar\": [{\"marker\": {\"colorbar\": {\"outlinewidth\": 0, \"ticks\": \"\"}}, \"type\": \"scatterpolar\"}], \"scatterpolargl\": [{\"marker\": {\"colorbar\": {\"outlinewidth\": 0, \"ticks\": \"\"}}, \"type\": \"scatterpolargl\"}], \"scatterternary\": [{\"marker\": {\"colorbar\": {\"outlinewidth\": 0, \"ticks\": \"\"}}, \"type\": \"scatterternary\"}], \"surface\": [{\"colorbar\": {\"outlinewidth\": 0, \"ticks\": \"\"}, \"colorscale\": [[0.0, \"#0d0887\"], [0.1111111111111111, \"#46039f\"], [0.2222222222222222, \"#7201a8\"], [0.3333333333333333, \"#9c179e\"], [0.4444444444444444, \"#bd3786\"], [0.5555555555555556, \"#d8576b\"], [0.6666666666666666, \"#ed7953\"], [0.7777777777777778, \"#fb9f3a\"], [0.8888888888888888, \"#fdca26\"], [1.0, \"#f0f921\"]], \"type\": \"surface\"}], \"table\": [{\"cells\": {\"fill\": {\"color\": \"#EBF0F8\"}, \"line\": {\"color\": \"white\"}}, \"header\": {\"fill\": {\"color\": \"#C8D4E3\"}, \"line\": {\"color\": \"white\"}}, \"type\": \"table\"}]}, \"layout\": {\"annotationdefaults\": {\"arrowcolor\": \"#2a3f5f\", \"arrowhead\": 0, \"arrowwidth\": 1}, \"coloraxis\": {\"colorbar\": {\"outlinewidth\": 0, \"ticks\": \"\"}}, \"colorscale\": {\"diverging\": [[0, \"#8e0152\"], [0.1, \"#c51b7d\"], [0.2, \"#de77ae\"], [0.3, \"#f1b6da\"], [0.4, \"#fde0ef\"], [0.5, \"#f7f7f7\"], [0.6, \"#e6f5d0\"], [0.7, \"#b8e186\"], [0.8, \"#7fbc41\"], [0.9, \"#4d9221\"], [1, \"#276419\"]], \"sequential\": [[0.0, \"#0d0887\"], [0.1111111111111111, \"#46039f\"], [0.2222222222222222, \"#7201a8\"], [0.3333333333333333, \"#9c179e\"], [0.4444444444444444, \"#bd3786\"], [0.5555555555555556, \"#d8576b\"], [0.6666666666666666, \"#ed7953\"], [0.7777777777777778, \"#fb9f3a\"], [0.8888888888888888, \"#fdca26\"], [1.0, \"#f0f921\"]], \"sequentialminus\": [[0.0, \"#0d0887\"], [0.1111111111111111, \"#46039f\"], [0.2222222222222222, \"#7201a8\"], [0.3333333333333333, \"#9c179e\"], [0.4444444444444444, \"#bd3786\"], [0.5555555555555556, \"#d8576b\"], [0.6666666666666666, \"#ed7953\"], [0.7777777777777778, \"#fb9f3a\"], [0.8888888888888888, \"#fdca26\"], [1.0, \"#f0f921\"]]}, \"colorway\": [\"#636efa\", \"#EF553B\", \"#00cc96\", \"#ab63fa\", \"#FFA15A\", \"#19d3f3\", \"#FF6692\", \"#B6E880\", \"#FF97FF\", \"#FECB52\"], \"font\": {\"color\": \"#2a3f5f\"}, \"geo\": {\"bgcolor\": \"white\", \"lakecolor\": \"white\", \"landcolor\": \"#E5ECF6\", \"showlakes\": true, \"showland\": true, \"subunitcolor\": \"white\"}, \"hoverlabel\": {\"align\": \"left\"}, \"hovermode\": \"closest\", \"mapbox\": {\"style\": \"light\"}, \"paper_bgcolor\": \"white\", \"plot_bgcolor\": \"#E5ECF6\", \"polar\": {\"angularaxis\": {\"gridcolor\": \"white\", \"linecolor\": \"white\", \"ticks\": \"\"}, \"bgcolor\": \"#E5ECF6\", \"radialaxis\": {\"gridcolor\": \"white\", \"linecolor\": \"white\", \"ticks\": \"\"}}, \"scene\": {\"xaxis\": {\"backgroundcolor\": \"#E5ECF6\", \"gridcolor\": \"white\", \"gridwidth\": 2, \"linecolor\": \"white\", \"showbackground\": true, \"ticks\": \"\", \"zerolinecolor\": \"white\"}, \"yaxis\": {\"backgroundcolor\": \"#E5ECF6\", \"gridcolor\": \"white\", \"gridwidth\": 2, \"linecolor\": \"white\", \"showbackground\": true, \"ticks\": \"\", \"zerolinecolor\": \"white\"}, \"zaxis\": {\"backgroundcolor\": \"#E5ECF6\", \"gridcolor\": \"white\", \"gridwidth\": 2, \"linecolor\": \"white\", \"showbackground\": true, \"ticks\": \"\", \"zerolinecolor\": \"white\"}}, \"shapedefaults\": {\"line\": {\"color\": \"#2a3f5f\"}}, \"ternary\": {\"aaxis\": {\"gridcolor\": \"white\", \"linecolor\": \"white\", \"ticks\": \"\"}, \"baxis\": {\"gridcolor\": \"white\", \"linecolor\": \"white\", \"ticks\": \"\"}, \"bgcolor\": \"#E5ECF6\", \"caxis\": {\"gridcolor\": \"white\", \"linecolor\": \"white\", \"ticks\": \"\"}}, \"title\": {\"x\": 0.05}, \"xaxis\": {\"automargin\": true, \"gridcolor\": \"white\", \"linecolor\": \"white\", \"ticks\": \"\", \"title\": {\"standoff\": 15}, \"zerolinecolor\": \"white\", \"zerolinewidth\": 2}, \"yaxis\": {\"automargin\": true, \"gridcolor\": \"white\", \"linecolor\": \"white\", \"ticks\": \"\", \"title\": {\"standoff\": 15}, \"zerolinecolor\": \"white\", \"zerolinewidth\": 2}}}, \"title\": {\"text\": \"Category vs Apps\"}, \"xaxis\": {\"anchor\": \"y\", \"domain\": [0.0, 1.0], \"title\": {\"text\": \"Category\"}}, \"yaxis\": {\"anchor\": \"x\", \"domain\": [0.0, 1.0], \"title\": {\"text\": \"Installs\"}}},\n",
              "                        {\"responsive\": true}\n",
              "                    ).then(function(){\n",
              "                            \n",
              "var gd = document.getElementById('eb13d715-23e2-44e5-b5dd-240b1238328e');\n",
              "var x = new MutationObserver(function (mutations, observer) {{\n",
              "        var display = window.getComputedStyle(gd).display;\n",
              "        if (!display || display === 'none') {{\n",
              "            console.log([gd, 'removed!']);\n",
              "            Plotly.purge(gd);\n",
              "            observer.disconnect();\n",
              "        }}\n",
              "}});\n",
              "\n",
              "// Listen for the removal of the full notebook cells\n",
              "var notebookContainer = gd.closest('#notebook-container');\n",
              "if (notebookContainer) {{\n",
              "    x.observe(notebookContainer, {childList: true});\n",
              "}}\n",
              "\n",
              "// Listen for the clearing of the current output cell\n",
              "var outputEl = gd.closest('.output');\n",
              "if (outputEl) {{\n",
              "    x.observe(outputEl, {childList: true});\n",
              "}}\n",
              "\n",
              "                        })\n",
              "                };\n",
              "                \n",
              "            </script>\n",
              "        </div>\n",
              "</body>\n",
              "</html>"
            ]
          },
          "metadata": {}
        }
      ]
    },
    {
      "cell_type": "markdown",
      "metadata": {
        "id": "3GEcHCv72sKJ"
      },
      "source": [
        "# ----->>>>"
      ]
    },
    {
      "cell_type": "code",
      "metadata": {
        "colab": {
          "base_uri": "https://localhost:8080/"
        },
        "id": "FPYNjLMQBn_o",
        "outputId": "3dcaa2c8-6f20-4594-8ef0-f7747a0fc1e1"
      },
      "source": [
        "play_s_df.Installs.unique()"
      ],
      "execution_count": 73,
      "outputs": [
        {
          "output_type": "execute_result",
          "data": {
            "text/plain": [
              "array([   1000000,     100000,     500000,      50000,   10000000,\n",
              "          5000000,      10000,   50000000,  100000000,       5000,\n",
              "             1000, 1000000000,        500,         10,        100,\n",
              "               50,  500000000,          5,          1,          0])"
            ]
          },
          "metadata": {},
          "execution_count": 73
        }
      ]
    },
    {
      "cell_type": "code",
      "metadata": {
        "colab": {
          "base_uri": "https://localhost:8080/",
          "height": 452
        },
        "id": "WzTIc6NTB1Id",
        "outputId": "f3ffed93-5005-4ac7-920f-028f34e9a936"
      },
      "source": [
        "n = play_s_df.groupby(play_s_df.Installs1,as_index=True).head()\n",
        "n=n.sort_values('Installs')\n",
        "n"
      ],
      "execution_count": 74,
      "outputs": [
        {
          "output_type": "execute_result",
          "data": {
            "text/html": [
              "<div>\n",
              "<style scoped>\n",
              "    .dataframe tbody tr th:only-of-type {\n",
              "        vertical-align: middle;\n",
              "    }\n",
              "\n",
              "    .dataframe tbody tr th {\n",
              "        vertical-align: top;\n",
              "    }\n",
              "\n",
              "    .dataframe thead th {\n",
              "        text-align: right;\n",
              "    }\n",
              "</style>\n",
              "<table border=\"1\" class=\"dataframe\">\n",
              "  <thead>\n",
              "    <tr style=\"text-align: right;\">\n",
              "      <th></th>\n",
              "      <th>App</th>\n",
              "      <th>Category</th>\n",
              "      <th>Rating</th>\n",
              "      <th>Reviews</th>\n",
              "      <th>Size</th>\n",
              "      <th>Installs</th>\n",
              "      <th>Type</th>\n",
              "      <th>Price</th>\n",
              "      <th>Content_Rating</th>\n",
              "      <th>Genres</th>\n",
              "      <th>Last_Updated</th>\n",
              "      <th>Current_Version</th>\n",
              "      <th>Android_Version</th>\n",
              "      <th>Installs1</th>\n",
              "    </tr>\n",
              "  </thead>\n",
              "  <tbody>\n",
              "    <tr>\n",
              "      <th>9148</th>\n",
              "      <td>Command &amp; Conquer: Rivals</td>\n",
              "      <td>FAMILY</td>\n",
              "      <td>4.3</td>\n",
              "      <td>0</td>\n",
              "      <td>20.524013</td>\n",
              "      <td>0</td>\n",
              "      <td>Free</td>\n",
              "      <td>0.00</td>\n",
              "      <td>Everyone 10+</td>\n",
              "      <td>Strategy</td>\n",
              "      <td>2018-06-28</td>\n",
              "      <td>Varies with device</td>\n",
              "      <td>Varies with device</td>\n",
              "      <td>0</td>\n",
              "    </tr>\n",
              "    <tr>\n",
              "      <th>9337</th>\n",
              "      <td>EG | Explore Folegandros</td>\n",
              "      <td>TRAVEL_AND_LOCAL</td>\n",
              "      <td>4.3</td>\n",
              "      <td>0</td>\n",
              "      <td>56.000000</td>\n",
              "      <td>0</td>\n",
              "      <td>Paid</td>\n",
              "      <td>3.99</td>\n",
              "      <td>Everyone</td>\n",
              "      <td>Travel &amp; Local</td>\n",
              "      <td>2017-01-22</td>\n",
              "      <td>1.1.1</td>\n",
              "      <td>4.1 and up</td>\n",
              "      <td>0+</td>\n",
              "    </tr>\n",
              "    <tr>\n",
              "      <th>8871</th>\n",
              "      <td>Test Application DT 02</td>\n",
              "      <td>ART_AND_DESIGN</td>\n",
              "      <td>4.3</td>\n",
              "      <td>0</td>\n",
              "      <td>1.200000</td>\n",
              "      <td>0</td>\n",
              "      <td>Free</td>\n",
              "      <td>0.00</td>\n",
              "      <td>Everyone</td>\n",
              "      <td>Art &amp; Design</td>\n",
              "      <td>2017-03-14</td>\n",
              "      <td>4.0</td>\n",
              "      <td>4.2 and up</td>\n",
              "      <td>0+</td>\n",
              "    </tr>\n",
              "    <tr>\n",
              "      <th>7434</th>\n",
              "      <td>Pekalongan CJ</td>\n",
              "      <td>SOCIAL</td>\n",
              "      <td>4.3</td>\n",
              "      <td>0</td>\n",
              "      <td>5.900000</td>\n",
              "      <td>0</td>\n",
              "      <td>Free</td>\n",
              "      <td>0.00</td>\n",
              "      <td>Teen</td>\n",
              "      <td>Social</td>\n",
              "      <td>2018-07-21</td>\n",
              "      <td>0.0.1</td>\n",
              "      <td>4.4 and up</td>\n",
              "      <td>0+</td>\n",
              "    </tr>\n",
              "    <tr>\n",
              "      <th>5307</th>\n",
              "      <td>Ak Parti Yardım Toplama</td>\n",
              "      <td>SOCIAL</td>\n",
              "      <td>4.3</td>\n",
              "      <td>0</td>\n",
              "      <td>8.700000</td>\n",
              "      <td>0</td>\n",
              "      <td>Paid</td>\n",
              "      <td>13.99</td>\n",
              "      <td>Teen</td>\n",
              "      <td>Social</td>\n",
              "      <td>2017-07-28</td>\n",
              "      <td>3.4.4.3.3</td>\n",
              "      <td>4.1 and up</td>\n",
              "      <td>0+</td>\n",
              "    </tr>\n",
              "    <tr>\n",
              "      <th>...</th>\n",
              "      <td>...</td>\n",
              "      <td>...</td>\n",
              "      <td>...</td>\n",
              "      <td>...</td>\n",
              "      <td>...</td>\n",
              "      <td>...</td>\n",
              "      <td>...</td>\n",
              "      <td>...</td>\n",
              "      <td>...</td>\n",
              "      <td>...</td>\n",
              "      <td>...</td>\n",
              "      <td>...</td>\n",
              "      <td>...</td>\n",
              "      <td>...</td>\n",
              "    </tr>\n",
              "    <tr>\n",
              "      <th>3687</th>\n",
              "      <td>Google Play Movies &amp; TV</td>\n",
              "      <td>VIDEO_PLAYERS</td>\n",
              "      <td>3.7</td>\n",
              "      <td>906384</td>\n",
              "      <td>20.524013</td>\n",
              "      <td>1000000000</td>\n",
              "      <td>Free</td>\n",
              "      <td>0.00</td>\n",
              "      <td>Teen</td>\n",
              "      <td>Video Players &amp; Editors</td>\n",
              "      <td>2018-08-06</td>\n",
              "      <td>Varies with device</td>\n",
              "      <td>Varies with device</td>\n",
              "      <td>1,000,000,000+</td>\n",
              "    </tr>\n",
              "    <tr>\n",
              "      <th>3234</th>\n",
              "      <td>Google</td>\n",
              "      <td>TOOLS</td>\n",
              "      <td>4.4</td>\n",
              "      <td>8033493</td>\n",
              "      <td>20.524013</td>\n",
              "      <td>1000000000</td>\n",
              "      <td>Free</td>\n",
              "      <td>0.00</td>\n",
              "      <td>Everyone</td>\n",
              "      <td>Tools</td>\n",
              "      <td>2018-08-03</td>\n",
              "      <td>Varies with device</td>\n",
              "      <td>Varies with device</td>\n",
              "      <td>1,000,000,000+</td>\n",
              "    </tr>\n",
              "    <tr>\n",
              "      <th>9844</th>\n",
              "      <td>Google News</td>\n",
              "      <td>NEWS_AND_MAGAZINES</td>\n",
              "      <td>3.9</td>\n",
              "      <td>878065</td>\n",
              "      <td>13.000000</td>\n",
              "      <td>1000000000</td>\n",
              "      <td>Free</td>\n",
              "      <td>0.00</td>\n",
              "      <td>Teen</td>\n",
              "      <td>News &amp; Magazines</td>\n",
              "      <td>2018-08-01</td>\n",
              "      <td>5.2.0</td>\n",
              "      <td>4.4 and up</td>\n",
              "      <td>1,000,000,000+</td>\n",
              "    </tr>\n",
              "    <tr>\n",
              "      <th>411</th>\n",
              "      <td>Google Chrome: Fast &amp; Secure</td>\n",
              "      <td>COMMUNICATION</td>\n",
              "      <td>4.3</td>\n",
              "      <td>9643041</td>\n",
              "      <td>20.524013</td>\n",
              "      <td>1000000000</td>\n",
              "      <td>Free</td>\n",
              "      <td>0.00</td>\n",
              "      <td>Everyone</td>\n",
              "      <td>Communication</td>\n",
              "      <td>2018-08-01</td>\n",
              "      <td>Varies with device</td>\n",
              "      <td>Varies with device</td>\n",
              "      <td>1,000,000,000+</td>\n",
              "    </tr>\n",
              "    <tr>\n",
              "      <th>3223</th>\n",
              "      <td>Maps - Navigate &amp; Explore</td>\n",
              "      <td>TRAVEL_AND_LOCAL</td>\n",
              "      <td>4.3</td>\n",
              "      <td>9235373</td>\n",
              "      <td>20.524013</td>\n",
              "      <td>1000000000</td>\n",
              "      <td>Free</td>\n",
              "      <td>0.00</td>\n",
              "      <td>Everyone</td>\n",
              "      <td>Travel &amp; Local</td>\n",
              "      <td>2018-07-31</td>\n",
              "      <td>Varies with device</td>\n",
              "      <td>Varies with device</td>\n",
              "      <td>1,000,000,000+</td>\n",
              "    </tr>\n",
              "  </tbody>\n",
              "</table>\n",
              "<p>101 rows × 14 columns</p>\n",
              "</div>"
            ],
            "text/plain": [
              "                               App  ...       Installs1\n",
              "9148     Command & Conquer: Rivals  ...               0\n",
              "9337      EG | Explore Folegandros  ...              0+\n",
              "8871        Test Application DT 02  ...              0+\n",
              "7434                 Pekalongan CJ  ...              0+\n",
              "5307       Ak Parti Yardım Toplama  ...              0+\n",
              "...                            ...  ...             ...\n",
              "3687       Google Play Movies & TV  ...  1,000,000,000+\n",
              "3234                        Google  ...  1,000,000,000+\n",
              "9844                   Google News  ...  1,000,000,000+\n",
              "411   Google Chrome: Fast & Secure  ...  1,000,000,000+\n",
              "3223     Maps - Navigate & Explore  ...  1,000,000,000+\n",
              "\n",
              "[101 rows x 14 columns]"
            ]
          },
          "metadata": {},
          "execution_count": 74
        }
      ]
    },
    {
      "cell_type": "code",
      "metadata": {
        "colab": {
          "base_uri": "https://localhost:8080/"
        },
        "id": "9qtipKneUGOi",
        "outputId": "0c4513d5-049e-45a1-a0ea-da3ad8f3da7a"
      },
      "source": [
        "n.Size.max()"
      ],
      "execution_count": 75,
      "outputs": [
        {
          "output_type": "execute_result",
          "data": {
            "text/plain": [
              "99.0"
            ]
          },
          "metadata": {},
          "execution_count": 75
        }
      ]
    },
    {
      "cell_type": "code",
      "metadata": {
        "colab": {
          "base_uri": "https://localhost:8080/",
          "height": 717
        },
        "id": "IvyHnm2tDLz8",
        "outputId": "7f1e5609-ace7-4c00-ec55-f27d889d49a0"
      },
      "source": [
        "fig = px.bar(n, x='Installs1', y='Rating',color='Type',orientation='v',barmode='relative',text='Rating',\n",
        "             title='Number of Installs for each Category in a Year',height=700,)\n",
        "\n",
        "fig.show()"
      ],
      "execution_count": 76,
      "outputs": [
        {
          "output_type": "display_data",
          "data": {
            "text/html": [
              "<html>\n",
              "<head><meta charset=\"utf-8\" /></head>\n",
              "<body>\n",
              "    <div>\n",
              "            <script src=\"https://cdnjs.cloudflare.com/ajax/libs/mathjax/2.7.5/MathJax.js?config=TeX-AMS-MML_SVG\"></script><script type=\"text/javascript\">if (window.MathJax) {MathJax.Hub.Config({SVG: {font: \"STIX-Web\"}});}</script>\n",
              "                <script type=\"text/javascript\">window.PlotlyConfig = {MathJaxConfig: 'local'};</script>\n",
              "        <script src=\"https://cdn.plot.ly/plotly-latest.min.js\"></script>    \n",
              "            <div id=\"c6e072e4-47a4-4aef-ac65-8cd43f868423\" class=\"plotly-graph-div\" style=\"height:700px; width:100%;\"></div>\n",
              "            <script type=\"text/javascript\">\n",
              "                \n",
              "                    window.PLOTLYENV=window.PLOTLYENV || {};\n",
              "                    \n",
              "                if (document.getElementById(\"c6e072e4-47a4-4aef-ac65-8cd43f868423\")) {\n",
              "                    Plotly.newPlot(\n",
              "                        'c6e072e4-47a4-4aef-ac65-8cd43f868423',\n",
              "                        [{\"alignmentgroup\": \"True\", \"hoverlabel\": {\"namelength\": 0}, \"hovertemplate\": \"Type=Free<br>Installs1=%{x}<br>Rating=%{text}\", \"legendgroup\": \"Type=Free\", \"marker\": {\"color\": \"#636efa\"}, \"name\": \"Type=Free\", \"offsetgroup\": \"Type=Free\", \"orientation\": \"v\", \"showlegend\": true, \"text\": [4.3, 4.3, 4.3, 4.3, 5.0, 5.0, 5.0, 5.0, 4.3, 5.0, 5.0, 5.0, 4.3, 3.5, 4.3, 5.0, 4.3, 5.0, 5.0, 5.0, 4.3, 4.3, 4.3, 3.7, 4.3, 4.3, 3.4, 4.8, 3.5, 4.0, 3.6, 4.1, 4.6, 4.1, 4.3, 4.6, 2.4, 4.3, 3.9, 4.3, 4.4, 4.2, 4.6, 4.5, 4.2, 3.3, 4.3, 4.5, 4.7, 4.7, 3.6, 4.4, 4.2, 4.2, 4.0, 4.3, 4.3, 4.6, 4.5, 4.3, 4.2, 4.6, 4.7, 4.5, 3.7, 4.0, 3.9, 4.4, 4.5, 4.5, 4.2, 4.3, 4.6, 4.5, 4.6, 4.5, 4.6, 4.6, 4.3, 4.2, 4.3, 4.5, 3.7, 4.4, 3.9, 4.3, 4.3], \"textposition\": \"auto\", \"type\": \"bar\", \"x\": [\"0\", \"0+\", \"0+\", \"1+\", \"1+\", \"5+\", \"5+\", \"5+\", \"5+\", \"5+\", \"10+\", \"10+\", \"10+\", \"10+\", \"10+\", \"50+\", \"50+\", \"50+\", \"50+\", \"100+\", \"100+\", \"100+\", \"100+\", \"500+\", \"500+\", \"500+\", \"500+\", \"1,000+\", \"5,000+\", \"5,000+\", \"5,000+\", \"5,000+\", \"10,000+\", \"10,000+\", \"10,000+\", \"10,000+\", \"10,000+\", \"50,000+\", \"50,000+\", \"50,000+\", \"50,000+\", \"50,000+\", \"100,000+\", \"100,000+\", \"100,000+\", \"100,000+\", \"100,000+\", \"500,000+\", \"500,000+\", \"500,000+\", \"500,000+\", \"500,000+\", \"1,000,000+\", \"1,000,000+\", \"1,000,000+\", \"1,000,000+\", \"1,000,000+\", \"5,000,000+\", \"5,000,000+\", \"5,000,000+\", \"5,000,000+\", \"5,000,000+\", \"10,000,000+\", \"10,000,000+\", \"10,000,000+\", \"10,000,000+\", \"10,000,000+\", \"50,000,000+\", \"50,000,000+\", \"50,000,000+\", \"50,000,000+\", \"50,000,000+\", \"100,000,000+\", \"100,000,000+\", \"100,000,000+\", \"100,000,000+\", \"100,000,000+\", \"500,000,000+\", \"500,000,000+\", \"500,000,000+\", \"500,000,000+\", \"500,000,000+\", \"1,000,000,000+\", \"1,000,000,000+\", \"1,000,000,000+\", \"1,000,000,000+\", \"1,000,000,000+\"], \"xaxis\": \"x\", \"y\": [4.3, 4.3, 4.3, 4.3, 5.0, 5.0, 5.0, 5.0, 4.3, 5.0, 5.0, 5.0, 4.3, 3.5, 4.3, 5.0, 4.3, 5.0, 5.0, 5.0, 4.3, 4.3, 4.3, 3.7, 4.3, 4.3, 3.4, 4.8, 3.5, 4.0, 3.6, 4.1, 4.6, 4.1, 4.3, 4.6, 2.4, 4.3, 3.9, 4.3, 4.4, 4.2, 4.6, 4.5, 4.2, 3.3, 4.3, 4.5, 4.7, 4.7, 3.6, 4.4, 4.2, 4.2, 4.0, 4.3, 4.3, 4.6, 4.5, 4.3, 4.2, 4.6, 4.7, 4.5, 3.7, 4.0, 3.9, 4.4, 4.5, 4.5, 4.2, 4.3, 4.6, 4.5, 4.6, 4.5, 4.6, 4.6, 4.3, 4.2, 4.3, 4.5, 3.7, 4.4, 3.9, 4.3, 4.3], \"yaxis\": \"y\"}, {\"alignmentgroup\": \"True\", \"hoverlabel\": {\"namelength\": 0}, \"hovertemplate\": \"Type=Paid<br>Installs1=%{x}<br>Rating=%{text}\", \"legendgroup\": \"Type=Paid\", \"marker\": {\"color\": \"#EF553B\"}, \"name\": \"Type=Paid\", \"offsetgroup\": \"Type=Paid\", \"orientation\": \"v\", \"showlegend\": true, \"text\": [4.3, 4.3, 4.3, 5.0, 5.0, 4.3, 4.4, 4.3, 4.4, 4.6, 3.8, 4.8, 4.6, 4.2], \"textposition\": \"auto\", \"type\": \"bar\", \"x\": [\"0+\", \"0+\", \"0+\", \"1+\", \"1+\", \"1+\", \"50+\", \"100+\", \"500+\", \"1,000+\", \"1,000+\", \"1,000+\", \"1,000+\", \"5,000+\"], \"xaxis\": \"x\", \"y\": [4.3, 4.3, 4.3, 5.0, 5.0, 4.3, 4.4, 4.3, 4.4, 4.6, 3.8, 4.8, 4.6, 4.2], \"yaxis\": \"y\"}],\n",
              "                        {\"barmode\": \"relative\", \"height\": 700, \"legend\": {\"tracegroupgap\": 0}, \"template\": {\"data\": {\"bar\": [{\"error_x\": {\"color\": \"#2a3f5f\"}, \"error_y\": {\"color\": \"#2a3f5f\"}, \"marker\": {\"line\": {\"color\": \"#E5ECF6\", \"width\": 0.5}}, \"type\": \"bar\"}], \"barpolar\": [{\"marker\": {\"line\": {\"color\": \"#E5ECF6\", \"width\": 0.5}}, \"type\": \"barpolar\"}], \"carpet\": [{\"aaxis\": {\"endlinecolor\": \"#2a3f5f\", \"gridcolor\": \"white\", \"linecolor\": \"white\", \"minorgridcolor\": \"white\", \"startlinecolor\": \"#2a3f5f\"}, \"baxis\": {\"endlinecolor\": \"#2a3f5f\", \"gridcolor\": \"white\", \"linecolor\": \"white\", \"minorgridcolor\": \"white\", \"startlinecolor\": \"#2a3f5f\"}, \"type\": \"carpet\"}], \"choropleth\": [{\"colorbar\": {\"outlinewidth\": 0, \"ticks\": \"\"}, \"type\": \"choropleth\"}], \"contour\": [{\"colorbar\": {\"outlinewidth\": 0, \"ticks\": \"\"}, \"colorscale\": [[0.0, \"#0d0887\"], [0.1111111111111111, \"#46039f\"], [0.2222222222222222, \"#7201a8\"], [0.3333333333333333, \"#9c179e\"], [0.4444444444444444, \"#bd3786\"], [0.5555555555555556, \"#d8576b\"], [0.6666666666666666, \"#ed7953\"], [0.7777777777777778, \"#fb9f3a\"], [0.8888888888888888, \"#fdca26\"], [1.0, \"#f0f921\"]], \"type\": \"contour\"}], \"contourcarpet\": [{\"colorbar\": {\"outlinewidth\": 0, \"ticks\": \"\"}, \"type\": \"contourcarpet\"}], \"heatmap\": [{\"colorbar\": {\"outlinewidth\": 0, \"ticks\": \"\"}, \"colorscale\": [[0.0, \"#0d0887\"], [0.1111111111111111, \"#46039f\"], [0.2222222222222222, \"#7201a8\"], [0.3333333333333333, \"#9c179e\"], [0.4444444444444444, \"#bd3786\"], [0.5555555555555556, \"#d8576b\"], [0.6666666666666666, \"#ed7953\"], [0.7777777777777778, \"#fb9f3a\"], [0.8888888888888888, \"#fdca26\"], [1.0, \"#f0f921\"]], \"type\": \"heatmap\"}], \"heatmapgl\": [{\"colorbar\": {\"outlinewidth\": 0, \"ticks\": \"\"}, \"colorscale\": [[0.0, \"#0d0887\"], [0.1111111111111111, \"#46039f\"], [0.2222222222222222, \"#7201a8\"], [0.3333333333333333, \"#9c179e\"], [0.4444444444444444, \"#bd3786\"], [0.5555555555555556, \"#d8576b\"], [0.6666666666666666, \"#ed7953\"], [0.7777777777777778, \"#fb9f3a\"], [0.8888888888888888, \"#fdca26\"], [1.0, \"#f0f921\"]], \"type\": \"heatmapgl\"}], \"histogram\": [{\"marker\": {\"colorbar\": {\"outlinewidth\": 0, \"ticks\": \"\"}}, \"type\": \"histogram\"}], \"histogram2d\": [{\"colorbar\": {\"outlinewidth\": 0, \"ticks\": \"\"}, \"colorscale\": [[0.0, \"#0d0887\"], [0.1111111111111111, \"#46039f\"], [0.2222222222222222, \"#7201a8\"], [0.3333333333333333, \"#9c179e\"], [0.4444444444444444, \"#bd3786\"], [0.5555555555555556, \"#d8576b\"], [0.6666666666666666, \"#ed7953\"], [0.7777777777777778, \"#fb9f3a\"], [0.8888888888888888, \"#fdca26\"], [1.0, \"#f0f921\"]], \"type\": \"histogram2d\"}], \"histogram2dcontour\": [{\"colorbar\": {\"outlinewidth\": 0, \"ticks\": \"\"}, \"colorscale\": [[0.0, \"#0d0887\"], [0.1111111111111111, \"#46039f\"], [0.2222222222222222, \"#7201a8\"], [0.3333333333333333, \"#9c179e\"], [0.4444444444444444, \"#bd3786\"], [0.5555555555555556, \"#d8576b\"], [0.6666666666666666, \"#ed7953\"], [0.7777777777777778, \"#fb9f3a\"], [0.8888888888888888, \"#fdca26\"], [1.0, \"#f0f921\"]], \"type\": \"histogram2dcontour\"}], \"mesh3d\": [{\"colorbar\": {\"outlinewidth\": 0, \"ticks\": \"\"}, \"type\": \"mesh3d\"}], \"parcoords\": [{\"line\": {\"colorbar\": {\"outlinewidth\": 0, \"ticks\": \"\"}}, \"type\": \"parcoords\"}], \"pie\": [{\"automargin\": true, \"type\": \"pie\"}], \"scatter\": [{\"marker\": {\"colorbar\": {\"outlinewidth\": 0, \"ticks\": \"\"}}, \"type\": \"scatter\"}], \"scatter3d\": [{\"line\": {\"colorbar\": {\"outlinewidth\": 0, \"ticks\": \"\"}}, \"marker\": {\"colorbar\": {\"outlinewidth\": 0, \"ticks\": \"\"}}, \"type\": \"scatter3d\"}], \"scattercarpet\": [{\"marker\": {\"colorbar\": {\"outlinewidth\": 0, \"ticks\": \"\"}}, \"type\": \"scattercarpet\"}], \"scattergeo\": [{\"marker\": {\"colorbar\": {\"outlinewidth\": 0, \"ticks\": \"\"}}, \"type\": \"scattergeo\"}], \"scattergl\": [{\"marker\": {\"colorbar\": {\"outlinewidth\": 0, \"ticks\": \"\"}}, \"type\": \"scattergl\"}], \"scattermapbox\": [{\"marker\": {\"colorbar\": {\"outlinewidth\": 0, \"ticks\": \"\"}}, \"type\": \"scattermapbox\"}], \"scatterpolar\": [{\"marker\": {\"colorbar\": {\"outlinewidth\": 0, \"ticks\": \"\"}}, \"type\": \"scatterpolar\"}], \"scatterpolargl\": [{\"marker\": {\"colorbar\": {\"outlinewidth\": 0, \"ticks\": \"\"}}, \"type\": \"scatterpolargl\"}], \"scatterternary\": [{\"marker\": {\"colorbar\": {\"outlinewidth\": 0, \"ticks\": \"\"}}, \"type\": \"scatterternary\"}], \"surface\": [{\"colorbar\": {\"outlinewidth\": 0, \"ticks\": \"\"}, \"colorscale\": [[0.0, \"#0d0887\"], [0.1111111111111111, \"#46039f\"], [0.2222222222222222, \"#7201a8\"], [0.3333333333333333, \"#9c179e\"], [0.4444444444444444, \"#bd3786\"], [0.5555555555555556, \"#d8576b\"], [0.6666666666666666, \"#ed7953\"], [0.7777777777777778, \"#fb9f3a\"], [0.8888888888888888, \"#fdca26\"], [1.0, \"#f0f921\"]], \"type\": \"surface\"}], \"table\": [{\"cells\": {\"fill\": {\"color\": \"#EBF0F8\"}, \"line\": {\"color\": \"white\"}}, \"header\": {\"fill\": {\"color\": \"#C8D4E3\"}, \"line\": {\"color\": \"white\"}}, \"type\": \"table\"}]}, \"layout\": {\"annotationdefaults\": {\"arrowcolor\": \"#2a3f5f\", \"arrowhead\": 0, \"arrowwidth\": 1}, \"coloraxis\": {\"colorbar\": {\"outlinewidth\": 0, \"ticks\": \"\"}}, \"colorscale\": {\"diverging\": [[0, \"#8e0152\"], [0.1, \"#c51b7d\"], [0.2, \"#de77ae\"], [0.3, \"#f1b6da\"], [0.4, \"#fde0ef\"], [0.5, \"#f7f7f7\"], [0.6, \"#e6f5d0\"], [0.7, \"#b8e186\"], [0.8, \"#7fbc41\"], [0.9, \"#4d9221\"], [1, \"#276419\"]], \"sequential\": [[0.0, \"#0d0887\"], [0.1111111111111111, \"#46039f\"], [0.2222222222222222, \"#7201a8\"], [0.3333333333333333, \"#9c179e\"], [0.4444444444444444, \"#bd3786\"], [0.5555555555555556, \"#d8576b\"], [0.6666666666666666, \"#ed7953\"], [0.7777777777777778, \"#fb9f3a\"], [0.8888888888888888, \"#fdca26\"], [1.0, \"#f0f921\"]], \"sequentialminus\": [[0.0, \"#0d0887\"], [0.1111111111111111, \"#46039f\"], [0.2222222222222222, \"#7201a8\"], [0.3333333333333333, \"#9c179e\"], [0.4444444444444444, \"#bd3786\"], [0.5555555555555556, \"#d8576b\"], [0.6666666666666666, \"#ed7953\"], [0.7777777777777778, \"#fb9f3a\"], [0.8888888888888888, \"#fdca26\"], [1.0, \"#f0f921\"]]}, \"colorway\": [\"#636efa\", \"#EF553B\", \"#00cc96\", \"#ab63fa\", \"#FFA15A\", \"#19d3f3\", \"#FF6692\", \"#B6E880\", \"#FF97FF\", \"#FECB52\"], \"font\": {\"color\": \"#2a3f5f\"}, \"geo\": {\"bgcolor\": \"white\", \"lakecolor\": \"white\", \"landcolor\": \"#E5ECF6\", \"showlakes\": true, \"showland\": true, \"subunitcolor\": \"white\"}, \"hoverlabel\": {\"align\": \"left\"}, \"hovermode\": \"closest\", \"mapbox\": {\"style\": \"light\"}, \"paper_bgcolor\": \"white\", \"plot_bgcolor\": \"#E5ECF6\", \"polar\": {\"angularaxis\": {\"gridcolor\": \"white\", \"linecolor\": \"white\", \"ticks\": \"\"}, \"bgcolor\": \"#E5ECF6\", \"radialaxis\": {\"gridcolor\": \"white\", \"linecolor\": \"white\", \"ticks\": \"\"}}, \"scene\": {\"xaxis\": {\"backgroundcolor\": \"#E5ECF6\", \"gridcolor\": \"white\", \"gridwidth\": 2, \"linecolor\": \"white\", \"showbackground\": true, \"ticks\": \"\", \"zerolinecolor\": \"white\"}, \"yaxis\": {\"backgroundcolor\": \"#E5ECF6\", \"gridcolor\": \"white\", \"gridwidth\": 2, \"linecolor\": \"white\", \"showbackground\": true, \"ticks\": \"\", \"zerolinecolor\": \"white\"}, \"zaxis\": {\"backgroundcolor\": \"#E5ECF6\", \"gridcolor\": \"white\", \"gridwidth\": 2, \"linecolor\": \"white\", \"showbackground\": true, \"ticks\": \"\", \"zerolinecolor\": \"white\"}}, \"shapedefaults\": {\"line\": {\"color\": \"#2a3f5f\"}}, \"ternary\": {\"aaxis\": {\"gridcolor\": \"white\", \"linecolor\": \"white\", \"ticks\": \"\"}, \"baxis\": {\"gridcolor\": \"white\", \"linecolor\": \"white\", \"ticks\": \"\"}, \"bgcolor\": \"#E5ECF6\", \"caxis\": {\"gridcolor\": \"white\", \"linecolor\": \"white\", \"ticks\": \"\"}}, \"title\": {\"x\": 0.05}, \"xaxis\": {\"automargin\": true, \"gridcolor\": \"white\", \"linecolor\": \"white\", \"ticks\": \"\", \"title\": {\"standoff\": 15}, \"zerolinecolor\": \"white\", \"zerolinewidth\": 2}, \"yaxis\": {\"automargin\": true, \"gridcolor\": \"white\", \"linecolor\": \"white\", \"ticks\": \"\", \"title\": {\"standoff\": 15}, \"zerolinecolor\": \"white\", \"zerolinewidth\": 2}}}, \"title\": {\"text\": \"Number of Installs for each Category in a Year\"}, \"xaxis\": {\"anchor\": \"y\", \"domain\": [0.0, 1.0], \"title\": {\"text\": \"Installs1\"}}, \"yaxis\": {\"anchor\": \"x\", \"domain\": [0.0, 1.0], \"title\": {\"text\": \"Rating\"}}},\n",
              "                        {\"responsive\": true}\n",
              "                    ).then(function(){\n",
              "                            \n",
              "var gd = document.getElementById('c6e072e4-47a4-4aef-ac65-8cd43f868423');\n",
              "var x = new MutationObserver(function (mutations, observer) {{\n",
              "        var display = window.getComputedStyle(gd).display;\n",
              "        if (!display || display === 'none') {{\n",
              "            console.log([gd, 'removed!']);\n",
              "            Plotly.purge(gd);\n",
              "            observer.disconnect();\n",
              "        }}\n",
              "}});\n",
              "\n",
              "// Listen for the removal of the full notebook cells\n",
              "var notebookContainer = gd.closest('#notebook-container');\n",
              "if (notebookContainer) {{\n",
              "    x.observe(notebookContainer, {childList: true});\n",
              "}}\n",
              "\n",
              "// Listen for the clearing of the current output cell\n",
              "var outputEl = gd.closest('.output');\n",
              "if (outputEl) {{\n",
              "    x.observe(outputEl, {childList: true});\n",
              "}}\n",
              "\n",
              "                        })\n",
              "                };\n",
              "                \n",
              "            </script>\n",
              "        </div>\n",
              "</body>\n",
              "</html>"
            ]
          },
          "metadata": {}
        }
      ]
    },
    {
      "cell_type": "code",
      "metadata": {
        "colab": {
          "base_uri": "https://localhost:8080/",
          "height": 542
        },
        "id": "M-pZun2tUkPi",
        "outputId": "26fc7bcb-eca9-46d1-d276-cc063028b62a"
      },
      "source": [
        "fig = px.pie(n, values='Installs', names='Size', title='Population of European continent')\n",
        "fig.show()\n"
      ],
      "execution_count": 77,
      "outputs": [
        {
          "output_type": "display_data",
          "data": {
            "text/html": [
              "<html>\n",
              "<head><meta charset=\"utf-8\" /></head>\n",
              "<body>\n",
              "    <div>\n",
              "            <script src=\"https://cdnjs.cloudflare.com/ajax/libs/mathjax/2.7.5/MathJax.js?config=TeX-AMS-MML_SVG\"></script><script type=\"text/javascript\">if (window.MathJax) {MathJax.Hub.Config({SVG: {font: \"STIX-Web\"}});}</script>\n",
              "                <script type=\"text/javascript\">window.PlotlyConfig = {MathJaxConfig: 'local'};</script>\n",
              "        <script src=\"https://cdn.plot.ly/plotly-latest.min.js\"></script>    \n",
              "            <div id=\"7201ad0e-e4a5-43c3-99a5-c296b18aa0fa\" class=\"plotly-graph-div\" style=\"height:525px; width:100%;\"></div>\n",
              "            <script type=\"text/javascript\">\n",
              "                \n",
              "                    window.PLOTLYENV=window.PLOTLYENV || {};\n",
              "                    \n",
              "                if (document.getElementById(\"7201ad0e-e4a5-43c3-99a5-c296b18aa0fa\")) {\n",
              "                    Plotly.newPlot(\n",
              "                        '7201ad0e-e4a5-43c3-99a5-c296b18aa0fa',\n",
              "                        [{\"domain\": {\"x\": [0.0, 1.0], \"y\": [0.0, 1.0]}, \"hoverlabel\": {\"namelength\": 0}, \"hovertemplate\": \"Size=%{label}<br>Installs=%{value}\", \"labels\": [20.52401321659038, 56.0, 1.2, 5.9, 8.7, 33.0, 64.0, 25.0, 16.0, 20.0, 0.232421875, 7.1, 1.8, 2.5, 6.8, 19.0, 14.0, 0.1650390625, 2.3, 26.0, 1.2, 33.0, 25.0, 2.8, 25.0, 7.4, 1.5, 5.5, 77.0, 6.8, 3.3, 2.9, 9.9, 6.3, 28.0, 0.0498046875, 32.0, 22.0, 3.5, 14.0, 1.1, 79.0, 3.8, 99.0, 20.52401321659038, 2.0, 13.0, 6.6, 1.1, 19.0, 71.0, 10.0, 0.583984375, 20.52401321659038, 26.0, 20.52401321659038, 3.7, 2.9, 2.8, 0.0888671875, 20.52401321659038, 38.0, 22.0, 97.0, 39.0, 15.0, 31.0, 18.0, 33.0, 5.5, 96.0, 27.0, 39.0, 3.9, 20.52401321659038, 59.0, 75.0, 20.52401321659038, 20.52401321659038, 20.52401321659038, 37.0, 20.52401321659038, 20.52401321659038, 20.0, 14.0, 51.0, 74.0, 99.0, 40.0, 99.0, 74.0, 17.0, 62.0, 20.52401321659038, 20.52401321659038, 20.52401321659038, 20.52401321659038, 20.52401321659038, 13.0, 20.52401321659038, 20.52401321659038], \"legendgroup\": \"\", \"name\": \"\", \"showlegend\": true, \"type\": \"pie\", \"values\": [0, 0, 0, 0, 0, 0, 1, 1, 1, 1, 1, 5, 5, 5, 5, 5, 10, 10, 10, 10, 10, 50, 50, 50, 50, 50, 100, 100, 100, 100, 100, 500, 500, 500, 500, 500, 1000, 1000, 1000, 1000, 1000, 5000, 5000, 5000, 5000, 5000, 10000, 10000, 10000, 10000, 10000, 50000, 50000, 50000, 50000, 50000, 100000, 100000, 100000, 100000, 100000, 500000, 500000, 500000, 500000, 500000, 1000000, 1000000, 1000000, 1000000, 1000000, 5000000, 5000000, 5000000, 5000000, 5000000, 10000000, 10000000, 10000000, 10000000, 10000000, 50000000, 50000000, 50000000, 50000000, 50000000, 100000000, 100000000, 100000000, 100000000, 100000000, 500000000, 500000000, 500000000, 500000000, 500000000, 1000000000, 1000000000, 1000000000, 1000000000, 1000000000]}],\n",
              "                        {\"legend\": {\"tracegroupgap\": 0}, \"template\": {\"data\": {\"bar\": [{\"error_x\": {\"color\": \"#2a3f5f\"}, \"error_y\": {\"color\": \"#2a3f5f\"}, \"marker\": {\"line\": {\"color\": \"#E5ECF6\", \"width\": 0.5}}, \"type\": \"bar\"}], \"barpolar\": [{\"marker\": {\"line\": {\"color\": \"#E5ECF6\", \"width\": 0.5}}, \"type\": \"barpolar\"}], \"carpet\": [{\"aaxis\": {\"endlinecolor\": \"#2a3f5f\", \"gridcolor\": \"white\", \"linecolor\": \"white\", \"minorgridcolor\": \"white\", \"startlinecolor\": \"#2a3f5f\"}, \"baxis\": {\"endlinecolor\": \"#2a3f5f\", \"gridcolor\": \"white\", \"linecolor\": \"white\", \"minorgridcolor\": \"white\", \"startlinecolor\": \"#2a3f5f\"}, \"type\": \"carpet\"}], \"choropleth\": [{\"colorbar\": {\"outlinewidth\": 0, \"ticks\": \"\"}, \"type\": \"choropleth\"}], \"contour\": [{\"colorbar\": {\"outlinewidth\": 0, \"ticks\": \"\"}, \"colorscale\": [[0.0, \"#0d0887\"], [0.1111111111111111, \"#46039f\"], [0.2222222222222222, \"#7201a8\"], [0.3333333333333333, \"#9c179e\"], [0.4444444444444444, \"#bd3786\"], [0.5555555555555556, \"#d8576b\"], [0.6666666666666666, \"#ed7953\"], [0.7777777777777778, \"#fb9f3a\"], [0.8888888888888888, \"#fdca26\"], [1.0, \"#f0f921\"]], \"type\": \"contour\"}], \"contourcarpet\": [{\"colorbar\": {\"outlinewidth\": 0, \"ticks\": \"\"}, \"type\": \"contourcarpet\"}], \"heatmap\": [{\"colorbar\": {\"outlinewidth\": 0, \"ticks\": \"\"}, \"colorscale\": [[0.0, \"#0d0887\"], [0.1111111111111111, \"#46039f\"], [0.2222222222222222, \"#7201a8\"], [0.3333333333333333, \"#9c179e\"], [0.4444444444444444, \"#bd3786\"], [0.5555555555555556, \"#d8576b\"], [0.6666666666666666, \"#ed7953\"], [0.7777777777777778, \"#fb9f3a\"], [0.8888888888888888, \"#fdca26\"], [1.0, \"#f0f921\"]], \"type\": \"heatmap\"}], \"heatmapgl\": [{\"colorbar\": {\"outlinewidth\": 0, \"ticks\": \"\"}, \"colorscale\": [[0.0, \"#0d0887\"], [0.1111111111111111, \"#46039f\"], [0.2222222222222222, \"#7201a8\"], [0.3333333333333333, \"#9c179e\"], [0.4444444444444444, \"#bd3786\"], [0.5555555555555556, \"#d8576b\"], [0.6666666666666666, \"#ed7953\"], [0.7777777777777778, \"#fb9f3a\"], [0.8888888888888888, \"#fdca26\"], [1.0, \"#f0f921\"]], \"type\": \"heatmapgl\"}], \"histogram\": [{\"marker\": {\"colorbar\": {\"outlinewidth\": 0, \"ticks\": \"\"}}, \"type\": \"histogram\"}], \"histogram2d\": [{\"colorbar\": {\"outlinewidth\": 0, \"ticks\": \"\"}, \"colorscale\": [[0.0, \"#0d0887\"], [0.1111111111111111, \"#46039f\"], [0.2222222222222222, \"#7201a8\"], [0.3333333333333333, \"#9c179e\"], [0.4444444444444444, \"#bd3786\"], [0.5555555555555556, \"#d8576b\"], [0.6666666666666666, \"#ed7953\"], [0.7777777777777778, \"#fb9f3a\"], [0.8888888888888888, \"#fdca26\"], [1.0, \"#f0f921\"]], \"type\": \"histogram2d\"}], \"histogram2dcontour\": [{\"colorbar\": {\"outlinewidth\": 0, \"ticks\": \"\"}, \"colorscale\": [[0.0, \"#0d0887\"], [0.1111111111111111, \"#46039f\"], [0.2222222222222222, \"#7201a8\"], [0.3333333333333333, \"#9c179e\"], [0.4444444444444444, \"#bd3786\"], [0.5555555555555556, \"#d8576b\"], [0.6666666666666666, \"#ed7953\"], [0.7777777777777778, \"#fb9f3a\"], [0.8888888888888888, \"#fdca26\"], [1.0, \"#f0f921\"]], \"type\": \"histogram2dcontour\"}], \"mesh3d\": [{\"colorbar\": {\"outlinewidth\": 0, \"ticks\": \"\"}, \"type\": \"mesh3d\"}], \"parcoords\": [{\"line\": {\"colorbar\": {\"outlinewidth\": 0, \"ticks\": \"\"}}, \"type\": \"parcoords\"}], \"pie\": [{\"automargin\": true, \"type\": \"pie\"}], \"scatter\": [{\"marker\": {\"colorbar\": {\"outlinewidth\": 0, \"ticks\": \"\"}}, \"type\": \"scatter\"}], \"scatter3d\": [{\"line\": {\"colorbar\": {\"outlinewidth\": 0, \"ticks\": \"\"}}, \"marker\": {\"colorbar\": {\"outlinewidth\": 0, \"ticks\": \"\"}}, \"type\": \"scatter3d\"}], \"scattercarpet\": [{\"marker\": {\"colorbar\": {\"outlinewidth\": 0, \"ticks\": \"\"}}, \"type\": \"scattercarpet\"}], \"scattergeo\": [{\"marker\": {\"colorbar\": {\"outlinewidth\": 0, \"ticks\": \"\"}}, \"type\": \"scattergeo\"}], \"scattergl\": [{\"marker\": {\"colorbar\": {\"outlinewidth\": 0, \"ticks\": \"\"}}, \"type\": \"scattergl\"}], \"scattermapbox\": [{\"marker\": {\"colorbar\": {\"outlinewidth\": 0, \"ticks\": \"\"}}, \"type\": \"scattermapbox\"}], \"scatterpolar\": [{\"marker\": {\"colorbar\": {\"outlinewidth\": 0, \"ticks\": \"\"}}, \"type\": \"scatterpolar\"}], \"scatterpolargl\": [{\"marker\": {\"colorbar\": {\"outlinewidth\": 0, \"ticks\": \"\"}}, \"type\": \"scatterpolargl\"}], \"scatterternary\": [{\"marker\": {\"colorbar\": {\"outlinewidth\": 0, \"ticks\": \"\"}}, \"type\": \"scatterternary\"}], \"surface\": [{\"colorbar\": {\"outlinewidth\": 0, \"ticks\": \"\"}, \"colorscale\": [[0.0, \"#0d0887\"], [0.1111111111111111, \"#46039f\"], [0.2222222222222222, \"#7201a8\"], [0.3333333333333333, \"#9c179e\"], [0.4444444444444444, \"#bd3786\"], [0.5555555555555556, \"#d8576b\"], [0.6666666666666666, \"#ed7953\"], [0.7777777777777778, \"#fb9f3a\"], [0.8888888888888888, \"#fdca26\"], [1.0, \"#f0f921\"]], \"type\": \"surface\"}], \"table\": [{\"cells\": {\"fill\": {\"color\": \"#EBF0F8\"}, \"line\": {\"color\": \"white\"}}, \"header\": {\"fill\": {\"color\": \"#C8D4E3\"}, \"line\": {\"color\": \"white\"}}, \"type\": \"table\"}]}, \"layout\": {\"annotationdefaults\": {\"arrowcolor\": \"#2a3f5f\", \"arrowhead\": 0, \"arrowwidth\": 1}, \"coloraxis\": {\"colorbar\": {\"outlinewidth\": 0, \"ticks\": \"\"}}, \"colorscale\": {\"diverging\": [[0, \"#8e0152\"], [0.1, \"#c51b7d\"], [0.2, \"#de77ae\"], [0.3, \"#f1b6da\"], [0.4, \"#fde0ef\"], [0.5, \"#f7f7f7\"], [0.6, \"#e6f5d0\"], [0.7, \"#b8e186\"], [0.8, \"#7fbc41\"], [0.9, \"#4d9221\"], [1, \"#276419\"]], \"sequential\": [[0.0, \"#0d0887\"], [0.1111111111111111, \"#46039f\"], [0.2222222222222222, \"#7201a8\"], [0.3333333333333333, \"#9c179e\"], [0.4444444444444444, \"#bd3786\"], [0.5555555555555556, \"#d8576b\"], [0.6666666666666666, \"#ed7953\"], [0.7777777777777778, \"#fb9f3a\"], [0.8888888888888888, \"#fdca26\"], [1.0, \"#f0f921\"]], \"sequentialminus\": [[0.0, \"#0d0887\"], [0.1111111111111111, \"#46039f\"], [0.2222222222222222, \"#7201a8\"], [0.3333333333333333, \"#9c179e\"], [0.4444444444444444, \"#bd3786\"], [0.5555555555555556, \"#d8576b\"], [0.6666666666666666, \"#ed7953\"], [0.7777777777777778, \"#fb9f3a\"], [0.8888888888888888, \"#fdca26\"], [1.0, \"#f0f921\"]]}, \"colorway\": [\"#636efa\", \"#EF553B\", \"#00cc96\", \"#ab63fa\", \"#FFA15A\", \"#19d3f3\", \"#FF6692\", \"#B6E880\", \"#FF97FF\", \"#FECB52\"], \"font\": {\"color\": \"#2a3f5f\"}, \"geo\": {\"bgcolor\": \"white\", \"lakecolor\": \"white\", \"landcolor\": \"#E5ECF6\", \"showlakes\": true, \"showland\": true, \"subunitcolor\": \"white\"}, \"hoverlabel\": {\"align\": \"left\"}, \"hovermode\": \"closest\", \"mapbox\": {\"style\": \"light\"}, \"paper_bgcolor\": \"white\", \"plot_bgcolor\": \"#E5ECF6\", \"polar\": {\"angularaxis\": {\"gridcolor\": \"white\", \"linecolor\": \"white\", \"ticks\": \"\"}, \"bgcolor\": \"#E5ECF6\", \"radialaxis\": {\"gridcolor\": \"white\", \"linecolor\": \"white\", \"ticks\": \"\"}}, \"scene\": {\"xaxis\": {\"backgroundcolor\": \"#E5ECF6\", \"gridcolor\": \"white\", \"gridwidth\": 2, \"linecolor\": \"white\", \"showbackground\": true, \"ticks\": \"\", \"zerolinecolor\": \"white\"}, \"yaxis\": {\"backgroundcolor\": \"#E5ECF6\", \"gridcolor\": \"white\", \"gridwidth\": 2, \"linecolor\": \"white\", \"showbackground\": true, \"ticks\": \"\", \"zerolinecolor\": \"white\"}, \"zaxis\": {\"backgroundcolor\": \"#E5ECF6\", \"gridcolor\": \"white\", \"gridwidth\": 2, \"linecolor\": \"white\", \"showbackground\": true, \"ticks\": \"\", \"zerolinecolor\": \"white\"}}, \"shapedefaults\": {\"line\": {\"color\": \"#2a3f5f\"}}, \"ternary\": {\"aaxis\": {\"gridcolor\": \"white\", \"linecolor\": \"white\", \"ticks\": \"\"}, \"baxis\": {\"gridcolor\": \"white\", \"linecolor\": \"white\", \"ticks\": \"\"}, \"bgcolor\": \"#E5ECF6\", \"caxis\": {\"gridcolor\": \"white\", \"linecolor\": \"white\", \"ticks\": \"\"}}, \"title\": {\"x\": 0.05}, \"xaxis\": {\"automargin\": true, \"gridcolor\": \"white\", \"linecolor\": \"white\", \"ticks\": \"\", \"title\": {\"standoff\": 15}, \"zerolinecolor\": \"white\", \"zerolinewidth\": 2}, \"yaxis\": {\"automargin\": true, \"gridcolor\": \"white\", \"linecolor\": \"white\", \"ticks\": \"\", \"title\": {\"standoff\": 15}, \"zerolinecolor\": \"white\", \"zerolinewidth\": 2}}}, \"title\": {\"text\": \"Population of European continent\"}},\n",
              "                        {\"responsive\": true}\n",
              "                    ).then(function(){\n",
              "                            \n",
              "var gd = document.getElementById('7201ad0e-e4a5-43c3-99a5-c296b18aa0fa');\n",
              "var x = new MutationObserver(function (mutations, observer) {{\n",
              "        var display = window.getComputedStyle(gd).display;\n",
              "        if (!display || display === 'none') {{\n",
              "            console.log([gd, 'removed!']);\n",
              "            Plotly.purge(gd);\n",
              "            observer.disconnect();\n",
              "        }}\n",
              "}});\n",
              "\n",
              "// Listen for the removal of the full notebook cells\n",
              "var notebookContainer = gd.closest('#notebook-container');\n",
              "if (notebookContainer) {{\n",
              "    x.observe(notebookContainer, {childList: true});\n",
              "}}\n",
              "\n",
              "// Listen for the clearing of the current output cell\n",
              "var outputEl = gd.closest('.output');\n",
              "if (outputEl) {{\n",
              "    x.observe(outputEl, {childList: true});\n",
              "}}\n",
              "\n",
              "                        })\n",
              "                };\n",
              "                \n",
              "            </script>\n",
              "        </div>\n",
              "</body>\n",
              "</html>"
            ]
          },
          "metadata": {}
        }
      ]
    },
    {
      "cell_type": "code",
      "metadata": {
        "id": "AFbAPeZ968qe"
      },
      "source": [
        "new= play_s_df.groupby('Rating')['Installs'].max().reset_index()\n",
        "new"
      ],
      "execution_count": null,
      "outputs": []
    },
    {
      "cell_type": "code",
      "metadata": {
        "colab": {
          "base_uri": "https://localhost:8080/",
          "height": 542
        },
        "id": "-EyZpz58crPZ",
        "outputId": "7854d8e2-37a8-4a57-dbcc-287f598172e7"
      },
      "source": [
        "fig=px.bar(new, y='Installs',x='Rating',color='Installs',text='Rating')\n",
        "fig.show()"
      ],
      "execution_count": 79,
      "outputs": [
        {
          "output_type": "display_data",
          "data": {
            "text/html": [
              "<html>\n",
              "<head><meta charset=\"utf-8\" /></head>\n",
              "<body>\n",
              "    <div>\n",
              "            <script src=\"https://cdnjs.cloudflare.com/ajax/libs/mathjax/2.7.5/MathJax.js?config=TeX-AMS-MML_SVG\"></script><script type=\"text/javascript\">if (window.MathJax) {MathJax.Hub.Config({SVG: {font: \"STIX-Web\"}});}</script>\n",
              "                <script type=\"text/javascript\">window.PlotlyConfig = {MathJaxConfig: 'local'};</script>\n",
              "        <script src=\"https://cdn.plot.ly/plotly-latest.min.js\"></script>    \n",
              "            <div id=\"ec6b045a-cdc7-4370-8a5d-f494283a8ee4\" class=\"plotly-graph-div\" style=\"height:525px; width:100%;\"></div>\n",
              "            <script type=\"text/javascript\">\n",
              "                \n",
              "                    window.PLOTLYENV=window.PLOTLYENV || {};\n",
              "                    \n",
              "                if (document.getElementById(\"ec6b045a-cdc7-4370-8a5d-f494283a8ee4\")) {\n",
              "                    Plotly.newPlot(\n",
              "                        'ec6b045a-cdc7-4370-8a5d-f494283a8ee4',\n",
              "                        [{\"alignmentgroup\": \"True\", \"hoverlabel\": {\"namelength\": 0}, \"hovertemplate\": \"Rating=%{text}<br>Installs=%{marker.color}\", \"legendgroup\": \"\", \"marker\": {\"color\": [1000, 1000, 5000, 1000, 100000, 50000, 500000, 100000, 5000000, 100000, 1000000, 100000, 1000000, 1000000, 100000, 1000000, 1000000, 5000000, 10000000, 50000000, 5000000, 10000000, 10000000, 100000000, 50000000, 1000000000, 100000000, 1000000000, 1000000000, 1000000000, 1000000000, 1000000000, 1000000000, 1000000000, 500000000, 500000000, 100000000, 10000000, 10000], \"coloraxis\": \"coloraxis\"}, \"name\": \"\", \"offsetgroup\": \"\", \"orientation\": \"v\", \"showlegend\": false, \"text\": [1.0, 1.2, 1.4, 1.5, 1.6, 1.7, 1.8, 1.9, 2.0, 2.1, 2.2, 2.3, 2.4, 2.5, 2.6, 2.7, 2.8, 2.9, 3.0, 3.1, 3.2, 3.3, 3.4, 3.5, 3.6, 3.7, 3.8, 3.9, 4.0, 4.1, 4.2, 4.3, 4.4, 4.5, 4.6, 4.7, 4.8, 4.9, 5.0], \"textposition\": \"auto\", \"type\": \"bar\", \"x\": [1.0, 1.2, 1.4, 1.5, 1.6, 1.7, 1.8, 1.9, 2.0, 2.1, 2.2, 2.3, 2.4, 2.5, 2.6, 2.7, 2.8, 2.9, 3.0, 3.1, 3.2, 3.3, 3.4, 3.5, 3.6, 3.7, 3.8, 3.9, 4.0, 4.1, 4.2, 4.3, 4.4, 4.5, 4.6, 4.7, 4.8, 4.9, 5.0], \"xaxis\": \"x\", \"y\": [1000, 1000, 5000, 1000, 100000, 50000, 500000, 100000, 5000000, 100000, 1000000, 100000, 1000000, 1000000, 100000, 1000000, 1000000, 5000000, 10000000, 50000000, 5000000, 10000000, 10000000, 100000000, 50000000, 1000000000, 100000000, 1000000000, 1000000000, 1000000000, 1000000000, 1000000000, 1000000000, 1000000000, 500000000, 500000000, 100000000, 10000000, 10000], \"yaxis\": \"y\"}],\n",
              "                        {\"barmode\": \"relative\", \"coloraxis\": {\"colorbar\": {\"title\": {\"text\": \"Installs\"}}, \"colorscale\": [[0.0, \"#0d0887\"], [0.1111111111111111, \"#46039f\"], [0.2222222222222222, \"#7201a8\"], [0.3333333333333333, \"#9c179e\"], [0.4444444444444444, \"#bd3786\"], [0.5555555555555556, \"#d8576b\"], [0.6666666666666666, \"#ed7953\"], [0.7777777777777778, \"#fb9f3a\"], [0.8888888888888888, \"#fdca26\"], [1.0, \"#f0f921\"]]}, \"legend\": {\"tracegroupgap\": 0}, \"margin\": {\"t\": 60}, \"template\": {\"data\": {\"bar\": [{\"error_x\": {\"color\": \"#2a3f5f\"}, \"error_y\": {\"color\": \"#2a3f5f\"}, \"marker\": {\"line\": {\"color\": \"#E5ECF6\", \"width\": 0.5}}, \"type\": \"bar\"}], \"barpolar\": [{\"marker\": {\"line\": {\"color\": \"#E5ECF6\", \"width\": 0.5}}, \"type\": \"barpolar\"}], \"carpet\": [{\"aaxis\": {\"endlinecolor\": \"#2a3f5f\", \"gridcolor\": \"white\", \"linecolor\": \"white\", \"minorgridcolor\": \"white\", \"startlinecolor\": \"#2a3f5f\"}, \"baxis\": {\"endlinecolor\": \"#2a3f5f\", \"gridcolor\": \"white\", \"linecolor\": \"white\", \"minorgridcolor\": \"white\", \"startlinecolor\": \"#2a3f5f\"}, \"type\": \"carpet\"}], \"choropleth\": [{\"colorbar\": {\"outlinewidth\": 0, \"ticks\": \"\"}, \"type\": \"choropleth\"}], \"contour\": [{\"colorbar\": {\"outlinewidth\": 0, \"ticks\": \"\"}, \"colorscale\": [[0.0, \"#0d0887\"], [0.1111111111111111, \"#46039f\"], [0.2222222222222222, \"#7201a8\"], [0.3333333333333333, \"#9c179e\"], [0.4444444444444444, \"#bd3786\"], [0.5555555555555556, \"#d8576b\"], [0.6666666666666666, \"#ed7953\"], [0.7777777777777778, \"#fb9f3a\"], [0.8888888888888888, \"#fdca26\"], [1.0, \"#f0f921\"]], \"type\": \"contour\"}], \"contourcarpet\": [{\"colorbar\": {\"outlinewidth\": 0, \"ticks\": \"\"}, \"type\": \"contourcarpet\"}], \"heatmap\": [{\"colorbar\": {\"outlinewidth\": 0, \"ticks\": \"\"}, \"colorscale\": [[0.0, \"#0d0887\"], [0.1111111111111111, \"#46039f\"], [0.2222222222222222, \"#7201a8\"], [0.3333333333333333, \"#9c179e\"], [0.4444444444444444, \"#bd3786\"], [0.5555555555555556, \"#d8576b\"], [0.6666666666666666, \"#ed7953\"], [0.7777777777777778, \"#fb9f3a\"], [0.8888888888888888, \"#fdca26\"], [1.0, \"#f0f921\"]], \"type\": \"heatmap\"}], \"heatmapgl\": [{\"colorbar\": {\"outlinewidth\": 0, \"ticks\": \"\"}, \"colorscale\": [[0.0, \"#0d0887\"], [0.1111111111111111, \"#46039f\"], [0.2222222222222222, \"#7201a8\"], [0.3333333333333333, \"#9c179e\"], [0.4444444444444444, \"#bd3786\"], [0.5555555555555556, \"#d8576b\"], [0.6666666666666666, \"#ed7953\"], [0.7777777777777778, \"#fb9f3a\"], [0.8888888888888888, \"#fdca26\"], [1.0, \"#f0f921\"]], \"type\": \"heatmapgl\"}], \"histogram\": [{\"marker\": {\"colorbar\": {\"outlinewidth\": 0, \"ticks\": \"\"}}, \"type\": \"histogram\"}], \"histogram2d\": [{\"colorbar\": {\"outlinewidth\": 0, \"ticks\": \"\"}, \"colorscale\": [[0.0, \"#0d0887\"], [0.1111111111111111, \"#46039f\"], [0.2222222222222222, \"#7201a8\"], [0.3333333333333333, \"#9c179e\"], [0.4444444444444444, \"#bd3786\"], [0.5555555555555556, \"#d8576b\"], [0.6666666666666666, \"#ed7953\"], [0.7777777777777778, \"#fb9f3a\"], [0.8888888888888888, \"#fdca26\"], [1.0, \"#f0f921\"]], \"type\": \"histogram2d\"}], \"histogram2dcontour\": [{\"colorbar\": {\"outlinewidth\": 0, \"ticks\": \"\"}, \"colorscale\": [[0.0, \"#0d0887\"], [0.1111111111111111, \"#46039f\"], [0.2222222222222222, \"#7201a8\"], [0.3333333333333333, \"#9c179e\"], [0.4444444444444444, \"#bd3786\"], [0.5555555555555556, \"#d8576b\"], [0.6666666666666666, \"#ed7953\"], [0.7777777777777778, \"#fb9f3a\"], [0.8888888888888888, \"#fdca26\"], [1.0, \"#f0f921\"]], \"type\": \"histogram2dcontour\"}], \"mesh3d\": [{\"colorbar\": {\"outlinewidth\": 0, \"ticks\": \"\"}, \"type\": \"mesh3d\"}], \"parcoords\": [{\"line\": {\"colorbar\": {\"outlinewidth\": 0, \"ticks\": \"\"}}, \"type\": \"parcoords\"}], \"pie\": [{\"automargin\": true, \"type\": \"pie\"}], \"scatter\": [{\"marker\": {\"colorbar\": {\"outlinewidth\": 0, \"ticks\": \"\"}}, \"type\": \"scatter\"}], \"scatter3d\": [{\"line\": {\"colorbar\": {\"outlinewidth\": 0, \"ticks\": \"\"}}, \"marker\": {\"colorbar\": {\"outlinewidth\": 0, \"ticks\": \"\"}}, \"type\": \"scatter3d\"}], \"scattercarpet\": [{\"marker\": {\"colorbar\": {\"outlinewidth\": 0, \"ticks\": \"\"}}, \"type\": \"scattercarpet\"}], \"scattergeo\": [{\"marker\": {\"colorbar\": {\"outlinewidth\": 0, \"ticks\": \"\"}}, \"type\": \"scattergeo\"}], \"scattergl\": [{\"marker\": {\"colorbar\": {\"outlinewidth\": 0, \"ticks\": \"\"}}, \"type\": \"scattergl\"}], \"scattermapbox\": [{\"marker\": {\"colorbar\": {\"outlinewidth\": 0, \"ticks\": \"\"}}, \"type\": \"scattermapbox\"}], \"scatterpolar\": [{\"marker\": {\"colorbar\": {\"outlinewidth\": 0, \"ticks\": \"\"}}, \"type\": \"scatterpolar\"}], \"scatterpolargl\": [{\"marker\": {\"colorbar\": {\"outlinewidth\": 0, \"ticks\": \"\"}}, \"type\": \"scatterpolargl\"}], \"scatterternary\": [{\"marker\": {\"colorbar\": {\"outlinewidth\": 0, \"ticks\": \"\"}}, \"type\": \"scatterternary\"}], \"surface\": [{\"colorbar\": {\"outlinewidth\": 0, \"ticks\": \"\"}, \"colorscale\": [[0.0, \"#0d0887\"], [0.1111111111111111, \"#46039f\"], [0.2222222222222222, \"#7201a8\"], [0.3333333333333333, \"#9c179e\"], [0.4444444444444444, \"#bd3786\"], [0.5555555555555556, \"#d8576b\"], [0.6666666666666666, \"#ed7953\"], [0.7777777777777778, \"#fb9f3a\"], [0.8888888888888888, \"#fdca26\"], [1.0, \"#f0f921\"]], \"type\": \"surface\"}], \"table\": [{\"cells\": {\"fill\": {\"color\": \"#EBF0F8\"}, \"line\": {\"color\": \"white\"}}, \"header\": {\"fill\": {\"color\": \"#C8D4E3\"}, \"line\": {\"color\": \"white\"}}, \"type\": \"table\"}]}, \"layout\": {\"annotationdefaults\": {\"arrowcolor\": \"#2a3f5f\", \"arrowhead\": 0, \"arrowwidth\": 1}, \"coloraxis\": {\"colorbar\": {\"outlinewidth\": 0, \"ticks\": \"\"}}, \"colorscale\": {\"diverging\": [[0, \"#8e0152\"], [0.1, \"#c51b7d\"], [0.2, \"#de77ae\"], [0.3, \"#f1b6da\"], [0.4, \"#fde0ef\"], [0.5, \"#f7f7f7\"], [0.6, \"#e6f5d0\"], [0.7, \"#b8e186\"], [0.8, \"#7fbc41\"], [0.9, \"#4d9221\"], [1, \"#276419\"]], \"sequential\": [[0.0, \"#0d0887\"], [0.1111111111111111, \"#46039f\"], [0.2222222222222222, \"#7201a8\"], [0.3333333333333333, \"#9c179e\"], [0.4444444444444444, \"#bd3786\"], [0.5555555555555556, \"#d8576b\"], [0.6666666666666666, \"#ed7953\"], [0.7777777777777778, \"#fb9f3a\"], [0.8888888888888888, \"#fdca26\"], [1.0, \"#f0f921\"]], \"sequentialminus\": [[0.0, \"#0d0887\"], [0.1111111111111111, \"#46039f\"], [0.2222222222222222, \"#7201a8\"], [0.3333333333333333, \"#9c179e\"], [0.4444444444444444, \"#bd3786\"], [0.5555555555555556, \"#d8576b\"], [0.6666666666666666, \"#ed7953\"], [0.7777777777777778, \"#fb9f3a\"], [0.8888888888888888, \"#fdca26\"], [1.0, \"#f0f921\"]]}, \"colorway\": [\"#636efa\", \"#EF553B\", \"#00cc96\", \"#ab63fa\", \"#FFA15A\", \"#19d3f3\", \"#FF6692\", \"#B6E880\", \"#FF97FF\", \"#FECB52\"], \"font\": {\"color\": \"#2a3f5f\"}, \"geo\": {\"bgcolor\": \"white\", \"lakecolor\": \"white\", \"landcolor\": \"#E5ECF6\", \"showlakes\": true, \"showland\": true, \"subunitcolor\": \"white\"}, \"hoverlabel\": {\"align\": \"left\"}, \"hovermode\": \"closest\", \"mapbox\": {\"style\": \"light\"}, \"paper_bgcolor\": \"white\", \"plot_bgcolor\": \"#E5ECF6\", \"polar\": {\"angularaxis\": {\"gridcolor\": \"white\", \"linecolor\": \"white\", \"ticks\": \"\"}, \"bgcolor\": \"#E5ECF6\", \"radialaxis\": {\"gridcolor\": \"white\", \"linecolor\": \"white\", \"ticks\": \"\"}}, \"scene\": {\"xaxis\": {\"backgroundcolor\": \"#E5ECF6\", \"gridcolor\": \"white\", \"gridwidth\": 2, \"linecolor\": \"white\", \"showbackground\": true, \"ticks\": \"\", \"zerolinecolor\": \"white\"}, \"yaxis\": {\"backgroundcolor\": \"#E5ECF6\", \"gridcolor\": \"white\", \"gridwidth\": 2, \"linecolor\": \"white\", \"showbackground\": true, \"ticks\": \"\", \"zerolinecolor\": \"white\"}, \"zaxis\": {\"backgroundcolor\": \"#E5ECF6\", \"gridcolor\": \"white\", \"gridwidth\": 2, \"linecolor\": \"white\", \"showbackground\": true, \"ticks\": \"\", \"zerolinecolor\": \"white\"}}, \"shapedefaults\": {\"line\": {\"color\": \"#2a3f5f\"}}, \"ternary\": {\"aaxis\": {\"gridcolor\": \"white\", \"linecolor\": \"white\", \"ticks\": \"\"}, \"baxis\": {\"gridcolor\": \"white\", \"linecolor\": \"white\", \"ticks\": \"\"}, \"bgcolor\": \"#E5ECF6\", \"caxis\": {\"gridcolor\": \"white\", \"linecolor\": \"white\", \"ticks\": \"\"}}, \"title\": {\"x\": 0.05}, \"xaxis\": {\"automargin\": true, \"gridcolor\": \"white\", \"linecolor\": \"white\", \"ticks\": \"\", \"title\": {\"standoff\": 15}, \"zerolinecolor\": \"white\", \"zerolinewidth\": 2}, \"yaxis\": {\"automargin\": true, \"gridcolor\": \"white\", \"linecolor\": \"white\", \"ticks\": \"\", \"title\": {\"standoff\": 15}, \"zerolinecolor\": \"white\", \"zerolinewidth\": 2}}}, \"xaxis\": {\"anchor\": \"y\", \"domain\": [0.0, 1.0], \"title\": {\"text\": \"Rating\"}}, \"yaxis\": {\"anchor\": \"x\", \"domain\": [0.0, 1.0], \"title\": {\"text\": \"Installs\"}}},\n",
              "                        {\"responsive\": true}\n",
              "                    ).then(function(){\n",
              "                            \n",
              "var gd = document.getElementById('ec6b045a-cdc7-4370-8a5d-f494283a8ee4');\n",
              "var x = new MutationObserver(function (mutations, observer) {{\n",
              "        var display = window.getComputedStyle(gd).display;\n",
              "        if (!display || display === 'none') {{\n",
              "            console.log([gd, 'removed!']);\n",
              "            Plotly.purge(gd);\n",
              "            observer.disconnect();\n",
              "        }}\n",
              "}});\n",
              "\n",
              "// Listen for the removal of the full notebook cells\n",
              "var notebookContainer = gd.closest('#notebook-container');\n",
              "if (notebookContainer) {{\n",
              "    x.observe(notebookContainer, {childList: true});\n",
              "}}\n",
              "\n",
              "// Listen for the clearing of the current output cell\n",
              "var outputEl = gd.closest('.output');\n",
              "if (outputEl) {{\n",
              "    x.observe(outputEl, {childList: true});\n",
              "}}\n",
              "\n",
              "                        })\n",
              "                };\n",
              "                \n",
              "            </script>\n",
              "        </div>\n",
              "</body>\n",
              "</html>"
            ]
          },
          "metadata": {}
        }
      ]
    },
    {
      "cell_type": "markdown",
      "metadata": {
        "id": "Op6B1oBsjFqW"
      },
      "source": [
        "## We can conclude from above that Highest number of Installs found in **Game** Category and then followed by **Family,** **Health and Fitness,** **Dating,** **Sports**."
      ]
    },
    {
      "cell_type": "markdown",
      "metadata": {
        "id": "aGD2A3Ei3-Ur"
      },
      "source": [
        "# ------->>>>>>>>>"
      ]
    },
    {
      "cell_type": "code",
      "metadata": {
        "colab": {
          "base_uri": "https://localhost:8080/",
          "height": 418
        },
        "id": "SRGAHFF1_erv",
        "outputId": "6ad42ff9-895c-4c38-f103-48890bc4f599"
      },
      "source": [
        "m = play_s_df.groupby(play_s_df.Installs1,as_index=True).head()\n",
        "m"
      ],
      "execution_count": 107,
      "outputs": [
        {
          "output_type": "execute_result",
          "data": {
            "text/html": [
              "<div>\n",
              "<style scoped>\n",
              "    .dataframe tbody tr th:only-of-type {\n",
              "        vertical-align: middle;\n",
              "    }\n",
              "\n",
              "    .dataframe tbody tr th {\n",
              "        vertical-align: top;\n",
              "    }\n",
              "\n",
              "    .dataframe thead th {\n",
              "        text-align: right;\n",
              "    }\n",
              "</style>\n",
              "<table border=\"1\" class=\"dataframe\">\n",
              "  <thead>\n",
              "    <tr style=\"text-align: right;\">\n",
              "      <th></th>\n",
              "      <th>App</th>\n",
              "      <th>Category</th>\n",
              "      <th>Rating</th>\n",
              "      <th>Reviews</th>\n",
              "      <th>Size</th>\n",
              "      <th>Installs</th>\n",
              "      <th>Type</th>\n",
              "      <th>Price</th>\n",
              "      <th>Content_Rating</th>\n",
              "      <th>Genres</th>\n",
              "      <th>Last_Updated</th>\n",
              "      <th>Current_Version</th>\n",
              "      <th>Android_Version</th>\n",
              "      <th>Installs1</th>\n",
              "    </tr>\n",
              "  </thead>\n",
              "  <tbody>\n",
              "    <tr>\n",
              "      <th>2989</th>\n",
              "      <td>GollerCepte Live Score</td>\n",
              "      <td>SPORTS</td>\n",
              "      <td>4.2</td>\n",
              "      <td>9992</td>\n",
              "      <td>31.000000</td>\n",
              "      <td>1000000</td>\n",
              "      <td>Free</td>\n",
              "      <td>0.00</td>\n",
              "      <td>Everyone</td>\n",
              "      <td>Sports</td>\n",
              "      <td>2018-05-23</td>\n",
              "      <td>6.5</td>\n",
              "      <td>4.1 and up</td>\n",
              "      <td>1,000,000+</td>\n",
              "    </tr>\n",
              "    <tr>\n",
              "      <th>4970</th>\n",
              "      <td>Ad Block REMOVER - NEED ROOT</td>\n",
              "      <td>TOOLS</td>\n",
              "      <td>3.3</td>\n",
              "      <td>999</td>\n",
              "      <td>0.088867</td>\n",
              "      <td>100000</td>\n",
              "      <td>Free</td>\n",
              "      <td>0.00</td>\n",
              "      <td>Everyone</td>\n",
              "      <td>Tools</td>\n",
              "      <td>2013-12-17</td>\n",
              "      <td>3.2</td>\n",
              "      <td>2.2 and up</td>\n",
              "      <td>100,000+</td>\n",
              "    </tr>\n",
              "    <tr>\n",
              "      <th>2723</th>\n",
              "      <td>SnipSnap Coupon App</td>\n",
              "      <td>SHOPPING</td>\n",
              "      <td>4.2</td>\n",
              "      <td>9975</td>\n",
              "      <td>18.000000</td>\n",
              "      <td>1000000</td>\n",
              "      <td>Free</td>\n",
              "      <td>0.00</td>\n",
              "      <td>Everyone</td>\n",
              "      <td>Shopping</td>\n",
              "      <td>2018-01-22</td>\n",
              "      <td>1.4</td>\n",
              "      <td>4.3 and up</td>\n",
              "      <td>1,000,000+</td>\n",
              "    </tr>\n",
              "    <tr>\n",
              "      <th>3079</th>\n",
              "      <td>US Open Tennis Championships 2018</td>\n",
              "      <td>SPORTS</td>\n",
              "      <td>4.0</td>\n",
              "      <td>9971</td>\n",
              "      <td>33.000000</td>\n",
              "      <td>1000000</td>\n",
              "      <td>Free</td>\n",
              "      <td>0.00</td>\n",
              "      <td>Everyone</td>\n",
              "      <td>Sports</td>\n",
              "      <td>2018-06-05</td>\n",
              "      <td>7.1</td>\n",
              "      <td>5.0 and up</td>\n",
              "      <td>1,000,000+</td>\n",
              "    </tr>\n",
              "    <tr>\n",
              "      <th>3229</th>\n",
              "      <td>DreamTrips</td>\n",
              "      <td>TRAVEL_AND_LOCAL</td>\n",
              "      <td>4.7</td>\n",
              "      <td>9971</td>\n",
              "      <td>22.000000</td>\n",
              "      <td>500000</td>\n",
              "      <td>Free</td>\n",
              "      <td>0.00</td>\n",
              "      <td>Teen</td>\n",
              "      <td>Travel &amp; Local</td>\n",
              "      <td>2018-08-06</td>\n",
              "      <td>1.28.1</td>\n",
              "      <td>5.0 and up</td>\n",
              "      <td>500,000+</td>\n",
              "    </tr>\n",
              "    <tr>\n",
              "      <th>...</th>\n",
              "      <td>...</td>\n",
              "      <td>...</td>\n",
              "      <td>...</td>\n",
              "      <td>...</td>\n",
              "      <td>...</td>\n",
              "      <td>...</td>\n",
              "      <td>...</td>\n",
              "      <td>...</td>\n",
              "      <td>...</td>\n",
              "      <td>...</td>\n",
              "      <td>...</td>\n",
              "      <td>...</td>\n",
              "      <td>...</td>\n",
              "      <td>...</td>\n",
              "    </tr>\n",
              "    <tr>\n",
              "      <th>5307</th>\n",
              "      <td>Ak Parti Yardım Toplama</td>\n",
              "      <td>SOCIAL</td>\n",
              "      <td>4.3</td>\n",
              "      <td>0</td>\n",
              "      <td>8.700000</td>\n",
              "      <td>0</td>\n",
              "      <td>Paid</td>\n",
              "      <td>13.99</td>\n",
              "      <td>Teen</td>\n",
              "      <td>Social</td>\n",
              "      <td>2017-07-28</td>\n",
              "      <td>3.4.4.3.3</td>\n",
              "      <td>4.1 and up</td>\n",
              "      <td>0+</td>\n",
              "    </tr>\n",
              "    <tr>\n",
              "      <th>8871</th>\n",
              "      <td>Test Application DT 02</td>\n",
              "      <td>ART_AND_DESIGN</td>\n",
              "      <td>4.3</td>\n",
              "      <td>0</td>\n",
              "      <td>1.200000</td>\n",
              "      <td>0</td>\n",
              "      <td>Free</td>\n",
              "      <td>0.00</td>\n",
              "      <td>Everyone</td>\n",
              "      <td>Art &amp; Design</td>\n",
              "      <td>2017-03-14</td>\n",
              "      <td>4.0</td>\n",
              "      <td>4.2 and up</td>\n",
              "      <td>0+</td>\n",
              "    </tr>\n",
              "    <tr>\n",
              "      <th>9337</th>\n",
              "      <td>EG | Explore Folegandros</td>\n",
              "      <td>TRAVEL_AND_LOCAL</td>\n",
              "      <td>4.3</td>\n",
              "      <td>0</td>\n",
              "      <td>56.000000</td>\n",
              "      <td>0</td>\n",
              "      <td>Paid</td>\n",
              "      <td>3.99</td>\n",
              "      <td>Everyone</td>\n",
              "      <td>Travel &amp; Local</td>\n",
              "      <td>2017-01-22</td>\n",
              "      <td>1.1.1</td>\n",
              "      <td>4.1 and up</td>\n",
              "      <td>0+</td>\n",
              "    </tr>\n",
              "    <tr>\n",
              "      <th>7434</th>\n",
              "      <td>Pekalongan CJ</td>\n",
              "      <td>SOCIAL</td>\n",
              "      <td>4.3</td>\n",
              "      <td>0</td>\n",
              "      <td>5.900000</td>\n",
              "      <td>0</td>\n",
              "      <td>Free</td>\n",
              "      <td>0.00</td>\n",
              "      <td>Teen</td>\n",
              "      <td>Social</td>\n",
              "      <td>2018-07-21</td>\n",
              "      <td>0.0.1</td>\n",
              "      <td>4.4 and up</td>\n",
              "      <td>0+</td>\n",
              "    </tr>\n",
              "    <tr>\n",
              "      <th>9148</th>\n",
              "      <td>Command &amp; Conquer: Rivals</td>\n",
              "      <td>FAMILY</td>\n",
              "      <td>4.3</td>\n",
              "      <td>0</td>\n",
              "      <td>20.524013</td>\n",
              "      <td>0</td>\n",
              "      <td>Free</td>\n",
              "      <td>0.00</td>\n",
              "      <td>Everyone 10+</td>\n",
              "      <td>Strategy</td>\n",
              "      <td>2018-06-28</td>\n",
              "      <td>Varies with device</td>\n",
              "      <td>Varies with device</td>\n",
              "      <td>0</td>\n",
              "    </tr>\n",
              "  </tbody>\n",
              "</table>\n",
              "<p>101 rows × 14 columns</p>\n",
              "</div>"
            ],
            "text/plain": [
              "                                    App  ...   Installs1\n",
              "2989             GollerCepte Live Score  ...  1,000,000+\n",
              "4970       Ad Block REMOVER - NEED ROOT  ...    100,000+\n",
              "2723                SnipSnap Coupon App  ...  1,000,000+\n",
              "3079  US Open Tennis Championships 2018  ...  1,000,000+\n",
              "3229                         DreamTrips  ...    500,000+\n",
              "...                                 ...  ...         ...\n",
              "5307            Ak Parti Yardım Toplama  ...          0+\n",
              "8871             Test Application DT 02  ...          0+\n",
              "9337           EG | Explore Folegandros  ...          0+\n",
              "7434                      Pekalongan CJ  ...          0+\n",
              "9148          Command & Conquer: Rivals  ...           0\n",
              "\n",
              "[101 rows x 14 columns]"
            ]
          },
          "metadata": {},
          "execution_count": 107
        }
      ]
    },
    {
      "cell_type": "code",
      "metadata": {
        "colab": {
          "base_uri": "https://localhost:8080/",
          "height": 717
        },
        "id": "HglSkTvG4Bd_",
        "outputId": "3a216af7-5aa7-4334-e310-ce865720ea56"
      },
      "source": [
        "fig=px.bar(m, y='Installs',x='Content_Rating',color='Category',text='Installs',orientation='v',barmode='relative',\n",
        "             title='Number of Installs for each Category in a Year',height=700,)\n",
        "fig.show()"
      ],
      "execution_count": 108,
      "outputs": [
        {
          "output_type": "display_data",
          "data": {
            "text/html": [
              "<html>\n",
              "<head><meta charset=\"utf-8\" /></head>\n",
              "<body>\n",
              "    <div>\n",
              "            <script src=\"https://cdnjs.cloudflare.com/ajax/libs/mathjax/2.7.5/MathJax.js?config=TeX-AMS-MML_SVG\"></script><script type=\"text/javascript\">if (window.MathJax) {MathJax.Hub.Config({SVG: {font: \"STIX-Web\"}});}</script>\n",
              "                <script type=\"text/javascript\">window.PlotlyConfig = {MathJaxConfig: 'local'};</script>\n",
              "        <script src=\"https://cdn.plot.ly/plotly-latest.min.js\"></script>    \n",
              "            <div id=\"84ca0f6a-4519-4314-a374-c1b243a4c432\" class=\"plotly-graph-div\" style=\"height:700px; width:100%;\"></div>\n",
              "            <script type=\"text/javascript\">\n",
              "                \n",
              "                    window.PLOTLYENV=window.PLOTLYENV || {};\n",
              "                    \n",
              "                if (document.getElementById(\"84ca0f6a-4519-4314-a374-c1b243a4c432\")) {\n",
              "                    Plotly.newPlot(\n",
              "                        '84ca0f6a-4519-4314-a374-c1b243a4c432',\n",
              "                        [{\"alignmentgroup\": \"True\", \"hoverlabel\": {\"namelength\": 0}, \"hovertemplate\": \"Category=SPORTS<br>Content_Rating=%{x}<br>Installs=%{text}\", \"legendgroup\": \"Category=SPORTS\", \"marker\": {\"color\": \"#636efa\"}, \"name\": \"Category=SPORTS\", \"offsetgroup\": \"Category=SPORTS\", \"orientation\": \"v\", \"showlegend\": true, \"text\": [1000000.0, 1000000.0, 50000000.0, 100000000.0, 100.0], \"textposition\": \"auto\", \"type\": \"bar\", \"x\": [\"Everyone\", \"Everyone\", \"Teen\", \"Everyone\", \"Everyone\"], \"xaxis\": \"x\", \"y\": [1000000, 1000000, 50000000, 100000000, 100], \"yaxis\": \"y\"}, {\"alignmentgroup\": \"True\", \"hoverlabel\": {\"namelength\": 0}, \"hovertemplate\": \"Category=TOOLS<br>Content_Rating=%{x}<br>Installs=%{text}\", \"legendgroup\": \"Category=TOOLS\", \"marker\": {\"color\": \"#EF553B\"}, \"name\": \"Category=TOOLS\", \"offsetgroup\": \"Category=TOOLS\", \"orientation\": \"v\", \"showlegend\": true, \"text\": [100000.0, 50000.0, 100000.0, 5000000.0, 10000.0, 5000.0, 50000000.0, 500.0, 100.0, 50.0, 50.0, 1000000000.0, 500000000.0], \"textposition\": \"auto\", \"type\": \"bar\", \"x\": [\"Everyone\", \"Everyone\", \"Everyone\", \"Everyone\", \"Everyone\", \"Everyone\", \"Everyone\", \"Everyone\", \"Everyone\", \"Everyone\", \"Everyone\", \"Everyone\", \"Everyone\"], \"xaxis\": \"x\", \"y\": [100000, 50000, 100000, 5000000, 10000, 5000, 50000000, 500, 100, 50, 50, 1000000000, 500000000], \"yaxis\": \"y\"}, {\"alignmentgroup\": \"True\", \"hoverlabel\": {\"namelength\": 0}, \"hovertemplate\": \"Category=SHOPPING<br>Content_Rating=%{x}<br>Installs=%{text}\", \"legendgroup\": \"Category=SHOPPING\", \"marker\": {\"color\": \"#00cc96\"}, \"name\": \"Category=SHOPPING\", \"offsetgroup\": \"Category=SHOPPING\", \"orientation\": \"v\", \"showlegend\": true, \"text\": [1000000.0, 500000.0, 50000000.0, 10.0], \"textposition\": \"auto\", \"type\": \"bar\", \"x\": [\"Everyone\", \"Everyone\", \"Teen\", \"Everyone\"], \"xaxis\": \"x\", \"y\": [1000000, 500000, 50000000, 10], \"yaxis\": \"y\"}, {\"alignmentgroup\": \"True\", \"hoverlabel\": {\"namelength\": 0}, \"hovertemplate\": \"Category=TRAVEL_AND_LOCAL<br>Content_Rating=%{x}<br>Installs=%{text}\", \"legendgroup\": \"Category=TRAVEL_AND_LOCAL\", \"marker\": {\"color\": \"#ab63fa\"}, \"name\": \"Category=TRAVEL_AND_LOCAL\", \"offsetgroup\": \"Category=TRAVEL_AND_LOCAL\", \"orientation\": \"v\", \"showlegend\": true, \"text\": [500000.0, 10000000.0, 5000.0, 1000000000.0, 0.0], \"textposition\": \"auto\", \"type\": \"bar\", \"x\": [\"Teen\", \"Everyone\", \"Everyone\", \"Everyone\", \"Everyone\"], \"xaxis\": \"x\", \"y\": [500000, 10000000, 5000, 1000000000, 0], \"yaxis\": \"y\"}, {\"alignmentgroup\": \"True\", \"hoverlabel\": {\"namelength\": 0}, \"hovertemplate\": \"Category=FAMILY<br>Content_Rating=%{x}<br>Installs=%{text}\", \"legendgroup\": \"Category=FAMILY\", \"marker\": {\"color\": \"#FFA15A\"}, \"name\": \"Category=FAMILY\", \"offsetgroup\": \"Category=FAMILY\", \"orientation\": \"v\", \"showlegend\": true, \"text\": [100000.0, 100000.0, 10000.0, 10000.0, 100000000.0, 5000000.0, 1000.0, 50000.0, 5000.0, 100.0, 500.0, 10.0, 50.0, 1.0, 0.0, 0.0], \"textposition\": \"auto\", \"type\": \"bar\", \"x\": [\"Everyone\", \"Teen\", \"Teen\", \"Everyone\", \"Everyone\", \"Everyone\", \"Everyone\", \"Everyone\", \"Everyone\", \"Everyone\", \"Everyone\", \"Everyone\", \"Everyone\", \"Everyone\", \"Everyone\", \"Everyone 10+\"], \"xaxis\": \"x\", \"y\": [100000, 100000, 10000, 10000, 100000000, 5000000, 1000, 50000, 5000, 100, 500, 10, 50, 1, 0, 0], \"yaxis\": \"y\"}, {\"alignmentgroup\": \"True\", \"hoverlabel\": {\"namelength\": 0}, \"hovertemplate\": \"Category=VIDEO_PLAYERS<br>Content_Rating=%{x}<br>Installs=%{text}\", \"legendgroup\": \"Category=VIDEO_PLAYERS\", \"marker\": {\"color\": \"#19d3f3\"}, \"name\": \"Category=VIDEO_PLAYERS\", \"offsetgroup\": \"Category=VIDEO_PLAYERS\", \"orientation\": \"v\", \"showlegend\": true, \"text\": [1000000.0, 5000000.0, 100000000.0, 1000000000.0, 500000000.0], \"textposition\": \"auto\", \"type\": \"bar\", \"x\": [\"Everyone\", \"Everyone\", \"Teen\", \"Teen\", \"Everyone\"], \"xaxis\": \"x\", \"y\": [1000000, 5000000, 100000000, 1000000000, 500000000], \"yaxis\": \"y\"}, {\"alignmentgroup\": \"True\", \"hoverlabel\": {\"namelength\": 0}, \"hovertemplate\": \"Category=COMMUNICATION<br>Content_Rating=%{x}<br>Installs=%{text}\", \"legendgroup\": \"Category=COMMUNICATION\", \"marker\": {\"color\": \"#FF6692\"}, \"name\": \"Category=COMMUNICATION\", \"offsetgroup\": \"Category=COMMUNICATION\", \"orientation\": \"v\", \"showlegend\": true, \"text\": [10000000.0, 500000.0, 50000.0, 5000.0, 1000000000.0, 1000.0, 500.0], \"textposition\": \"auto\", \"type\": \"bar\", \"x\": [\"Everyone\", \"Everyone\", \"Everyone\", \"Everyone\", \"Everyone\", \"Everyone\", \"Everyone\"], \"xaxis\": \"x\", \"y\": [10000000, 500000, 50000, 5000, 1000000000, 1000, 500], \"yaxis\": \"y\"}, {\"alignmentgroup\": \"True\", \"hoverlabel\": {\"namelength\": 0}, \"hovertemplate\": \"Category=COMICS<br>Content_Rating=%{x}<br>Installs=%{text}\", \"legendgroup\": \"Category=COMICS\", \"marker\": {\"color\": \"#B6E880\"}, \"name\": \"Category=COMICS\", \"offsetgroup\": \"Category=COMICS\", \"orientation\": \"v\", \"showlegend\": true, \"text\": [500000.0], \"textposition\": \"auto\", \"type\": \"bar\", \"x\": [\"Everyone 10+\"], \"xaxis\": \"x\", \"y\": [500000], \"yaxis\": \"y\"}, {\"alignmentgroup\": \"True\", \"hoverlabel\": {\"namelength\": 0}, \"hovertemplate\": \"Category=GAME<br>Content_Rating=%{x}<br>Installs=%{text}\", \"legendgroup\": \"Category=GAME\", \"marker\": {\"color\": \"#FF97FF\"}, \"name\": \"Category=GAME\", \"offsetgroup\": \"Category=GAME\", \"orientation\": \"v\", \"showlegend\": true, \"text\": [1000000.0, 10000000.0, 10000000.0, 100000000.0, 100000000.0, 50000000.0, 500000000.0, 50.0, 5.0, 1.0, 1.0], \"textposition\": \"auto\", \"type\": \"bar\", \"x\": [\"Mature 17+\", \"Mature 17+\", \"Everyone\", \"Everyone\", \"Everyone\", \"Everyone\", \"Everyone\", \"Everyone\", \"Everyone\", \"Everyone\", \"Everyone\"], \"xaxis\": \"x\", \"y\": [1000000, 10000000, 10000000, 100000000, 100000000, 50000000, 500000000, 50, 5, 1, 1], \"yaxis\": \"y\"}, {\"alignmentgroup\": \"True\", \"hoverlabel\": {\"namelength\": 0}, \"hovertemplate\": \"Category=MEDICAL<br>Content_Rating=%{x}<br>Installs=%{text}\", \"legendgroup\": \"Category=MEDICAL\", \"marker\": {\"color\": \"#FECB52\"}, \"name\": \"Category=MEDICAL\", \"offsetgroup\": \"Category=MEDICAL\", \"orientation\": \"v\", \"showlegend\": true, \"text\": [500000.0, 50000.0, 1000.0, 500.0, 1.0, 5.0, 5.0], \"textposition\": \"auto\", \"type\": \"bar\", \"x\": [\"Everyone\", \"Everyone\", \"Everyone\", \"Everyone\", \"Everyone\", \"Everyone\", \"Everyone\"], \"xaxis\": \"x\", \"y\": [500000, 50000, 1000, 500, 1, 5, 5], \"yaxis\": \"y\"}, {\"alignmentgroup\": \"True\", \"hoverlabel\": {\"namelength\": 0}, \"hovertemplate\": \"Category=AUTO_AND_VEHICLES<br>Content_Rating=%{x}<br>Installs=%{text}\", \"legendgroup\": \"Category=AUTO_AND_VEHICLES\", \"marker\": {\"color\": \"#636efa\"}, \"name\": \"Category=AUTO_AND_VEHICLES\", \"offsetgroup\": \"Category=AUTO_AND_VEHICLES\", \"orientation\": \"v\", \"showlegend\": true, \"text\": [100000.0], \"textposition\": \"auto\", \"type\": \"bar\", \"x\": [\"Everyone\"], \"xaxis\": \"x\", \"y\": [100000], \"yaxis\": \"y\"}, {\"alignmentgroup\": \"True\", \"hoverlabel\": {\"namelength\": 0}, \"hovertemplate\": \"Category=EVENTS<br>Content_Rating=%{x}<br>Installs=%{text}\", \"legendgroup\": \"Category=EVENTS\", \"marker\": {\"color\": \"#EF553B\"}, \"name\": \"Category=EVENTS\", \"offsetgroup\": \"Category=EVENTS\", \"orientation\": \"v\", \"showlegend\": true, \"text\": [10000.0], \"textposition\": \"auto\", \"type\": \"bar\", \"x\": [\"Everyone\"], \"xaxis\": \"x\", \"y\": [10000], \"yaxis\": \"y\"}, {\"alignmentgroup\": \"True\", \"hoverlabel\": {\"namelength\": 0}, \"hovertemplate\": \"Category=PARENTING<br>Content_Rating=%{x}<br>Installs=%{text}\", \"legendgroup\": \"Category=PARENTING\", \"marker\": {\"color\": \"#00cc96\"}, \"name\": \"Category=PARENTING\", \"offsetgroup\": \"Category=PARENTING\", \"orientation\": \"v\", \"showlegend\": true, \"text\": [10000.0], \"textposition\": \"auto\", \"type\": \"bar\", \"x\": [\"Everyone\"], \"xaxis\": \"x\", \"y\": [10000], \"yaxis\": \"y\"}, {\"alignmentgroup\": \"True\", \"hoverlabel\": {\"namelength\": 0}, \"hovertemplate\": \"Category=PHOTOGRAPHY<br>Content_Rating=%{x}<br>Installs=%{text}\", \"legendgroup\": \"Category=PHOTOGRAPHY\", \"marker\": {\"color\": \"#ab63fa\"}, \"name\": \"Category=PHOTOGRAPHY\", \"offsetgroup\": \"Category=PHOTOGRAPHY\", \"orientation\": \"v\", \"showlegend\": true, \"text\": [5000000.0], \"textposition\": \"auto\", \"type\": \"bar\", \"x\": [\"Everyone\"], \"xaxis\": \"x\", \"y\": [5000000], \"yaxis\": \"y\"}, {\"alignmentgroup\": \"True\", \"hoverlabel\": {\"namelength\": 0}, \"hovertemplate\": \"Category=ENTERTAINMENT<br>Content_Rating=%{x}<br>Installs=%{text}\", \"legendgroup\": \"Category=ENTERTAINMENT\", \"marker\": {\"color\": \"#FFA15A\"}, \"name\": \"Category=ENTERTAINMENT\", \"offsetgroup\": \"Category=ENTERTAINMENT\", \"orientation\": \"v\", \"showlegend\": true, \"text\": [5000000.0], \"textposition\": \"auto\", \"type\": \"bar\", \"x\": [\"Everyone\"], \"xaxis\": \"x\", \"y\": [5000000], \"yaxis\": \"y\"}, {\"alignmentgroup\": \"True\", \"hoverlabel\": {\"namelength\": 0}, \"hovertemplate\": \"Category=BUSINESS<br>Content_Rating=%{x}<br>Installs=%{text}\", \"legendgroup\": \"Category=BUSINESS\", \"marker\": {\"color\": \"#19d3f3\"}, \"name\": \"Category=BUSINESS\", \"offsetgroup\": \"Category=BUSINESS\", \"orientation\": \"v\", \"showlegend\": true, \"text\": [50000000.0, 100.0, 10.0], \"textposition\": \"auto\", \"type\": \"bar\", \"x\": [\"Everyone\", \"Everyone\", \"Teen\"], \"xaxis\": \"x\", \"y\": [50000000, 100, 10], \"yaxis\": \"y\"}, {\"alignmentgroup\": \"True\", \"hoverlabel\": {\"namelength\": 0}, \"hovertemplate\": \"Category=WEATHER<br>Content_Rating=%{x}<br>Installs=%{text}\", \"legendgroup\": \"Category=WEATHER\", \"marker\": {\"color\": \"#FF6692\"}, \"name\": \"Category=WEATHER\", \"offsetgroup\": \"Category=WEATHER\", \"orientation\": \"v\", \"showlegend\": true, \"text\": [10000000.0], \"textposition\": \"auto\", \"type\": \"bar\", \"x\": [\"Everyone\"], \"xaxis\": \"x\", \"y\": [10000000], \"yaxis\": \"y\"}, {\"alignmentgroup\": \"True\", \"hoverlabel\": {\"namelength\": 0}, \"hovertemplate\": \"Category=HEALTH_AND_FITNESS<br>Content_Rating=%{x}<br>Installs=%{text}\", \"legendgroup\": \"Category=HEALTH_AND_FITNESS\", \"marker\": {\"color\": \"#B6E880\"}, \"name\": \"Category=HEALTH_AND_FITNESS\", \"offsetgroup\": \"Category=HEALTH_AND_FITNESS\", \"orientation\": \"v\", \"showlegend\": true, \"text\": [50000.0, 5.0], \"textposition\": \"auto\", \"type\": \"bar\", \"x\": [\"Everyone\", \"Everyone\"], \"xaxis\": \"x\", \"y\": [50000, 5], \"yaxis\": \"y\"}, {\"alignmentgroup\": \"True\", \"hoverlabel\": {\"namelength\": 0}, \"hovertemplate\": \"Category=PERSONALIZATION<br>Content_Rating=%{x}<br>Installs=%{text}\", \"legendgroup\": \"Category=PERSONALIZATION\", \"marker\": {\"color\": \"#FF97FF\"}, \"name\": \"Category=PERSONALIZATION\", \"offsetgroup\": \"Category=PERSONALIZATION\", \"orientation\": \"v\", \"showlegend\": true, \"text\": [5000.0, 1.0], \"textposition\": \"auto\", \"type\": \"bar\", \"x\": [\"Everyone\", \"Everyone\"], \"xaxis\": \"x\", \"y\": [5000, 1], \"yaxis\": \"y\"}, {\"alignmentgroup\": \"True\", \"hoverlabel\": {\"namelength\": 0}, \"hovertemplate\": \"Category=PRODUCTIVITY<br>Content_Rating=%{x}<br>Installs=%{text}\", \"legendgroup\": \"Category=PRODUCTIVITY\", \"marker\": {\"color\": \"#FECB52\"}, \"name\": \"Category=PRODUCTIVITY\", \"offsetgroup\": \"Category=PRODUCTIVITY\", \"orientation\": \"v\", \"showlegend\": true, \"text\": [1000.0, 10.0, 50.0, 500000000.0], \"textposition\": \"auto\", \"type\": \"bar\", \"x\": [\"Everyone\", \"Everyone\", \"Everyone\", \"Everyone\"], \"xaxis\": \"x\", \"y\": [1000, 10, 50, 500000000], \"yaxis\": \"y\"}, {\"alignmentgroup\": \"True\", \"hoverlabel\": {\"namelength\": 0}, \"hovertemplate\": \"Category=FINANCE<br>Content_Rating=%{x}<br>Installs=%{text}\", \"legendgroup\": \"Category=FINANCE\", \"marker\": {\"color\": \"#636efa\"}, \"name\": \"Category=FINANCE\", \"offsetgroup\": \"Category=FINANCE\", \"orientation\": \"v\", \"showlegend\": true, \"text\": [1000.0], \"textposition\": \"auto\", \"type\": \"bar\", \"x\": [\"Everyone\"], \"xaxis\": \"x\", \"y\": [1000], \"yaxis\": \"y\"}, {\"alignmentgroup\": \"True\", \"hoverlabel\": {\"namelength\": 0}, \"hovertemplate\": \"Category=MAPS_AND_NAVIGATION<br>Content_Rating=%{x}<br>Installs=%{text}\", \"legendgroup\": \"Category=MAPS_AND_NAVIGATION\", \"marker\": {\"color\": \"#EF553B\"}, \"name\": \"Category=MAPS_AND_NAVIGATION\", \"offsetgroup\": \"Category=MAPS_AND_NAVIGATION\", \"orientation\": \"v\", \"showlegend\": true, \"text\": [500.0, 10.0], \"textposition\": \"auto\", \"type\": \"bar\", \"x\": [\"Everyone\", \"Everyone\"], \"xaxis\": \"x\", \"y\": [500, 10], \"yaxis\": \"y\"}, {\"alignmentgroup\": \"True\", \"hoverlabel\": {\"namelength\": 0}, \"hovertemplate\": \"Category=LIFESTYLE<br>Content_Rating=%{x}<br>Installs=%{text}\", \"legendgroup\": \"Category=LIFESTYLE\", \"marker\": {\"color\": \"#00cc96\"}, \"name\": \"Category=LIFESTYLE\", \"offsetgroup\": \"Category=LIFESTYLE\", \"orientation\": \"v\", \"showlegend\": true, \"text\": [100.0], \"textposition\": \"auto\", \"type\": \"bar\", \"x\": [\"Teen\"], \"xaxis\": \"x\", \"y\": [100], \"yaxis\": \"y\"}, {\"alignmentgroup\": \"True\", \"hoverlabel\": {\"namelength\": 0}, \"hovertemplate\": \"Category=NEWS_AND_MAGAZINES<br>Content_Rating=%{x}<br>Installs=%{text}\", \"legendgroup\": \"Category=NEWS_AND_MAGAZINES\", \"marker\": {\"color\": \"#ab63fa\"}, \"name\": \"Category=NEWS_AND_MAGAZINES\", \"offsetgroup\": \"Category=NEWS_AND_MAGAZINES\", \"orientation\": \"v\", \"showlegend\": true, \"text\": [1000000000.0], \"textposition\": \"auto\", \"type\": \"bar\", \"x\": [\"Teen\"], \"xaxis\": \"x\", \"y\": [1000000000], \"yaxis\": \"y\"}, {\"alignmentgroup\": \"True\", \"hoverlabel\": {\"namelength\": 0}, \"hovertemplate\": \"Category=SOCIAL<br>Content_Rating=%{x}<br>Installs=%{text}\", \"legendgroup\": \"Category=SOCIAL\", \"marker\": {\"color\": \"#FFA15A\"}, \"name\": \"Category=SOCIAL\", \"offsetgroup\": \"Category=SOCIAL\", \"orientation\": \"v\", \"showlegend\": true, \"text\": [500000000.0, 5.0, 0.0, 0.0], \"textposition\": \"auto\", \"type\": \"bar\", \"x\": [\"Teen\", \"Everyone\", \"Teen\", \"Teen\"], \"xaxis\": \"x\", \"y\": [500000000, 5, 0, 0], \"yaxis\": \"y\"}, {\"alignmentgroup\": \"True\", \"hoverlabel\": {\"namelength\": 0}, \"hovertemplate\": \"Category=ART_AND_DESIGN<br>Content_Rating=%{x}<br>Installs=%{text}\", \"legendgroup\": \"Category=ART_AND_DESIGN\", \"marker\": {\"color\": \"#19d3f3\"}, \"name\": \"Category=ART_AND_DESIGN\", \"offsetgroup\": \"Category=ART_AND_DESIGN\", \"orientation\": \"v\", \"showlegend\": true, \"text\": [0.0], \"textposition\": \"auto\", \"type\": \"bar\", \"x\": [\"Everyone\"], \"xaxis\": \"x\", \"y\": [0], \"yaxis\": \"y\"}],\n",
              "                        {\"barmode\": \"relative\", \"height\": 700, \"legend\": {\"tracegroupgap\": 0}, \"template\": {\"data\": {\"bar\": [{\"error_x\": {\"color\": \"#2a3f5f\"}, \"error_y\": {\"color\": \"#2a3f5f\"}, \"marker\": {\"line\": {\"color\": \"#E5ECF6\", \"width\": 0.5}}, \"type\": \"bar\"}], \"barpolar\": [{\"marker\": {\"line\": {\"color\": \"#E5ECF6\", \"width\": 0.5}}, \"type\": \"barpolar\"}], \"carpet\": [{\"aaxis\": {\"endlinecolor\": \"#2a3f5f\", \"gridcolor\": \"white\", \"linecolor\": \"white\", \"minorgridcolor\": \"white\", \"startlinecolor\": \"#2a3f5f\"}, \"baxis\": {\"endlinecolor\": \"#2a3f5f\", \"gridcolor\": \"white\", \"linecolor\": \"white\", \"minorgridcolor\": \"white\", \"startlinecolor\": \"#2a3f5f\"}, \"type\": \"carpet\"}], \"choropleth\": [{\"colorbar\": {\"outlinewidth\": 0, \"ticks\": \"\"}, \"type\": \"choropleth\"}], \"contour\": [{\"colorbar\": {\"outlinewidth\": 0, \"ticks\": \"\"}, \"colorscale\": [[0.0, \"#0d0887\"], [0.1111111111111111, \"#46039f\"], [0.2222222222222222, \"#7201a8\"], [0.3333333333333333, \"#9c179e\"], [0.4444444444444444, \"#bd3786\"], [0.5555555555555556, \"#d8576b\"], [0.6666666666666666, \"#ed7953\"], [0.7777777777777778, \"#fb9f3a\"], [0.8888888888888888, \"#fdca26\"], [1.0, \"#f0f921\"]], \"type\": \"contour\"}], \"contourcarpet\": [{\"colorbar\": {\"outlinewidth\": 0, \"ticks\": \"\"}, \"type\": \"contourcarpet\"}], \"heatmap\": [{\"colorbar\": {\"outlinewidth\": 0, \"ticks\": \"\"}, \"colorscale\": [[0.0, \"#0d0887\"], [0.1111111111111111, \"#46039f\"], [0.2222222222222222, \"#7201a8\"], [0.3333333333333333, \"#9c179e\"], [0.4444444444444444, \"#bd3786\"], [0.5555555555555556, \"#d8576b\"], [0.6666666666666666, \"#ed7953\"], [0.7777777777777778, \"#fb9f3a\"], [0.8888888888888888, \"#fdca26\"], [1.0, \"#f0f921\"]], \"type\": \"heatmap\"}], \"heatmapgl\": [{\"colorbar\": {\"outlinewidth\": 0, \"ticks\": \"\"}, \"colorscale\": [[0.0, \"#0d0887\"], [0.1111111111111111, \"#46039f\"], [0.2222222222222222, \"#7201a8\"], [0.3333333333333333, \"#9c179e\"], [0.4444444444444444, \"#bd3786\"], [0.5555555555555556, \"#d8576b\"], [0.6666666666666666, \"#ed7953\"], [0.7777777777777778, \"#fb9f3a\"], [0.8888888888888888, \"#fdca26\"], [1.0, \"#f0f921\"]], \"type\": \"heatmapgl\"}], \"histogram\": [{\"marker\": {\"colorbar\": {\"outlinewidth\": 0, \"ticks\": \"\"}}, \"type\": \"histogram\"}], \"histogram2d\": [{\"colorbar\": {\"outlinewidth\": 0, \"ticks\": \"\"}, \"colorscale\": [[0.0, \"#0d0887\"], [0.1111111111111111, \"#46039f\"], [0.2222222222222222, \"#7201a8\"], [0.3333333333333333, \"#9c179e\"], [0.4444444444444444, \"#bd3786\"], [0.5555555555555556, \"#d8576b\"], [0.6666666666666666, \"#ed7953\"], [0.7777777777777778, \"#fb9f3a\"], [0.8888888888888888, \"#fdca26\"], [1.0, \"#f0f921\"]], \"type\": \"histogram2d\"}], \"histogram2dcontour\": [{\"colorbar\": {\"outlinewidth\": 0, \"ticks\": \"\"}, \"colorscale\": [[0.0, \"#0d0887\"], [0.1111111111111111, \"#46039f\"], [0.2222222222222222, \"#7201a8\"], [0.3333333333333333, \"#9c179e\"], [0.4444444444444444, \"#bd3786\"], [0.5555555555555556, \"#d8576b\"], [0.6666666666666666, \"#ed7953\"], [0.7777777777777778, \"#fb9f3a\"], [0.8888888888888888, \"#fdca26\"], [1.0, \"#f0f921\"]], \"type\": \"histogram2dcontour\"}], \"mesh3d\": [{\"colorbar\": {\"outlinewidth\": 0, \"ticks\": \"\"}, \"type\": \"mesh3d\"}], \"parcoords\": [{\"line\": {\"colorbar\": {\"outlinewidth\": 0, \"ticks\": \"\"}}, \"type\": \"parcoords\"}], \"pie\": [{\"automargin\": true, \"type\": \"pie\"}], \"scatter\": [{\"marker\": {\"colorbar\": {\"outlinewidth\": 0, \"ticks\": \"\"}}, \"type\": \"scatter\"}], \"scatter3d\": [{\"line\": {\"colorbar\": {\"outlinewidth\": 0, \"ticks\": \"\"}}, \"marker\": {\"colorbar\": {\"outlinewidth\": 0, \"ticks\": \"\"}}, \"type\": \"scatter3d\"}], \"scattercarpet\": [{\"marker\": {\"colorbar\": {\"outlinewidth\": 0, \"ticks\": \"\"}}, \"type\": \"scattercarpet\"}], \"scattergeo\": [{\"marker\": {\"colorbar\": {\"outlinewidth\": 0, \"ticks\": \"\"}}, \"type\": \"scattergeo\"}], \"scattergl\": [{\"marker\": {\"colorbar\": {\"outlinewidth\": 0, \"ticks\": \"\"}}, \"type\": \"scattergl\"}], \"scattermapbox\": [{\"marker\": {\"colorbar\": {\"outlinewidth\": 0, \"ticks\": \"\"}}, \"type\": \"scattermapbox\"}], \"scatterpolar\": [{\"marker\": {\"colorbar\": {\"outlinewidth\": 0, \"ticks\": \"\"}}, \"type\": \"scatterpolar\"}], \"scatterpolargl\": [{\"marker\": {\"colorbar\": {\"outlinewidth\": 0, \"ticks\": \"\"}}, \"type\": \"scatterpolargl\"}], \"scatterternary\": [{\"marker\": {\"colorbar\": {\"outlinewidth\": 0, \"ticks\": \"\"}}, \"type\": \"scatterternary\"}], \"surface\": [{\"colorbar\": {\"outlinewidth\": 0, \"ticks\": \"\"}, \"colorscale\": [[0.0, \"#0d0887\"], [0.1111111111111111, \"#46039f\"], [0.2222222222222222, \"#7201a8\"], [0.3333333333333333, \"#9c179e\"], [0.4444444444444444, \"#bd3786\"], [0.5555555555555556, \"#d8576b\"], [0.6666666666666666, \"#ed7953\"], [0.7777777777777778, \"#fb9f3a\"], [0.8888888888888888, \"#fdca26\"], [1.0, \"#f0f921\"]], \"type\": \"surface\"}], \"table\": [{\"cells\": {\"fill\": {\"color\": \"#EBF0F8\"}, \"line\": {\"color\": \"white\"}}, \"header\": {\"fill\": {\"color\": \"#C8D4E3\"}, \"line\": {\"color\": \"white\"}}, \"type\": \"table\"}]}, \"layout\": {\"annotationdefaults\": {\"arrowcolor\": \"#2a3f5f\", \"arrowhead\": 0, \"arrowwidth\": 1}, \"coloraxis\": {\"colorbar\": {\"outlinewidth\": 0, \"ticks\": \"\"}}, \"colorscale\": {\"diverging\": [[0, \"#8e0152\"], [0.1, \"#c51b7d\"], [0.2, \"#de77ae\"], [0.3, \"#f1b6da\"], [0.4, \"#fde0ef\"], [0.5, \"#f7f7f7\"], [0.6, \"#e6f5d0\"], [0.7, \"#b8e186\"], [0.8, \"#7fbc41\"], [0.9, \"#4d9221\"], [1, \"#276419\"]], \"sequential\": [[0.0, \"#0d0887\"], [0.1111111111111111, \"#46039f\"], [0.2222222222222222, \"#7201a8\"], [0.3333333333333333, \"#9c179e\"], [0.4444444444444444, \"#bd3786\"], [0.5555555555555556, \"#d8576b\"], [0.6666666666666666, \"#ed7953\"], [0.7777777777777778, \"#fb9f3a\"], [0.8888888888888888, \"#fdca26\"], [1.0, \"#f0f921\"]], \"sequentialminus\": [[0.0, \"#0d0887\"], [0.1111111111111111, \"#46039f\"], [0.2222222222222222, \"#7201a8\"], [0.3333333333333333, \"#9c179e\"], [0.4444444444444444, \"#bd3786\"], [0.5555555555555556, \"#d8576b\"], [0.6666666666666666, \"#ed7953\"], [0.7777777777777778, \"#fb9f3a\"], [0.8888888888888888, \"#fdca26\"], [1.0, \"#f0f921\"]]}, \"colorway\": [\"#636efa\", \"#EF553B\", \"#00cc96\", \"#ab63fa\", \"#FFA15A\", \"#19d3f3\", \"#FF6692\", \"#B6E880\", \"#FF97FF\", \"#FECB52\"], \"font\": {\"color\": \"#2a3f5f\"}, \"geo\": {\"bgcolor\": \"white\", \"lakecolor\": \"white\", \"landcolor\": \"#E5ECF6\", \"showlakes\": true, \"showland\": true, \"subunitcolor\": \"white\"}, \"hoverlabel\": {\"align\": \"left\"}, \"hovermode\": \"closest\", \"mapbox\": {\"style\": \"light\"}, \"paper_bgcolor\": \"white\", \"plot_bgcolor\": \"#E5ECF6\", \"polar\": {\"angularaxis\": {\"gridcolor\": \"white\", \"linecolor\": \"white\", \"ticks\": \"\"}, \"bgcolor\": \"#E5ECF6\", \"radialaxis\": {\"gridcolor\": \"white\", \"linecolor\": \"white\", \"ticks\": \"\"}}, \"scene\": {\"xaxis\": {\"backgroundcolor\": \"#E5ECF6\", \"gridcolor\": \"white\", \"gridwidth\": 2, \"linecolor\": \"white\", \"showbackground\": true, \"ticks\": \"\", \"zerolinecolor\": \"white\"}, \"yaxis\": {\"backgroundcolor\": \"#E5ECF6\", \"gridcolor\": \"white\", \"gridwidth\": 2, \"linecolor\": \"white\", \"showbackground\": true, \"ticks\": \"\", \"zerolinecolor\": \"white\"}, \"zaxis\": {\"backgroundcolor\": \"#E5ECF6\", \"gridcolor\": \"white\", \"gridwidth\": 2, \"linecolor\": \"white\", \"showbackground\": true, \"ticks\": \"\", \"zerolinecolor\": \"white\"}}, \"shapedefaults\": {\"line\": {\"color\": \"#2a3f5f\"}}, \"ternary\": {\"aaxis\": {\"gridcolor\": \"white\", \"linecolor\": \"white\", \"ticks\": \"\"}, \"baxis\": {\"gridcolor\": \"white\", \"linecolor\": \"white\", \"ticks\": \"\"}, \"bgcolor\": \"#E5ECF6\", \"caxis\": {\"gridcolor\": \"white\", \"linecolor\": \"white\", \"ticks\": \"\"}}, \"title\": {\"x\": 0.05}, \"xaxis\": {\"automargin\": true, \"gridcolor\": \"white\", \"linecolor\": \"white\", \"ticks\": \"\", \"title\": {\"standoff\": 15}, \"zerolinecolor\": \"white\", \"zerolinewidth\": 2}, \"yaxis\": {\"automargin\": true, \"gridcolor\": \"white\", \"linecolor\": \"white\", \"ticks\": \"\", \"title\": {\"standoff\": 15}, \"zerolinecolor\": \"white\", \"zerolinewidth\": 2}}}, \"title\": {\"text\": \"Number of Installs for each Category in a Year\"}, \"xaxis\": {\"anchor\": \"y\", \"domain\": [0.0, 1.0], \"title\": {\"text\": \"Content_Rating\"}}, \"yaxis\": {\"anchor\": \"x\", \"domain\": [0.0, 1.0], \"title\": {\"text\": \"Installs\"}}},\n",
              "                        {\"responsive\": true}\n",
              "                    ).then(function(){\n",
              "                            \n",
              "var gd = document.getElementById('84ca0f6a-4519-4314-a374-c1b243a4c432');\n",
              "var x = new MutationObserver(function (mutations, observer) {{\n",
              "        var display = window.getComputedStyle(gd).display;\n",
              "        if (!display || display === 'none') {{\n",
              "            console.log([gd, 'removed!']);\n",
              "            Plotly.purge(gd);\n",
              "            observer.disconnect();\n",
              "        }}\n",
              "}});\n",
              "\n",
              "// Listen for the removal of the full notebook cells\n",
              "var notebookContainer = gd.closest('#notebook-container');\n",
              "if (notebookContainer) {{\n",
              "    x.observe(notebookContainer, {childList: true});\n",
              "}}\n",
              "\n",
              "// Listen for the clearing of the current output cell\n",
              "var outputEl = gd.closest('.output');\n",
              "if (outputEl) {{\n",
              "    x.observe(outputEl, {childList: true});\n",
              "}}\n",
              "\n",
              "                        })\n",
              "                };\n",
              "                \n",
              "            </script>\n",
              "        </div>\n",
              "</body>\n",
              "</html>"
            ]
          },
          "metadata": {}
        }
      ]
    },
    {
      "cell_type": "code",
      "metadata": {
        "id": "8xJJNpPv4BW7"
      },
      "source": [
        ""
      ],
      "execution_count": null,
      "outputs": []
    },
    {
      "cell_type": "code",
      "metadata": {
        "id": "i-Ekpgme4BQ2"
      },
      "source": [
        ""
      ],
      "execution_count": null,
      "outputs": []
    },
    {
      "cell_type": "code",
      "metadata": {
        "id": "cYRYWkXE4BJk"
      },
      "source": [
        ""
      ],
      "execution_count": null,
      "outputs": []
    },
    {
      "cell_type": "markdown",
      "metadata": {
        "id": "fbH_4MVvROEm"
      },
      "source": [
        "# 3 - Average rating per category"
      ]
    },
    {
      "cell_type": "markdown",
      "metadata": {
        "id": "DNCCSXxr4AbT"
      },
      "source": [
        ""
      ]
    },
    {
      "cell_type": "code",
      "metadata": {
        "id": "cc4XElyMhT5I",
        "colab": {
          "base_uri": "https://localhost:8080/",
          "height": 358
        },
        "outputId": "b47b6f60-de0b-4db0-e1b5-38e9958bdc25"
      },
      "source": [
        "# Computing mean over Rating column over each apps of Category\n",
        "# Let us make a dataframe storing the above intution named as mean_rating_df \n",
        "mean_rating_df=merged_df.groupby(merged_df.Category).mean()\n",
        "mean_rating_df.reset_index(inplace=True)\n",
        "mean_rating_df =mean_rating_df.sort_values(by='Rating',ascending=False)\n",
        "mean_rating_df = mean_rating_df[['Category','Rating']]\n",
        "mean_rating_df.head(10)"
      ],
      "execution_count": 80,
      "outputs": [
        {
          "output_type": "execute_result",
          "data": {
            "text/html": [
              "<div>\n",
              "<style scoped>\n",
              "    .dataframe tbody tr th:only-of-type {\n",
              "        vertical-align: middle;\n",
              "    }\n",
              "\n",
              "    .dataframe tbody tr th {\n",
              "        vertical-align: top;\n",
              "    }\n",
              "\n",
              "    .dataframe thead th {\n",
              "        text-align: right;\n",
              "    }\n",
              "</style>\n",
              "<table border=\"1\" class=\"dataframe\">\n",
              "  <thead>\n",
              "    <tr style=\"text-align: right;\">\n",
              "      <th></th>\n",
              "      <th>Category</th>\n",
              "      <th>Rating</th>\n",
              "    </tr>\n",
              "  </thead>\n",
              "  <tbody>\n",
              "    <tr>\n",
              "      <th>1</th>\n",
              "      <td>AUTO_AND_VEHICLES</td>\n",
              "      <td>4.577855</td>\n",
              "    </tr>\n",
              "    <tr>\n",
              "      <th>14</th>\n",
              "      <td>GAME</td>\n",
              "      <td>4.441015</td>\n",
              "    </tr>\n",
              "    <tr>\n",
              "      <th>15</th>\n",
              "      <td>HEALTH_AND_FITNESS</td>\n",
              "      <td>4.392308</td>\n",
              "    </tr>\n",
              "    <tr>\n",
              "      <th>13</th>\n",
              "      <td>FOOD_AND_DRINK</td>\n",
              "      <td>4.385266</td>\n",
              "    </tr>\n",
              "    <tr>\n",
              "      <th>11</th>\n",
              "      <td>FAMILY</td>\n",
              "      <td>4.366015</td>\n",
              "    </tr>\n",
              "    <tr>\n",
              "      <th>25</th>\n",
              "      <td>PRODUCTIVITY</td>\n",
              "      <td>4.365619</td>\n",
              "    </tr>\n",
              "    <tr>\n",
              "      <th>3</th>\n",
              "      <td>BOOKS_AND_REFERENCE</td>\n",
              "      <td>4.362366</td>\n",
              "    </tr>\n",
              "    <tr>\n",
              "      <th>23</th>\n",
              "      <td>PERSONALIZATION</td>\n",
              "      <td>4.337886</td>\n",
              "    </tr>\n",
              "    <tr>\n",
              "      <th>10</th>\n",
              "      <td>EVENTS</td>\n",
              "      <td>4.336076</td>\n",
              "    </tr>\n",
              "    <tr>\n",
              "      <th>24</th>\n",
              "      <td>PHOTOGRAPHY</td>\n",
              "      <td>4.327041</td>\n",
              "    </tr>\n",
              "  </tbody>\n",
              "</table>\n",
              "</div>"
            ],
            "text/plain": [
              "               Category    Rating\n",
              "1     AUTO_AND_VEHICLES  4.577855\n",
              "14                 GAME  4.441015\n",
              "15   HEALTH_AND_FITNESS  4.392308\n",
              "13       FOOD_AND_DRINK  4.385266\n",
              "11               FAMILY  4.366015\n",
              "25         PRODUCTIVITY  4.365619\n",
              "3   BOOKS_AND_REFERENCE  4.362366\n",
              "23      PERSONALIZATION  4.337886\n",
              "10               EVENTS  4.336076\n",
              "24          PHOTOGRAPHY  4.327041"
            ]
          },
          "metadata": {},
          "execution_count": 80
        }
      ]
    },
    {
      "cell_type": "code",
      "metadata": {
        "colab": {
          "base_uri": "https://localhost:8080/",
          "height": 920
        },
        "id": "CtLhU3nh0rxE",
        "outputId": "6a545b25-cf0a-42a0-ed9f-a6b998e99695"
      },
      "source": [
        "fig, ax = plt.subplots(figsize=(13,13))\n",
        "mean_rating_df=mean_rating_df.sort_values(by=\"Rating\",ascending=True)\n",
        "# add the plot\n",
        "ax1=sns.barplot(x=mean_rating_df.Category, y=mean_rating_df.Rating, data=mean_rating_df, capsize=0.2, ax=ax)\n",
        "# add the annotation\n",
        "for bar in ax1.patches:\n",
        "   ax1.annotate(format(bar.get_height(), '.2f'),\n",
        "                   (bar.get_x() + bar.get_width() / 2,\n",
        "                    bar.get_height()), ha='center', va='center',\n",
        "                   size=10, xytext=(0, 8),\n",
        "                   textcoords='offset points')\n",
        "plt.xticks(rotation=90)\n",
        "ax.set(xlabel='Category',title=\"Category vs Avg Rating\")\n",
        "plt.show()"
      ],
      "execution_count": 81,
      "outputs": [
        {
          "output_type": "display_data",
          "data": {
            "image/png": "[encoded data removed]",
            "text/plain": [
              "<Figure size 936x936 with 1 Axes>"
            ]
          },
          "metadata": {}
        }
      ]
    },
    {
      "cell_type": "markdown",
      "metadata": {
        "id": "CtpucHNUpI-l"
      },
      "source": [
        "###  We can see from the Category vs Avg Rating graph that **Auto and Vehicles** Category have average number of ratings with 4.58 as more and **Libraries and Demo** Category with 4.06 as less."
      ]
    },
    {
      "cell_type": "markdown",
      "metadata": {
        "id": "MwqaQnPe8fVa"
      },
      "source": [
        "# 4 - Top 10 Categories"
      ]
    },
    {
      "cell_type": "code",
      "metadata": {
        "colab": {
          "base_uri": "https://localhost:8080/",
          "height": 235
        },
        "id": "Xz8ye5TY8Tg9",
        "outputId": "62c8f07a-ac1d-4899-ec0c-54cc9b3c8db4"
      },
      "source": [
        "Category = merged_df.groupby('Category')['App'].count().reset_index().rename(columns={'App':'Count of Apps'})\n",
        "Category = Category.sort_values(by=['Count of Apps'], ascending=False)\n",
        "Category.set_index('Category', inplace= True)\n",
        "Category.head()"
      ],
      "execution_count": 82,
      "outputs": [
        {
          "output_type": "execute_result",
          "data": {
            "text/html": [
              "<div>\n",
              "<style scoped>\n",
              "    .dataframe tbody tr th:only-of-type {\n",
              "        vertical-align: middle;\n",
              "    }\n",
              "\n",
              "    .dataframe tbody tr th {\n",
              "        vertical-align: top;\n",
              "    }\n",
              "\n",
              "    .dataframe thead th {\n",
              "        text-align: right;\n",
              "    }\n",
              "</style>\n",
              "<table border=\"1\" class=\"dataframe\">\n",
              "  <thead>\n",
              "    <tr style=\"text-align: right;\">\n",
              "      <th></th>\n",
              "      <th>Count of Apps</th>\n",
              "    </tr>\n",
              "    <tr>\n",
              "      <th>Category</th>\n",
              "      <th></th>\n",
              "    </tr>\n",
              "  </thead>\n",
              "  <tbody>\n",
              "    <tr>\n",
              "      <th>GAME</th>\n",
              "      <td>6678</td>\n",
              "    </tr>\n",
              "    <tr>\n",
              "      <th>FAMILY</th>\n",
              "      <td>4349</td>\n",
              "    </tr>\n",
              "    <tr>\n",
              "      <th>HEALTH_AND_FITNESS</th>\n",
              "      <td>2249</td>\n",
              "    </tr>\n",
              "    <tr>\n",
              "      <th>DATING</th>\n",
              "      <td>1715</td>\n",
              "    </tr>\n",
              "    <tr>\n",
              "      <th>SPORTS</th>\n",
              "      <td>1701</td>\n",
              "    </tr>\n",
              "  </tbody>\n",
              "</table>\n",
              "</div>"
            ],
            "text/plain": [
              "                    Count of Apps\n",
              "Category                         \n",
              "GAME                         6678\n",
              "FAMILY                       4349\n",
              "HEALTH_AND_FITNESS           2249\n",
              "DATING                       1715\n",
              "SPORTS                       1701"
            ]
          },
          "metadata": {},
          "execution_count": 82
        }
      ]
    },
    {
      "cell_type": "code",
      "metadata": {
        "id": "QdtX37GZ8XMJ"
      },
      "source": [
        "# Top 5 Categories \n",
        "cat_head= Category.head(5)\n",
        "top_5_cat = merged_df[merged_df['Category'].isin(cat_head.index)]"
      ],
      "execution_count": 83,
      "outputs": []
    },
    {
      "cell_type": "code",
      "metadata": {
        "id": "tCvNO5hp6R0X",
        "colab": {
          "base_uri": "https://localhost:8080/",
          "height": 367
        },
        "outputId": "8c030381-da21-4dab-8f1a-974e6ef6758f"
      },
      "source": [
        "# Representing stripplot with Category on x-axis and Rating on y-axis\n",
        "fig2, ax = plt.subplots(figsize=(15,5))\n",
        "sns.stripplot(x='Category', y='Rating', data=top_5_cat, palette='muted', order= top_5_cat['Category'].value_counts().index)\n",
        "plt.xlabel('\\n Top 5 Categories', fontsize= 10, fontweight = 'bold')\n",
        "plt.ylabel('Rating', fontsize= 10, fontweight = 'bold')\n",
        "plt.title('Rating of Top 5 Categories', fontsize = 15, fontweight = 'bold')\n",
        "plt.savefig('Rating of Top 10 Categories.png')\n",
        "plt.show()"
      ],
      "execution_count": 84,
      "outputs": [
        {
          "output_type": "display_data",
          "data": {
            "image/png": "[encoded data removed]",
            "text/plain": [
              "<Figure size 1080x360 with 1 Axes>"
            ]
          },
          "metadata": {}
        }
      ]
    },
    {
      "cell_type": "markdown",
      "metadata": {
        "id": "7gG-HSJLC2wC"
      },
      "source": [
        "# 5 - Price vs Category vs Type "
      ]
    },
    {
      "cell_type": "code",
      "metadata": {
        "id": "XMxYdZRgJG3j",
        "colab": {
          "base_uri": "https://localhost:8080/",
          "height": 671
        },
        "outputId": "306ea4c6-78a1-4d9f-f791-079006238e2e"
      },
      "source": [
        "# Plotting relplot for visualizing statistical relationships between scatter plots and line plots.\n",
        "sns.relplot(y=\"Category\", x=\"Price\", hue=\"Type\", size=\"Reviews\", sizes=(80, 600), alpha=1, palette=\"bright\", height=9, data=merged_df)"
      ],
      "execution_count": 85,
      "outputs": [
        {
          "output_type": "execute_result",
          "data": {
            "text/plain": [
              "<seaborn.axisgrid.FacetGrid at 0x7fd7bb20c950>"
            ]
          },
          "metadata": {},
          "execution_count": 85
        },
        {
          "output_type": "display_data",
          "data": {
            "image/png": "[encoded data removed]",
            "text/plain": [
              "<Figure size 714.85x648 with 1 Axes>"
            ]
          },
          "metadata": {}
        }
      ]
    },
    {
      "cell_type": "markdown",
      "metadata": {
        "id": "48CWl5AcYYPZ"
      },
      "source": [
        "## Price Vs Ratings plot delivers that Type of Apps is either PAID or FREE, Circle is larger if Reviews are more. **Social,** **Family,** **Game,** **Sports** Categories have highest number of reviews."
      ]
    },
    {
      "cell_type": "markdown",
      "metadata": {
        "id": "tGY_L4-QLWKg"
      },
      "source": [
        "# 6 - Type vs Sentiment Polarity"
      ]
    },
    {
      "cell_type": "code",
      "metadata": {
        "id": "bVizbEHC_kmU",
        "colab": {
          "base_uri": "https://localhost:8080/",
          "height": 576
        },
        "outputId": "ef185b37-4405-4ef1-8baf-8f5c0c9ef6df"
      },
      "source": [
        "plt.figure(figsize=(10,8))\n",
        "sns.stripplot(x=merged_df['Type'],y=merged_df['Sentiment_Polarity'],jitter=True)\n",
        "plt.title('Free Vs Paid Sentiment Polarity',fontdict={'fontsize':30})\n",
        "sns.set_style(\"whitegrid\")\n",
        "plt.xticks(fontsize=20)\n",
        "plt.yticks(fontsize=20)"
      ],
      "execution_count": 86,
      "outputs": [
        {
          "output_type": "execute_result",
          "data": {
            "text/plain": [
              "(array([-1.25, -1.  , -0.75, -0.5 , -0.25,  0.  ,  0.25,  0.5 ,  0.75,\n",
              "         1.  ,  1.25]), <a list of 11 Text major ticklabel objects>)"
            ]
          },
          "metadata": {},
          "execution_count": 86
        },
        {
          "output_type": "display_data",
          "data": {
            "image/png": "[encoded data removed]",
            "text/plain": [
              "<Figure size 720x576 with 1 Axes>"
            ]
          },
          "metadata": {}
        }
      ]
    },
    {
      "cell_type": "markdown",
      "metadata": {
        "id": "71yzxa8fBiDa"
      },
      "source": [
        "#Type vs Sentiment_Polarity graph clearly shows that **Paid Apps** are less likely to recieve bad reviews and **Free apps** have a more equal distribution of Setiment Polarity.\n"
      ]
    },
    {
      "cell_type": "markdown",
      "metadata": {
        "id": "xVIlLFt4MOAw"
      },
      "source": [
        "# 7 - Category vs Apps vs Sentiment"
      ]
    },
    {
      "cell_type": "code",
      "metadata": {
        "id": "8ZDr26fi_uD3",
        "colab": {
          "base_uri": "https://localhost:8080/",
          "height": 572
        },
        "outputId": "18600809-fadc-4034-829a-30ea475d7f6b"
      },
      "source": [
        "plt.figure(figsize=(14,5))\n",
        "sns.countplot(x=merged_df['Category'],hue=merged_df['Sentiment'],orient='y',palette='Dark2')\n",
        "plt.xticks(fontsize=15 , rotation=90)\n",
        "plt.yticks(fontsize=20)\n",
        "plt.xlabel('Categories', fontsize = 20)\n",
        "plt.ylabel('Count', fontsize = 20)\n",
        "plt.legend(prop={'size': 20})\n",
        "plt.title('Types of Reviews for each Category',fontdict={'fontsize':30})"
      ],
      "execution_count": 87,
      "outputs": [
        {
          "output_type": "execute_result",
          "data": {
            "text/plain": [
              "Text(0.5, 1.0, 'Types of Reviews for each Category')"
            ]
          },
          "metadata": {},
          "execution_count": 87
        },
        {
          "output_type": "display_data",
          "data": {
            "image/png": "[encoded data removed]",
            "text/plain": [
              "<Figure size 1008x360 with 1 Axes>"
            ]
          },
          "metadata": {}
        }
      ]
    },
    {
      "cell_type": "markdown",
      "metadata": {
        "id": "X6ZkP1Z0IIsV"
      },
      "source": [
        "## **Game** Category appears to have the most Positive and Negative Reviews. Shows volatility of Game Category. **Health and Fitness** appears to have least Negative reviews in relation to its positive reviews."
      ]
    },
    {
      "cell_type": "markdown",
      "metadata": {
        "id": "QmAffGLQ9HiE"
      },
      "source": [
        "# 8 - Finding the top 10 Installed Apps in Game Category"
      ]
    },
    {
      "cell_type": "code",
      "metadata": {
        "colab": {
          "base_uri": "https://localhost:8080/"
        },
        "id": "xeIVspAZIM4t",
        "outputId": "aa054603-312b-47e1-d46b-8f22bdd0c1b2"
      },
      "source": [
        "game_apps = merged_df[merged_df['Category']==('GAME')]\n",
        "print('The dataset contains '+ (str((game_apps.App.nunique())))+ ' game apps.')"
      ],
      "execution_count": 88,
      "outputs": [
        {
          "output_type": "stream",
          "name": "stdout",
          "text": [
            "The dataset contains 93 game apps.\n"
          ]
        }
      ]
    },
    {
      "cell_type": "code",
      "metadata": {
        "colab": {
          "base_uri": "https://localhost:8080/"
        },
        "id": "_EOLh2S2IMzk",
        "outputId": "614f7ce7-ce61-4477-e55a-59c0a3bb510d"
      },
      "source": [
        "top_install_game=game_apps.groupby(\"App\")[\"Installs\"].sum().nlargest(10).index.tolist()\n",
        "top_install_game"
      ],
      "execution_count": 89,
      "outputs": [
        {
          "output_type": "execute_result",
          "data": {
            "text/plain": [
              "['Candy Crush Saga',\n",
              " 'Angry Birds Classic',\n",
              " 'Helix Jump',\n",
              " 'Garena Free Fire',\n",
              " '8 Ball Pool',\n",
              " 'Candy Crush Soda Saga',\n",
              " 'Clash Royale',\n",
              " 'Bowmasters',\n",
              " 'Flow Free',\n",
              " 'Agar.io']"
            ]
          },
          "metadata": {},
          "execution_count": 89
        }
      ]
    },
    {
      "cell_type": "markdown",
      "metadata": {
        "id": "OLg0z3QBFQqG"
      },
      "source": [
        "### Defining the function to create the new column name as Top_Installed_game.  Top_Installed_game contains the **app names** and **Others**, function will print those app names which present in top_install_game otherwise it will print Others "
      ]
    },
    {
      "cell_type": "code",
      "metadata": {
        "colab": {
          "base_uri": "https://localhost:8080/",
          "height": 585
        },
        "id": "7LZfCLErIMvi",
        "outputId": "16df14b2-2d68-43e7-9a53-dedf2c61502e"
      },
      "source": [
        "def fuc(row):\n",
        "    if row[\"App\"] not in top_install_game:\n",
        "        return(\"Others\")\n",
        "    else:\n",
        "        return row['App']\n",
        "game_apps['Top_Installed_game']=game_apps.apply(fuc,axis=1)\n",
        "game_apps.head(5)"
      ],
      "execution_count": 90,
      "outputs": [
        {
          "output_type": "stream",
          "name": "stderr",
          "text": [
            "/usr/local/lib/python3.7/dist-packages/ipykernel_launcher.py:6: SettingWithCopyWarning:\n",
            "\n",
            "\n",
            "A value is trying to be set on a copy of a slice from a DataFrame.\n",
            "Try using .loc[row_indexer,col_indexer] = value instead\n",
            "\n",
            "See the caveats in the documentation: https://pandas.pydata.org/pandas-docs/stable/user_guide/indexing.html#returning-a-view-versus-a-copy\n",
            "\n"
          ]
        },
        {
          "output_type": "execute_result",
          "data": {
            "text/html": [
              "<div>\n",
              "<style scoped>\n",
              "    .dataframe tbody tr th:only-of-type {\n",
              "        vertical-align: middle;\n",
              "    }\n",
              "\n",
              "    .dataframe tbody tr th {\n",
              "        vertical-align: top;\n",
              "    }\n",
              "\n",
              "    .dataframe thead th {\n",
              "        text-align: right;\n",
              "    }\n",
              "</style>\n",
              "<table border=\"1\" class=\"dataframe\">\n",
              "  <thead>\n",
              "    <tr style=\"text-align: right;\">\n",
              "      <th></th>\n",
              "      <th>App</th>\n",
              "      <th>Category</th>\n",
              "      <th>Rating</th>\n",
              "      <th>Reviews</th>\n",
              "      <th>Size</th>\n",
              "      <th>Installs</th>\n",
              "      <th>Type</th>\n",
              "      <th>Price</th>\n",
              "      <th>Content_Rating</th>\n",
              "      <th>Genres</th>\n",
              "      <th>Last_Updated</th>\n",
              "      <th>Current_Version</th>\n",
              "      <th>Android_Version</th>\n",
              "      <th>Installs1</th>\n",
              "      <th>Translated_Review</th>\n",
              "      <th>Sentiment</th>\n",
              "      <th>Sentiment_Polarity</th>\n",
              "      <th>Sentiment_Subjectivity</th>\n",
              "      <th>Year</th>\n",
              "      <th>Top_Installed_game</th>\n",
              "    </tr>\n",
              "  </thead>\n",
              "  <tbody>\n",
              "    <tr>\n",
              "      <th>206</th>\n",
              "      <td>Dream League Soccer 2018</td>\n",
              "      <td>GAME</td>\n",
              "      <td>4.6</td>\n",
              "      <td>9883806</td>\n",
              "      <td>74.0</td>\n",
              "      <td>100000000</td>\n",
              "      <td>Free</td>\n",
              "      <td>0.0</td>\n",
              "      <td>Everyone</td>\n",
              "      <td>Sports</td>\n",
              "      <td>2018-07-16</td>\n",
              "      <td>5.064</td>\n",
              "      <td>4.4 and up</td>\n",
              "      <td>100,000,000+</td>\n",
              "      <td>Extremely addictive, good game pass time with....</td>\n",
              "      <td>Positive</td>\n",
              "      <td>0.075000</td>\n",
              "      <td>0.500000</td>\n",
              "      <td>2018</td>\n",
              "      <td>Others</td>\n",
              "    </tr>\n",
              "    <tr>\n",
              "      <th>210</th>\n",
              "      <td>Dream League Soccer 2018</td>\n",
              "      <td>GAME</td>\n",
              "      <td>4.6</td>\n",
              "      <td>9883806</td>\n",
              "      <td>74.0</td>\n",
              "      <td>100000000</td>\n",
              "      <td>Free</td>\n",
              "      <td>0.0</td>\n",
              "      <td>Everyone</td>\n",
              "      <td>Sports</td>\n",
              "      <td>2018-07-16</td>\n",
              "      <td>5.064</td>\n",
              "      <td>4.4 and up</td>\n",
              "      <td>100,000,000+</td>\n",
              "      <td>I'm using oneplus 5 whenever I play game match...</td>\n",
              "      <td>Negative</td>\n",
              "      <td>-0.206250</td>\n",
              "      <td>0.406250</td>\n",
              "      <td>2018</td>\n",
              "      <td>Others</td>\n",
              "    </tr>\n",
              "    <tr>\n",
              "      <th>312</th>\n",
              "      <td>Dream League Soccer 2018</td>\n",
              "      <td>GAME</td>\n",
              "      <td>4.6</td>\n",
              "      <td>9883806</td>\n",
              "      <td>74.0</td>\n",
              "      <td>100000000</td>\n",
              "      <td>Free</td>\n",
              "      <td>0.0</td>\n",
              "      <td>Everyone</td>\n",
              "      <td>Sports</td>\n",
              "      <td>2018-07-16</td>\n",
              "      <td>5.064</td>\n",
              "      <td>4.4 and up</td>\n",
              "      <td>100,000,000+</td>\n",
              "      <td>Great graphics really addictive fun play.But s...</td>\n",
              "      <td>Positive</td>\n",
              "      <td>0.129696</td>\n",
              "      <td>0.543122</td>\n",
              "      <td>2018</td>\n",
              "      <td>Others</td>\n",
              "    </tr>\n",
              "    <tr>\n",
              "      <th>1265</th>\n",
              "      <td>DEER HUNTER 2018</td>\n",
              "      <td>GAME</td>\n",
              "      <td>4.3</td>\n",
              "      <td>955656</td>\n",
              "      <td>82.0</td>\n",
              "      <td>10000000</td>\n",
              "      <td>Free</td>\n",
              "      <td>0.0</td>\n",
              "      <td>Teen</td>\n",
              "      <td>Action</td>\n",
              "      <td>2018-06-26</td>\n",
              "      <td>5.1.2</td>\n",
              "      <td>3.0 and up</td>\n",
              "      <td>10,000,000+</td>\n",
              "      <td>The movement scope mode slow, thank you.</td>\n",
              "      <td>Negative</td>\n",
              "      <td>-0.300000</td>\n",
              "      <td>0.400000</td>\n",
              "      <td>2018</td>\n",
              "      <td>Others</td>\n",
              "    </tr>\n",
              "    <tr>\n",
              "      <th>1266</th>\n",
              "      <td>DEER HUNTER 2018</td>\n",
              "      <td>GAME</td>\n",
              "      <td>4.3</td>\n",
              "      <td>955656</td>\n",
              "      <td>82.0</td>\n",
              "      <td>10000000</td>\n",
              "      <td>Free</td>\n",
              "      <td>0.0</td>\n",
              "      <td>Teen</td>\n",
              "      <td>Action</td>\n",
              "      <td>2018-06-26</td>\n",
              "      <td>5.1.2</td>\n",
              "      <td>3.0 and up</td>\n",
              "      <td>10,000,000+</td>\n",
              "      <td>I uninstall reinstall hunt game let back till ...</td>\n",
              "      <td>Negative</td>\n",
              "      <td>-0.200000</td>\n",
              "      <td>0.200000</td>\n",
              "      <td>2018</td>\n",
              "      <td>Others</td>\n",
              "    </tr>\n",
              "  </tbody>\n",
              "</table>\n",
              "</div>"
            ],
            "text/plain": [
              "                           App Category  ...  Year  Top_Installed_game\n",
              "206   Dream League Soccer 2018     GAME  ...  2018              Others\n",
              "210   Dream League Soccer 2018     GAME  ...  2018              Others\n",
              "312   Dream League Soccer 2018     GAME  ...  2018              Others\n",
              "1265          DEER HUNTER 2018     GAME  ...  2018              Others\n",
              "1266          DEER HUNTER 2018     GAME  ...  2018              Others\n",
              "\n",
              "[5 rows x 20 columns]"
            ]
          },
          "metadata": {},
          "execution_count": 90
        }
      ]
    },
    {
      "cell_type": "code",
      "metadata": {
        "colab": {
          "base_uri": "https://localhost:8080/"
        },
        "id": "xGfypDpntZbt",
        "outputId": "c5e73ae9-753d-4fb5-b637-8fed8df3699c"
      },
      "source": [
        "top_install_game1=game_apps.groupby(\"Top_Installed_game\")[\"Installs\",'Category'].sum()\n"
      ],
      "execution_count": 91,
      "outputs": [
        {
          "output_type": "stream",
          "name": "stderr",
          "text": [
            "/usr/local/lib/python3.7/dist-packages/ipykernel_launcher.py:1: FutureWarning:\n",
            "\n",
            "Indexing with multiple keys (implicitly converted to a tuple of keys) will be deprecated, use a list instead.\n",
            "\n"
          ]
        }
      ]
    },
    {
      "cell_type": "code",
      "metadata": {
        "colab": {
          "base_uri": "https://localhost:8080/",
          "height": 420
        },
        "id": "3GpqFO6UsQEH",
        "outputId": "ef431dd6-d63d-4870-9b00-33d1361c260a"
      },
      "source": [
        "top_install_game1"
      ],
      "execution_count": 92,
      "outputs": [
        {
          "output_type": "execute_result",
          "data": {
            "text/html": [
              "<div>\n",
              "<style scoped>\n",
              "    .dataframe tbody tr th:only-of-type {\n",
              "        vertical-align: middle;\n",
              "    }\n",
              "\n",
              "    .dataframe tbody tr th {\n",
              "        vertical-align: top;\n",
              "    }\n",
              "\n",
              "    .dataframe thead th {\n",
              "        text-align: right;\n",
              "    }\n",
              "</style>\n",
              "<table border=\"1\" class=\"dataframe\">\n",
              "  <thead>\n",
              "    <tr style=\"text-align: right;\">\n",
              "      <th></th>\n",
              "      <th>Installs</th>\n",
              "    </tr>\n",
              "    <tr>\n",
              "      <th>Top_Installed_game</th>\n",
              "      <th></th>\n",
              "    </tr>\n",
              "  </thead>\n",
              "  <tbody>\n",
              "    <tr>\n",
              "      <th>8 Ball Pool</th>\n",
              "      <td>21900000000</td>\n",
              "    </tr>\n",
              "    <tr>\n",
              "      <th>Agar.io</th>\n",
              "      <td>13600000000</td>\n",
              "    </tr>\n",
              "    <tr>\n",
              "      <th>Angry Birds Classic</th>\n",
              "      <td>27300000000</td>\n",
              "    </tr>\n",
              "    <tr>\n",
              "      <th>Bowmasters</th>\n",
              "      <td>15600000000</td>\n",
              "    </tr>\n",
              "    <tr>\n",
              "      <th>Candy Crush Saga</th>\n",
              "      <td>120000000000</td>\n",
              "    </tr>\n",
              "    <tr>\n",
              "      <th>Candy Crush Soda Saga</th>\n",
              "      <td>16600000000</td>\n",
              "    </tr>\n",
              "    <tr>\n",
              "      <th>Clash Royale</th>\n",
              "      <td>16500000000</td>\n",
              "    </tr>\n",
              "    <tr>\n",
              "      <th>Flow Free</th>\n",
              "      <td>15400000000</td>\n",
              "    </tr>\n",
              "    <tr>\n",
              "      <th>Garena Free Fire</th>\n",
              "      <td>22200000000</td>\n",
              "    </tr>\n",
              "    <tr>\n",
              "      <th>Helix Jump</th>\n",
              "      <td>27300000000</td>\n",
              "    </tr>\n",
              "    <tr>\n",
              "      <th>Others</th>\n",
              "      <td>129148600000</td>\n",
              "    </tr>\n",
              "  </tbody>\n",
              "</table>\n",
              "</div>"
            ],
            "text/plain": [
              "                           Installs\n",
              "Top_Installed_game                 \n",
              "8 Ball Pool             21900000000\n",
              "Agar.io                 13600000000\n",
              "Angry Birds Classic     27300000000\n",
              "Bowmasters              15600000000\n",
              "Candy Crush Saga       120000000000\n",
              "Candy Crush Soda Saga   16600000000\n",
              "Clash Royale            16500000000\n",
              "Flow Free               15400000000\n",
              "Garena Free Fire        22200000000\n",
              "Helix Jump              27300000000\n",
              "Others                 129148600000"
            ]
          },
          "metadata": {},
          "execution_count": 92
        }
      ]
    },
    {
      "cell_type": "code",
      "metadata": {
        "colab": {
          "base_uri": "https://localhost:8080/",
          "height": 484
        },
        "id": "Nv7rge8HJIKZ",
        "outputId": "30a5dd13-4bc8-49cb-bc74-7e49c1d84038"
      },
      "source": [
        "\n",
        "# Let us plot Pie chart for top 10 installed apps in Game Category\n",
        "top_install_game=game_apps.groupby(\"Top_Installed_game\")[\"Installs\"].sum()\n",
        "fig7, ax = plt.subplots(figsize = (10,8))\n",
        "explode = (0.1,0.1,0.1,0,0.1,0,0.1,0.1,0,0.1,0)\n",
        "labels=top_install_game.index\n",
        "ax.set(facecolor = 'grey')\n",
        "pie = plt.pie(top_install_game, explode= explode,startangle=0,autopct='%1.1f%%')\n",
        "plt.legend(pie[0],labels, bbox_to_anchor=(0,0.5), loc=\"center right\", fontsize=14, \n",
        "           bbox_transform=plt.gcf().transFigure,)\n",
        "plt.title('Top 10 Installed Game Apps', fontsize = 15, fontweight='bold')\n",
        "plt.show()"
      ],
      "execution_count": 93,
      "outputs": [
        {
          "output_type": "display_data",
          "data": {
            "image/png": "[encoded data removed]",
            "text/plain": [
              "<Figure size 720x576 with 1 Axes>"
            ]
          },
          "metadata": {}
        }
      ]
    },
    {
      "cell_type": "markdown",
      "metadata": {
        "id": "qP-8BG40SsSL"
      },
      "source": [
        "# Here we can conclude from graph that **Candy Crush Saga** Game have more number of downloads."
      ]
    },
    {
      "cell_type": "markdown",
      "metadata": {
        "id": "zuOFG0lsftmX"
      },
      "source": [
        "# 9 - Looking for Paid apps in Category \n"
      ]
    },
    {
      "cell_type": "code",
      "metadata": {
        "colab": {
          "base_uri": "https://localhost:8080/",
          "height": 392
        },
        "id": "0UhoyJ61goPN",
        "outputId": "15ff00af-9d54-4755-bd51-3dc7bf8b537b"
      },
      "source": [
        "# Grouping apps if apps are more than 200 in the data!\n",
        "df1 = merged_df.groupby('Category').filter(lambda x: len(x) >= 200).reset_index()\n",
        "df1 = df1.sort_values(by=['Category'])\n",
        "df1.head()"
      ],
      "execution_count": 94,
      "outputs": [
        {
          "output_type": "execute_result",
          "data": {
            "text/html": [
              "<div>\n",
              "<style scoped>\n",
              "    .dataframe tbody tr th:only-of-type {\n",
              "        vertical-align: middle;\n",
              "    }\n",
              "\n",
              "    .dataframe tbody tr th {\n",
              "        vertical-align: top;\n",
              "    }\n",
              "\n",
              "    .dataframe thead th {\n",
              "        text-align: right;\n",
              "    }\n",
              "</style>\n",
              "<table border=\"1\" class=\"dataframe\">\n",
              "  <thead>\n",
              "    <tr style=\"text-align: right;\">\n",
              "      <th></th>\n",
              "      <th>index</th>\n",
              "      <th>App</th>\n",
              "      <th>Category</th>\n",
              "      <th>Rating</th>\n",
              "      <th>Reviews</th>\n",
              "      <th>Size</th>\n",
              "      <th>Installs</th>\n",
              "      <th>Type</th>\n",
              "      <th>Price</th>\n",
              "      <th>Content_Rating</th>\n",
              "      <th>Genres</th>\n",
              "      <th>Last_Updated</th>\n",
              "      <th>Current_Version</th>\n",
              "      <th>Android_Version</th>\n",
              "      <th>Installs1</th>\n",
              "      <th>Translated_Review</th>\n",
              "      <th>Sentiment</th>\n",
              "      <th>Sentiment_Polarity</th>\n",
              "      <th>Sentiment_Subjectivity</th>\n",
              "      <th>Year</th>\n",
              "    </tr>\n",
              "  </thead>\n",
              "  <tbody>\n",
              "    <tr>\n",
              "      <th>25941</th>\n",
              "      <td>46122</td>\n",
              "      <td>Animated Photo Editor</td>\n",
              "      <td>ART_AND_DESIGN</td>\n",
              "      <td>4.1</td>\n",
              "      <td>203</td>\n",
              "      <td>6.1</td>\n",
              "      <td>100000</td>\n",
              "      <td>Free</td>\n",
              "      <td>0.0</td>\n",
              "      <td>Everyone</td>\n",
              "      <td>Art &amp; Design</td>\n",
              "      <td>2018-03-21</td>\n",
              "      <td>1.03</td>\n",
              "      <td>4.0.3 and up</td>\n",
              "      <td>100,000+</td>\n",
              "      <td>Awesome absolutely love</td>\n",
              "      <td>Positive</td>\n",
              "      <td>0.75</td>\n",
              "      <td>0.800</td>\n",
              "      <td>2018</td>\n",
              "    </tr>\n",
              "    <tr>\n",
              "      <th>331</th>\n",
              "      <td>843</td>\n",
              "      <td>Coloring book moana</td>\n",
              "      <td>ART_AND_DESIGN</td>\n",
              "      <td>3.9</td>\n",
              "      <td>967</td>\n",
              "      <td>14.0</td>\n",
              "      <td>500000</td>\n",
              "      <td>Free</td>\n",
              "      <td>0.0</td>\n",
              "      <td>Everyone</td>\n",
              "      <td>Art &amp; Design;Pretend Play</td>\n",
              "      <td>2018-01-15</td>\n",
              "      <td>2.0.0</td>\n",
              "      <td>4.0.3 and up</td>\n",
              "      <td>500,000+</td>\n",
              "      <td>This beautiful</td>\n",
              "      <td>Positive</td>\n",
              "      <td>0.85</td>\n",
              "      <td>1.000</td>\n",
              "      <td>2018</td>\n",
              "    </tr>\n",
              "    <tr>\n",
              "      <th>330</th>\n",
              "      <td>840</td>\n",
              "      <td>Coloring book moana</td>\n",
              "      <td>ART_AND_DESIGN</td>\n",
              "      <td>3.9</td>\n",
              "      <td>967</td>\n",
              "      <td>14.0</td>\n",
              "      <td>500000</td>\n",
              "      <td>Free</td>\n",
              "      <td>0.0</td>\n",
              "      <td>Everyone</td>\n",
              "      <td>Art &amp; Design;Pretend Play</td>\n",
              "      <td>2018-01-15</td>\n",
              "      <td>2.0.0</td>\n",
              "      <td>4.0.3 and up</td>\n",
              "      <td>500,000+</td>\n",
              "      <td>hate it.</td>\n",
              "      <td>Negative</td>\n",
              "      <td>-0.80</td>\n",
              "      <td>0.900</td>\n",
              "      <td>2018</td>\n",
              "    </tr>\n",
              "    <tr>\n",
              "      <th>329</th>\n",
              "      <td>839</td>\n",
              "      <td>Coloring book moana</td>\n",
              "      <td>ART_AND_DESIGN</td>\n",
              "      <td>3.9</td>\n",
              "      <td>967</td>\n",
              "      <td>14.0</td>\n",
              "      <td>500000</td>\n",
              "      <td>Free</td>\n",
              "      <td>0.0</td>\n",
              "      <td>Everyone</td>\n",
              "      <td>Art &amp; Design;Pretend Play</td>\n",
              "      <td>2018-01-15</td>\n",
              "      <td>2.0.0</td>\n",
              "      <td>4.0.3 and up</td>\n",
              "      <td>500,000+</td>\n",
              "      <td>It's ok</td>\n",
              "      <td>Positive</td>\n",
              "      <td>0.50</td>\n",
              "      <td>0.500</td>\n",
              "      <td>2018</td>\n",
              "    </tr>\n",
              "    <tr>\n",
              "      <th>328</th>\n",
              "      <td>838</td>\n",
              "      <td>Coloring book moana</td>\n",
              "      <td>ART_AND_DESIGN</td>\n",
              "      <td>3.9</td>\n",
              "      <td>967</td>\n",
              "      <td>14.0</td>\n",
              "      <td>500000</td>\n",
              "      <td>Free</td>\n",
              "      <td>0.0</td>\n",
              "      <td>Everyone</td>\n",
              "      <td>Art &amp; Design;Pretend Play</td>\n",
              "      <td>2018-01-15</td>\n",
              "      <td>2.0.0</td>\n",
              "      <td>4.0.3 and up</td>\n",
              "      <td>500,000+</td>\n",
              "      <td>Good great</td>\n",
              "      <td>Positive</td>\n",
              "      <td>0.75</td>\n",
              "      <td>0.675</td>\n",
              "      <td>2018</td>\n",
              "    </tr>\n",
              "  </tbody>\n",
              "</table>\n",
              "</div>"
            ],
            "text/plain": [
              "       index                    App  ... Sentiment_Subjectivity  Year\n",
              "25941  46122  Animated Photo Editor  ...                  0.800  2018\n",
              "331      843    Coloring book moana  ...                  1.000  2018\n",
              "330      840    Coloring book moana  ...                  0.900  2018\n",
              "329      839    Coloring book moana  ...                  0.500  2018\n",
              "328      838    Coloring book moana  ...                  0.675  2018\n",
              "\n",
              "[5 rows x 20 columns]"
            ]
          },
          "metadata": {},
          "execution_count": 94
        }
      ]
    },
    {
      "cell_type": "code",
      "metadata": {
        "colab": {
          "base_uri": "https://localhost:8080/"
        },
        "id": "WIKd_9MgeDBn",
        "outputId": "79e2f086-866c-4f79-9a7d-e844926ec667"
      },
      "source": [
        "# Apps whose price is more than $20. 1% of the apps have price more than $20\n",
        "paid_apps_df = df1[df1.Price>20]\n",
        "paid_apps_df.shape"
      ],
      "execution_count": 95,
      "outputs": [
        {
          "output_type": "execute_result",
          "data": {
            "text/plain": [
              "(40, 20)"
            ]
          },
          "metadata": {},
          "execution_count": 95
        }
      ]
    },
    {
      "cell_type": "markdown",
      "metadata": {
        "id": "2vCfGULfL0pg"
      },
      "source": [
        "## Relevant Apps"
      ]
    },
    {
      "cell_type": "code",
      "metadata": {
        "colab": {
          "base_uri": "https://localhost:8080/",
          "height": 204
        },
        "id": "48m8ypB0er0N",
        "outputId": "e0b4c6ae-0fe6-460c-fd2e-6ef4671bdf9f"
      },
      "source": [
        "# We will define the relevant apps which has relation to Type and Price Column\n",
        "Apps_Rel = df1[df1.Price<20]\n",
        "Apps_Rel= Apps_Rel[['Category','Type','Price']]\n",
        "Apps_Rel.head()"
      ],
      "execution_count": 96,
      "outputs": [
        {
          "output_type": "execute_result",
          "data": {
            "text/html": [
              "<div>\n",
              "<style scoped>\n",
              "    .dataframe tbody tr th:only-of-type {\n",
              "        vertical-align: middle;\n",
              "    }\n",
              "\n",
              "    .dataframe tbody tr th {\n",
              "        vertical-align: top;\n",
              "    }\n",
              "\n",
              "    .dataframe thead th {\n",
              "        text-align: right;\n",
              "    }\n",
              "</style>\n",
              "<table border=\"1\" class=\"dataframe\">\n",
              "  <thead>\n",
              "    <tr style=\"text-align: right;\">\n",
              "      <th></th>\n",
              "      <th>Category</th>\n",
              "      <th>Type</th>\n",
              "      <th>Price</th>\n",
              "    </tr>\n",
              "  </thead>\n",
              "  <tbody>\n",
              "    <tr>\n",
              "      <th>25941</th>\n",
              "      <td>ART_AND_DESIGN</td>\n",
              "      <td>Free</td>\n",
              "      <td>0.0</td>\n",
              "    </tr>\n",
              "    <tr>\n",
              "      <th>331</th>\n",
              "      <td>ART_AND_DESIGN</td>\n",
              "      <td>Free</td>\n",
              "      <td>0.0</td>\n",
              "    </tr>\n",
              "    <tr>\n",
              "      <th>330</th>\n",
              "      <td>ART_AND_DESIGN</td>\n",
              "      <td>Free</td>\n",
              "      <td>0.0</td>\n",
              "    </tr>\n",
              "    <tr>\n",
              "      <th>329</th>\n",
              "      <td>ART_AND_DESIGN</td>\n",
              "      <td>Free</td>\n",
              "      <td>0.0</td>\n",
              "    </tr>\n",
              "    <tr>\n",
              "      <th>328</th>\n",
              "      <td>ART_AND_DESIGN</td>\n",
              "      <td>Free</td>\n",
              "      <td>0.0</td>\n",
              "    </tr>\n",
              "  </tbody>\n",
              "</table>\n",
              "</div>"
            ],
            "text/plain": [
              "             Category  Type  Price\n",
              "25941  ART_AND_DESIGN  Free    0.0\n",
              "331    ART_AND_DESIGN  Free    0.0\n",
              "330    ART_AND_DESIGN  Free    0.0\n",
              "329    ART_AND_DESIGN  Free    0.0\n",
              "328    ART_AND_DESIGN  Free    0.0"
            ]
          },
          "metadata": {},
          "execution_count": 96
        }
      ]
    },
    {
      "cell_type": "code",
      "metadata": {
        "colab": {
          "base_uri": "https://localhost:8080/"
        },
        "id": "jjbKyI17errA",
        "outputId": "ae6510ac-fbd0-43a3-da1e-b8127d915bdb"
      },
      "source": [
        "# Revealing the Category which has paid applications in a dataframe\n",
        "PaidApps= Apps_Rel[Apps_Rel.Type=='Paid']   #Apps_Rel --> Apps Relvant!\n",
        "PaidApps.Category.unique()"
      ],
      "execution_count": 97,
      "outputs": [
        {
          "output_type": "execute_result",
          "data": {
            "text/plain": [
              "array(['FAMILY', 'GAME', 'MEDICAL', 'PERSONALIZATION'], dtype=object)"
            ]
          },
          "metadata": {},
          "execution_count": 97
        }
      ]
    },
    {
      "cell_type": "markdown",
      "metadata": {
        "id": "3khR92hzHda2"
      },
      "source": [
        "### Here we can see, there are total 4 Categories having paid applications."
      ]
    },
    {
      "cell_type": "code",
      "metadata": {
        "colab": {
          "base_uri": "https://localhost:8080/",
          "height": 172
        },
        "id": "Xhf2p84qernY",
        "outputId": "9cac464b-9bcf-462c-f345-4764baa2b244"
      },
      "source": [
        "# Let us create PaidApps dataframe to get mean over the price in Price column\n",
        "PaidApps= PaidApps.groupby('Category').mean().reset_index()\n",
        "PaidApps= PaidApps.sort_values('Price',ascending=False)\n",
        "PaidApps.head()"
      ],
      "execution_count": 98,
      "outputs": [
        {
          "output_type": "execute_result",
          "data": {
            "text/html": [
              "<div>\n",
              "<style scoped>\n",
              "    .dataframe tbody tr th:only-of-type {\n",
              "        vertical-align: middle;\n",
              "    }\n",
              "\n",
              "    .dataframe tbody tr th {\n",
              "        vertical-align: top;\n",
              "    }\n",
              "\n",
              "    .dataframe thead th {\n",
              "        text-align: right;\n",
              "    }\n",
              "</style>\n",
              "<table border=\"1\" class=\"dataframe\">\n",
              "  <thead>\n",
              "    <tr style=\"text-align: right;\">\n",
              "      <th></th>\n",
              "      <th>Category</th>\n",
              "      <th>Price</th>\n",
              "    </tr>\n",
              "  </thead>\n",
              "  <tbody>\n",
              "    <tr>\n",
              "      <th>2</th>\n",
              "      <td>MEDICAL</td>\n",
              "      <td>11.028961</td>\n",
              "    </tr>\n",
              "    <tr>\n",
              "      <th>1</th>\n",
              "      <td>GAME</td>\n",
              "      <td>5.132857</td>\n",
              "    </tr>\n",
              "    <tr>\n",
              "      <th>3</th>\n",
              "      <td>PERSONALIZATION</td>\n",
              "      <td>4.837222</td>\n",
              "    </tr>\n",
              "    <tr>\n",
              "      <th>0</th>\n",
              "      <td>FAMILY</td>\n",
              "      <td>3.990000</td>\n",
              "    </tr>\n",
              "  </tbody>\n",
              "</table>\n",
              "</div>"
            ],
            "text/plain": [
              "          Category      Price\n",
              "2          MEDICAL  11.028961\n",
              "1             GAME   5.132857\n",
              "3  PERSONALIZATION   4.837222\n",
              "0           FAMILY   3.990000"
            ]
          },
          "metadata": {},
          "execution_count": 98
        }
      ]
    },
    {
      "cell_type": "code",
      "metadata": {
        "colab": {
          "base_uri": "https://localhost:8080/",
          "height": 466
        },
        "id": "DCB6HMpXpmSF",
        "outputId": "f3422501-a203-4c28-f9b2-5ebdf15ffede"
      },
      "source": [
        "plt.figure(figsize=(10,7))\n",
        "sns.barplot(data=PaidApps,x='Category',y='Price')"
      ],
      "execution_count": 99,
      "outputs": [
        {
          "output_type": "execute_result",
          "data": {
            "text/plain": [
              "<matplotlib.axes._subplots.AxesSubplot at 0x7fd7c6affbd0>"
            ]
          },
          "metadata": {},
          "execution_count": 99
        },
        {
          "output_type": "display_data",
          "data": {
            "image/png": "[encoded data removed]",
            "text/plain": [
              "<Figure size 720x504 with 1 Axes>"
            ]
          },
          "metadata": {}
        }
      ]
    },
    {
      "cell_type": "markdown",
      "metadata": {
        "id": "vzYr8Oy7IeS0"
      },
      "source": [
        "## We can see from above that **Medical** Category has more paid apps.\n"
      ]
    },
    {
      "cell_type": "code",
      "metadata": {
        "colab": {
          "base_uri": "https://localhost:8080/",
          "height": 392
        },
        "id": "4vrin_vhS9ue",
        "outputId": "4c61a845-cdc2-4395-b692-f1cdd34e196e"
      },
      "source": [
        "merged_df.head()"
      ],
      "execution_count": 100,
      "outputs": [
        {
          "output_type": "execute_result",
          "data": {
            "text/html": [
              "<div>\n",
              "<style scoped>\n",
              "    .dataframe tbody tr th:only-of-type {\n",
              "        vertical-align: middle;\n",
              "    }\n",
              "\n",
              "    .dataframe tbody tr th {\n",
              "        vertical-align: top;\n",
              "    }\n",
              "\n",
              "    .dataframe thead th {\n",
              "        text-align: right;\n",
              "    }\n",
              "</style>\n",
              "<table border=\"1\" class=\"dataframe\">\n",
              "  <thead>\n",
              "    <tr style=\"text-align: right;\">\n",
              "      <th></th>\n",
              "      <th>App</th>\n",
              "      <th>Category</th>\n",
              "      <th>Rating</th>\n",
              "      <th>Reviews</th>\n",
              "      <th>Size</th>\n",
              "      <th>Installs</th>\n",
              "      <th>Type</th>\n",
              "      <th>Price</th>\n",
              "      <th>Content_Rating</th>\n",
              "      <th>Genres</th>\n",
              "      <th>Last_Updated</th>\n",
              "      <th>Current_Version</th>\n",
              "      <th>Android_Version</th>\n",
              "      <th>Installs1</th>\n",
              "      <th>Translated_Review</th>\n",
              "      <th>Sentiment</th>\n",
              "      <th>Sentiment_Polarity</th>\n",
              "      <th>Sentiment_Subjectivity</th>\n",
              "      <th>Year</th>\n",
              "    </tr>\n",
              "  </thead>\n",
              "  <tbody>\n",
              "    <tr>\n",
              "      <th>6</th>\n",
              "      <td>DreamTrips</td>\n",
              "      <td>TRAVEL_AND_LOCAL</td>\n",
              "      <td>4.7</td>\n",
              "      <td>9971</td>\n",
              "      <td>22.0</td>\n",
              "      <td>500000</td>\n",
              "      <td>Free</td>\n",
              "      <td>0.0</td>\n",
              "      <td>Teen</td>\n",
              "      <td>Travel &amp; Local</td>\n",
              "      <td>2018-08-06</td>\n",
              "      <td>1.28.1</td>\n",
              "      <td>5.0 and up</td>\n",
              "      <td>500,000+</td>\n",
              "      <td>I'm grateful booking engine dreamtrips. I've a...</td>\n",
              "      <td>Positive</td>\n",
              "      <td>0.2000</td>\n",
              "      <td>0.2000</td>\n",
              "      <td>2018</td>\n",
              "    </tr>\n",
              "    <tr>\n",
              "      <th>7</th>\n",
              "      <td>DreamTrips</td>\n",
              "      <td>TRAVEL_AND_LOCAL</td>\n",
              "      <td>4.7</td>\n",
              "      <td>9971</td>\n",
              "      <td>22.0</td>\n",
              "      <td>500000</td>\n",
              "      <td>Free</td>\n",
              "      <td>0.0</td>\n",
              "      <td>Teen</td>\n",
              "      <td>Travel &amp; Local</td>\n",
              "      <td>2018-08-06</td>\n",
              "      <td>1.28.1</td>\n",
              "      <td>5.0 and up</td>\n",
              "      <td>500,000+</td>\n",
              "      <td>This great app. I One book plane, hotel, dream...</td>\n",
              "      <td>Positive</td>\n",
              "      <td>0.8500</td>\n",
              "      <td>0.8750</td>\n",
              "      <td>2018</td>\n",
              "    </tr>\n",
              "    <tr>\n",
              "      <th>8</th>\n",
              "      <td>DreamTrips</td>\n",
              "      <td>TRAVEL_AND_LOCAL</td>\n",
              "      <td>4.7</td>\n",
              "      <td>9971</td>\n",
              "      <td>22.0</td>\n",
              "      <td>500000</td>\n",
              "      <td>Free</td>\n",
              "      <td>0.0</td>\n",
              "      <td>Teen</td>\n",
              "      <td>Travel &amp; Local</td>\n",
              "      <td>2018-08-06</td>\n",
              "      <td>1.28.1</td>\n",
              "      <td>5.0 and up</td>\n",
              "      <td>500,000+</td>\n",
              "      <td>Its slow rovia keeps going back disappointed g...</td>\n",
              "      <td>Negative</td>\n",
              "      <td>-0.1375</td>\n",
              "      <td>0.4125</td>\n",
              "      <td>2018</td>\n",
              "    </tr>\n",
              "    <tr>\n",
              "      <th>9</th>\n",
              "      <td>DreamTrips</td>\n",
              "      <td>TRAVEL_AND_LOCAL</td>\n",
              "      <td>4.7</td>\n",
              "      <td>9971</td>\n",
              "      <td>22.0</td>\n",
              "      <td>500000</td>\n",
              "      <td>Free</td>\n",
              "      <td>0.0</td>\n",
              "      <td>Teen</td>\n",
              "      <td>Travel &amp; Local</td>\n",
              "      <td>2018-08-06</td>\n",
              "      <td>1.28.1</td>\n",
              "      <td>5.0 and up</td>\n",
              "      <td>500,000+</td>\n",
              "      <td>Try get dreams trips Germany UK</td>\n",
              "      <td>Neutral</td>\n",
              "      <td>0.0000</td>\n",
              "      <td>0.0000</td>\n",
              "      <td>2018</td>\n",
              "    </tr>\n",
              "    <tr>\n",
              "      <th>10</th>\n",
              "      <td>DreamTrips</td>\n",
              "      <td>TRAVEL_AND_LOCAL</td>\n",
              "      <td>4.7</td>\n",
              "      <td>9971</td>\n",
              "      <td>22.0</td>\n",
              "      <td>500000</td>\n",
              "      <td>Free</td>\n",
              "      <td>0.0</td>\n",
              "      <td>Teen</td>\n",
              "      <td>Travel &amp; Local</td>\n",
              "      <td>2018-08-06</td>\n",
              "      <td>1.28.1</td>\n",
              "      <td>5.0 and up</td>\n",
              "      <td>500,000+</td>\n",
              "      <td>I cant open travelbook samsung handphone</td>\n",
              "      <td>Neutral</td>\n",
              "      <td>0.0000</td>\n",
              "      <td>0.5000</td>\n",
              "      <td>2018</td>\n",
              "    </tr>\n",
              "  </tbody>\n",
              "</table>\n",
              "</div>"
            ],
            "text/plain": [
              "           App          Category  ...  Sentiment_Subjectivity  Year\n",
              "6   DreamTrips  TRAVEL_AND_LOCAL  ...                  0.2000  2018\n",
              "7   DreamTrips  TRAVEL_AND_LOCAL  ...                  0.8750  2018\n",
              "8   DreamTrips  TRAVEL_AND_LOCAL  ...                  0.4125  2018\n",
              "9   DreamTrips  TRAVEL_AND_LOCAL  ...                  0.0000  2018\n",
              "10  DreamTrips  TRAVEL_AND_LOCAL  ...                  0.5000  2018\n",
              "\n",
              "[5 rows x 19 columns]"
            ]
          },
          "metadata": {},
          "execution_count": 100
        }
      ]
    },
    {
      "cell_type": "code",
      "metadata": {
        "id": "1UxyUC9bg3DU"
      },
      "source": [
        "# Which free app is having highest installs and most number of reviews with rating greater than 4?"
      ],
      "execution_count": 101,
      "outputs": []
    }
  ]
}