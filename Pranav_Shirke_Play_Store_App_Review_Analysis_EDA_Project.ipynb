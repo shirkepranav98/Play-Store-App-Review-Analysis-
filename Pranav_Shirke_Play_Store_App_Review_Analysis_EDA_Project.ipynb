{
  "nbformat": 4,
  "nbformat_minor": 0,
  "metadata": {
    "kernelspec": {
      "display_name": "Python 3",
      "language": "python",
      "name": "python3"
    },
    "language_info": {
      "codemirror_mode": {
        "name": "ipython",
        "version": 3
      },
      "file_extension": ".py",
      "mimetype": "text/x-python",
      "name": "python",
      "nbconvert_exporter": "python",
      "pygments_lexer": "ipython3",
      "version": "3.6.6"
    },
    "colab": {
      "name": "Pranav Shirke-Play Store App Review Analysis - EDA Project.ipynb",
      "provenance": [],
      "collapsed_sections": [],
      "include_colab_link": true
    }
  },
  "cells": [
    {
      "cell_type": "markdown",
      "metadata": {
        "id": "view-in-github",
        "colab_type": "text"
      },
      "source": [
        "<a href=\"https://colab.research.google.com/github/shirkepranav98/Play-Store-App-Review-Analysis-/blob/main/Pranav_Shirke_Play_Store_App_Review_Analysis_EDA_Project.ipynb\" target=\"_parent\"><img src=\"https://colab.research.google.com/assets/colab-badge.svg\" alt=\"Open In Colab\"/></a>"
      ]
    },
    {
      "cell_type": "markdown",
      "metadata": {
        "id": "Y06xIdG26kRF"
      },
      "source": [
        "## <b> The Play Store apps data has enormous potential to drive app-making businesses to success. Actionable insights can be drawn for developers to work on and capture the Android market. </b>\n",
        "\n",
        "## <b> Each app (row) has values for catergory, rating, size, and more. Another dataset contains customer reviews of the android apps.</b>\n",
        "\n",
        "## <b> Explore and analyze the data to discover key factors responsible for app engagement and success. </b>"
      ]
    },
    {
      "cell_type": "markdown",
      "metadata": {
        "id": "kKsy1sR3k4QI"
      },
      "source": [
        "## Which free app is having highest installs and most number of reviews with rating greater than 4?"
      ]
    },
    {
      "cell_type": "markdown",
      "metadata": {
        "id": "1TS9M_G-DFoV"
      },
      "source": [
        "# Mounting the Drive and Loading the csv files\n",
        "\n",
        "\n",
        "\n"
      ]
    },
    {
      "cell_type": "code",
      "metadata": {
        "id": "Zs9tFn_4DHYB",
        "colab": {
          "base_uri": "https://localhost:8080/"
        },
        "outputId": "8346e6e5-ce9e-4e2c-88de-cfad9f6644f5"
      },
      "source": [
        "# # Mounting Drive\n",
        "from google.colab import drive\n",
        "drive.mount('/content/drive')"
      ],
      "execution_count": 4,
      "outputs": [
        {
          "output_type": "stream",
          "name": "stdout",
          "text": [
            "Drive already mounted at /content/drive; to attempt to forcibly remount, call drive.mount(\"/content/drive\", force_remount=True).\n"
          ]
        }
      ]
    },
    {
      "cell_type": "code",
      "metadata": {
        "id": "_5xtQzJjDc6G"
      },
      "source": [
        "# Import pandas \n",
        "import pandas as pd\n",
        "import numpy as np\n",
        "import seaborn as sns\n",
        "import matplotlib.pyplot as plt"
      ],
      "execution_count": 5,
      "outputs": []
    },
    {
      "cell_type": "code",
      "metadata": {
        "id": "eDu-blm2Ttxg"
      },
      "source": [
        "# Loading two csv files as path1 and path2\n",
        "path1 = '/content/drive/MyDrive/AlmaBetter/Project on play store/csv files/'\n",
        "path2 = '/content/drive/MyDrive/AlmaBetter/Project on play store/csv files/'"
      ],
      "execution_count": 6,
      "outputs": []
    },
    {
      "cell_type": "code",
      "metadata": {
        "id": "pddW5NVKTtuZ"
      },
      "source": [
        "play_s_df = pd.read_csv(path1 + 'Play Store Data.csv')\n",
        "user_r_df = pd.read_csv(path2 + 'User Reviews.csv')"
      ],
      "execution_count": 7,
      "outputs": []
    },
    {
      "cell_type": "markdown",
      "metadata": {
        "id": "Z5_86bBbCIkV"
      },
      "source": [
        "# 1. INTRODUCTION TO DATA\n",
        "---\n",
        "Firstly let's get to know data. While I was analyzing the data, I used Pandas library.\n",
        "\n",
        "1. info(): It informs about data columns and data types.\n",
        "2. head(): It returns the first five data.\n",
        "3. tail(): It returns the last five data.\n",
        "4. columns : It returns data columns\n",
        "5. describe : To get some basic statistical details\n",
        "5. shape : It gives number of rows and columns in a tuble."
      ]
    },
    {
      "cell_type": "code",
      "metadata": {
        "id": "IZWpvLCVF9Ei",
        "colab": {
          "base_uri": "https://localhost:8080/"
        },
        "outputId": "56c1a123-a096-4eaf-e5f9-92ae7e09e989"
      },
      "source": [
        "play_s_df.info()"
      ],
      "execution_count": 8,
      "outputs": [
        {
          "output_type": "stream",
          "name": "stdout",
          "text": [
            "<class 'pandas.core.frame.DataFrame'>\n",
            "RangeIndex: 10841 entries, 0 to 10840\n",
            "Data columns (total 13 columns):\n",
            " #   Column          Non-Null Count  Dtype  \n",
            "---  ------          --------------  -----  \n",
            " 0   App             10841 non-null  object \n",
            " 1   Category        10841 non-null  object \n",
            " 2   Rating          9367 non-null   float64\n",
            " 3   Reviews         10841 non-null  object \n",
            " 4   Size            10841 non-null  object \n",
            " 5   Installs        10841 non-null  object \n",
            " 6   Type            10840 non-null  object \n",
            " 7   Price           10841 non-null  object \n",
            " 8   Content Rating  10840 non-null  object \n",
            " 9   Genres          10841 non-null  object \n",
            " 10  Last Updated    10841 non-null  object \n",
            " 11  Current Ver     10833 non-null  object \n",
            " 12  Android Ver     10838 non-null  object \n",
            "dtypes: float64(1), object(12)\n",
            "memory usage: 1.1+ MB\n"
          ]
        }
      ]
    },
    {
      "cell_type": "code",
      "metadata": {
        "id": "wEulCxUsG1ps",
        "colab": {
          "base_uri": "https://localhost:8080/",
          "height": 293
        },
        "outputId": "72cbac37-2e21-4a05-be4e-97c9ac6f4176"
      },
      "source": [
        "play_s_df.head()"
      ],
      "execution_count": 9,
      "outputs": [
        {
          "output_type": "execute_result",
          "data": {
            "text/html": [
              "<div>\n",
              "<style scoped>\n",
              "    .dataframe tbody tr th:only-of-type {\n",
              "        vertical-align: middle;\n",
              "    }\n",
              "\n",
              "    .dataframe tbody tr th {\n",
              "        vertical-align: top;\n",
              "    }\n",
              "\n",
              "    .dataframe thead th {\n",
              "        text-align: right;\n",
              "    }\n",
              "</style>\n",
              "<table border=\"1\" class=\"dataframe\">\n",
              "  <thead>\n",
              "    <tr style=\"text-align: right;\">\n",
              "      <th></th>\n",
              "      <th>App</th>\n",
              "      <th>Category</th>\n",
              "      <th>Rating</th>\n",
              "      <th>Reviews</th>\n",
              "      <th>Size</th>\n",
              "      <th>Installs</th>\n",
              "      <th>Type</th>\n",
              "      <th>Price</th>\n",
              "      <th>Content Rating</th>\n",
              "      <th>Genres</th>\n",
              "      <th>Last Updated</th>\n",
              "      <th>Current Ver</th>\n",
              "      <th>Android Ver</th>\n",
              "    </tr>\n",
              "  </thead>\n",
              "  <tbody>\n",
              "    <tr>\n",
              "      <th>0</th>\n",
              "      <td>Photo Editor &amp; Candy Camera &amp; Grid &amp; ScrapBook</td>\n",
              "      <td>ART_AND_DESIGN</td>\n",
              "      <td>4.1</td>\n",
              "      <td>159</td>\n",
              "      <td>19M</td>\n",
              "      <td>10,000+</td>\n",
              "      <td>Free</td>\n",
              "      <td>0</td>\n",
              "      <td>Everyone</td>\n",
              "      <td>Art &amp; Design</td>\n",
              "      <td>January 7, 2018</td>\n",
              "      <td>1.0.0</td>\n",
              "      <td>4.0.3 and up</td>\n",
              "    </tr>\n",
              "    <tr>\n",
              "      <th>1</th>\n",
              "      <td>Coloring book moana</td>\n",
              "      <td>ART_AND_DESIGN</td>\n",
              "      <td>3.9</td>\n",
              "      <td>967</td>\n",
              "      <td>14M</td>\n",
              "      <td>500,000+</td>\n",
              "      <td>Free</td>\n",
              "      <td>0</td>\n",
              "      <td>Everyone</td>\n",
              "      <td>Art &amp; Design;Pretend Play</td>\n",
              "      <td>January 15, 2018</td>\n",
              "      <td>2.0.0</td>\n",
              "      <td>4.0.3 and up</td>\n",
              "    </tr>\n",
              "    <tr>\n",
              "      <th>2</th>\n",
              "      <td>U Launcher Lite – FREE Live Cool Themes, Hide ...</td>\n",
              "      <td>ART_AND_DESIGN</td>\n",
              "      <td>4.7</td>\n",
              "      <td>87510</td>\n",
              "      <td>8.7M</td>\n",
              "      <td>5,000,000+</td>\n",
              "      <td>Free</td>\n",
              "      <td>0</td>\n",
              "      <td>Everyone</td>\n",
              "      <td>Art &amp; Design</td>\n",
              "      <td>August 1, 2018</td>\n",
              "      <td>1.2.4</td>\n",
              "      <td>4.0.3 and up</td>\n",
              "    </tr>\n",
              "    <tr>\n",
              "      <th>3</th>\n",
              "      <td>Sketch - Draw &amp; Paint</td>\n",
              "      <td>ART_AND_DESIGN</td>\n",
              "      <td>4.5</td>\n",
              "      <td>215644</td>\n",
              "      <td>25M</td>\n",
              "      <td>50,000,000+</td>\n",
              "      <td>Free</td>\n",
              "      <td>0</td>\n",
              "      <td>Teen</td>\n",
              "      <td>Art &amp; Design</td>\n",
              "      <td>June 8, 2018</td>\n",
              "      <td>Varies with device</td>\n",
              "      <td>4.2 and up</td>\n",
              "    </tr>\n",
              "    <tr>\n",
              "      <th>4</th>\n",
              "      <td>Pixel Draw - Number Art Coloring Book</td>\n",
              "      <td>ART_AND_DESIGN</td>\n",
              "      <td>4.3</td>\n",
              "      <td>967</td>\n",
              "      <td>2.8M</td>\n",
              "      <td>100,000+</td>\n",
              "      <td>Free</td>\n",
              "      <td>0</td>\n",
              "      <td>Everyone</td>\n",
              "      <td>Art &amp; Design;Creativity</td>\n",
              "      <td>June 20, 2018</td>\n",
              "      <td>1.1</td>\n",
              "      <td>4.4 and up</td>\n",
              "    </tr>\n",
              "  </tbody>\n",
              "</table>\n",
              "</div>"
            ],
            "text/plain": [
              "                                                 App  ...   Android Ver\n",
              "0     Photo Editor & Candy Camera & Grid & ScrapBook  ...  4.0.3 and up\n",
              "1                                Coloring book moana  ...  4.0.3 and up\n",
              "2  U Launcher Lite – FREE Live Cool Themes, Hide ...  ...  4.0.3 and up\n",
              "3                              Sketch - Draw & Paint  ...    4.2 and up\n",
              "4              Pixel Draw - Number Art Coloring Book  ...    4.4 and up\n",
              "\n",
              "[5 rows x 13 columns]"
            ]
          },
          "metadata": {},
          "execution_count": 9
        }
      ]
    },
    {
      "cell_type": "code",
      "metadata": {
        "id": "ZLInYkEbLv4T",
        "colab": {
          "base_uri": "https://localhost:8080/",
          "height": 275
        },
        "outputId": "4e556ad4-7e86-45c1-cf20-64691caace5c"
      },
      "source": [
        "play_s_df.tail()"
      ],
      "execution_count": 10,
      "outputs": [
        {
          "output_type": "execute_result",
          "data": {
            "text/html": [
              "<div>\n",
              "<style scoped>\n",
              "    .dataframe tbody tr th:only-of-type {\n",
              "        vertical-align: middle;\n",
              "    }\n",
              "\n",
              "    .dataframe tbody tr th {\n",
              "        vertical-align: top;\n",
              "    }\n",
              "\n",
              "    .dataframe thead th {\n",
              "        text-align: right;\n",
              "    }\n",
              "</style>\n",
              "<table border=\"1\" class=\"dataframe\">\n",
              "  <thead>\n",
              "    <tr style=\"text-align: right;\">\n",
              "      <th></th>\n",
              "      <th>App</th>\n",
              "      <th>Category</th>\n",
              "      <th>Rating</th>\n",
              "      <th>Reviews</th>\n",
              "      <th>Size</th>\n",
              "      <th>Installs</th>\n",
              "      <th>Type</th>\n",
              "      <th>Price</th>\n",
              "      <th>Content Rating</th>\n",
              "      <th>Genres</th>\n",
              "      <th>Last Updated</th>\n",
              "      <th>Current Ver</th>\n",
              "      <th>Android Ver</th>\n",
              "    </tr>\n",
              "  </thead>\n",
              "  <tbody>\n",
              "    <tr>\n",
              "      <th>10836</th>\n",
              "      <td>Sya9a Maroc - FR</td>\n",
              "      <td>FAMILY</td>\n",
              "      <td>4.5</td>\n",
              "      <td>38</td>\n",
              "      <td>53M</td>\n",
              "      <td>5,000+</td>\n",
              "      <td>Free</td>\n",
              "      <td>0</td>\n",
              "      <td>Everyone</td>\n",
              "      <td>Education</td>\n",
              "      <td>July 25, 2017</td>\n",
              "      <td>1.48</td>\n",
              "      <td>4.1 and up</td>\n",
              "    </tr>\n",
              "    <tr>\n",
              "      <th>10837</th>\n",
              "      <td>Fr. Mike Schmitz Audio Teachings</td>\n",
              "      <td>FAMILY</td>\n",
              "      <td>5.0</td>\n",
              "      <td>4</td>\n",
              "      <td>3.6M</td>\n",
              "      <td>100+</td>\n",
              "      <td>Free</td>\n",
              "      <td>0</td>\n",
              "      <td>Everyone</td>\n",
              "      <td>Education</td>\n",
              "      <td>July 6, 2018</td>\n",
              "      <td>1.0</td>\n",
              "      <td>4.1 and up</td>\n",
              "    </tr>\n",
              "    <tr>\n",
              "      <th>10838</th>\n",
              "      <td>Parkinson Exercices FR</td>\n",
              "      <td>MEDICAL</td>\n",
              "      <td>NaN</td>\n",
              "      <td>3</td>\n",
              "      <td>9.5M</td>\n",
              "      <td>1,000+</td>\n",
              "      <td>Free</td>\n",
              "      <td>0</td>\n",
              "      <td>Everyone</td>\n",
              "      <td>Medical</td>\n",
              "      <td>January 20, 2017</td>\n",
              "      <td>1.0</td>\n",
              "      <td>2.2 and up</td>\n",
              "    </tr>\n",
              "    <tr>\n",
              "      <th>10839</th>\n",
              "      <td>The SCP Foundation DB fr nn5n</td>\n",
              "      <td>BOOKS_AND_REFERENCE</td>\n",
              "      <td>4.5</td>\n",
              "      <td>114</td>\n",
              "      <td>Varies with device</td>\n",
              "      <td>1,000+</td>\n",
              "      <td>Free</td>\n",
              "      <td>0</td>\n",
              "      <td>Mature 17+</td>\n",
              "      <td>Books &amp; Reference</td>\n",
              "      <td>January 19, 2015</td>\n",
              "      <td>Varies with device</td>\n",
              "      <td>Varies with device</td>\n",
              "    </tr>\n",
              "    <tr>\n",
              "      <th>10840</th>\n",
              "      <td>iHoroscope - 2018 Daily Horoscope &amp; Astrology</td>\n",
              "      <td>LIFESTYLE</td>\n",
              "      <td>4.5</td>\n",
              "      <td>398307</td>\n",
              "      <td>19M</td>\n",
              "      <td>10,000,000+</td>\n",
              "      <td>Free</td>\n",
              "      <td>0</td>\n",
              "      <td>Everyone</td>\n",
              "      <td>Lifestyle</td>\n",
              "      <td>July 25, 2018</td>\n",
              "      <td>Varies with device</td>\n",
              "      <td>Varies with device</td>\n",
              "    </tr>\n",
              "  </tbody>\n",
              "</table>\n",
              "</div>"
            ],
            "text/plain": [
              "                                                 App  ...         Android Ver\n",
              "10836                               Sya9a Maroc - FR  ...          4.1 and up\n",
              "10837               Fr. Mike Schmitz Audio Teachings  ...          4.1 and up\n",
              "10838                         Parkinson Exercices FR  ...          2.2 and up\n",
              "10839                  The SCP Foundation DB fr nn5n  ...  Varies with device\n",
              "10840  iHoroscope - 2018 Daily Horoscope & Astrology  ...  Varies with device\n",
              "\n",
              "[5 rows x 13 columns]"
            ]
          },
          "metadata": {},
          "execution_count": 10
        }
      ]
    },
    {
      "cell_type": "code",
      "metadata": {
        "id": "ja8vP0DHECRs",
        "colab": {
          "base_uri": "https://localhost:8080/"
        },
        "outputId": "06344cee-6fd7-49af-92b3-0fad78fb87e7"
      },
      "source": [
        "play_s_df.columns"
      ],
      "execution_count": 11,
      "outputs": [
        {
          "output_type": "execute_result",
          "data": {
            "text/plain": [
              "Index(['App', 'Category', 'Rating', 'Reviews', 'Size', 'Installs', 'Type',\n",
              "       'Price', 'Content Rating', 'Genres', 'Last Updated', 'Current Ver',\n",
              "       'Android Ver'],\n",
              "      dtype='object')"
            ]
          },
          "metadata": {},
          "execution_count": 11
        }
      ]
    },
    {
      "cell_type": "code",
      "metadata": {
        "id": "DUZGfgLJ1e3e",
        "colab": {
          "base_uri": "https://localhost:8080/",
          "height": 300
        },
        "outputId": "40408f84-4494-41de-bc76-87c62cc0fde0"
      },
      "source": [
        "play_s_df.describe()"
      ],
      "execution_count": 12,
      "outputs": [
        {
          "output_type": "execute_result",
          "data": {
            "text/html": [
              "<div>\n",
              "<style scoped>\n",
              "    .dataframe tbody tr th:only-of-type {\n",
              "        vertical-align: middle;\n",
              "    }\n",
              "\n",
              "    .dataframe tbody tr th {\n",
              "        vertical-align: top;\n",
              "    }\n",
              "\n",
              "    .dataframe thead th {\n",
              "        text-align: right;\n",
              "    }\n",
              "</style>\n",
              "<table border=\"1\" class=\"dataframe\">\n",
              "  <thead>\n",
              "    <tr style=\"text-align: right;\">\n",
              "      <th></th>\n",
              "      <th>Rating</th>\n",
              "    </tr>\n",
              "  </thead>\n",
              "  <tbody>\n",
              "    <tr>\n",
              "      <th>count</th>\n",
              "      <td>9367.000000</td>\n",
              "    </tr>\n",
              "    <tr>\n",
              "      <th>mean</th>\n",
              "      <td>4.193338</td>\n",
              "    </tr>\n",
              "    <tr>\n",
              "      <th>std</th>\n",
              "      <td>0.537431</td>\n",
              "    </tr>\n",
              "    <tr>\n",
              "      <th>min</th>\n",
              "      <td>1.000000</td>\n",
              "    </tr>\n",
              "    <tr>\n",
              "      <th>25%</th>\n",
              "      <td>4.000000</td>\n",
              "    </tr>\n",
              "    <tr>\n",
              "      <th>50%</th>\n",
              "      <td>4.300000</td>\n",
              "    </tr>\n",
              "    <tr>\n",
              "      <th>75%</th>\n",
              "      <td>4.500000</td>\n",
              "    </tr>\n",
              "    <tr>\n",
              "      <th>max</th>\n",
              "      <td>19.000000</td>\n",
              "    </tr>\n",
              "  </tbody>\n",
              "</table>\n",
              "</div>"
            ],
            "text/plain": [
              "            Rating\n",
              "count  9367.000000\n",
              "mean      4.193338\n",
              "std       0.537431\n",
              "min       1.000000\n",
              "25%       4.000000\n",
              "50%       4.300000\n",
              "75%       4.500000\n",
              "max      19.000000"
            ]
          },
          "metadata": {},
          "execution_count": 12
        }
      ]
    },
    {
      "cell_type": "code",
      "metadata": {
        "colab": {
          "base_uri": "https://localhost:8080/"
        },
        "id": "fyOBtHP5EvZs",
        "outputId": "0728a160-d58b-41ce-a358-97b638334c75"
      },
      "source": [
        "play_s_df.shape"
      ],
      "execution_count": 13,
      "outputs": [
        {
          "output_type": "execute_result",
          "data": {
            "text/plain": [
              "(10841, 13)"
            ]
          },
          "metadata": {},
          "execution_count": 13
        }
      ]
    },
    {
      "cell_type": "code",
      "metadata": {
        "colab": {
          "base_uri": "https://localhost:8080/"
        },
        "id": "DdNTIuZhQWF_",
        "outputId": "0750d558-cfbe-4b96-e7ac-679186ec0a32"
      },
      "source": [
        "play_s_df.App.nunique()"
      ],
      "execution_count": 14,
      "outputs": [
        {
          "output_type": "execute_result",
          "data": {
            "text/plain": [
              "9660"
            ]
          },
          "metadata": {},
          "execution_count": 14
        }
      ]
    },
    {
      "cell_type": "markdown",
      "metadata": {
        "id": "s_RHQMh0CAFR"
      },
      "source": [
        "# Cleaning of Data\n",
        "---\n",
        "\n"
      ]
    },
    {
      "cell_type": "markdown",
      "metadata": {
        "id": "5UBxBqrqE7he"
      },
      "source": [
        "# **Remove** **Duplicates** -\n",
        "### There is always a possibility that duplicates may exist within the dataframe and eliminating those duplicates is major task while analyzing the data. This can be done by drop_duplicates method."
      ]
    },
    {
      "cell_type": "code",
      "metadata": {
        "colab": {
          "base_uri": "https://localhost:8080/",
          "height": 206
        },
        "id": "0nelxrJz5SVL",
        "outputId": "0db3fab8-4606-49df-c839-1593d7dddcac"
      },
      "source": [
        "# Firstly, Showing the existence of duplicates using app and counting the values of duplicate apps\n",
        "duplicate =play_s_df.groupby(['App']).agg({'Category': 'count'}).reset_index()\n",
        "duplicate = duplicate.sort_values(by=['Category'], ascending=False)\n",
        "duplicate.head()"
      ],
      "execution_count": 15,
      "outputs": [
        {
          "output_type": "execute_result",
          "data": {
            "text/html": [
              "<div>\n",
              "<style scoped>\n",
              "    .dataframe tbody tr th:only-of-type {\n",
              "        vertical-align: middle;\n",
              "    }\n",
              "\n",
              "    .dataframe tbody tr th {\n",
              "        vertical-align: top;\n",
              "    }\n",
              "\n",
              "    .dataframe thead th {\n",
              "        text-align: right;\n",
              "    }\n",
              "</style>\n",
              "<table border=\"1\" class=\"dataframe\">\n",
              "  <thead>\n",
              "    <tr style=\"text-align: right;\">\n",
              "      <th></th>\n",
              "      <th>App</th>\n",
              "      <th>Category</th>\n",
              "    </tr>\n",
              "  </thead>\n",
              "  <tbody>\n",
              "    <tr>\n",
              "      <th>7302</th>\n",
              "      <td>ROBLOX</td>\n",
              "      <td>9</td>\n",
              "    </tr>\n",
              "    <tr>\n",
              "      <th>1934</th>\n",
              "      <td>CBS Sports App - Scores, News, Stats &amp; Watch Live</td>\n",
              "      <td>8</td>\n",
              "    </tr>\n",
              "    <tr>\n",
              "      <th>2364</th>\n",
              "      <td>Candy Crush Saga</td>\n",
              "      <td>7</td>\n",
              "    </tr>\n",
              "    <tr>\n",
              "      <th>3504</th>\n",
              "      <td>Duolingo: Learn Languages Free</td>\n",
              "      <td>7</td>\n",
              "    </tr>\n",
              "    <tr>\n",
              "      <th>101</th>\n",
              "      <td>8 Ball Pool</td>\n",
              "      <td>7</td>\n",
              "    </tr>\n",
              "  </tbody>\n",
              "</table>\n",
              "</div>"
            ],
            "text/plain": [
              "                                                    App  Category\n",
              "7302                                             ROBLOX         9\n",
              "1934  CBS Sports App - Scores, News, Stats & Watch Live         8\n",
              "2364                                   Candy Crush Saga         7\n",
              "3504                     Duolingo: Learn Languages Free         7\n",
              "101                                         8 Ball Pool         7"
            ]
          },
          "metadata": {},
          "execution_count": 15
        }
      ]
    },
    {
      "cell_type": "code",
      "metadata": {
        "colab": {
          "base_uri": "https://localhost:8080/"
        },
        "id": "DyyqY6Ex5_WR",
        "outputId": "b0f5413c-f324-424f-80e7-cecd948c11ca"
      },
      "source": [
        "# Drop duplicates with a value in a specific column.\n",
        "before = len(play_s_df.index)\n",
        "print('Total entries with duplicates were '+ (str(before)))\n",
        "\n",
        "play_s_df.drop_duplicates(subset =\"App\",keep = 'first', inplace = True)\n",
        "\n",
        "after = len(play_s_df.index)\n",
        "print('Total entries after duplicates were dropped are '+ (str(after)))\n",
        "print('Total '+ (str(before-after))+' entries were dropped.')"
      ],
      "execution_count": 16,
      "outputs": [
        {
          "output_type": "stream",
          "name": "stdout",
          "text": [
            "Total entries with duplicates were 10841\n",
            "Total entries after duplicates were dropped are 9660\n",
            "Total 1181 entries were dropped.\n"
          ]
        }
      ]
    },
    {
      "cell_type": "code",
      "metadata": {
        "id": "h1-DWm9JFTjL",
        "colab": {
          "base_uri": "https://localhost:8080/"
        },
        "outputId": "418d92b7-3e56-4b81-c067-ee2f1bed97b2"
      },
      "source": [
        "# Shape of dataframe after removing duplicates\n",
        "play_s_df.shape"
      ],
      "execution_count": 17,
      "outputs": [
        {
          "output_type": "execute_result",
          "data": {
            "text/plain": [
              "(9660, 13)"
            ]
          },
          "metadata": {},
          "execution_count": 17
        }
      ]
    },
    {
      "cell_type": "markdown",
      "metadata": {
        "id": "9ieV2FFta54m"
      },
      "source": [
        "#**Column: Rating**"
      ]
    },
    {
      "cell_type": "code",
      "metadata": {
        "id": "zj78vDeOE2E9"
      },
      "source": [
        "# Changing the column names to one word\n",
        "play_s_df.rename(columns={'Last Updated':'Last_Updated', 'Content Rating':'Content_Rating', 'Current Ver':'Current_Version', 'Android Ver':'Android_Version'}, inplace = True)"
      ],
      "execution_count": 18,
      "outputs": []
    },
    {
      "cell_type": "code",
      "metadata": {
        "id": "Q2vsqNYK4o53",
        "colab": {
          "base_uri": "https://localhost:8080/",
          "height": 265
        },
        "outputId": "a65e7281-9346-4e3c-8cbd-743705e2bb26"
      },
      "source": [
        "play_s_df.boxplot(column='Rating');"
      ],
      "execution_count": 19,
      "outputs": [
        {
          "output_type": "display_data",
          "data": {
            "image/png": "[encoded data removed]",
            "text/plain": [
              "<Figure size 432x288 with 1 Axes>"
            ]
          },
          "metadata": {
            "needs_background": "light"
          }
        }
      ]
    },
    {
      "cell_type": "code",
      "metadata": {
        "id": "FLyHayo92QxG",
        "colab": {
          "base_uri": "https://localhost:8080/"
        },
        "outputId": "6af3664e-a9e5-4a99-91b9-c775d0d4983e"
      },
      "source": [
        "# Finding the sum of null values for each dataseries throughout the Dataframe\n",
        "play_s_df.isnull().sum()"
      ],
      "execution_count": 20,
      "outputs": [
        {
          "output_type": "execute_result",
          "data": {
            "text/plain": [
              "App                   0\n",
              "Category              0\n",
              "Rating             1463\n",
              "Reviews               0\n",
              "Size                  0\n",
              "Installs              0\n",
              "Type                  1\n",
              "Price                 0\n",
              "Content_Rating        1\n",
              "Genres                0\n",
              "Last_Updated          0\n",
              "Current_Version       8\n",
              "Android_Version       3\n",
              "dtype: int64"
            ]
          },
          "metadata": {},
          "execution_count": 20
        }
      ]
    },
    {
      "cell_type": "code",
      "metadata": {
        "id": "U113DwVl20UG",
        "colab": {
          "base_uri": "https://localhost:8080/",
          "height": 81
        },
        "outputId": "4c837239-706e-4a4d-88fd-7f193d60c2cf"
      },
      "source": [
        "# Checking the outliers \n",
        "play_s_df[play_s_df.Rating>5]"
      ],
      "execution_count": 21,
      "outputs": [
        {
          "output_type": "execute_result",
          "data": {
            "text/html": [
              "<div>\n",
              "<style scoped>\n",
              "    .dataframe tbody tr th:only-of-type {\n",
              "        vertical-align: middle;\n",
              "    }\n",
              "\n",
              "    .dataframe tbody tr th {\n",
              "        vertical-align: top;\n",
              "    }\n",
              "\n",
              "    .dataframe thead th {\n",
              "        text-align: right;\n",
              "    }\n",
              "</style>\n",
              "<table border=\"1\" class=\"dataframe\">\n",
              "  <thead>\n",
              "    <tr style=\"text-align: right;\">\n",
              "      <th></th>\n",
              "      <th>App</th>\n",
              "      <th>Category</th>\n",
              "      <th>Rating</th>\n",
              "      <th>Reviews</th>\n",
              "      <th>Size</th>\n",
              "      <th>Installs</th>\n",
              "      <th>Type</th>\n",
              "      <th>Price</th>\n",
              "      <th>Content_Rating</th>\n",
              "      <th>Genres</th>\n",
              "      <th>Last_Updated</th>\n",
              "      <th>Current_Version</th>\n",
              "      <th>Android_Version</th>\n",
              "    </tr>\n",
              "  </thead>\n",
              "  <tbody>\n",
              "    <tr>\n",
              "      <th>10472</th>\n",
              "      <td>Life Made WI-Fi Touchscreen Photo Frame</td>\n",
              "      <td>1.9</td>\n",
              "      <td>19.0</td>\n",
              "      <td>3.0M</td>\n",
              "      <td>1,000+</td>\n",
              "      <td>Free</td>\n",
              "      <td>0</td>\n",
              "      <td>Everyone</td>\n",
              "      <td>NaN</td>\n",
              "      <td>February 11, 2018</td>\n",
              "      <td>1.0.19</td>\n",
              "      <td>4.0 and up</td>\n",
              "      <td>NaN</td>\n",
              "    </tr>\n",
              "  </tbody>\n",
              "</table>\n",
              "</div>"
            ],
            "text/plain": [
              "                                           App  ... Android_Version\n",
              "10472  Life Made WI-Fi Touchscreen Photo Frame  ...             NaN\n",
              "\n",
              "[1 rows x 13 columns]"
            ]
          },
          "metadata": {},
          "execution_count": 21
        }
      ]
    },
    {
      "cell_type": "code",
      "metadata": {
        "id": "dqHnXe_n3EhJ"
      },
      "source": [
        "# Removing the outliers from column because it increases variability in our data.\n",
        "play_s_df.drop([10472],inplace=True)"
      ],
      "execution_count": 22,
      "outputs": []
    },
    {
      "cell_type": "code",
      "metadata": {
        "id": "U4DcMMjP27tu",
        "colab": {
          "base_uri": "https://localhost:8080/",
          "height": 50
        },
        "outputId": "dc4d3800-5914-44af-b889-a114b2f25cdb"
      },
      "source": [
        "# Checking the dropped outliers with method of slicing\n",
        "play_s_df[10471:10475]"
      ],
      "execution_count": 23,
      "outputs": [
        {
          "output_type": "execute_result",
          "data": {
            "text/html": [
              "<div>\n",
              "<style scoped>\n",
              "    .dataframe tbody tr th:only-of-type {\n",
              "        vertical-align: middle;\n",
              "    }\n",
              "\n",
              "    .dataframe tbody tr th {\n",
              "        vertical-align: top;\n",
              "    }\n",
              "\n",
              "    .dataframe thead th {\n",
              "        text-align: right;\n",
              "    }\n",
              "</style>\n",
              "<table border=\"1\" class=\"dataframe\">\n",
              "  <thead>\n",
              "    <tr style=\"text-align: right;\">\n",
              "      <th></th>\n",
              "      <th>App</th>\n",
              "      <th>Category</th>\n",
              "      <th>Rating</th>\n",
              "      <th>Reviews</th>\n",
              "      <th>Size</th>\n",
              "      <th>Installs</th>\n",
              "      <th>Type</th>\n",
              "      <th>Price</th>\n",
              "      <th>Content_Rating</th>\n",
              "      <th>Genres</th>\n",
              "      <th>Last_Updated</th>\n",
              "      <th>Current_Version</th>\n",
              "      <th>Android_Version</th>\n",
              "    </tr>\n",
              "  </thead>\n",
              "  <tbody>\n",
              "  </tbody>\n",
              "</table>\n",
              "</div>"
            ],
            "text/plain": [
              "Empty DataFrame\n",
              "Columns: [App, Category, Rating, Reviews, Size, Installs, Type, Price, Content_Rating, Genres, Last_Updated, Current_Version, Android_Version]\n",
              "Index: []"
            ]
          },
          "metadata": {},
          "execution_count": 23
        }
      ]
    },
    {
      "cell_type": "code",
      "metadata": {
        "id": "Usyy7c0uUmS3",
        "colab": {
          "base_uri": "https://localhost:8080/",
          "height": 281
        },
        "outputId": "ccd16dac-c281-4ec9-be90-07e4d211386a"
      },
      "source": [
        "play_s_df.hist(column='Rating');"
      ],
      "execution_count": 24,
      "outputs": [
        {
          "output_type": "display_data",
          "data": {
            "image/png": "[encoded data removed]",
            "text/plain": [
              "<Figure size 432x288 with 1 Axes>"
            ]
          },
          "metadata": {
            "needs_background": "light"
          }
        }
      ]
    },
    {
      "cell_type": "code",
      "metadata": {
        "id": "C89ajLIa-2Xl",
        "colab": {
          "base_uri": "https://localhost:8080/",
          "height": 394
        },
        "outputId": "32acc66d-d81a-46bb-a424-b7bb6cb38102"
      },
      "source": [
        "sns.set(rc={'figure.figsize':(8,5)});\n",
        "sns.distplot(play_s_df.Rating);"
      ],
      "execution_count": 25,
      "outputs": [
        {
          "output_type": "stream",
          "name": "stderr",
          "text": [
            "/usr/local/lib/python3.7/dist-packages/seaborn/distributions.py:2619: FutureWarning: `distplot` is a deprecated function and will be removed in a future version. Please adapt your code to use either `displot` (a figure-level function with similar flexibility) or `histplot` (an axes-level function for histograms).\n",
            "  warnings.warn(msg, FutureWarning)\n"
          ]
        },
        {
          "output_type": "display_data",
          "data": {
            "image/png": "[encoded data removed]",
            "text/plain": [
              "<Figure size 576x360 with 1 Axes>"
            ]
          },
          "metadata": {}
        }
      ]
    },
    {
      "cell_type": "code",
      "metadata": {
        "id": "R1nVfs6WTUWQ"
      },
      "source": [
        "''' Filling null values with median value because as we can see from the above distplot appeared as skewed to left. \n",
        "So the median is usually preferred in measures of central tendency when your data set is skewed '''\n",
        "\n",
        "play_s_df['Rating'] = play_s_df['Rating'].fillna(play_s_df['Rating'].median())"
      ],
      "execution_count": 26,
      "outputs": []
    },
    {
      "cell_type": "code",
      "metadata": {
        "id": "_uMSYxwCTUay",
        "colab": {
          "base_uri": "https://localhost:8080/"
        },
        "outputId": "84c58be2-12f7-4dfb-c02a-8761a8f3cb7c"
      },
      "source": [
        "# Counting the number of null values in Rating column\n",
        "play_s_df.Rating.isnull().sum()"
      ],
      "execution_count": 27,
      "outputs": [
        {
          "output_type": "execute_result",
          "data": {
            "text/plain": [
              "0"
            ]
          },
          "metadata": {},
          "execution_count": 27
        }
      ]
    },
    {
      "cell_type": "markdown",
      "metadata": {
        "id": "8tlf2UtObK9l"
      },
      "source": [
        "#**Column: Last_Updated**"
      ]
    },
    {
      "cell_type": "code",
      "metadata": {
        "id": "zgsGZFkvLuAT"
      },
      "source": [
        "# Converting datetime format for Last_Updated column\n",
        "# Importing datetime modules\n",
        "from datetime import datetime\n",
        "from datetime import date"
      ],
      "execution_count": 28,
      "outputs": []
    },
    {
      "cell_type": "code",
      "metadata": {
        "id": "a0T9XbUGxejF"
      },
      "source": [
        "play_s_df['Last_Updated'] = pd.to_datetime(play_s_df['Last_Updated'],errors='coerce')"
      ],
      "execution_count": 29,
      "outputs": []
    },
    {
      "cell_type": "markdown",
      "metadata": {
        "id": "yp0ScJHebrcG"
      },
      "source": [
        "#**Column: Reviews**"
      ]
    },
    {
      "cell_type": "code",
      "metadata": {
        "colab": {
          "base_uri": "https://localhost:8080/"
        },
        "id": "U07nsV2_bam3",
        "outputId": "e39bec82-fced-4a8d-c0d5-ed0244821df5"
      },
      "source": [
        "#Checking null values\n",
        "play_s_df.Reviews.isnull().sum()"
      ],
      "execution_count": 30,
      "outputs": [
        {
          "output_type": "execute_result",
          "data": {
            "text/plain": [
              "0"
            ]
          },
          "metadata": {},
          "execution_count": 30
        }
      ]
    },
    {
      "cell_type": "code",
      "metadata": {
        "id": "OSQT-nk91Xpd"
      },
      "source": [
        "# Converting the datatype of Reviews into numeric datatype\n",
        "play_s_df['Reviews'] = pd.to_numeric(play_s_df['Reviews'])"
      ],
      "execution_count": 31,
      "outputs": []
    },
    {
      "cell_type": "code",
      "metadata": {
        "id": "mz0HtnyJ99Qq",
        "colab": {
          "base_uri": "https://localhost:8080/"
        },
        "outputId": "3f7c21bf-19e5-49d1-b661-9edf696eb97f"
      },
      "source": [
        "# Checking the changed datatype of Reviews\n",
        "play_s_df.Reviews.dtype"
      ],
      "execution_count": 32,
      "outputs": [
        {
          "output_type": "execute_result",
          "data": {
            "text/plain": [
              "dtype('int64')"
            ]
          },
          "metadata": {},
          "execution_count": 32
        }
      ]
    },
    {
      "cell_type": "markdown",
      "metadata": {
        "id": "AR3r8aWVcTTE"
      },
      "source": [
        "#**Column: Type**"
      ]
    },
    {
      "cell_type": "code",
      "metadata": {
        "id": "7sGmZo6aBHTV",
        "colab": {
          "base_uri": "https://localhost:8080/"
        },
        "outputId": "a09d5211-10e1-4fcf-cf2e-79faba461007"
      },
      "source": [
        "# Checking the null values in Type Column\n",
        "play_s_df['Type'].isnull().sum()"
      ],
      "execution_count": 33,
      "outputs": [
        {
          "output_type": "execute_result",
          "data": {
            "text/plain": [
              "1"
            ]
          },
          "metadata": {},
          "execution_count": 33
        }
      ]
    },
    {
      "cell_type": "code",
      "metadata": {
        "id": "6ODal38B9q0V",
        "colab": {
          "base_uri": "https://localhost:8080/",
          "height": 81
        },
        "outputId": "d70f34d1-7e03-4a49-a97b-43978ee2562e"
      },
      "source": [
        "# Display the row which have null values in Type Column. Apart from Free and Paid Type, this column also has 1 NaN, which is display below:\n",
        "play_s_df[play_s_df.Type.isna()]"
      ],
      "execution_count": 34,
      "outputs": [
        {
          "output_type": "execute_result",
          "data": {
            "text/html": [
              "<div>\n",
              "<style scoped>\n",
              "    .dataframe tbody tr th:only-of-type {\n",
              "        vertical-align: middle;\n",
              "    }\n",
              "\n",
              "    .dataframe tbody tr th {\n",
              "        vertical-align: top;\n",
              "    }\n",
              "\n",
              "    .dataframe thead th {\n",
              "        text-align: right;\n",
              "    }\n",
              "</style>\n",
              "<table border=\"1\" class=\"dataframe\">\n",
              "  <thead>\n",
              "    <tr style=\"text-align: right;\">\n",
              "      <th></th>\n",
              "      <th>App</th>\n",
              "      <th>Category</th>\n",
              "      <th>Rating</th>\n",
              "      <th>Reviews</th>\n",
              "      <th>Size</th>\n",
              "      <th>Installs</th>\n",
              "      <th>Type</th>\n",
              "      <th>Price</th>\n",
              "      <th>Content_Rating</th>\n",
              "      <th>Genres</th>\n",
              "      <th>Last_Updated</th>\n",
              "      <th>Current_Version</th>\n",
              "      <th>Android_Version</th>\n",
              "    </tr>\n",
              "  </thead>\n",
              "  <tbody>\n",
              "    <tr>\n",
              "      <th>9148</th>\n",
              "      <td>Command &amp; Conquer: Rivals</td>\n",
              "      <td>FAMILY</td>\n",
              "      <td>4.3</td>\n",
              "      <td>0</td>\n",
              "      <td>Varies with device</td>\n",
              "      <td>0</td>\n",
              "      <td>NaN</td>\n",
              "      <td>0</td>\n",
              "      <td>Everyone 10+</td>\n",
              "      <td>Strategy</td>\n",
              "      <td>2018-06-28</td>\n",
              "      <td>Varies with device</td>\n",
              "      <td>Varies with device</td>\n",
              "    </tr>\n",
              "  </tbody>\n",
              "</table>\n",
              "</div>"
            ],
            "text/plain": [
              "                            App  ...     Android_Version\n",
              "9148  Command & Conquer: Rivals  ...  Varies with device\n",
              "\n",
              "[1 rows x 13 columns]"
            ]
          },
          "metadata": {},
          "execution_count": 34
        }
      ]
    },
    {
      "cell_type": "markdown",
      "metadata": {
        "id": "cpMVbTYZPhBZ"
      },
      "source": [
        "### Observation from above gives us that the only row with 0 Install and 0 Reviews, and also descript us that something wrong with this record. So, we opted to remove the row. "
      ]
    },
    {
      "cell_type": "code",
      "metadata": {
        "id": "xNi1pKwVndEw"
      },
      "source": [
        "# Removing the row from the data because there might be something wrong with this record and also it has undisturbed data in the row\n",
        "play_s_df.drop([9148],inplace=True)"
      ],
      "execution_count": 35,
      "outputs": []
    },
    {
      "cell_type": "code",
      "metadata": {
        "id": "ZS2pRem-n3WH",
        "colab": {
          "base_uri": "https://localhost:8080/",
          "height": 258
        },
        "outputId": "f6185fa7-f87a-418a-f3b8-da1948ecc949"
      },
      "source": [
        "# Observing the dropped row with slicing\n",
        "play_s_df[9145:9150]"
      ],
      "execution_count": 36,
      "outputs": [
        {
          "output_type": "execute_result",
          "data": {
            "text/html": [
              "<div>\n",
              "<style scoped>\n",
              "    .dataframe tbody tr th:only-of-type {\n",
              "        vertical-align: middle;\n",
              "    }\n",
              "\n",
              "    .dataframe tbody tr th {\n",
              "        vertical-align: top;\n",
              "    }\n",
              "\n",
              "    .dataframe thead th {\n",
              "        text-align: right;\n",
              "    }\n",
              "</style>\n",
              "<table border=\"1\" class=\"dataframe\">\n",
              "  <thead>\n",
              "    <tr style=\"text-align: right;\">\n",
              "      <th></th>\n",
              "      <th>App</th>\n",
              "      <th>Category</th>\n",
              "      <th>Rating</th>\n",
              "      <th>Reviews</th>\n",
              "      <th>Size</th>\n",
              "      <th>Installs</th>\n",
              "      <th>Type</th>\n",
              "      <th>Price</th>\n",
              "      <th>Content_Rating</th>\n",
              "      <th>Genres</th>\n",
              "      <th>Last_Updated</th>\n",
              "      <th>Current_Version</th>\n",
              "      <th>Android_Version</th>\n",
              "    </tr>\n",
              "  </thead>\n",
              "  <tbody>\n",
              "    <tr>\n",
              "      <th>10317</th>\n",
              "      <td>LineStar for FanDuel</td>\n",
              "      <td>SPORTS</td>\n",
              "      <td>4.3</td>\n",
              "      <td>1539</td>\n",
              "      <td>14M</td>\n",
              "      <td>50,000+</td>\n",
              "      <td>Free</td>\n",
              "      <td>0</td>\n",
              "      <td>Teen</td>\n",
              "      <td>Sports</td>\n",
              "      <td>2018-06-06</td>\n",
              "      <td>3.0.3</td>\n",
              "      <td>4.0.3 and up</td>\n",
              "    </tr>\n",
              "    <tr>\n",
              "      <th>10318</th>\n",
              "      <td>HD Video Download for Facebook</td>\n",
              "      <td>VIDEO_PLAYERS</td>\n",
              "      <td>4.4</td>\n",
              "      <td>20755</td>\n",
              "      <td>17M</td>\n",
              "      <td>1,000,000+</td>\n",
              "      <td>Free</td>\n",
              "      <td>0</td>\n",
              "      <td>Everyone</td>\n",
              "      <td>Video Players &amp; Editors</td>\n",
              "      <td>2018-03-16</td>\n",
              "      <td>4.0.3</td>\n",
              "      <td>4.1 and up</td>\n",
              "    </tr>\n",
              "    <tr>\n",
              "      <th>10319</th>\n",
              "      <td>Fire Emblem Heroes</td>\n",
              "      <td>FAMILY</td>\n",
              "      <td>4.6</td>\n",
              "      <td>407694</td>\n",
              "      <td>Varies with device</td>\n",
              "      <td>5,000,000+</td>\n",
              "      <td>Free</td>\n",
              "      <td>0</td>\n",
              "      <td>Teen</td>\n",
              "      <td>Simulation</td>\n",
              "      <td>2018-07-19</td>\n",
              "      <td>2.7.1</td>\n",
              "      <td>4.2 and up</td>\n",
              "    </tr>\n",
              "    <tr>\n",
              "      <th>10320</th>\n",
              "      <td>Santa Fe FCU Mobile Banking</td>\n",
              "      <td>FINANCE</td>\n",
              "      <td>4.3</td>\n",
              "      <td>12</td>\n",
              "      <td>9.0M</td>\n",
              "      <td>1,000+</td>\n",
              "      <td>Free</td>\n",
              "      <td>0</td>\n",
              "      <td>Everyone</td>\n",
              "      <td>Finance</td>\n",
              "      <td>2018-01-22</td>\n",
              "      <td>1.18.4</td>\n",
              "      <td>4.0 and up</td>\n",
              "    </tr>\n",
              "    <tr>\n",
              "      <th>10321</th>\n",
              "      <td>FE Connect</td>\n",
              "      <td>TOOLS</td>\n",
              "      <td>4.8</td>\n",
              "      <td>24</td>\n",
              "      <td>4.5M</td>\n",
              "      <td>5,000+</td>\n",
              "      <td>Free</td>\n",
              "      <td>0</td>\n",
              "      <td>Everyone</td>\n",
              "      <td>Tools</td>\n",
              "      <td>2017-09-14</td>\n",
              "      <td>2.3.0</td>\n",
              "      <td>4.0.3 and up</td>\n",
              "    </tr>\n",
              "  </tbody>\n",
              "</table>\n",
              "</div>"
            ],
            "text/plain": [
              "                                  App  ... Android_Version\n",
              "10317            LineStar for FanDuel  ...    4.0.3 and up\n",
              "10318  HD Video Download for Facebook  ...      4.1 and up\n",
              "10319              Fire Emblem Heroes  ...      4.2 and up\n",
              "10320     Santa Fe FCU Mobile Banking  ...      4.0 and up\n",
              "10321                      FE Connect  ...    4.0.3 and up\n",
              "\n",
              "[5 rows x 13 columns]"
            ]
          },
          "metadata": {},
          "execution_count": 36
        }
      ]
    },
    {
      "cell_type": "code",
      "metadata": {
        "id": "jH1hrhbGo8lz",
        "colab": {
          "base_uri": "https://localhost:8080/"
        },
        "outputId": "8f38f7f2-f104-4345-8d63-2f0eec88d5e5"
      },
      "source": [
        "# Checking the null values in Type Column\n",
        "play_s_df.Type.isnull().sum()"
      ],
      "execution_count": 37,
      "outputs": [
        {
          "output_type": "execute_result",
          "data": {
            "text/plain": [
              "0"
            ]
          },
          "metadata": {},
          "execution_count": 37
        }
      ]
    },
    {
      "cell_type": "markdown",
      "metadata": {
        "id": "U4Nb6SdIdHzk"
      },
      "source": [
        "#**Column: Size**"
      ]
    },
    {
      "cell_type": "code",
      "metadata": {
        "colab": {
          "base_uri": "https://localhost:8080/"
        },
        "id": "nujujkKadWmC",
        "outputId": "39159bf0-a417-4267-dc0f-ea0795b37a55"
      },
      "source": [
        "# Examining the Unique values\n",
        "play_s_df.Size.unique()"
      ],
      "execution_count": 38,
      "outputs": [
        {
          "output_type": "execute_result",
          "data": {
            "text/plain": [
              "array(['19M', '14M', '8.7M', '25M', '2.8M', '5.6M', '29M', '33M', '3.1M',\n",
              "       '28M', '12M', '20M', '21M', '37M', '2.7M', '5.5M', '17M', '39M',\n",
              "       '31M', '4.2M', '7.0M', '23M', '6.0M', '6.1M', '4.6M', '9.2M',\n",
              "       '5.2M', '11M', '24M', 'Varies with device', '9.4M', '15M', '10M',\n",
              "       '1.2M', '26M', '8.0M', '7.9M', '56M', '57M', '35M', '54M', '201k',\n",
              "       '3.6M', '5.7M', '8.6M', '2.4M', '27M', '2.5M', '16M', '3.4M',\n",
              "       '8.9M', '3.9M', '2.9M', '38M', '32M', '5.4M', '18M', '1.1M',\n",
              "       '2.2M', '4.5M', '9.8M', '52M', '9.0M', '6.7M', '30M', '2.6M',\n",
              "       '7.1M', '3.7M', '22M', '7.4M', '6.4M', '3.2M', '8.2M', '9.9M',\n",
              "       '4.9M', '9.5M', '5.0M', '5.9M', '13M', '73M', '6.8M', '3.5M',\n",
              "       '4.0M', '2.3M', '7.2M', '2.1M', '42M', '7.3M', '9.1M', '55M',\n",
              "       '23k', '6.5M', '1.5M', '7.5M', '51M', '41M', '48M', '8.5M', '46M',\n",
              "       '8.3M', '4.3M', '4.7M', '3.3M', '40M', '7.8M', '8.8M', '6.6M',\n",
              "       '5.1M', '61M', '66M', '79k', '8.4M', '118k', '44M', '695k', '1.6M',\n",
              "       '6.2M', '18k', '53M', '1.4M', '3.0M', '5.8M', '3.8M', '9.6M',\n",
              "       '45M', '63M', '49M', '77M', '4.4M', '4.8M', '70M', '6.9M', '9.3M',\n",
              "       '10.0M', '8.1M', '36M', '84M', '97M', '2.0M', '1.9M', '1.8M',\n",
              "       '5.3M', '47M', '556k', '526k', '76M', '7.6M', '59M', '9.7M', '78M',\n",
              "       '72M', '43M', '7.7M', '6.3M', '334k', '34M', '93M', '65M', '79M',\n",
              "       '100M', '58M', '50M', '68M', '64M', '67M', '60M', '94M', '232k',\n",
              "       '99M', '624k', '95M', '8.5k', '41k', '292k', '11k', '80M', '1.7M',\n",
              "       '74M', '62M', '69M', '75M', '98M', '85M', '82M', '96M', '87M',\n",
              "       '71M', '86M', '91M', '81M', '92M', '83M', '88M', '704k', '862k',\n",
              "       '899k', '378k', '266k', '375k', '1.3M', '975k', '980k', '4.1M',\n",
              "       '89M', '696k', '544k', '525k', '920k', '779k', '853k', '720k',\n",
              "       '713k', '772k', '318k', '58k', '241k', '196k', '857k', '51k',\n",
              "       '953k', '865k', '251k', '930k', '540k', '313k', '746k', '203k',\n",
              "       '26k', '314k', '239k', '371k', '220k', '730k', '756k', '91k',\n",
              "       '293k', '17k', '74k', '14k', '317k', '78k', '924k', '902k', '818k',\n",
              "       '81k', '939k', '169k', '45k', '475k', '965k', '90M', '545k', '61k',\n",
              "       '283k', '655k', '714k', '93k', '872k', '121k', '322k', '1.0M',\n",
              "       '976k', '172k', '238k', '549k', '206k', '954k', '444k', '717k',\n",
              "       '210k', '609k', '308k', '705k', '306k', '904k', '473k', '175k',\n",
              "       '350k', '383k', '454k', '421k', '70k', '812k', '442k', '842k',\n",
              "       '417k', '412k', '459k', '478k', '335k', '782k', '721k', '430k',\n",
              "       '429k', '192k', '200k', '460k', '728k', '496k', '816k', '414k',\n",
              "       '506k', '887k', '613k', '243k', '569k', '778k', '683k', '592k',\n",
              "       '319k', '186k', '840k', '647k', '191k', '373k', '437k', '598k',\n",
              "       '716k', '585k', '982k', '222k', '219k', '55k', '948k', '323k',\n",
              "       '691k', '511k', '951k', '963k', '25k', '554k', '351k', '27k',\n",
              "       '82k', '208k', '913k', '514k', '551k', '29k', '103k', '898k',\n",
              "       '743k', '116k', '153k', '209k', '353k', '499k', '173k', '597k',\n",
              "       '809k', '122k', '411k', '400k', '801k', '787k', '237k', '50k',\n",
              "       '643k', '986k', '97k', '516k', '837k', '780k', '961k', '269k',\n",
              "       '20k', '498k', '600k', '749k', '642k', '881k', '72k', '656k',\n",
              "       '601k', '221k', '228k', '108k', '940k', '176k', '33k', '663k',\n",
              "       '34k', '942k', '259k', '164k', '458k', '245k', '629k', '28k',\n",
              "       '288k', '775k', '785k', '636k', '916k', '994k', '309k', '485k',\n",
              "       '914k', '903k', '608k', '500k', '54k', '562k', '847k', '957k',\n",
              "       '688k', '811k', '270k', '48k', '329k', '523k', '921k', '874k',\n",
              "       '981k', '784k', '280k', '24k', '518k', '754k', '892k', '154k',\n",
              "       '860k', '364k', '387k', '626k', '161k', '879k', '39k', '970k',\n",
              "       '170k', '141k', '160k', '144k', '143k', '190k', '376k', '193k',\n",
              "       '246k', '73k', '658k', '992k', '253k', '420k', '404k', '470k',\n",
              "       '226k', '240k', '89k', '234k', '257k', '861k', '467k', '157k',\n",
              "       '44k', '676k', '67k', '552k', '885k', '1020k', '582k', '619k'],\n",
              "      dtype=object)"
            ]
          },
          "metadata": {},
          "execution_count": 38
        }
      ]
    },
    {
      "cell_type": "markdown",
      "metadata": {
        "id": "k2UzOKegjFpK"
      },
      "source": [
        "### Amidst all the apps in this dataset, none has its size reach 1GB. All the values we have to parse either end with ‘M’ (Megabyte) or ‘k’ (kilobyte). So here we parsed the values in only MB(megabyte) as it is better way of representing the size in a dataset"
      ]
    },
    {
      "cell_type": "code",
      "metadata": {
        "colab": {
          "base_uri": "https://localhost:8080/"
        },
        "id": "0XV4uwgfdWR-",
        "outputId": "876b7b9d-3c40-464e-814a-77fe47561686"
      },
      "source": [
        "# Expressly Transforming the Variable Size value into proper float value\n",
        "play_s_df['Size'] = play_s_df.Size.apply(lambda x: str(x).replace(\"Varies with device\",'NaN') if \"Varies with device\" in str(x) else x)\n",
        "play_s_df['Size'] = play_s_df.Size.apply(lambda x: str(x).replace(\"M\",\"\") if \"M\" in str(x) else x)\n",
        "play_s_df['Size'] = play_s_df.Size.apply(lambda x: float(str(x).replace(\"k\",\"\"))/1024 if \"k\" in str(x) else x)\n",
        "play_s_df['Size'] = play_s_df['Size'].astype(float)\n",
        "play_s_df['Size'] = play_s_df['Size'].fillna(play_s_df['Size'].mean())\n",
        "play_s_df['Size'].dtype"
      ],
      "execution_count": 39,
      "outputs": [
        {
          "output_type": "execute_result",
          "data": {
            "text/plain": [
              "dtype('float64')"
            ]
          },
          "metadata": {},
          "execution_count": 39
        }
      ]
    },
    {
      "cell_type": "markdown",
      "metadata": {
        "id": "Ek5ZAFsNAVvZ"
      },
      "source": [
        "#**Column: Installs**"
      ]
    },
    {
      "cell_type": "code",
      "metadata": {
        "colab": {
          "base_uri": "https://localhost:8080/"
        },
        "id": "QjCNGtap_oM-",
        "outputId": "53c17e22-d961-438e-a795-458f15d00ba3"
      },
      "source": [
        "# Checking unique values in Column\n",
        "play_s_df.Installs.unique()"
      ],
      "execution_count": 40,
      "outputs": [
        {
          "output_type": "execute_result",
          "data": {
            "text/plain": [
              "array(['10,000+', '500,000+', '5,000,000+', '50,000,000+', '100,000+',\n",
              "       '50,000+', '1,000,000+', '10,000,000+', '5,000+', '100,000,000+',\n",
              "       '1,000,000,000+', '1,000+', '500,000,000+', '50+', '100+', '500+',\n",
              "       '10+', '1+', '5+', '0+'], dtype=object)"
            ]
          },
          "metadata": {},
          "execution_count": 40
        }
      ]
    },
    {
      "cell_type": "markdown",
      "metadata": {
        "id": "durJi3HxN4m5"
      },
      "source": [
        "### Data type of Installs is object. We make similar procedures, which constructed in the 'Size'."
      ]
    },
    {
      "cell_type": "code",
      "metadata": {
        "colab": {
          "base_uri": "https://localhost:8080/"
        },
        "id": "_bKZKTR0Mb0R",
        "outputId": "9372a0ab-c543-461a-d940-7925e0310e0f"
      },
      "source": [
        "# Now Transforming number of Installs into proper integer number \n",
        "play_s_df['Installs'] = play_s_df.Installs.apply(lambda x: str(x).replace(\"+\",\"\") if \"+\" in str(x) else x)\n",
        "play_s_df['Installs'] = play_s_df.Installs.apply(lambda x: str(x).replace(\",\",\"\") if \",\" in str(x) else x)\n",
        "play_s_df['Installs'] = play_s_df.Installs.astype(int)\n",
        "play_s_df['Installs'].dtype"
      ],
      "execution_count": 41,
      "outputs": [
        {
          "output_type": "execute_result",
          "data": {
            "text/plain": [
              "dtype('int64')"
            ]
          },
          "metadata": {},
          "execution_count": 41
        }
      ]
    },
    {
      "cell_type": "markdown",
      "metadata": {
        "id": "XG6sjlr7QzXW"
      },
      "source": [
        "# **Column: Price**"
      ]
    },
    {
      "cell_type": "code",
      "metadata": {
        "colab": {
          "base_uri": "https://localhost:8080/"
        },
        "id": "Y-RXMM_gRfKY",
        "outputId": "036061da-4a48-4d09-e786-bcd60afde9d4"
      },
      "source": [
        "# Observing the unique values in Column\n",
        "play_s_df.Price.unique()"
      ],
      "execution_count": 42,
      "outputs": [
        {
          "output_type": "execute_result",
          "data": {
            "text/plain": [
              "array(['0', '$4.99', '$3.99', '$6.99', '$1.49', '$2.99', '$7.99', '$5.99',\n",
              "       '$3.49', '$1.99', '$9.99', '$7.49', '$0.99', '$9.00', '$5.49',\n",
              "       '$10.00', '$24.99', '$11.99', '$79.99', '$16.99', '$14.99',\n",
              "       '$1.00', '$29.99', '$12.99', '$2.49', '$10.99', '$1.50', '$19.99',\n",
              "       '$15.99', '$33.99', '$74.99', '$39.99', '$3.95', '$4.49', '$1.70',\n",
              "       '$8.99', '$2.00', '$3.88', '$25.99', '$399.99', '$17.99',\n",
              "       '$400.00', '$3.02', '$1.76', '$4.84', '$4.77', '$1.61', '$2.50',\n",
              "       '$1.59', '$6.49', '$1.29', '$5.00', '$13.99', '$299.99', '$379.99',\n",
              "       '$37.99', '$18.99', '$389.99', '$19.90', '$8.49', '$1.75',\n",
              "       '$14.00', '$4.85', '$46.99', '$109.99', '$154.99', '$3.08',\n",
              "       '$2.59', '$4.80', '$1.96', '$19.40', '$3.90', '$4.59', '$15.46',\n",
              "       '$3.04', '$4.29', '$2.60', '$3.28', '$4.60', '$28.99', '$2.95',\n",
              "       '$2.90', '$1.97', '$200.00', '$89.99', '$2.56', '$30.99', '$3.61',\n",
              "       '$394.99', '$1.26', '$1.20', '$1.04'], dtype=object)"
            ]
          },
          "metadata": {},
          "execution_count": 42
        }
      ]
    },
    {
      "cell_type": "markdown",
      "metadata": {
        "id": "4q_mjmMmRyG-"
      },
      "source": [
        "### As we look out for unique values that will be like this lead: ‘0’ if it is free, else a '$' sign followed by a floating-point number. Datatype of Price is object. We can make similar code as in Installs to get appropriate dtype. "
      ]
    },
    {
      "cell_type": "code",
      "metadata": {
        "colab": {
          "base_uri": "https://localhost:8080/"
        },
        "id": "NeNLM7zi_u3a",
        "outputId": "3cb17eae-db43-4d88-f386-0f41b0546543"
      },
      "source": [
        "play_s_df['Price'] = play_s_df['Price'].apply(lambda x: str(x).replace(\"$\",\"\") if \"$\" in str(x) else x)\n",
        "play_s_df['Price'] = play_s_df['Price'].astype(float)\n",
        "play_s_df['Price'].dtype"
      ],
      "execution_count": 43,
      "outputs": [
        {
          "output_type": "execute_result",
          "data": {
            "text/plain": [
              "dtype('float64')"
            ]
          },
          "metadata": {},
          "execution_count": 43
        }
      ]
    },
    {
      "cell_type": "markdown",
      "metadata": {
        "id": "3BZ1yfw7ELWU"
      },
      "source": [
        "# **Column: Current_Version**"
      ]
    },
    {
      "cell_type": "code",
      "metadata": {
        "colab": {
          "base_uri": "https://localhost:8080/"
        },
        "id": "Ws_C-QPbEWXS",
        "outputId": "6d82f46f-3b9b-474b-87f3-add8d48c5d17"
      },
      "source": [
        "# Observing the null values in Current_Version Column\n",
        "play_s_df.Current_Version.isnull().sum()"
      ],
      "execution_count": 44,
      "outputs": [
        {
          "output_type": "execute_result",
          "data": {
            "text/plain": [
              "8"
            ]
          },
          "metadata": {},
          "execution_count": 44
        }
      ]
    },
    {
      "cell_type": "code",
      "metadata": {
        "colab": {
          "base_uri": "https://localhost:8080/",
          "height": 335
        },
        "id": "6wRHH8lJEfW8",
        "outputId": "a81dd3d9-9185-46c0-8af0-94b37f212e62"
      },
      "source": [
        "# Displaying NaN values which we have to fill with mode of Current_Version\n",
        "play_s_df[play_s_df.Current_Version.isna()]"
      ],
      "execution_count": 45,
      "outputs": [
        {
          "output_type": "execute_result",
          "data": {
            "text/html": [
              "<div>\n",
              "<style scoped>\n",
              "    .dataframe tbody tr th:only-of-type {\n",
              "        vertical-align: middle;\n",
              "    }\n",
              "\n",
              "    .dataframe tbody tr th {\n",
              "        vertical-align: top;\n",
              "    }\n",
              "\n",
              "    .dataframe thead th {\n",
              "        text-align: right;\n",
              "    }\n",
              "</style>\n",
              "<table border=\"1\" class=\"dataframe\">\n",
              "  <thead>\n",
              "    <tr style=\"text-align: right;\">\n",
              "      <th></th>\n",
              "      <th>App</th>\n",
              "      <th>Category</th>\n",
              "      <th>Rating</th>\n",
              "      <th>Reviews</th>\n",
              "      <th>Size</th>\n",
              "      <th>Installs</th>\n",
              "      <th>Type</th>\n",
              "      <th>Price</th>\n",
              "      <th>Content_Rating</th>\n",
              "      <th>Genres</th>\n",
              "      <th>Last_Updated</th>\n",
              "      <th>Current_Version</th>\n",
              "      <th>Android_Version</th>\n",
              "    </tr>\n",
              "  </thead>\n",
              "  <tbody>\n",
              "    <tr>\n",
              "      <th>15</th>\n",
              "      <td>Learn To Draw Kawaii Characters</td>\n",
              "      <td>ART_AND_DESIGN</td>\n",
              "      <td>3.2</td>\n",
              "      <td>55</td>\n",
              "      <td>2.700000</td>\n",
              "      <td>5000</td>\n",
              "      <td>Free</td>\n",
              "      <td>0.00</td>\n",
              "      <td>Everyone</td>\n",
              "      <td>Art &amp; Design</td>\n",
              "      <td>2018-06-06</td>\n",
              "      <td>NaN</td>\n",
              "      <td>4.2 and up</td>\n",
              "    </tr>\n",
              "    <tr>\n",
              "      <th>1553</th>\n",
              "      <td>Market Update Helper</td>\n",
              "      <td>LIBRARIES_AND_DEMO</td>\n",
              "      <td>4.1</td>\n",
              "      <td>20145</td>\n",
              "      <td>0.010742</td>\n",
              "      <td>1000000</td>\n",
              "      <td>Free</td>\n",
              "      <td>0.00</td>\n",
              "      <td>Everyone</td>\n",
              "      <td>Libraries &amp; Demo</td>\n",
              "      <td>2013-02-12</td>\n",
              "      <td>NaN</td>\n",
              "      <td>1.5 and up</td>\n",
              "    </tr>\n",
              "    <tr>\n",
              "      <th>6322</th>\n",
              "      <td>Virtual DJ Sound Mixer</td>\n",
              "      <td>TOOLS</td>\n",
              "      <td>4.2</td>\n",
              "      <td>4010</td>\n",
              "      <td>8.700000</td>\n",
              "      <td>500000</td>\n",
              "      <td>Free</td>\n",
              "      <td>0.00</td>\n",
              "      <td>Everyone</td>\n",
              "      <td>Tools</td>\n",
              "      <td>2017-05-10</td>\n",
              "      <td>NaN</td>\n",
              "      <td>4.0 and up</td>\n",
              "    </tr>\n",
              "    <tr>\n",
              "      <th>6803</th>\n",
              "      <td>BT Master</td>\n",
              "      <td>FAMILY</td>\n",
              "      <td>4.3</td>\n",
              "      <td>0</td>\n",
              "      <td>0.216797</td>\n",
              "      <td>100</td>\n",
              "      <td>Free</td>\n",
              "      <td>0.00</td>\n",
              "      <td>Everyone</td>\n",
              "      <td>Education</td>\n",
              "      <td>2016-11-06</td>\n",
              "      <td>NaN</td>\n",
              "      <td>1.6 and up</td>\n",
              "    </tr>\n",
              "    <tr>\n",
              "      <th>7333</th>\n",
              "      <td>Dots puzzle</td>\n",
              "      <td>FAMILY</td>\n",
              "      <td>4.0</td>\n",
              "      <td>179</td>\n",
              "      <td>14.000000</td>\n",
              "      <td>50000</td>\n",
              "      <td>Paid</td>\n",
              "      <td>0.99</td>\n",
              "      <td>Everyone</td>\n",
              "      <td>Puzzle</td>\n",
              "      <td>2018-04-18</td>\n",
              "      <td>NaN</td>\n",
              "      <td>4.0 and up</td>\n",
              "    </tr>\n",
              "    <tr>\n",
              "      <th>7407</th>\n",
              "      <td>Calculate My IQ</td>\n",
              "      <td>FAMILY</td>\n",
              "      <td>4.3</td>\n",
              "      <td>44</td>\n",
              "      <td>7.200000</td>\n",
              "      <td>10000</td>\n",
              "      <td>Free</td>\n",
              "      <td>0.00</td>\n",
              "      <td>Everyone</td>\n",
              "      <td>Entertainment</td>\n",
              "      <td>2017-04-03</td>\n",
              "      <td>NaN</td>\n",
              "      <td>2.3 and up</td>\n",
              "    </tr>\n",
              "    <tr>\n",
              "      <th>7730</th>\n",
              "      <td>UFO-CQ</td>\n",
              "      <td>TOOLS</td>\n",
              "      <td>4.3</td>\n",
              "      <td>1</td>\n",
              "      <td>0.231445</td>\n",
              "      <td>10</td>\n",
              "      <td>Paid</td>\n",
              "      <td>0.99</td>\n",
              "      <td>Everyone</td>\n",
              "      <td>Tools</td>\n",
              "      <td>2016-07-04</td>\n",
              "      <td>NaN</td>\n",
              "      <td>2.0 and up</td>\n",
              "    </tr>\n",
              "    <tr>\n",
              "      <th>10342</th>\n",
              "      <td>La Fe de Jesus</td>\n",
              "      <td>BOOKS_AND_REFERENCE</td>\n",
              "      <td>4.3</td>\n",
              "      <td>8</td>\n",
              "      <td>0.642578</td>\n",
              "      <td>1000</td>\n",
              "      <td>Free</td>\n",
              "      <td>0.00</td>\n",
              "      <td>Everyone</td>\n",
              "      <td>Books &amp; Reference</td>\n",
              "      <td>2017-01-31</td>\n",
              "      <td>NaN</td>\n",
              "      <td>3.0 and up</td>\n",
              "    </tr>\n",
              "  </tbody>\n",
              "</table>\n",
              "</div>"
            ],
            "text/plain": [
              "                                   App  ... Android_Version\n",
              "15     Learn To Draw Kawaii Characters  ...      4.2 and up\n",
              "1553              Market Update Helper  ...      1.5 and up\n",
              "6322            Virtual DJ Sound Mixer  ...      4.0 and up\n",
              "6803                         BT Master  ...      1.6 and up\n",
              "7333                       Dots puzzle  ...      4.0 and up\n",
              "7407                   Calculate My IQ  ...      2.3 and up\n",
              "7730                            UFO-CQ  ...      2.0 and up\n",
              "10342                   La Fe de Jesus  ...      3.0 and up\n",
              "\n",
              "[8 rows x 13 columns]"
            ]
          },
          "metadata": {},
          "execution_count": 45
        }
      ]
    },
    {
      "cell_type": "code",
      "metadata": {
        "id": "k1RV0POEEfSn"
      },
      "source": [
        "# # Filling NaN values with mode of Current_Version\n",
        "play_s_df['Current_Version'].fillna(str(play_s_df['Current_Version'].mode().values[0]), inplace=True)"
      ],
      "execution_count": 46,
      "outputs": []
    },
    {
      "cell_type": "markdown",
      "metadata": {
        "id": "8DVmVefz0fGZ"
      },
      "source": [
        "# **Column: Android_Version**"
      ]
    },
    {
      "cell_type": "code",
      "metadata": {
        "colab": {
          "base_uri": "https://localhost:8080/"
        },
        "id": "r1OLGHMT0XJb",
        "outputId": "92a8144c-eec2-4663-9a52-cc871ed81623"
      },
      "source": [
        "# Observing the null values in Android_Version Column\n",
        "play_s_df.Android_Version.isnull().sum()"
      ],
      "execution_count": 47,
      "outputs": [
        {
          "output_type": "execute_result",
          "data": {
            "text/plain": [
              "2"
            ]
          },
          "metadata": {},
          "execution_count": 47
        }
      ]
    },
    {
      "cell_type": "code",
      "metadata": {
        "colab": {
          "base_uri": "https://localhost:8080/",
          "height": 112
        },
        "id": "9fDVWglR09-h",
        "outputId": "2f3c56de-d6ec-46f9-9cfa-65fc91522e6a"
      },
      "source": [
        "# Displaying NaN values which we have to fill with mode of Current_Version\n",
        "play_s_df[play_s_df.Android_Version.isna()]"
      ],
      "execution_count": 48,
      "outputs": [
        {
          "output_type": "execute_result",
          "data": {
            "text/html": [
              "<div>\n",
              "<style scoped>\n",
              "    .dataframe tbody tr th:only-of-type {\n",
              "        vertical-align: middle;\n",
              "    }\n",
              "\n",
              "    .dataframe tbody tr th {\n",
              "        vertical-align: top;\n",
              "    }\n",
              "\n",
              "    .dataframe thead th {\n",
              "        text-align: right;\n",
              "    }\n",
              "</style>\n",
              "<table border=\"1\" class=\"dataframe\">\n",
              "  <thead>\n",
              "    <tr style=\"text-align: right;\">\n",
              "      <th></th>\n",
              "      <th>App</th>\n",
              "      <th>Category</th>\n",
              "      <th>Rating</th>\n",
              "      <th>Reviews</th>\n",
              "      <th>Size</th>\n",
              "      <th>Installs</th>\n",
              "      <th>Type</th>\n",
              "      <th>Price</th>\n",
              "      <th>Content_Rating</th>\n",
              "      <th>Genres</th>\n",
              "      <th>Last_Updated</th>\n",
              "      <th>Current_Version</th>\n",
              "      <th>Android_Version</th>\n",
              "    </tr>\n",
              "  </thead>\n",
              "  <tbody>\n",
              "    <tr>\n",
              "      <th>4453</th>\n",
              "      <td>[substratum] Vacuum: P</td>\n",
              "      <td>PERSONALIZATION</td>\n",
              "      <td>4.4</td>\n",
              "      <td>230</td>\n",
              "      <td>11.0</td>\n",
              "      <td>1000</td>\n",
              "      <td>Paid</td>\n",
              "      <td>1.49</td>\n",
              "      <td>Everyone</td>\n",
              "      <td>Personalization</td>\n",
              "      <td>2018-07-20</td>\n",
              "      <td>4.4</td>\n",
              "      <td>NaN</td>\n",
              "    </tr>\n",
              "    <tr>\n",
              "      <th>4490</th>\n",
              "      <td>Pi Dark [substratum]</td>\n",
              "      <td>PERSONALIZATION</td>\n",
              "      <td>4.5</td>\n",
              "      <td>189</td>\n",
              "      <td>2.1</td>\n",
              "      <td>10000</td>\n",
              "      <td>Free</td>\n",
              "      <td>0.00</td>\n",
              "      <td>Everyone</td>\n",
              "      <td>Personalization</td>\n",
              "      <td>2018-03-27</td>\n",
              "      <td>1.1</td>\n",
              "      <td>NaN</td>\n",
              "    </tr>\n",
              "  </tbody>\n",
              "</table>\n",
              "</div>"
            ],
            "text/plain": [
              "                         App         Category  ...  Current_Version  Android_Version\n",
              "4453  [substratum] Vacuum: P  PERSONALIZATION  ...              4.4              NaN\n",
              "4490    Pi Dark [substratum]  PERSONALIZATION  ...              1.1              NaN\n",
              "\n",
              "[2 rows x 13 columns]"
            ]
          },
          "metadata": {},
          "execution_count": 48
        }
      ]
    },
    {
      "cell_type": "code",
      "metadata": {
        "id": "17Ilt3jO1Eb1"
      },
      "source": [
        "# # Filling NaN values with mode of Android_Version and replacing 'and up' with empty quotes\n",
        "play_s_df['Android_Version'].fillna(str(play_s_df['Android_Version'].mode().values[0]), inplace=True)\n",
        "play_s_df['Android_Version'] = play_s_df['Android_Version'].replace({' and up':''}, regex=True)"
      ],
      "execution_count": 49,
      "outputs": []
    },
    {
      "cell_type": "code",
      "metadata": {
        "id": "C_QlPjzn5Plt",
        "colab": {
          "base_uri": "https://localhost:8080/"
        },
        "outputId": "dee0b51d-4e9c-4be3-dd11-202ae3697f46"
      },
      "source": [
        "play_s_df.isnull().sum()"
      ],
      "execution_count": 50,
      "outputs": [
        {
          "output_type": "execute_result",
          "data": {
            "text/plain": [
              "App                0\n",
              "Category           0\n",
              "Rating             0\n",
              "Reviews            0\n",
              "Size               0\n",
              "Installs           0\n",
              "Type               0\n",
              "Price              0\n",
              "Content_Rating     0\n",
              "Genres             0\n",
              "Last_Updated       0\n",
              "Current_Version    0\n",
              "Android_Version    0\n",
              "dtype: int64"
            ]
          },
          "metadata": {},
          "execution_count": 50
        }
      ]
    },
    {
      "cell_type": "markdown",
      "metadata": {
        "id": "DvreIZrH1Xef"
      },
      "source": [
        "# **Merging two dataset**\n",
        "## While functioning with CSV files during data analysis, there are two files named as User Reviews and Play Store Data in which we have to commit the data visualization. For that there’s a need to merge these two files into a single data frame. Favorably, the Pandas library contribute us with various methods such as merge, concat, and join to make this feasible. \n",
        "\n"
      ]
    },
    {
      "cell_type": "code",
      "metadata": {
        "id": "4i6_qCSa7EQJ"
      },
      "source": [
        "# Defining variable to two merged dataset as merged_df\n",
        "merged_df = play_s_df.merge(user_r_df, on='App')"
      ],
      "execution_count": 51,
      "outputs": []
    },
    {
      "cell_type": "code",
      "metadata": {
        "colab": {
          "base_uri": "https://localhost:8080/",
          "height": 730
        },
        "id": "AzjRIew27EK7",
        "outputId": "a561382a-c569-4d44-c9f5-a408994974b1"
      },
      "source": [
        "merged_df.head(10)"
      ],
      "execution_count": 52,
      "outputs": [
        {
          "output_type": "execute_result",
          "data": {
            "text/html": [
              "<div>\n",
              "<style scoped>\n",
              "    .dataframe tbody tr th:only-of-type {\n",
              "        vertical-align: middle;\n",
              "    }\n",
              "\n",
              "    .dataframe tbody tr th {\n",
              "        vertical-align: top;\n",
              "    }\n",
              "\n",
              "    .dataframe thead th {\n",
              "        text-align: right;\n",
              "    }\n",
              "</style>\n",
              "<table border=\"1\" class=\"dataframe\">\n",
              "  <thead>\n",
              "    <tr style=\"text-align: right;\">\n",
              "      <th></th>\n",
              "      <th>App</th>\n",
              "      <th>Category</th>\n",
              "      <th>Rating</th>\n",
              "      <th>Reviews</th>\n",
              "      <th>Size</th>\n",
              "      <th>Installs</th>\n",
              "      <th>Type</th>\n",
              "      <th>Price</th>\n",
              "      <th>Content_Rating</th>\n",
              "      <th>Genres</th>\n",
              "      <th>Last_Updated</th>\n",
              "      <th>Current_Version</th>\n",
              "      <th>Android_Version</th>\n",
              "      <th>Translated_Review</th>\n",
              "      <th>Sentiment</th>\n",
              "      <th>Sentiment_Polarity</th>\n",
              "      <th>Sentiment_Subjectivity</th>\n",
              "    </tr>\n",
              "  </thead>\n",
              "  <tbody>\n",
              "    <tr>\n",
              "      <th>0</th>\n",
              "      <td>Coloring book moana</td>\n",
              "      <td>ART_AND_DESIGN</td>\n",
              "      <td>3.9</td>\n",
              "      <td>967</td>\n",
              "      <td>14.0</td>\n",
              "      <td>500000</td>\n",
              "      <td>Free</td>\n",
              "      <td>0.0</td>\n",
              "      <td>Everyone</td>\n",
              "      <td>Art &amp; Design;Pretend Play</td>\n",
              "      <td>2018-01-15</td>\n",
              "      <td>2.0.0</td>\n",
              "      <td>4.0.3</td>\n",
              "      <td>A kid's excessive ads. The types ads allowed a...</td>\n",
              "      <td>Negative</td>\n",
              "      <td>-0.250</td>\n",
              "      <td>1.000000</td>\n",
              "    </tr>\n",
              "    <tr>\n",
              "      <th>1</th>\n",
              "      <td>Coloring book moana</td>\n",
              "      <td>ART_AND_DESIGN</td>\n",
              "      <td>3.9</td>\n",
              "      <td>967</td>\n",
              "      <td>14.0</td>\n",
              "      <td>500000</td>\n",
              "      <td>Free</td>\n",
              "      <td>0.0</td>\n",
              "      <td>Everyone</td>\n",
              "      <td>Art &amp; Design;Pretend Play</td>\n",
              "      <td>2018-01-15</td>\n",
              "      <td>2.0.0</td>\n",
              "      <td>4.0.3</td>\n",
              "      <td>It bad &gt;:(</td>\n",
              "      <td>Negative</td>\n",
              "      <td>-0.725</td>\n",
              "      <td>0.833333</td>\n",
              "    </tr>\n",
              "    <tr>\n",
              "      <th>2</th>\n",
              "      <td>Coloring book moana</td>\n",
              "      <td>ART_AND_DESIGN</td>\n",
              "      <td>3.9</td>\n",
              "      <td>967</td>\n",
              "      <td>14.0</td>\n",
              "      <td>500000</td>\n",
              "      <td>Free</td>\n",
              "      <td>0.0</td>\n",
              "      <td>Everyone</td>\n",
              "      <td>Art &amp; Design;Pretend Play</td>\n",
              "      <td>2018-01-15</td>\n",
              "      <td>2.0.0</td>\n",
              "      <td>4.0.3</td>\n",
              "      <td>like</td>\n",
              "      <td>Neutral</td>\n",
              "      <td>0.000</td>\n",
              "      <td>0.000000</td>\n",
              "    </tr>\n",
              "    <tr>\n",
              "      <th>3</th>\n",
              "      <td>Coloring book moana</td>\n",
              "      <td>ART_AND_DESIGN</td>\n",
              "      <td>3.9</td>\n",
              "      <td>967</td>\n",
              "      <td>14.0</td>\n",
              "      <td>500000</td>\n",
              "      <td>Free</td>\n",
              "      <td>0.0</td>\n",
              "      <td>Everyone</td>\n",
              "      <td>Art &amp; Design;Pretend Play</td>\n",
              "      <td>2018-01-15</td>\n",
              "      <td>2.0.0</td>\n",
              "      <td>4.0.3</td>\n",
              "      <td>NaN</td>\n",
              "      <td>NaN</td>\n",
              "      <td>NaN</td>\n",
              "      <td>NaN</td>\n",
              "    </tr>\n",
              "    <tr>\n",
              "      <th>4</th>\n",
              "      <td>Coloring book moana</td>\n",
              "      <td>ART_AND_DESIGN</td>\n",
              "      <td>3.9</td>\n",
              "      <td>967</td>\n",
              "      <td>14.0</td>\n",
              "      <td>500000</td>\n",
              "      <td>Free</td>\n",
              "      <td>0.0</td>\n",
              "      <td>Everyone</td>\n",
              "      <td>Art &amp; Design;Pretend Play</td>\n",
              "      <td>2018-01-15</td>\n",
              "      <td>2.0.0</td>\n",
              "      <td>4.0.3</td>\n",
              "      <td>I love colors inspyering</td>\n",
              "      <td>Positive</td>\n",
              "      <td>0.500</td>\n",
              "      <td>0.600000</td>\n",
              "    </tr>\n",
              "    <tr>\n",
              "      <th>5</th>\n",
              "      <td>Coloring book moana</td>\n",
              "      <td>ART_AND_DESIGN</td>\n",
              "      <td>3.9</td>\n",
              "      <td>967</td>\n",
              "      <td>14.0</td>\n",
              "      <td>500000</td>\n",
              "      <td>Free</td>\n",
              "      <td>0.0</td>\n",
              "      <td>Everyone</td>\n",
              "      <td>Art &amp; Design;Pretend Play</td>\n",
              "      <td>2018-01-15</td>\n",
              "      <td>2.0.0</td>\n",
              "      <td>4.0.3</td>\n",
              "      <td>I hate</td>\n",
              "      <td>Negative</td>\n",
              "      <td>-0.800</td>\n",
              "      <td>0.900000</td>\n",
              "    </tr>\n",
              "    <tr>\n",
              "      <th>6</th>\n",
              "      <td>Coloring book moana</td>\n",
              "      <td>ART_AND_DESIGN</td>\n",
              "      <td>3.9</td>\n",
              "      <td>967</td>\n",
              "      <td>14.0</td>\n",
              "      <td>500000</td>\n",
              "      <td>Free</td>\n",
              "      <td>0.0</td>\n",
              "      <td>Everyone</td>\n",
              "      <td>Art &amp; Design;Pretend Play</td>\n",
              "      <td>2018-01-15</td>\n",
              "      <td>2.0.0</td>\n",
              "      <td>4.0.3</td>\n",
              "      <td>NaN</td>\n",
              "      <td>NaN</td>\n",
              "      <td>NaN</td>\n",
              "      <td>NaN</td>\n",
              "    </tr>\n",
              "    <tr>\n",
              "      <th>7</th>\n",
              "      <td>Coloring book moana</td>\n",
              "      <td>ART_AND_DESIGN</td>\n",
              "      <td>3.9</td>\n",
              "      <td>967</td>\n",
              "      <td>14.0</td>\n",
              "      <td>500000</td>\n",
              "      <td>Free</td>\n",
              "      <td>0.0</td>\n",
              "      <td>Everyone</td>\n",
              "      <td>Art &amp; Design;Pretend Play</td>\n",
              "      <td>2018-01-15</td>\n",
              "      <td>2.0.0</td>\n",
              "      <td>4.0.3</td>\n",
              "      <td>omgggggg</td>\n",
              "      <td>Neutral</td>\n",
              "      <td>0.000</td>\n",
              "      <td>0.000000</td>\n",
              "    </tr>\n",
              "    <tr>\n",
              "      <th>8</th>\n",
              "      <td>Coloring book moana</td>\n",
              "      <td>ART_AND_DESIGN</td>\n",
              "      <td>3.9</td>\n",
              "      <td>967</td>\n",
              "      <td>14.0</td>\n",
              "      <td>500000</td>\n",
              "      <td>Free</td>\n",
              "      <td>0.0</td>\n",
              "      <td>Everyone</td>\n",
              "      <td>Art &amp; Design;Pretend Play</td>\n",
              "      <td>2018-01-15</td>\n",
              "      <td>2.0.0</td>\n",
              "      <td>4.0.3</td>\n",
              "      <td>It cute.</td>\n",
              "      <td>Positive</td>\n",
              "      <td>0.500</td>\n",
              "      <td>1.000000</td>\n",
              "    </tr>\n",
              "    <tr>\n",
              "      <th>9</th>\n",
              "      <td>Coloring book moana</td>\n",
              "      <td>ART_AND_DESIGN</td>\n",
              "      <td>3.9</td>\n",
              "      <td>967</td>\n",
              "      <td>14.0</td>\n",
              "      <td>500000</td>\n",
              "      <td>Free</td>\n",
              "      <td>0.0</td>\n",
              "      <td>Everyone</td>\n",
              "      <td>Art &amp; Design;Pretend Play</td>\n",
              "      <td>2018-01-15</td>\n",
              "      <td>2.0.0</td>\n",
              "      <td>4.0.3</td>\n",
              "      <td>I love</td>\n",
              "      <td>Positive</td>\n",
              "      <td>0.500</td>\n",
              "      <td>0.600000</td>\n",
              "    </tr>\n",
              "  </tbody>\n",
              "</table>\n",
              "</div>"
            ],
            "text/plain": [
              "                   App  ... Sentiment_Subjectivity\n",
              "0  Coloring book moana  ...               1.000000\n",
              "1  Coloring book moana  ...               0.833333\n",
              "2  Coloring book moana  ...               0.000000\n",
              "3  Coloring book moana  ...                    NaN\n",
              "4  Coloring book moana  ...               0.600000\n",
              "5  Coloring book moana  ...               0.900000\n",
              "6  Coloring book moana  ...                    NaN\n",
              "7  Coloring book moana  ...               0.000000\n",
              "8  Coloring book moana  ...               1.000000\n",
              "9  Coloring book moana  ...               0.600000\n",
              "\n",
              "[10 rows x 17 columns]"
            ]
          },
          "metadata": {},
          "execution_count": 52
        }
      ]
    },
    {
      "cell_type": "code",
      "metadata": {
        "colab": {
          "base_uri": "https://localhost:8080/"
        },
        "id": "QB4CtAdtHTQI",
        "outputId": "6522d37e-4e42-488f-e455-3e03e43e251b"
      },
      "source": [
        "# Checking the null values in merged dataset\n",
        "merged_df.isnull().sum()"
      ],
      "execution_count": 53,
      "outputs": [
        {
          "output_type": "execute_result",
          "data": {
            "text/plain": [
              "App                           0\n",
              "Category                      0\n",
              "Rating                        0\n",
              "Reviews                       0\n",
              "Size                          0\n",
              "Installs                      0\n",
              "Type                          0\n",
              "Price                         0\n",
              "Content_Rating                0\n",
              "Genres                        0\n",
              "Last_Updated                  0\n",
              "Current_Version               0\n",
              "Android_Version               0\n",
              "Translated_Review         25627\n",
              "Sentiment                 25622\n",
              "Sentiment_Polarity        25622\n",
              "Sentiment_Subjectivity    25622\n",
              "dtype: int64"
            ]
          },
          "metadata": {},
          "execution_count": 53
        }
      ]
    },
    {
      "cell_type": "code",
      "metadata": {
        "id": "KCgvYyPwHTOK"
      },
      "source": [
        "# Eliminating the null values as this affect the performance and accuracy of our data analysis. \n",
        "merged_df.dropna(inplace=True)"
      ],
      "execution_count": 54,
      "outputs": []
    },
    {
      "cell_type": "code",
      "metadata": {
        "colab": {
          "base_uri": "https://localhost:8080/"
        },
        "id": "TaAq3Sba7EJJ",
        "outputId": "7ad3a17c-ccd9-4d7c-adc5-70e554d5d0dd"
      },
      "source": [
        "# Acquiring details for merged dataset after removing all null values\n",
        "merged_df.info()"
      ],
      "execution_count": 55,
      "outputs": [
        {
          "output_type": "stream",
          "name": "stdout",
          "text": [
            "<class 'pandas.core.frame.DataFrame'>\n",
            "Int64Index: 35929 entries, 0 to 61555\n",
            "Data columns (total 17 columns):\n",
            " #   Column                  Non-Null Count  Dtype         \n",
            "---  ------                  --------------  -----         \n",
            " 0   App                     35929 non-null  object        \n",
            " 1   Category                35929 non-null  object        \n",
            " 2   Rating                  35929 non-null  float64       \n",
            " 3   Reviews                 35929 non-null  int64         \n",
            " 4   Size                    35929 non-null  float64       \n",
            " 5   Installs                35929 non-null  int64         \n",
            " 6   Type                    35929 non-null  object        \n",
            " 7   Price                   35929 non-null  float64       \n",
            " 8   Content_Rating          35929 non-null  object        \n",
            " 9   Genres                  35929 non-null  object        \n",
            " 10  Last_Updated            35929 non-null  datetime64[ns]\n",
            " 11  Current_Version         35929 non-null  object        \n",
            " 12  Android_Version         35929 non-null  object        \n",
            " 13  Translated_Review       35929 non-null  object        \n",
            " 14  Sentiment               35929 non-null  object        \n",
            " 15  Sentiment_Polarity      35929 non-null  float64       \n",
            " 16  Sentiment_Subjectivity  35929 non-null  float64       \n",
            "dtypes: datetime64[ns](1), float64(5), int64(2), object(9)\n",
            "memory usage: 4.9+ MB\n"
          ]
        }
      ]
    },
    {
      "cell_type": "markdown",
      "metadata": {
        "id": "n1-AzBB3MRGR"
      },
      "source": [
        "# Exploratory Analysis and Visualization"
      ]
    },
    {
      "cell_type": "code",
      "metadata": {
        "colab": {
          "base_uri": "https://localhost:8080/",
          "height": 300
        },
        "id": "NiSiSNwTOvGJ",
        "outputId": "347696b2-33da-4bf3-f197-24e43861612e"
      },
      "source": [
        "# \n",
        "merged_df.describe()"
      ],
      "execution_count": 56,
      "outputs": [
        {
          "output_type": "execute_result",
          "data": {
            "text/html": [
              "<div>\n",
              "<style scoped>\n",
              "    .dataframe tbody tr th:only-of-type {\n",
              "        vertical-align: middle;\n",
              "    }\n",
              "\n",
              "    .dataframe tbody tr th {\n",
              "        vertical-align: top;\n",
              "    }\n",
              "\n",
              "    .dataframe thead th {\n",
              "        text-align: right;\n",
              "    }\n",
              "</style>\n",
              "<table border=\"1\" class=\"dataframe\">\n",
              "  <thead>\n",
              "    <tr style=\"text-align: right;\">\n",
              "      <th></th>\n",
              "      <th>Rating</th>\n",
              "      <th>Reviews</th>\n",
              "      <th>Size</th>\n",
              "      <th>Installs</th>\n",
              "      <th>Price</th>\n",
              "      <th>Sentiment_Polarity</th>\n",
              "      <th>Sentiment_Subjectivity</th>\n",
              "    </tr>\n",
              "  </thead>\n",
              "  <tbody>\n",
              "    <tr>\n",
              "      <th>count</th>\n",
              "      <td>35929.000000</td>\n",
              "      <td>3.592900e+04</td>\n",
              "      <td>35929.000000</td>\n",
              "      <td>3.592900e+04</td>\n",
              "      <td>35929.000000</td>\n",
              "      <td>35929.000000</td>\n",
              "      <td>35929.000000</td>\n",
              "    </tr>\n",
              "    <tr>\n",
              "      <th>mean</th>\n",
              "      <td>4.297197</td>\n",
              "      <td>1.413699e+06</td>\n",
              "      <td>26.402307</td>\n",
              "      <td>4.377751e+07</td>\n",
              "      <td>0.109197</td>\n",
              "      <td>0.180904</td>\n",
              "      <td>0.493767</td>\n",
              "    </tr>\n",
              "    <tr>\n",
              "      <th>std</th>\n",
              "      <td>0.303176</td>\n",
              "      <td>5.733496e+06</td>\n",
              "      <td>21.852403</td>\n",
              "      <td>1.453414e+08</td>\n",
              "      <td>1.302471</td>\n",
              "      <td>0.350080</td>\n",
              "      <td>0.258053</td>\n",
              "    </tr>\n",
              "    <tr>\n",
              "      <th>min</th>\n",
              "      <td>2.600000</td>\n",
              "      <td>1.140000e+02</td>\n",
              "      <td>0.008301</td>\n",
              "      <td>1.000000e+03</td>\n",
              "      <td>0.000000</td>\n",
              "      <td>-1.000000</td>\n",
              "      <td>0.000000</td>\n",
              "    </tr>\n",
              "    <tr>\n",
              "      <th>25%</th>\n",
              "      <td>4.100000</td>\n",
              "      <td>1.024700e+04</td>\n",
              "      <td>13.000000</td>\n",
              "      <td>1.000000e+06</td>\n",
              "      <td>0.000000</td>\n",
              "      <td>0.000000</td>\n",
              "      <td>0.361111</td>\n",
              "    </tr>\n",
              "    <tr>\n",
              "      <th>50%</th>\n",
              "      <td>4.300000</td>\n",
              "      <td>6.451300e+04</td>\n",
              "      <td>20.394897</td>\n",
              "      <td>5.000000e+06</td>\n",
              "      <td>0.000000</td>\n",
              "      <td>0.150000</td>\n",
              "      <td>0.514835</td>\n",
              "    </tr>\n",
              "    <tr>\n",
              "      <th>75%</th>\n",
              "      <td>4.500000</td>\n",
              "      <td>5.156570e+05</td>\n",
              "      <td>28.000000</td>\n",
              "      <td>1.000000e+07</td>\n",
              "      <td>0.000000</td>\n",
              "      <td>0.400000</td>\n",
              "      <td>0.650000</td>\n",
              "    </tr>\n",
              "    <tr>\n",
              "      <th>max</th>\n",
              "      <td>4.900000</td>\n",
              "      <td>7.815831e+07</td>\n",
              "      <td>99.000000</td>\n",
              "      <td>1.000000e+09</td>\n",
              "      <td>29.990000</td>\n",
              "      <td>1.000000</td>\n",
              "      <td>1.000000</td>\n",
              "    </tr>\n",
              "  </tbody>\n",
              "</table>\n",
              "</div>"
            ],
            "text/plain": [
              "             Rating       Reviews  ...  Sentiment_Polarity  Sentiment_Subjectivity\n",
              "count  35929.000000  3.592900e+04  ...        35929.000000            35929.000000\n",
              "mean       4.297197  1.413699e+06  ...            0.180904                0.493767\n",
              "std        0.303176  5.733496e+06  ...            0.350080                0.258053\n",
              "min        2.600000  1.140000e+02  ...           -1.000000                0.000000\n",
              "25%        4.100000  1.024700e+04  ...            0.000000                0.361111\n",
              "50%        4.300000  6.451300e+04  ...            0.150000                0.514835\n",
              "75%        4.500000  5.156570e+05  ...            0.400000                0.650000\n",
              "max        4.900000  7.815831e+07  ...            1.000000                1.000000\n",
              "\n",
              "[8 rows x 7 columns]"
            ]
          },
          "metadata": {},
          "execution_count": 56
        }
      ]
    },
    {
      "cell_type": "markdown",
      "metadata": {
        "id": "Vlvx8K1b-Bj4"
      },
      "source": [
        "#### Let we find correlation between columns in a dataframe. Correlation map is used to detect the pairwise correlation between all quantitative measurables in a dataset. "
      ]
    },
    {
      "cell_type": "code",
      "metadata": {
        "colab": {
          "base_uri": "https://localhost:8080/",
          "height": 269
        },
        "id": "dKPqjY9oQAh0",
        "outputId": "70537722-d33b-4bea-b45f-a9d752acdd21"
      },
      "source": [
        "merged_df.corr()"
      ],
      "execution_count": 57,
      "outputs": [
        {
          "output_type": "execute_result",
          "data": {
            "text/html": [
              "<div>\n",
              "<style scoped>\n",
              "    .dataframe tbody tr th:only-of-type {\n",
              "        vertical-align: middle;\n",
              "    }\n",
              "\n",
              "    .dataframe tbody tr th {\n",
              "        vertical-align: top;\n",
              "    }\n",
              "\n",
              "    .dataframe thead th {\n",
              "        text-align: right;\n",
              "    }\n",
              "</style>\n",
              "<table border=\"1\" class=\"dataframe\">\n",
              "  <thead>\n",
              "    <tr style=\"text-align: right;\">\n",
              "      <th></th>\n",
              "      <th>Rating</th>\n",
              "      <th>Reviews</th>\n",
              "      <th>Size</th>\n",
              "      <th>Installs</th>\n",
              "      <th>Price</th>\n",
              "      <th>Sentiment_Polarity</th>\n",
              "      <th>Sentiment_Subjectivity</th>\n",
              "    </tr>\n",
              "  </thead>\n",
              "  <tbody>\n",
              "    <tr>\n",
              "      <th>Rating</th>\n",
              "      <td>1.000000</td>\n",
              "      <td>0.075736</td>\n",
              "      <td>0.116678</td>\n",
              "      <td>0.020145</td>\n",
              "      <td>-0.010055</td>\n",
              "      <td>0.092903</td>\n",
              "      <td>0.068758</td>\n",
              "    </tr>\n",
              "    <tr>\n",
              "      <th>Reviews</th>\n",
              "      <td>0.075736</td>\n",
              "      <td>1.000000</td>\n",
              "      <td>0.214605</td>\n",
              "      <td>0.564256</td>\n",
              "      <td>-0.020591</td>\n",
              "      <td>-0.080021</td>\n",
              "      <td>-0.009315</td>\n",
              "    </tr>\n",
              "    <tr>\n",
              "      <th>Size</th>\n",
              "      <td>0.116678</td>\n",
              "      <td>0.214605</td>\n",
              "      <td>1.000000</td>\n",
              "      <td>0.075029</td>\n",
              "      <td>-0.008023</td>\n",
              "      <td>-0.126930</td>\n",
              "      <td>0.010901</td>\n",
              "    </tr>\n",
              "    <tr>\n",
              "      <th>Installs</th>\n",
              "      <td>0.020145</td>\n",
              "      <td>0.564256</td>\n",
              "      <td>0.075029</td>\n",
              "      <td>1.000000</td>\n",
              "      <td>-0.025213</td>\n",
              "      <td>-0.057842</td>\n",
              "      <td>-0.006307</td>\n",
              "    </tr>\n",
              "    <tr>\n",
              "      <th>Price</th>\n",
              "      <td>-0.010055</td>\n",
              "      <td>-0.020591</td>\n",
              "      <td>-0.008023</td>\n",
              "      <td>-0.025213</td>\n",
              "      <td>1.000000</td>\n",
              "      <td>0.024148</td>\n",
              "      <td>0.003182</td>\n",
              "    </tr>\n",
              "    <tr>\n",
              "      <th>Sentiment_Polarity</th>\n",
              "      <td>0.092903</td>\n",
              "      <td>-0.080021</td>\n",
              "      <td>-0.126930</td>\n",
              "      <td>-0.057842</td>\n",
              "      <td>0.024148</td>\n",
              "      <td>1.000000</td>\n",
              "      <td>0.259668</td>\n",
              "    </tr>\n",
              "    <tr>\n",
              "      <th>Sentiment_Subjectivity</th>\n",
              "      <td>0.068758</td>\n",
              "      <td>-0.009315</td>\n",
              "      <td>0.010901</td>\n",
              "      <td>-0.006307</td>\n",
              "      <td>0.003182</td>\n",
              "      <td>0.259668</td>\n",
              "      <td>1.000000</td>\n",
              "    </tr>\n",
              "  </tbody>\n",
              "</table>\n",
              "</div>"
            ],
            "text/plain": [
              "                          Rating  ...  Sentiment_Subjectivity\n",
              "Rating                  1.000000  ...                0.068758\n",
              "Reviews                 0.075736  ...               -0.009315\n",
              "Size                    0.116678  ...                0.010901\n",
              "Installs                0.020145  ...               -0.006307\n",
              "Price                  -0.010055  ...                0.003182\n",
              "Sentiment_Polarity      0.092903  ...                0.259668\n",
              "Sentiment_Subjectivity  0.068758  ...                1.000000\n",
              "\n",
              "[7 rows x 7 columns]"
            ]
          },
          "metadata": {},
          "execution_count": 57
        }
      ]
    },
    {
      "cell_type": "code",
      "metadata": {
        "colab": {
          "base_uri": "https://localhost:8080/",
          "height": 662
        },
        "id": "z0W4GGkRQG1d",
        "outputId": "77a3196c-caaa-4268-aebd-37ea35d62e10"
      },
      "source": [
        "# Correlation map\n",
        "f,ax = plt.subplots(figsize=(12,9))\n",
        "sns.heatmap(merged_df.corr(), annot=True, linewidths=.5, fmt= '.2f',ax=ax)\n",
        "plt.show()"
      ],
      "execution_count": 58,
      "outputs": [
        {
          "output_type": "display_data",
          "data": {
            "image/png": "[encoded data removed]",
            "text/plain": [
              "<Figure size 864x648 with 2 Axes>"
            ]
          },
          "metadata": {}
        }
      ]
    },
    {
      "cell_type": "code",
      "metadata": {
        "colab": {
          "base_uri": "https://localhost:8080/",
          "height": 1000
        },
        "id": "8TsABG-RQNPz",
        "outputId": "3ec81c90-7a5f-4066-970a-4d1e5148376b"
      },
      "source": [
        "cat_merged_df=merged_df.groupby(merged_df.Category).count()\n",
        "cat_merged_df.reset_index(inplace=True)\n",
        "cat_merged_df"
      ],
      "execution_count": 80,
      "outputs": [
        {
          "output_type": "execute_result",
          "data": {
            "text/html": [
              "<div>\n",
              "<style scoped>\n",
              "    .dataframe tbody tr th:only-of-type {\n",
              "        vertical-align: middle;\n",
              "    }\n",
              "\n",
              "    .dataframe tbody tr th {\n",
              "        vertical-align: top;\n",
              "    }\n",
              "\n",
              "    .dataframe thead th {\n",
              "        text-align: right;\n",
              "    }\n",
              "</style>\n",
              "<table border=\"1\" class=\"dataframe\">\n",
              "  <thead>\n",
              "    <tr style=\"text-align: right;\">\n",
              "      <th></th>\n",
              "      <th>Category</th>\n",
              "      <th>App</th>\n",
              "      <th>Rating</th>\n",
              "      <th>Reviews</th>\n",
              "      <th>Size</th>\n",
              "      <th>Installs</th>\n",
              "      <th>Type</th>\n",
              "      <th>Price</th>\n",
              "      <th>Content_Rating</th>\n",
              "      <th>Genres</th>\n",
              "      <th>Last_Updated</th>\n",
              "      <th>Current_Version</th>\n",
              "      <th>Android_Version</th>\n",
              "      <th>Translated_Review</th>\n",
              "      <th>Sentiment</th>\n",
              "      <th>Sentiment_Polarity</th>\n",
              "      <th>Sentiment_Subjectivity</th>\n",
              "    </tr>\n",
              "  </thead>\n",
              "  <tbody>\n",
              "    <tr>\n",
              "      <th>0</th>\n",
              "      <td>ART_AND_DESIGN</td>\n",
              "      <td>382</td>\n",
              "      <td>382</td>\n",
              "      <td>382</td>\n",
              "      <td>382</td>\n",
              "      <td>382</td>\n",
              "      <td>382</td>\n",
              "      <td>382</td>\n",
              "      <td>382</td>\n",
              "      <td>382</td>\n",
              "      <td>382</td>\n",
              "      <td>382</td>\n",
              "      <td>382</td>\n",
              "      <td>382</td>\n",
              "      <td>382</td>\n",
              "      <td>382</td>\n",
              "      <td>382</td>\n",
              "    </tr>\n",
              "    <tr>\n",
              "      <th>1</th>\n",
              "      <td>AUTO_AND_VEHICLES</td>\n",
              "      <td>289</td>\n",
              "      <td>289</td>\n",
              "      <td>289</td>\n",
              "      <td>289</td>\n",
              "      <td>289</td>\n",
              "      <td>289</td>\n",
              "      <td>289</td>\n",
              "      <td>289</td>\n",
              "      <td>289</td>\n",
              "      <td>289</td>\n",
              "      <td>289</td>\n",
              "      <td>289</td>\n",
              "      <td>289</td>\n",
              "      <td>289</td>\n",
              "      <td>289</td>\n",
              "      <td>289</td>\n",
              "    </tr>\n",
              "    <tr>\n",
              "      <th>2</th>\n",
              "      <td>BEAUTY</td>\n",
              "      <td>338</td>\n",
              "      <td>338</td>\n",
              "      <td>338</td>\n",
              "      <td>338</td>\n",
              "      <td>338</td>\n",
              "      <td>338</td>\n",
              "      <td>338</td>\n",
              "      <td>338</td>\n",
              "      <td>338</td>\n",
              "      <td>338</td>\n",
              "      <td>338</td>\n",
              "      <td>338</td>\n",
              "      <td>338</td>\n",
              "      <td>338</td>\n",
              "      <td>338</td>\n",
              "      <td>338</td>\n",
              "    </tr>\n",
              "    <tr>\n",
              "      <th>3</th>\n",
              "      <td>BOOKS_AND_REFERENCE</td>\n",
              "      <td>651</td>\n",
              "      <td>651</td>\n",
              "      <td>651</td>\n",
              "      <td>651</td>\n",
              "      <td>651</td>\n",
              "      <td>651</td>\n",
              "      <td>651</td>\n",
              "      <td>651</td>\n",
              "      <td>651</td>\n",
              "      <td>651</td>\n",
              "      <td>651</td>\n",
              "      <td>651</td>\n",
              "      <td>651</td>\n",
              "      <td>651</td>\n",
              "      <td>651</td>\n",
              "      <td>651</td>\n",
              "    </tr>\n",
              "    <tr>\n",
              "      <th>4</th>\n",
              "      <td>BUSINESS</td>\n",
              "      <td>1082</td>\n",
              "      <td>1082</td>\n",
              "      <td>1082</td>\n",
              "      <td>1082</td>\n",
              "      <td>1082</td>\n",
              "      <td>1082</td>\n",
              "      <td>1082</td>\n",
              "      <td>1082</td>\n",
              "      <td>1082</td>\n",
              "      <td>1082</td>\n",
              "      <td>1082</td>\n",
              "      <td>1082</td>\n",
              "      <td>1082</td>\n",
              "      <td>1082</td>\n",
              "      <td>1082</td>\n",
              "      <td>1082</td>\n",
              "    </tr>\n",
              "    <tr>\n",
              "      <th>5</th>\n",
              "      <td>COMICS</td>\n",
              "      <td>45</td>\n",
              "      <td>45</td>\n",
              "      <td>45</td>\n",
              "      <td>45</td>\n",
              "      <td>45</td>\n",
              "      <td>45</td>\n",
              "      <td>45</td>\n",
              "      <td>45</td>\n",
              "      <td>45</td>\n",
              "      <td>45</td>\n",
              "      <td>45</td>\n",
              "      <td>45</td>\n",
              "      <td>45</td>\n",
              "      <td>45</td>\n",
              "      <td>45</td>\n",
              "      <td>45</td>\n",
              "    </tr>\n",
              "    <tr>\n",
              "      <th>6</th>\n",
              "      <td>COMMUNICATION</td>\n",
              "      <td>1024</td>\n",
              "      <td>1024</td>\n",
              "      <td>1024</td>\n",
              "      <td>1024</td>\n",
              "      <td>1024</td>\n",
              "      <td>1024</td>\n",
              "      <td>1024</td>\n",
              "      <td>1024</td>\n",
              "      <td>1024</td>\n",
              "      <td>1024</td>\n",
              "      <td>1024</td>\n",
              "      <td>1024</td>\n",
              "      <td>1024</td>\n",
              "      <td>1024</td>\n",
              "      <td>1024</td>\n",
              "      <td>1024</td>\n",
              "    </tr>\n",
              "    <tr>\n",
              "      <th>7</th>\n",
              "      <td>DATING</td>\n",
              "      <td>1715</td>\n",
              "      <td>1715</td>\n",
              "      <td>1715</td>\n",
              "      <td>1715</td>\n",
              "      <td>1715</td>\n",
              "      <td>1715</td>\n",
              "      <td>1715</td>\n",
              "      <td>1715</td>\n",
              "      <td>1715</td>\n",
              "      <td>1715</td>\n",
              "      <td>1715</td>\n",
              "      <td>1715</td>\n",
              "      <td>1715</td>\n",
              "      <td>1715</td>\n",
              "      <td>1715</td>\n",
              "      <td>1715</td>\n",
              "    </tr>\n",
              "    <tr>\n",
              "      <th>8</th>\n",
              "      <td>EDUCATION</td>\n",
              "      <td>847</td>\n",
              "      <td>847</td>\n",
              "      <td>847</td>\n",
              "      <td>847</td>\n",
              "      <td>847</td>\n",
              "      <td>847</td>\n",
              "      <td>847</td>\n",
              "      <td>847</td>\n",
              "      <td>847</td>\n",
              "      <td>847</td>\n",
              "      <td>847</td>\n",
              "      <td>847</td>\n",
              "      <td>847</td>\n",
              "      <td>847</td>\n",
              "      <td>847</td>\n",
              "      <td>847</td>\n",
              "    </tr>\n",
              "    <tr>\n",
              "      <th>9</th>\n",
              "      <td>ENTERTAINMENT</td>\n",
              "      <td>1264</td>\n",
              "      <td>1264</td>\n",
              "      <td>1264</td>\n",
              "      <td>1264</td>\n",
              "      <td>1264</td>\n",
              "      <td>1264</td>\n",
              "      <td>1264</td>\n",
              "      <td>1264</td>\n",
              "      <td>1264</td>\n",
              "      <td>1264</td>\n",
              "      <td>1264</td>\n",
              "      <td>1264</td>\n",
              "      <td>1264</td>\n",
              "      <td>1264</td>\n",
              "      <td>1264</td>\n",
              "      <td>1264</td>\n",
              "    </tr>\n",
              "    <tr>\n",
              "      <th>10</th>\n",
              "      <td>EVENTS</td>\n",
              "      <td>158</td>\n",
              "      <td>158</td>\n",
              "      <td>158</td>\n",
              "      <td>158</td>\n",
              "      <td>158</td>\n",
              "      <td>158</td>\n",
              "      <td>158</td>\n",
              "      <td>158</td>\n",
              "      <td>158</td>\n",
              "      <td>158</td>\n",
              "      <td>158</td>\n",
              "      <td>158</td>\n",
              "      <td>158</td>\n",
              "      <td>158</td>\n",
              "      <td>158</td>\n",
              "      <td>158</td>\n",
              "    </tr>\n",
              "    <tr>\n",
              "      <th>11</th>\n",
              "      <td>FAMILY</td>\n",
              "      <td>2009</td>\n",
              "      <td>2009</td>\n",
              "      <td>2009</td>\n",
              "      <td>2009</td>\n",
              "      <td>2009</td>\n",
              "      <td>2009</td>\n",
              "      <td>2009</td>\n",
              "      <td>2009</td>\n",
              "      <td>2009</td>\n",
              "      <td>2009</td>\n",
              "      <td>2009</td>\n",
              "      <td>2009</td>\n",
              "      <td>2009</td>\n",
              "      <td>2009</td>\n",
              "      <td>2009</td>\n",
              "      <td>2009</td>\n",
              "    </tr>\n",
              "    <tr>\n",
              "      <th>12</th>\n",
              "      <td>FINANCE</td>\n",
              "      <td>1435</td>\n",
              "      <td>1435</td>\n",
              "      <td>1435</td>\n",
              "      <td>1435</td>\n",
              "      <td>1435</td>\n",
              "      <td>1435</td>\n",
              "      <td>1435</td>\n",
              "      <td>1435</td>\n",
              "      <td>1435</td>\n",
              "      <td>1435</td>\n",
              "      <td>1435</td>\n",
              "      <td>1435</td>\n",
              "      <td>1435</td>\n",
              "      <td>1435</td>\n",
              "      <td>1435</td>\n",
              "      <td>1435</td>\n",
              "    </tr>\n",
              "    <tr>\n",
              "      <th>13</th>\n",
              "      <td>FOOD_AND_DRINK</td>\n",
              "      <td>638</td>\n",
              "      <td>638</td>\n",
              "      <td>638</td>\n",
              "      <td>638</td>\n",
              "      <td>638</td>\n",
              "      <td>638</td>\n",
              "      <td>638</td>\n",
              "      <td>638</td>\n",
              "      <td>638</td>\n",
              "      <td>638</td>\n",
              "      <td>638</td>\n",
              "      <td>638</td>\n",
              "      <td>638</td>\n",
              "      <td>638</td>\n",
              "      <td>638</td>\n",
              "      <td>638</td>\n",
              "    </tr>\n",
              "    <tr>\n",
              "      <th>14</th>\n",
              "      <td>GAME</td>\n",
              "      <td>6678</td>\n",
              "      <td>6678</td>\n",
              "      <td>6678</td>\n",
              "      <td>6678</td>\n",
              "      <td>6678</td>\n",
              "      <td>6678</td>\n",
              "      <td>6678</td>\n",
              "      <td>6678</td>\n",
              "      <td>6678</td>\n",
              "      <td>6678</td>\n",
              "      <td>6678</td>\n",
              "      <td>6678</td>\n",
              "      <td>6678</td>\n",
              "      <td>6678</td>\n",
              "      <td>6678</td>\n",
              "      <td>6678</td>\n",
              "    </tr>\n",
              "    <tr>\n",
              "      <th>15</th>\n",
              "      <td>HEALTH_AND_FITNESS</td>\n",
              "      <td>2249</td>\n",
              "      <td>2249</td>\n",
              "      <td>2249</td>\n",
              "      <td>2249</td>\n",
              "      <td>2249</td>\n",
              "      <td>2249</td>\n",
              "      <td>2249</td>\n",
              "      <td>2249</td>\n",
              "      <td>2249</td>\n",
              "      <td>2249</td>\n",
              "      <td>2249</td>\n",
              "      <td>2249</td>\n",
              "      <td>2249</td>\n",
              "      <td>2249</td>\n",
              "      <td>2249</td>\n",
              "      <td>2249</td>\n",
              "    </tr>\n",
              "    <tr>\n",
              "      <th>16</th>\n",
              "      <td>HOUSE_AND_HOME</td>\n",
              "      <td>511</td>\n",
              "      <td>511</td>\n",
              "      <td>511</td>\n",
              "      <td>511</td>\n",
              "      <td>511</td>\n",
              "      <td>511</td>\n",
              "      <td>511</td>\n",
              "      <td>511</td>\n",
              "      <td>511</td>\n",
              "      <td>511</td>\n",
              "      <td>511</td>\n",
              "      <td>511</td>\n",
              "      <td>511</td>\n",
              "      <td>511</td>\n",
              "      <td>511</td>\n",
              "      <td>511</td>\n",
              "    </tr>\n",
              "    <tr>\n",
              "      <th>17</th>\n",
              "      <td>LIBRARIES_AND_DEMO</td>\n",
              "      <td>333</td>\n",
              "      <td>333</td>\n",
              "      <td>333</td>\n",
              "      <td>333</td>\n",
              "      <td>333</td>\n",
              "      <td>333</td>\n",
              "      <td>333</td>\n",
              "      <td>333</td>\n",
              "      <td>333</td>\n",
              "      <td>333</td>\n",
              "      <td>333</td>\n",
              "      <td>333</td>\n",
              "      <td>333</td>\n",
              "      <td>333</td>\n",
              "      <td>333</td>\n",
              "      <td>333</td>\n",
              "    </tr>\n",
              "    <tr>\n",
              "      <th>18</th>\n",
              "      <td>LIFESTYLE</td>\n",
              "      <td>954</td>\n",
              "      <td>954</td>\n",
              "      <td>954</td>\n",
              "      <td>954</td>\n",
              "      <td>954</td>\n",
              "      <td>954</td>\n",
              "      <td>954</td>\n",
              "      <td>954</td>\n",
              "      <td>954</td>\n",
              "      <td>954</td>\n",
              "      <td>954</td>\n",
              "      <td>954</td>\n",
              "      <td>954</td>\n",
              "      <td>954</td>\n",
              "      <td>954</td>\n",
              "      <td>954</td>\n",
              "    </tr>\n",
              "    <tr>\n",
              "      <th>19</th>\n",
              "      <td>MAPS_AND_NAVIGATION</td>\n",
              "      <td>192</td>\n",
              "      <td>192</td>\n",
              "      <td>192</td>\n",
              "      <td>192</td>\n",
              "      <td>192</td>\n",
              "      <td>192</td>\n",
              "      <td>192</td>\n",
              "      <td>192</td>\n",
              "      <td>192</td>\n",
              "      <td>192</td>\n",
              "      <td>192</td>\n",
              "      <td>192</td>\n",
              "      <td>192</td>\n",
              "      <td>192</td>\n",
              "      <td>192</td>\n",
              "      <td>192</td>\n",
              "    </tr>\n",
              "    <tr>\n",
              "      <th>20</th>\n",
              "      <td>MEDICAL</td>\n",
              "      <td>1400</td>\n",
              "      <td>1400</td>\n",
              "      <td>1400</td>\n",
              "      <td>1400</td>\n",
              "      <td>1400</td>\n",
              "      <td>1400</td>\n",
              "      <td>1400</td>\n",
              "      <td>1400</td>\n",
              "      <td>1400</td>\n",
              "      <td>1400</td>\n",
              "      <td>1400</td>\n",
              "      <td>1400</td>\n",
              "      <td>1400</td>\n",
              "      <td>1400</td>\n",
              "      <td>1400</td>\n",
              "      <td>1400</td>\n",
              "    </tr>\n",
              "    <tr>\n",
              "      <th>21</th>\n",
              "      <td>NEWS_AND_MAGAZINES</td>\n",
              "      <td>1040</td>\n",
              "      <td>1040</td>\n",
              "      <td>1040</td>\n",
              "      <td>1040</td>\n",
              "      <td>1040</td>\n",
              "      <td>1040</td>\n",
              "      <td>1040</td>\n",
              "      <td>1040</td>\n",
              "      <td>1040</td>\n",
              "      <td>1040</td>\n",
              "      <td>1040</td>\n",
              "      <td>1040</td>\n",
              "      <td>1040</td>\n",
              "      <td>1040</td>\n",
              "      <td>1040</td>\n",
              "      <td>1040</td>\n",
              "    </tr>\n",
              "    <tr>\n",
              "      <th>22</th>\n",
              "      <td>PARENTING</td>\n",
              "      <td>260</td>\n",
              "      <td>260</td>\n",
              "      <td>260</td>\n",
              "      <td>260</td>\n",
              "      <td>260</td>\n",
              "      <td>260</td>\n",
              "      <td>260</td>\n",
              "      <td>260</td>\n",
              "      <td>260</td>\n",
              "      <td>260</td>\n",
              "      <td>260</td>\n",
              "      <td>260</td>\n",
              "      <td>260</td>\n",
              "      <td>260</td>\n",
              "      <td>260</td>\n",
              "      <td>260</td>\n",
              "    </tr>\n",
              "    <tr>\n",
              "      <th>23</th>\n",
              "      <td>PERSONALIZATION</td>\n",
              "      <td>1003</td>\n",
              "      <td>1003</td>\n",
              "      <td>1003</td>\n",
              "      <td>1003</td>\n",
              "      <td>1003</td>\n",
              "      <td>1003</td>\n",
              "      <td>1003</td>\n",
              "      <td>1003</td>\n",
              "      <td>1003</td>\n",
              "      <td>1003</td>\n",
              "      <td>1003</td>\n",
              "      <td>1003</td>\n",
              "      <td>1003</td>\n",
              "      <td>1003</td>\n",
              "      <td>1003</td>\n",
              "      <td>1003</td>\n",
              "    </tr>\n",
              "    <tr>\n",
              "      <th>24</th>\n",
              "      <td>PHOTOGRAPHY</td>\n",
              "      <td>1176</td>\n",
              "      <td>1176</td>\n",
              "      <td>1176</td>\n",
              "      <td>1176</td>\n",
              "      <td>1176</td>\n",
              "      <td>1176</td>\n",
              "      <td>1176</td>\n",
              "      <td>1176</td>\n",
              "      <td>1176</td>\n",
              "      <td>1176</td>\n",
              "      <td>1176</td>\n",
              "      <td>1176</td>\n",
              "      <td>1176</td>\n",
              "      <td>1176</td>\n",
              "      <td>1176</td>\n",
              "      <td>1176</td>\n",
              "    </tr>\n",
              "    <tr>\n",
              "      <th>25</th>\n",
              "      <td>PRODUCTIVITY</td>\n",
              "      <td>1463</td>\n",
              "      <td>1463</td>\n",
              "      <td>1463</td>\n",
              "      <td>1463</td>\n",
              "      <td>1463</td>\n",
              "      <td>1463</td>\n",
              "      <td>1463</td>\n",
              "      <td>1463</td>\n",
              "      <td>1463</td>\n",
              "      <td>1463</td>\n",
              "      <td>1463</td>\n",
              "      <td>1463</td>\n",
              "      <td>1463</td>\n",
              "      <td>1463</td>\n",
              "      <td>1463</td>\n",
              "      <td>1463</td>\n",
              "    </tr>\n",
              "    <tr>\n",
              "      <th>26</th>\n",
              "      <td>SHOPPING</td>\n",
              "      <td>898</td>\n",
              "      <td>898</td>\n",
              "      <td>898</td>\n",
              "      <td>898</td>\n",
              "      <td>898</td>\n",
              "      <td>898</td>\n",
              "      <td>898</td>\n",
              "      <td>898</td>\n",
              "      <td>898</td>\n",
              "      <td>898</td>\n",
              "      <td>898</td>\n",
              "      <td>898</td>\n",
              "      <td>898</td>\n",
              "      <td>898</td>\n",
              "      <td>898</td>\n",
              "      <td>898</td>\n",
              "    </tr>\n",
              "    <tr>\n",
              "      <th>27</th>\n",
              "      <td>SOCIAL</td>\n",
              "      <td>741</td>\n",
              "      <td>741</td>\n",
              "      <td>741</td>\n",
              "      <td>741</td>\n",
              "      <td>741</td>\n",
              "      <td>741</td>\n",
              "      <td>741</td>\n",
              "      <td>741</td>\n",
              "      <td>741</td>\n",
              "      <td>741</td>\n",
              "      <td>741</td>\n",
              "      <td>741</td>\n",
              "      <td>741</td>\n",
              "      <td>741</td>\n",
              "      <td>741</td>\n",
              "      <td>741</td>\n",
              "    </tr>\n",
              "    <tr>\n",
              "      <th>28</th>\n",
              "      <td>SPORTS</td>\n",
              "      <td>1479</td>\n",
              "      <td>1479</td>\n",
              "      <td>1479</td>\n",
              "      <td>1479</td>\n",
              "      <td>1479</td>\n",
              "      <td>1479</td>\n",
              "      <td>1479</td>\n",
              "      <td>1479</td>\n",
              "      <td>1479</td>\n",
              "      <td>1479</td>\n",
              "      <td>1479</td>\n",
              "      <td>1479</td>\n",
              "      <td>1479</td>\n",
              "      <td>1479</td>\n",
              "      <td>1479</td>\n",
              "      <td>1479</td>\n",
              "    </tr>\n",
              "    <tr>\n",
              "      <th>29</th>\n",
              "      <td>TOOLS</td>\n",
              "      <td>1451</td>\n",
              "      <td>1451</td>\n",
              "      <td>1451</td>\n",
              "      <td>1451</td>\n",
              "      <td>1451</td>\n",
              "      <td>1451</td>\n",
              "      <td>1451</td>\n",
              "      <td>1451</td>\n",
              "      <td>1451</td>\n",
              "      <td>1451</td>\n",
              "      <td>1451</td>\n",
              "      <td>1451</td>\n",
              "      <td>1451</td>\n",
              "      <td>1451</td>\n",
              "      <td>1451</td>\n",
              "      <td>1451</td>\n",
              "    </tr>\n",
              "    <tr>\n",
              "      <th>30</th>\n",
              "      <td>TRAVEL_AND_LOCAL</td>\n",
              "      <td>1692</td>\n",
              "      <td>1692</td>\n",
              "      <td>1692</td>\n",
              "      <td>1692</td>\n",
              "      <td>1692</td>\n",
              "      <td>1692</td>\n",
              "      <td>1692</td>\n",
              "      <td>1692</td>\n",
              "      <td>1692</td>\n",
              "      <td>1692</td>\n",
              "      <td>1692</td>\n",
              "      <td>1692</td>\n",
              "      <td>1692</td>\n",
              "      <td>1692</td>\n",
              "      <td>1692</td>\n",
              "      <td>1692</td>\n",
              "    </tr>\n",
              "    <tr>\n",
              "      <th>31</th>\n",
              "      <td>VIDEO_PLAYERS</td>\n",
              "      <td>331</td>\n",
              "      <td>331</td>\n",
              "      <td>331</td>\n",
              "      <td>331</td>\n",
              "      <td>331</td>\n",
              "      <td>331</td>\n",
              "      <td>331</td>\n",
              "      <td>331</td>\n",
              "      <td>331</td>\n",
              "      <td>331</td>\n",
              "      <td>331</td>\n",
              "      <td>331</td>\n",
              "      <td>331</td>\n",
              "      <td>331</td>\n",
              "      <td>331</td>\n",
              "      <td>331</td>\n",
              "    </tr>\n",
              "    <tr>\n",
              "      <th>32</th>\n",
              "      <td>WEATHER</td>\n",
              "      <td>201</td>\n",
              "      <td>201</td>\n",
              "      <td>201</td>\n",
              "      <td>201</td>\n",
              "      <td>201</td>\n",
              "      <td>201</td>\n",
              "      <td>201</td>\n",
              "      <td>201</td>\n",
              "      <td>201</td>\n",
              "      <td>201</td>\n",
              "      <td>201</td>\n",
              "      <td>201</td>\n",
              "      <td>201</td>\n",
              "      <td>201</td>\n",
              "      <td>201</td>\n",
              "      <td>201</td>\n",
              "    </tr>\n",
              "  </tbody>\n",
              "</table>\n",
              "</div>"
            ],
            "text/plain": [
              "               Category   App  ...  Sentiment_Polarity  Sentiment_Subjectivity\n",
              "0        ART_AND_DESIGN   382  ...                 382                     382\n",
              "1     AUTO_AND_VEHICLES   289  ...                 289                     289\n",
              "2                BEAUTY   338  ...                 338                     338\n",
              "3   BOOKS_AND_REFERENCE   651  ...                 651                     651\n",
              "4              BUSINESS  1082  ...                1082                    1082\n",
              "5                COMICS    45  ...                  45                      45\n",
              "6         COMMUNICATION  1024  ...                1024                    1024\n",
              "7                DATING  1715  ...                1715                    1715\n",
              "8             EDUCATION   847  ...                 847                     847\n",
              "9         ENTERTAINMENT  1264  ...                1264                    1264\n",
              "10               EVENTS   158  ...                 158                     158\n",
              "11               FAMILY  2009  ...                2009                    2009\n",
              "12              FINANCE  1435  ...                1435                    1435\n",
              "13       FOOD_AND_DRINK   638  ...                 638                     638\n",
              "14                 GAME  6678  ...                6678                    6678\n",
              "15   HEALTH_AND_FITNESS  2249  ...                2249                    2249\n",
              "16       HOUSE_AND_HOME   511  ...                 511                     511\n",
              "17   LIBRARIES_AND_DEMO   333  ...                 333                     333\n",
              "18            LIFESTYLE   954  ...                 954                     954\n",
              "19  MAPS_AND_NAVIGATION   192  ...                 192                     192\n",
              "20              MEDICAL  1400  ...                1400                    1400\n",
              "21   NEWS_AND_MAGAZINES  1040  ...                1040                    1040\n",
              "22            PARENTING   260  ...                 260                     260\n",
              "23      PERSONALIZATION  1003  ...                1003                    1003\n",
              "24          PHOTOGRAPHY  1176  ...                1176                    1176\n",
              "25         PRODUCTIVITY  1463  ...                1463                    1463\n",
              "26             SHOPPING   898  ...                 898                     898\n",
              "27               SOCIAL   741  ...                 741                     741\n",
              "28               SPORTS  1479  ...                1479                    1479\n",
              "29                TOOLS  1451  ...                1451                    1451\n",
              "30     TRAVEL_AND_LOCAL  1692  ...                1692                    1692\n",
              "31        VIDEO_PLAYERS   331  ...                 331                     331\n",
              "32              WEATHER   201  ...                 201                     201\n",
              "\n",
              "[33 rows x 17 columns]"
            ]
          },
          "metadata": {},
          "execution_count": 80
        }
      ]
    },
    {
      "cell_type": "markdown",
      "metadata": {
        "id": "fbH_4MVvROEm"
      },
      "source": [
        "# Average rating per category"
      ]
    },
    {
      "cell_type": "code",
      "metadata": {
        "colab": {
          "base_uri": "https://localhost:8080/",
          "height": 1000
        },
        "id": "cc4XElyMhT5I",
        "outputId": "fc2b7e25-5046-4019-d0d8-3ed2b56ac59b"
      },
      "source": [
        "mean_df=merged_df.groupby(merged_df.Category).mean()\n",
        "mean_df.reset_index(inplace=True)\n",
        "\n",
        "mean_df"
      ],
      "execution_count": 99,
      "outputs": [
        {
          "output_type": "execute_result",
          "data": {
            "text/html": [
              "<div>\n",
              "<style scoped>\n",
              "    .dataframe tbody tr th:only-of-type {\n",
              "        vertical-align: middle;\n",
              "    }\n",
              "\n",
              "    .dataframe tbody tr th {\n",
              "        vertical-align: top;\n",
              "    }\n",
              "\n",
              "    .dataframe thead th {\n",
              "        text-align: right;\n",
              "    }\n",
              "</style>\n",
              "<table border=\"1\" class=\"dataframe\">\n",
              "  <thead>\n",
              "    <tr style=\"text-align: right;\">\n",
              "      <th></th>\n",
              "      <th>Category</th>\n",
              "      <th>Rating</th>\n",
              "      <th>Reviews</th>\n",
              "      <th>Size</th>\n",
              "      <th>Installs</th>\n",
              "      <th>Price</th>\n",
              "      <th>Sentiment_Polarity</th>\n",
              "      <th>Sentiment_Subjectivity</th>\n",
              "    </tr>\n",
              "  </thead>\n",
              "  <tbody>\n",
              "    <tr>\n",
              "      <th>0</th>\n",
              "      <td>ART_AND_DESIGN</td>\n",
              "      <td>4.303141</td>\n",
              "      <td>2.881050e+04</td>\n",
              "      <td>20.068354</td>\n",
              "      <td>1.908639e+06</td>\n",
              "      <td>0.000000</td>\n",
              "      <td>0.234735</td>\n",
              "      <td>0.537098</td>\n",
              "    </tr>\n",
              "    <tr>\n",
              "      <th>1</th>\n",
              "      <td>AUTO_AND_VEHICLES</td>\n",
              "      <td>4.577855</td>\n",
              "      <td>5.262294e+04</td>\n",
              "      <td>20.311633</td>\n",
              "      <td>1.551211e+06</td>\n",
              "      <td>0.000000</td>\n",
              "      <td>0.348683</td>\n",
              "      <td>0.529918</td>\n",
              "    </tr>\n",
              "    <tr>\n",
              "      <th>2</th>\n",
              "      <td>BEAUTY</td>\n",
              "      <td>4.248817</td>\n",
              "      <td>1.550871e+04</td>\n",
              "      <td>19.171646</td>\n",
              "      <td>1.474852e+06</td>\n",
              "      <td>0.000000</td>\n",
              "      <td>0.193360</td>\n",
              "      <td>0.494510</td>\n",
              "    </tr>\n",
              "    <tr>\n",
              "      <th>3</th>\n",
              "      <td>BOOKS_AND_REFERENCE</td>\n",
              "      <td>4.362366</td>\n",
              "      <td>5.626125e+05</td>\n",
              "      <td>18.027467</td>\n",
              "      <td>3.595253e+07</td>\n",
              "      <td>0.000000</td>\n",
              "      <td>0.248422</td>\n",
              "      <td>0.476268</td>\n",
              "    </tr>\n",
              "    <tr>\n",
              "      <th>4</th>\n",
              "      <td>BUSINESS</td>\n",
              "      <td>4.267745</td>\n",
              "      <td>9.758153e+04</td>\n",
              "      <td>21.308614</td>\n",
              "      <td>8.342699e+06</td>\n",
              "      <td>0.000000</td>\n",
              "      <td>0.232189</td>\n",
              "      <td>0.444924</td>\n",
              "    </tr>\n",
              "    <tr>\n",
              "      <th>5</th>\n",
              "      <td>COMICS</td>\n",
              "      <td>4.311111</td>\n",
              "      <td>2.076544e+04</td>\n",
              "      <td>17.596031</td>\n",
              "      <td>7.800000e+05</td>\n",
              "      <td>0.000000</td>\n",
              "      <td>0.449810</td>\n",
              "      <td>0.570933</td>\n",
              "    </tr>\n",
              "    <tr>\n",
              "      <th>6</th>\n",
              "      <td>COMMUNICATION</td>\n",
              "      <td>4.232715</td>\n",
              "      <td>1.641031e+06</td>\n",
              "      <td>16.250367</td>\n",
              "      <td>2.089756e+08</td>\n",
              "      <td>0.000000</td>\n",
              "      <td>0.177275</td>\n",
              "      <td>0.486109</td>\n",
              "    </tr>\n",
              "    <tr>\n",
              "      <th>7</th>\n",
              "      <td>DATING</td>\n",
              "      <td>4.099883</td>\n",
              "      <td>2.372814e+04</td>\n",
              "      <td>22.620935</td>\n",
              "      <td>1.193184e+06</td>\n",
              "      <td>0.000000</td>\n",
              "      <td>0.178846</td>\n",
              "      <td>0.510476</td>\n",
              "    </tr>\n",
              "    <tr>\n",
              "      <th>8</th>\n",
              "      <td>EDUCATION</td>\n",
              "      <td>4.326919</td>\n",
              "      <td>1.816154e+06</td>\n",
              "      <td>15.379647</td>\n",
              "      <td>2.982596e+07</td>\n",
              "      <td>0.000000</td>\n",
              "      <td>0.279332</td>\n",
              "      <td>0.493070</td>\n",
              "    </tr>\n",
              "    <tr>\n",
              "      <th>9</th>\n",
              "      <td>ENTERTAINMENT</td>\n",
              "      <td>4.073497</td>\n",
              "      <td>2.817468e+05</td>\n",
              "      <td>22.215100</td>\n",
              "      <td>7.210799e+06</td>\n",
              "      <td>0.000000</td>\n",
              "      <td>0.131206</td>\n",
              "      <td>0.477160</td>\n",
              "    </tr>\n",
              "    <tr>\n",
              "      <th>10</th>\n",
              "      <td>EVENTS</td>\n",
              "      <td>4.336076</td>\n",
              "      <td>3.403715e+03</td>\n",
              "      <td>13.935417</td>\n",
              "      <td>2.885443e+05</td>\n",
              "      <td>0.000000</td>\n",
              "      <td>0.377933</td>\n",
              "      <td>0.576808</td>\n",
              "    </tr>\n",
              "    <tr>\n",
              "      <th>11</th>\n",
              "      <td>FAMILY</td>\n",
              "      <td>4.338527</td>\n",
              "      <td>5.878097e+05</td>\n",
              "      <td>44.183318</td>\n",
              "      <td>1.207035e+07</td>\n",
              "      <td>0.142997</td>\n",
              "      <td>0.120950</td>\n",
              "      <td>0.509036</td>\n",
              "    </tr>\n",
              "    <tr>\n",
              "      <th>12</th>\n",
              "      <td>FINANCE</td>\n",
              "      <td>4.253380</td>\n",
              "      <td>1.161915e+05</td>\n",
              "      <td>27.284820</td>\n",
              "      <td>1.010863e+07</td>\n",
              "      <td>0.000000</td>\n",
              "      <td>0.170783</td>\n",
              "      <td>0.480683</td>\n",
              "    </tr>\n",
              "    <tr>\n",
              "      <th>13</th>\n",
              "      <td>FOOD_AND_DRINK</td>\n",
              "      <td>4.385737</td>\n",
              "      <td>1.567454e+05</td>\n",
              "      <td>25.654543</td>\n",
              "      <td>3.207288e+06</td>\n",
              "      <td>0.000000</td>\n",
              "      <td>0.266882</td>\n",
              "      <td>0.520081</td>\n",
              "    </tr>\n",
              "    <tr>\n",
              "      <th>14</th>\n",
              "      <td>GAME</td>\n",
              "      <td>4.441015</td>\n",
              "      <td>3.776168e+06</td>\n",
              "      <td>47.343693</td>\n",
              "      <td>6.383252e+07</td>\n",
              "      <td>0.032282</td>\n",
              "      <td>0.068963</td>\n",
              "      <td>0.502856</td>\n",
              "    </tr>\n",
              "    <tr>\n",
              "      <th>15</th>\n",
              "      <td>HEALTH_AND_FITNESS</td>\n",
              "      <td>4.392308</td>\n",
              "      <td>2.613552e+05</td>\n",
              "      <td>18.284836</td>\n",
              "      <td>7.987639e+06</td>\n",
              "      <td>0.000000</td>\n",
              "      <td>0.290823</td>\n",
              "      <td>0.512013</td>\n",
              "    </tr>\n",
              "    <tr>\n",
              "      <th>16</th>\n",
              "      <td>HOUSE_AND_HOME</td>\n",
              "      <td>4.165166</td>\n",
              "      <td>1.673726e+04</td>\n",
              "      <td>20.102719</td>\n",
              "      <td>9.841096e+05</td>\n",
              "      <td>0.000000</td>\n",
              "      <td>0.235704</td>\n",
              "      <td>0.487682</td>\n",
              "    </tr>\n",
              "    <tr>\n",
              "      <th>17</th>\n",
              "      <td>LIBRARIES_AND_DEMO</td>\n",
              "      <td>4.057057</td>\n",
              "      <td>2.940355e+04</td>\n",
              "      <td>33.933216</td>\n",
              "      <td>1.941141e+06</td>\n",
              "      <td>0.000000</td>\n",
              "      <td>0.240771</td>\n",
              "      <td>0.525975</td>\n",
              "    </tr>\n",
              "    <tr>\n",
              "      <th>18</th>\n",
              "      <td>LIFESTYLE</td>\n",
              "      <td>4.175052</td>\n",
              "      <td>1.968392e+05</td>\n",
              "      <td>16.887641</td>\n",
              "      <td>4.143092e+06</td>\n",
              "      <td>0.000000</td>\n",
              "      <td>0.215944</td>\n",
              "      <td>0.469516</td>\n",
              "    </tr>\n",
              "    <tr>\n",
              "      <th>19</th>\n",
              "      <td>MAPS_AND_NAVIGATION</td>\n",
              "      <td>4.323958</td>\n",
              "      <td>2.866747e+04</td>\n",
              "      <td>13.637585</td>\n",
              "      <td>1.750000e+06</td>\n",
              "      <td>0.000000</td>\n",
              "      <td>0.267218</td>\n",
              "      <td>0.462786</td>\n",
              "    </tr>\n",
              "    <tr>\n",
              "      <th>20</th>\n",
              "      <td>MEDICAL</td>\n",
              "      <td>4.152143</td>\n",
              "      <td>1.495983e+04</td>\n",
              "      <td>19.699314</td>\n",
              "      <td>5.371171e+05</td>\n",
              "      <td>1.213186</td>\n",
              "      <td>0.224071</td>\n",
              "      <td>0.485340</td>\n",
              "    </tr>\n",
              "    <tr>\n",
              "      <th>21</th>\n",
              "      <td>NEWS_AND_MAGAZINES</td>\n",
              "      <td>4.212981</td>\n",
              "      <td>2.214037e+05</td>\n",
              "      <td>18.293917</td>\n",
              "      <td>1.229118e+08</td>\n",
              "      <td>0.000000</td>\n",
              "      <td>0.127736</td>\n",
              "      <td>0.477094</td>\n",
              "    </tr>\n",
              "    <tr>\n",
              "      <th>22</th>\n",
              "      <td>PARENTING</td>\n",
              "      <td>4.250769</td>\n",
              "      <td>8.610535e+03</td>\n",
              "      <td>24.873124</td>\n",
              "      <td>7.230769e+05</td>\n",
              "      <td>0.000000</td>\n",
              "      <td>0.318880</td>\n",
              "      <td>0.503562</td>\n",
              "    </tr>\n",
              "    <tr>\n",
              "      <th>23</th>\n",
              "      <td>PERSONALIZATION</td>\n",
              "      <td>4.337886</td>\n",
              "      <td>5.330805e+05</td>\n",
              "      <td>13.051779</td>\n",
              "      <td>1.553400e+07</td>\n",
              "      <td>0.520857</td>\n",
              "      <td>0.278490</td>\n",
              "      <td>0.529779</td>\n",
              "    </tr>\n",
              "    <tr>\n",
              "      <th>24</th>\n",
              "      <td>PHOTOGRAPHY</td>\n",
              "      <td>4.327041</td>\n",
              "      <td>2.454314e+06</td>\n",
              "      <td>18.926292</td>\n",
              "      <td>1.861233e+08</td>\n",
              "      <td>0.000000</td>\n",
              "      <td>0.223078</td>\n",
              "      <td>0.503836</td>\n",
              "    </tr>\n",
              "    <tr>\n",
              "      <th>25</th>\n",
              "      <td>PRODUCTIVITY</td>\n",
              "      <td>4.365619</td>\n",
              "      <td>9.083638e+05</td>\n",
              "      <td>19.752484</td>\n",
              "      <td>6.617109e+07</td>\n",
              "      <td>0.000000</td>\n",
              "      <td>0.184225</td>\n",
              "      <td>0.474523</td>\n",
              "    </tr>\n",
              "    <tr>\n",
              "      <th>26</th>\n",
              "      <td>SHOPPING</td>\n",
              "      <td>4.271158</td>\n",
              "      <td>7.513125e+05</td>\n",
              "      <td>19.768923</td>\n",
              "      <td>2.344098e+07</td>\n",
              "      <td>0.000000</td>\n",
              "      <td>0.196654</td>\n",
              "      <td>0.491027</td>\n",
              "    </tr>\n",
              "    <tr>\n",
              "      <th>27</th>\n",
              "      <td>SOCIAL</td>\n",
              "      <td>4.152227</td>\n",
              "      <td>1.499251e+07</td>\n",
              "      <td>18.010122</td>\n",
              "      <td>2.189232e+08</td>\n",
              "      <td>0.000000</td>\n",
              "      <td>0.108646</td>\n",
              "      <td>0.470008</td>\n",
              "    </tr>\n",
              "    <tr>\n",
              "      <th>28</th>\n",
              "      <td>SPORTS</td>\n",
              "      <td>4.259770</td>\n",
              "      <td>1.440746e+05</td>\n",
              "      <td>25.872009</td>\n",
              "      <td>4.622035e+06</td>\n",
              "      <td>0.811089</td>\n",
              "      <td>0.192511</td>\n",
              "      <td>0.490561</td>\n",
              "    </tr>\n",
              "    <tr>\n",
              "      <th>29</th>\n",
              "      <td>TOOLS</td>\n",
              "      <td>4.246175</td>\n",
              "      <td>9.895840e+05</td>\n",
              "      <td>13.672223</td>\n",
              "      <td>7.617078e+07</td>\n",
              "      <td>0.000000</td>\n",
              "      <td>0.214037</td>\n",
              "      <td>0.463180</td>\n",
              "    </tr>\n",
              "    <tr>\n",
              "      <th>30</th>\n",
              "      <td>TRAVEL_AND_LOCAL</td>\n",
              "      <td>4.295863</td>\n",
              "      <td>3.064119e+05</td>\n",
              "      <td>22.981966</td>\n",
              "      <td>1.757287e+07</td>\n",
              "      <td>0.000000</td>\n",
              "      <td>0.194810</td>\n",
              "      <td>0.489573</td>\n",
              "    </tr>\n",
              "    <tr>\n",
              "      <th>31</th>\n",
              "      <td>VIDEO_PLAYERS</td>\n",
              "      <td>4.241994</td>\n",
              "      <td>4.637891e+05</td>\n",
              "      <td>11.522119</td>\n",
              "      <td>1.232024e+07</td>\n",
              "      <td>0.000000</td>\n",
              "      <td>0.143543</td>\n",
              "      <td>0.481774</td>\n",
              "    </tr>\n",
              "    <tr>\n",
              "      <th>32</th>\n",
              "      <td>WEATHER</td>\n",
              "      <td>4.262189</td>\n",
              "      <td>4.965081e+05</td>\n",
              "      <td>15.801147</td>\n",
              "      <td>1.652239e+07</td>\n",
              "      <td>0.000000</td>\n",
              "      <td>0.294978</td>\n",
              "      <td>0.490005</td>\n",
              "    </tr>\n",
              "  </tbody>\n",
              "</table>\n",
              "</div>"
            ],
            "text/plain": [
              "               Category    Rating  ...  Sentiment_Polarity  Sentiment_Subjectivity\n",
              "0        ART_AND_DESIGN  4.303141  ...            0.234735                0.537098\n",
              "1     AUTO_AND_VEHICLES  4.577855  ...            0.348683                0.529918\n",
              "2                BEAUTY  4.248817  ...            0.193360                0.494510\n",
              "3   BOOKS_AND_REFERENCE  4.362366  ...            0.248422                0.476268\n",
              "4              BUSINESS  4.267745  ...            0.232189                0.444924\n",
              "5                COMICS  4.311111  ...            0.449810                0.570933\n",
              "6         COMMUNICATION  4.232715  ...            0.177275                0.486109\n",
              "7                DATING  4.099883  ...            0.178846                0.510476\n",
              "8             EDUCATION  4.326919  ...            0.279332                0.493070\n",
              "9         ENTERTAINMENT  4.073497  ...            0.131206                0.477160\n",
              "10               EVENTS  4.336076  ...            0.377933                0.576808\n",
              "11               FAMILY  4.338527  ...            0.120950                0.509036\n",
              "12              FINANCE  4.253380  ...            0.170783                0.480683\n",
              "13       FOOD_AND_DRINK  4.385737  ...            0.266882                0.520081\n",
              "14                 GAME  4.441015  ...            0.068963                0.502856\n",
              "15   HEALTH_AND_FITNESS  4.392308  ...            0.290823                0.512013\n",
              "16       HOUSE_AND_HOME  4.165166  ...            0.235704                0.487682\n",
              "17   LIBRARIES_AND_DEMO  4.057057  ...            0.240771                0.525975\n",
              "18            LIFESTYLE  4.175052  ...            0.215944                0.469516\n",
              "19  MAPS_AND_NAVIGATION  4.323958  ...            0.267218                0.462786\n",
              "20              MEDICAL  4.152143  ...            0.224071                0.485340\n",
              "21   NEWS_AND_MAGAZINES  4.212981  ...            0.127736                0.477094\n",
              "22            PARENTING  4.250769  ...            0.318880                0.503562\n",
              "23      PERSONALIZATION  4.337886  ...            0.278490                0.529779\n",
              "24          PHOTOGRAPHY  4.327041  ...            0.223078                0.503836\n",
              "25         PRODUCTIVITY  4.365619  ...            0.184225                0.474523\n",
              "26             SHOPPING  4.271158  ...            0.196654                0.491027\n",
              "27               SOCIAL  4.152227  ...            0.108646                0.470008\n",
              "28               SPORTS  4.259770  ...            0.192511                0.490561\n",
              "29                TOOLS  4.246175  ...            0.214037                0.463180\n",
              "30     TRAVEL_AND_LOCAL  4.295863  ...            0.194810                0.489573\n",
              "31        VIDEO_PLAYERS  4.241994  ...            0.143543                0.481774\n",
              "32              WEATHER  4.262189  ...            0.294978                0.490005\n",
              "\n",
              "[33 rows x 8 columns]"
            ]
          },
          "metadata": {},
          "execution_count": 99
        }
      ]
    },
    {
      "cell_type": "code",
      "metadata": {
        "colab": {
          "base_uri": "https://localhost:8080/",
          "height": 702
        },
        "id": "Qkxm-v4DVx5M",
        "outputId": "6e65cefc-a808-4a8f-ed13-81c37a1e469b"
      },
      "source": [
        "sns.set_style(\"whitegrid\")\n",
        "plt.figure(figsize=(11,9))\n",
        "mean_df=mean_df.sort_values(by=\"Rating\",ascending=True)\n",
        "cat_view2=sns.barplot(x=mean_df.Category, y=mean_df.Rating, data=cat_merged_df)\n",
        "cat_view2.set(xlabel='Avg Rating',title=\"Category\")\n",
        "plt.xticks(rotation=90)\n",
        "plt.show();"
      ],
      "execution_count": 100,
      "outputs": [
        {
          "output_type": "display_data",
          "data": {
            "image/png": "[encoded data removed]",
            "text/plain": [
              "<Figure size 792x648 with 1 Axes>"
            ]
          },
          "metadata": {}
        }
      ]
    },
    {
      "cell_type": "code",
      "metadata": {
        "id": "MfKMo1wsr_PU"
      },
      "source": [
        "# app_quality_df[\"Category\"]=cleaned_playstore.Category\n",
        "# app_quality_df"
      ],
      "execution_count": null,
      "outputs": []
    },
    {
      "cell_type": "code",
      "metadata": {
        "id": "1RZzI32bgeIU"
      },
      "source": [
        "# category_quality_df=app_quality_df.groupby(\"Category\")[\"Quality\"].sum()\n",
        "# category_quality_df=category_quality_df.reset_index()\n",
        "# plt.figure(figsize=(11,9))\n",
        "# category_quality_view=sns.barplot(x=\"Quality\",y=\"Category\",data=category_quality_df)\n",
        "# category_quality_view.set(xlabel='Domination metrics',title=\"Category VS Domination\")\n",
        "# plt.show();"
      ],
      "execution_count": null,
      "outputs": []
    },
    {
      "cell_type": "code",
      "metadata": {
        "colab": {
          "base_uri": "https://localhost:8080/",
          "height": 1000
        },
        "id": "eT_OZ8Uze2OQ",
        "outputId": "874a06f7-8cf7-4814-bbf4-58adff9fc704"
      },
      "source": [
        "w = cat_merged_df.groupby(cat_merged_df.Category).mean()\n",
        "w"
      ],
      "execution_count": 81,
      "outputs": [
        {
          "output_type": "execute_result",
          "data": {
            "text/html": [
              "<div>\n",
              "<style scoped>\n",
              "    .dataframe tbody tr th:only-of-type {\n",
              "        vertical-align: middle;\n",
              "    }\n",
              "\n",
              "    .dataframe tbody tr th {\n",
              "        vertical-align: top;\n",
              "    }\n",
              "\n",
              "    .dataframe thead th {\n",
              "        text-align: right;\n",
              "    }\n",
              "</style>\n",
              "<table border=\"1\" class=\"dataframe\">\n",
              "  <thead>\n",
              "    <tr style=\"text-align: right;\">\n",
              "      <th></th>\n",
              "      <th>App</th>\n",
              "      <th>Rating</th>\n",
              "      <th>Reviews</th>\n",
              "      <th>Size</th>\n",
              "      <th>Installs</th>\n",
              "      <th>Type</th>\n",
              "      <th>Price</th>\n",
              "      <th>Content_Rating</th>\n",
              "      <th>Genres</th>\n",
              "      <th>Last_Updated</th>\n",
              "      <th>Current_Version</th>\n",
              "      <th>Android_Version</th>\n",
              "      <th>Translated_Review</th>\n",
              "      <th>Sentiment</th>\n",
              "      <th>Sentiment_Polarity</th>\n",
              "      <th>Sentiment_Subjectivity</th>\n",
              "    </tr>\n",
              "    <tr>\n",
              "      <th>Category</th>\n",
              "      <th></th>\n",
              "      <th></th>\n",
              "      <th></th>\n",
              "      <th></th>\n",
              "      <th></th>\n",
              "      <th></th>\n",
              "      <th></th>\n",
              "      <th></th>\n",
              "      <th></th>\n",
              "      <th></th>\n",
              "      <th></th>\n",
              "      <th></th>\n",
              "      <th></th>\n",
              "      <th></th>\n",
              "      <th></th>\n",
              "      <th></th>\n",
              "    </tr>\n",
              "  </thead>\n",
              "  <tbody>\n",
              "    <tr>\n",
              "      <th>ART_AND_DESIGN</th>\n",
              "      <td>382</td>\n",
              "      <td>382</td>\n",
              "      <td>382</td>\n",
              "      <td>382</td>\n",
              "      <td>382</td>\n",
              "      <td>382</td>\n",
              "      <td>382</td>\n",
              "      <td>382</td>\n",
              "      <td>382</td>\n",
              "      <td>382</td>\n",
              "      <td>382</td>\n",
              "      <td>382</td>\n",
              "      <td>382</td>\n",
              "      <td>382</td>\n",
              "      <td>382</td>\n",
              "      <td>382</td>\n",
              "    </tr>\n",
              "    <tr>\n",
              "      <th>AUTO_AND_VEHICLES</th>\n",
              "      <td>289</td>\n",
              "      <td>289</td>\n",
              "      <td>289</td>\n",
              "      <td>289</td>\n",
              "      <td>289</td>\n",
              "      <td>289</td>\n",
              "      <td>289</td>\n",
              "      <td>289</td>\n",
              "      <td>289</td>\n",
              "      <td>289</td>\n",
              "      <td>289</td>\n",
              "      <td>289</td>\n",
              "      <td>289</td>\n",
              "      <td>289</td>\n",
              "      <td>289</td>\n",
              "      <td>289</td>\n",
              "    </tr>\n",
              "    <tr>\n",
              "      <th>BEAUTY</th>\n",
              "      <td>338</td>\n",
              "      <td>338</td>\n",
              "      <td>338</td>\n",
              "      <td>338</td>\n",
              "      <td>338</td>\n",
              "      <td>338</td>\n",
              "      <td>338</td>\n",
              "      <td>338</td>\n",
              "      <td>338</td>\n",
              "      <td>338</td>\n",
              "      <td>338</td>\n",
              "      <td>338</td>\n",
              "      <td>338</td>\n",
              "      <td>338</td>\n",
              "      <td>338</td>\n",
              "      <td>338</td>\n",
              "    </tr>\n",
              "    <tr>\n",
              "      <th>BOOKS_AND_REFERENCE</th>\n",
              "      <td>651</td>\n",
              "      <td>651</td>\n",
              "      <td>651</td>\n",
              "      <td>651</td>\n",
              "      <td>651</td>\n",
              "      <td>651</td>\n",
              "      <td>651</td>\n",
              "      <td>651</td>\n",
              "      <td>651</td>\n",
              "      <td>651</td>\n",
              "      <td>651</td>\n",
              "      <td>651</td>\n",
              "      <td>651</td>\n",
              "      <td>651</td>\n",
              "      <td>651</td>\n",
              "      <td>651</td>\n",
              "    </tr>\n",
              "    <tr>\n",
              "      <th>BUSINESS</th>\n",
              "      <td>1082</td>\n",
              "      <td>1082</td>\n",
              "      <td>1082</td>\n",
              "      <td>1082</td>\n",
              "      <td>1082</td>\n",
              "      <td>1082</td>\n",
              "      <td>1082</td>\n",
              "      <td>1082</td>\n",
              "      <td>1082</td>\n",
              "      <td>1082</td>\n",
              "      <td>1082</td>\n",
              "      <td>1082</td>\n",
              "      <td>1082</td>\n",
              "      <td>1082</td>\n",
              "      <td>1082</td>\n",
              "      <td>1082</td>\n",
              "    </tr>\n",
              "    <tr>\n",
              "      <th>COMICS</th>\n",
              "      <td>45</td>\n",
              "      <td>45</td>\n",
              "      <td>45</td>\n",
              "      <td>45</td>\n",
              "      <td>45</td>\n",
              "      <td>45</td>\n",
              "      <td>45</td>\n",
              "      <td>45</td>\n",
              "      <td>45</td>\n",
              "      <td>45</td>\n",
              "      <td>45</td>\n",
              "      <td>45</td>\n",
              "      <td>45</td>\n",
              "      <td>45</td>\n",
              "      <td>45</td>\n",
              "      <td>45</td>\n",
              "    </tr>\n",
              "    <tr>\n",
              "      <th>COMMUNICATION</th>\n",
              "      <td>1024</td>\n",
              "      <td>1024</td>\n",
              "      <td>1024</td>\n",
              "      <td>1024</td>\n",
              "      <td>1024</td>\n",
              "      <td>1024</td>\n",
              "      <td>1024</td>\n",
              "      <td>1024</td>\n",
              "      <td>1024</td>\n",
              "      <td>1024</td>\n",
              "      <td>1024</td>\n",
              "      <td>1024</td>\n",
              "      <td>1024</td>\n",
              "      <td>1024</td>\n",
              "      <td>1024</td>\n",
              "      <td>1024</td>\n",
              "    </tr>\n",
              "    <tr>\n",
              "      <th>DATING</th>\n",
              "      <td>1715</td>\n",
              "      <td>1715</td>\n",
              "      <td>1715</td>\n",
              "      <td>1715</td>\n",
              "      <td>1715</td>\n",
              "      <td>1715</td>\n",
              "      <td>1715</td>\n",
              "      <td>1715</td>\n",
              "      <td>1715</td>\n",
              "      <td>1715</td>\n",
              "      <td>1715</td>\n",
              "      <td>1715</td>\n",
              "      <td>1715</td>\n",
              "      <td>1715</td>\n",
              "      <td>1715</td>\n",
              "      <td>1715</td>\n",
              "    </tr>\n",
              "    <tr>\n",
              "      <th>EDUCATION</th>\n",
              "      <td>847</td>\n",
              "      <td>847</td>\n",
              "      <td>847</td>\n",
              "      <td>847</td>\n",
              "      <td>847</td>\n",
              "      <td>847</td>\n",
              "      <td>847</td>\n",
              "      <td>847</td>\n",
              "      <td>847</td>\n",
              "      <td>847</td>\n",
              "      <td>847</td>\n",
              "      <td>847</td>\n",
              "      <td>847</td>\n",
              "      <td>847</td>\n",
              "      <td>847</td>\n",
              "      <td>847</td>\n",
              "    </tr>\n",
              "    <tr>\n",
              "      <th>ENTERTAINMENT</th>\n",
              "      <td>1264</td>\n",
              "      <td>1264</td>\n",
              "      <td>1264</td>\n",
              "      <td>1264</td>\n",
              "      <td>1264</td>\n",
              "      <td>1264</td>\n",
              "      <td>1264</td>\n",
              "      <td>1264</td>\n",
              "      <td>1264</td>\n",
              "      <td>1264</td>\n",
              "      <td>1264</td>\n",
              "      <td>1264</td>\n",
              "      <td>1264</td>\n",
              "      <td>1264</td>\n",
              "      <td>1264</td>\n",
              "      <td>1264</td>\n",
              "    </tr>\n",
              "    <tr>\n",
              "      <th>EVENTS</th>\n",
              "      <td>158</td>\n",
              "      <td>158</td>\n",
              "      <td>158</td>\n",
              "      <td>158</td>\n",
              "      <td>158</td>\n",
              "      <td>158</td>\n",
              "      <td>158</td>\n",
              "      <td>158</td>\n",
              "      <td>158</td>\n",
              "      <td>158</td>\n",
              "      <td>158</td>\n",
              "      <td>158</td>\n",
              "      <td>158</td>\n",
              "      <td>158</td>\n",
              "      <td>158</td>\n",
              "      <td>158</td>\n",
              "    </tr>\n",
              "    <tr>\n",
              "      <th>FAMILY</th>\n",
              "      <td>2009</td>\n",
              "      <td>2009</td>\n",
              "      <td>2009</td>\n",
              "      <td>2009</td>\n",
              "      <td>2009</td>\n",
              "      <td>2009</td>\n",
              "      <td>2009</td>\n",
              "      <td>2009</td>\n",
              "      <td>2009</td>\n",
              "      <td>2009</td>\n",
              "      <td>2009</td>\n",
              "      <td>2009</td>\n",
              "      <td>2009</td>\n",
              "      <td>2009</td>\n",
              "      <td>2009</td>\n",
              "      <td>2009</td>\n",
              "    </tr>\n",
              "    <tr>\n",
              "      <th>FINANCE</th>\n",
              "      <td>1435</td>\n",
              "      <td>1435</td>\n",
              "      <td>1435</td>\n",
              "      <td>1435</td>\n",
              "      <td>1435</td>\n",
              "      <td>1435</td>\n",
              "      <td>1435</td>\n",
              "      <td>1435</td>\n",
              "      <td>1435</td>\n",
              "      <td>1435</td>\n",
              "      <td>1435</td>\n",
              "      <td>1435</td>\n",
              "      <td>1435</td>\n",
              "      <td>1435</td>\n",
              "      <td>1435</td>\n",
              "      <td>1435</td>\n",
              "    </tr>\n",
              "    <tr>\n",
              "      <th>FOOD_AND_DRINK</th>\n",
              "      <td>638</td>\n",
              "      <td>638</td>\n",
              "      <td>638</td>\n",
              "      <td>638</td>\n",
              "      <td>638</td>\n",
              "      <td>638</td>\n",
              "      <td>638</td>\n",
              "      <td>638</td>\n",
              "      <td>638</td>\n",
              "      <td>638</td>\n",
              "      <td>638</td>\n",
              "      <td>638</td>\n",
              "      <td>638</td>\n",
              "      <td>638</td>\n",
              "      <td>638</td>\n",
              "      <td>638</td>\n",
              "    </tr>\n",
              "    <tr>\n",
              "      <th>GAME</th>\n",
              "      <td>6678</td>\n",
              "      <td>6678</td>\n",
              "      <td>6678</td>\n",
              "      <td>6678</td>\n",
              "      <td>6678</td>\n",
              "      <td>6678</td>\n",
              "      <td>6678</td>\n",
              "      <td>6678</td>\n",
              "      <td>6678</td>\n",
              "      <td>6678</td>\n",
              "      <td>6678</td>\n",
              "      <td>6678</td>\n",
              "      <td>6678</td>\n",
              "      <td>6678</td>\n",
              "      <td>6678</td>\n",
              "      <td>6678</td>\n",
              "    </tr>\n",
              "    <tr>\n",
              "      <th>HEALTH_AND_FITNESS</th>\n",
              "      <td>2249</td>\n",
              "      <td>2249</td>\n",
              "      <td>2249</td>\n",
              "      <td>2249</td>\n",
              "      <td>2249</td>\n",
              "      <td>2249</td>\n",
              "      <td>2249</td>\n",
              "      <td>2249</td>\n",
              "      <td>2249</td>\n",
              "      <td>2249</td>\n",
              "      <td>2249</td>\n",
              "      <td>2249</td>\n",
              "      <td>2249</td>\n",
              "      <td>2249</td>\n",
              "      <td>2249</td>\n",
              "      <td>2249</td>\n",
              "    </tr>\n",
              "    <tr>\n",
              "      <th>HOUSE_AND_HOME</th>\n",
              "      <td>511</td>\n",
              "      <td>511</td>\n",
              "      <td>511</td>\n",
              "      <td>511</td>\n",
              "      <td>511</td>\n",
              "      <td>511</td>\n",
              "      <td>511</td>\n",
              "      <td>511</td>\n",
              "      <td>511</td>\n",
              "      <td>511</td>\n",
              "      <td>511</td>\n",
              "      <td>511</td>\n",
              "      <td>511</td>\n",
              "      <td>511</td>\n",
              "      <td>511</td>\n",
              "      <td>511</td>\n",
              "    </tr>\n",
              "    <tr>\n",
              "      <th>LIBRARIES_AND_DEMO</th>\n",
              "      <td>333</td>\n",
              "      <td>333</td>\n",
              "      <td>333</td>\n",
              "      <td>333</td>\n",
              "      <td>333</td>\n",
              "      <td>333</td>\n",
              "      <td>333</td>\n",
              "      <td>333</td>\n",
              "      <td>333</td>\n",
              "      <td>333</td>\n",
              "      <td>333</td>\n",
              "      <td>333</td>\n",
              "      <td>333</td>\n",
              "      <td>333</td>\n",
              "      <td>333</td>\n",
              "      <td>333</td>\n",
              "    </tr>\n",
              "    <tr>\n",
              "      <th>LIFESTYLE</th>\n",
              "      <td>954</td>\n",
              "      <td>954</td>\n",
              "      <td>954</td>\n",
              "      <td>954</td>\n",
              "      <td>954</td>\n",
              "      <td>954</td>\n",
              "      <td>954</td>\n",
              "      <td>954</td>\n",
              "      <td>954</td>\n",
              "      <td>954</td>\n",
              "      <td>954</td>\n",
              "      <td>954</td>\n",
              "      <td>954</td>\n",
              "      <td>954</td>\n",
              "      <td>954</td>\n",
              "      <td>954</td>\n",
              "    </tr>\n",
              "    <tr>\n",
              "      <th>MAPS_AND_NAVIGATION</th>\n",
              "      <td>192</td>\n",
              "      <td>192</td>\n",
              "      <td>192</td>\n",
              "      <td>192</td>\n",
              "      <td>192</td>\n",
              "      <td>192</td>\n",
              "      <td>192</td>\n",
              "      <td>192</td>\n",
              "      <td>192</td>\n",
              "      <td>192</td>\n",
              "      <td>192</td>\n",
              "      <td>192</td>\n",
              "      <td>192</td>\n",
              "      <td>192</td>\n",
              "      <td>192</td>\n",
              "      <td>192</td>\n",
              "    </tr>\n",
              "    <tr>\n",
              "      <th>MEDICAL</th>\n",
              "      <td>1400</td>\n",
              "      <td>1400</td>\n",
              "      <td>1400</td>\n",
              "      <td>1400</td>\n",
              "      <td>1400</td>\n",
              "      <td>1400</td>\n",
              "      <td>1400</td>\n",
              "      <td>1400</td>\n",
              "      <td>1400</td>\n",
              "      <td>1400</td>\n",
              "      <td>1400</td>\n",
              "      <td>1400</td>\n",
              "      <td>1400</td>\n",
              "      <td>1400</td>\n",
              "      <td>1400</td>\n",
              "      <td>1400</td>\n",
              "    </tr>\n",
              "    <tr>\n",
              "      <th>NEWS_AND_MAGAZINES</th>\n",
              "      <td>1040</td>\n",
              "      <td>1040</td>\n",
              "      <td>1040</td>\n",
              "      <td>1040</td>\n",
              "      <td>1040</td>\n",
              "      <td>1040</td>\n",
              "      <td>1040</td>\n",
              "      <td>1040</td>\n",
              "      <td>1040</td>\n",
              "      <td>1040</td>\n",
              "      <td>1040</td>\n",
              "      <td>1040</td>\n",
              "      <td>1040</td>\n",
              "      <td>1040</td>\n",
              "      <td>1040</td>\n",
              "      <td>1040</td>\n",
              "    </tr>\n",
              "    <tr>\n",
              "      <th>PARENTING</th>\n",
              "      <td>260</td>\n",
              "      <td>260</td>\n",
              "      <td>260</td>\n",
              "      <td>260</td>\n",
              "      <td>260</td>\n",
              "      <td>260</td>\n",
              "      <td>260</td>\n",
              "      <td>260</td>\n",
              "      <td>260</td>\n",
              "      <td>260</td>\n",
              "      <td>260</td>\n",
              "      <td>260</td>\n",
              "      <td>260</td>\n",
              "      <td>260</td>\n",
              "      <td>260</td>\n",
              "      <td>260</td>\n",
              "    </tr>\n",
              "    <tr>\n",
              "      <th>PERSONALIZATION</th>\n",
              "      <td>1003</td>\n",
              "      <td>1003</td>\n",
              "      <td>1003</td>\n",
              "      <td>1003</td>\n",
              "      <td>1003</td>\n",
              "      <td>1003</td>\n",
              "      <td>1003</td>\n",
              "      <td>1003</td>\n",
              "      <td>1003</td>\n",
              "      <td>1003</td>\n",
              "      <td>1003</td>\n",
              "      <td>1003</td>\n",
              "      <td>1003</td>\n",
              "      <td>1003</td>\n",
              "      <td>1003</td>\n",
              "      <td>1003</td>\n",
              "    </tr>\n",
              "    <tr>\n",
              "      <th>PHOTOGRAPHY</th>\n",
              "      <td>1176</td>\n",
              "      <td>1176</td>\n",
              "      <td>1176</td>\n",
              "      <td>1176</td>\n",
              "      <td>1176</td>\n",
              "      <td>1176</td>\n",
              "      <td>1176</td>\n",
              "      <td>1176</td>\n",
              "      <td>1176</td>\n",
              "      <td>1176</td>\n",
              "      <td>1176</td>\n",
              "      <td>1176</td>\n",
              "      <td>1176</td>\n",
              "      <td>1176</td>\n",
              "      <td>1176</td>\n",
              "      <td>1176</td>\n",
              "    </tr>\n",
              "    <tr>\n",
              "      <th>PRODUCTIVITY</th>\n",
              "      <td>1463</td>\n",
              "      <td>1463</td>\n",
              "      <td>1463</td>\n",
              "      <td>1463</td>\n",
              "      <td>1463</td>\n",
              "      <td>1463</td>\n",
              "      <td>1463</td>\n",
              "      <td>1463</td>\n",
              "      <td>1463</td>\n",
              "      <td>1463</td>\n",
              "      <td>1463</td>\n",
              "      <td>1463</td>\n",
              "      <td>1463</td>\n",
              "      <td>1463</td>\n",
              "      <td>1463</td>\n",
              "      <td>1463</td>\n",
              "    </tr>\n",
              "    <tr>\n",
              "      <th>SHOPPING</th>\n",
              "      <td>898</td>\n",
              "      <td>898</td>\n",
              "      <td>898</td>\n",
              "      <td>898</td>\n",
              "      <td>898</td>\n",
              "      <td>898</td>\n",
              "      <td>898</td>\n",
              "      <td>898</td>\n",
              "      <td>898</td>\n",
              "      <td>898</td>\n",
              "      <td>898</td>\n",
              "      <td>898</td>\n",
              "      <td>898</td>\n",
              "      <td>898</td>\n",
              "      <td>898</td>\n",
              "      <td>898</td>\n",
              "    </tr>\n",
              "    <tr>\n",
              "      <th>SOCIAL</th>\n",
              "      <td>741</td>\n",
              "      <td>741</td>\n",
              "      <td>741</td>\n",
              "      <td>741</td>\n",
              "      <td>741</td>\n",
              "      <td>741</td>\n",
              "      <td>741</td>\n",
              "      <td>741</td>\n",
              "      <td>741</td>\n",
              "      <td>741</td>\n",
              "      <td>741</td>\n",
              "      <td>741</td>\n",
              "      <td>741</td>\n",
              "      <td>741</td>\n",
              "      <td>741</td>\n",
              "      <td>741</td>\n",
              "    </tr>\n",
              "    <tr>\n",
              "      <th>SPORTS</th>\n",
              "      <td>1479</td>\n",
              "      <td>1479</td>\n",
              "      <td>1479</td>\n",
              "      <td>1479</td>\n",
              "      <td>1479</td>\n",
              "      <td>1479</td>\n",
              "      <td>1479</td>\n",
              "      <td>1479</td>\n",
              "      <td>1479</td>\n",
              "      <td>1479</td>\n",
              "      <td>1479</td>\n",
              "      <td>1479</td>\n",
              "      <td>1479</td>\n",
              "      <td>1479</td>\n",
              "      <td>1479</td>\n",
              "      <td>1479</td>\n",
              "    </tr>\n",
              "    <tr>\n",
              "      <th>TOOLS</th>\n",
              "      <td>1451</td>\n",
              "      <td>1451</td>\n",
              "      <td>1451</td>\n",
              "      <td>1451</td>\n",
              "      <td>1451</td>\n",
              "      <td>1451</td>\n",
              "      <td>1451</td>\n",
              "      <td>1451</td>\n",
              "      <td>1451</td>\n",
              "      <td>1451</td>\n",
              "      <td>1451</td>\n",
              "      <td>1451</td>\n",
              "      <td>1451</td>\n",
              "      <td>1451</td>\n",
              "      <td>1451</td>\n",
              "      <td>1451</td>\n",
              "    </tr>\n",
              "    <tr>\n",
              "      <th>TRAVEL_AND_LOCAL</th>\n",
              "      <td>1692</td>\n",
              "      <td>1692</td>\n",
              "      <td>1692</td>\n",
              "      <td>1692</td>\n",
              "      <td>1692</td>\n",
              "      <td>1692</td>\n",
              "      <td>1692</td>\n",
              "      <td>1692</td>\n",
              "      <td>1692</td>\n",
              "      <td>1692</td>\n",
              "      <td>1692</td>\n",
              "      <td>1692</td>\n",
              "      <td>1692</td>\n",
              "      <td>1692</td>\n",
              "      <td>1692</td>\n",
              "      <td>1692</td>\n",
              "    </tr>\n",
              "    <tr>\n",
              "      <th>VIDEO_PLAYERS</th>\n",
              "      <td>331</td>\n",
              "      <td>331</td>\n",
              "      <td>331</td>\n",
              "      <td>331</td>\n",
              "      <td>331</td>\n",
              "      <td>331</td>\n",
              "      <td>331</td>\n",
              "      <td>331</td>\n",
              "      <td>331</td>\n",
              "      <td>331</td>\n",
              "      <td>331</td>\n",
              "      <td>331</td>\n",
              "      <td>331</td>\n",
              "      <td>331</td>\n",
              "      <td>331</td>\n",
              "      <td>331</td>\n",
              "    </tr>\n",
              "    <tr>\n",
              "      <th>WEATHER</th>\n",
              "      <td>201</td>\n",
              "      <td>201</td>\n",
              "      <td>201</td>\n",
              "      <td>201</td>\n",
              "      <td>201</td>\n",
              "      <td>201</td>\n",
              "      <td>201</td>\n",
              "      <td>201</td>\n",
              "      <td>201</td>\n",
              "      <td>201</td>\n",
              "      <td>201</td>\n",
              "      <td>201</td>\n",
              "      <td>201</td>\n",
              "      <td>201</td>\n",
              "      <td>201</td>\n",
              "      <td>201</td>\n",
              "    </tr>\n",
              "  </tbody>\n",
              "</table>\n",
              "</div>"
            ],
            "text/plain": [
              "                      App  Rating  ...  Sentiment_Polarity  Sentiment_Subjectivity\n",
              "Category                           ...                                            \n",
              "ART_AND_DESIGN        382     382  ...                 382                     382\n",
              "AUTO_AND_VEHICLES     289     289  ...                 289                     289\n",
              "BEAUTY                338     338  ...                 338                     338\n",
              "BOOKS_AND_REFERENCE   651     651  ...                 651                     651\n",
              "BUSINESS             1082    1082  ...                1082                    1082\n",
              "COMICS                 45      45  ...                  45                      45\n",
              "COMMUNICATION        1024    1024  ...                1024                    1024\n",
              "DATING               1715    1715  ...                1715                    1715\n",
              "EDUCATION             847     847  ...                 847                     847\n",
              "ENTERTAINMENT        1264    1264  ...                1264                    1264\n",
              "EVENTS                158     158  ...                 158                     158\n",
              "FAMILY               2009    2009  ...                2009                    2009\n",
              "FINANCE              1435    1435  ...                1435                    1435\n",
              "FOOD_AND_DRINK        638     638  ...                 638                     638\n",
              "GAME                 6678    6678  ...                6678                    6678\n",
              "HEALTH_AND_FITNESS   2249    2249  ...                2249                    2249\n",
              "HOUSE_AND_HOME        511     511  ...                 511                     511\n",
              "LIBRARIES_AND_DEMO    333     333  ...                 333                     333\n",
              "LIFESTYLE             954     954  ...                 954                     954\n",
              "MAPS_AND_NAVIGATION   192     192  ...                 192                     192\n",
              "MEDICAL              1400    1400  ...                1400                    1400\n",
              "NEWS_AND_MAGAZINES   1040    1040  ...                1040                    1040\n",
              "PARENTING             260     260  ...                 260                     260\n",
              "PERSONALIZATION      1003    1003  ...                1003                    1003\n",
              "PHOTOGRAPHY          1176    1176  ...                1176                    1176\n",
              "PRODUCTIVITY         1463    1463  ...                1463                    1463\n",
              "SHOPPING              898     898  ...                 898                     898\n",
              "SOCIAL                741     741  ...                 741                     741\n",
              "SPORTS               1479    1479  ...                1479                    1479\n",
              "TOOLS                1451    1451  ...                1451                    1451\n",
              "TRAVEL_AND_LOCAL     1692    1692  ...                1692                    1692\n",
              "VIDEO_PLAYERS         331     331  ...                 331                     331\n",
              "WEATHER               201     201  ...                 201                     201\n",
              "\n",
              "[33 rows x 16 columns]"
            ]
          },
          "metadata": {},
          "execution_count": 81
        }
      ]
    },
    {
      "cell_type": "code",
      "metadata": {
        "colab": {
          "base_uri": "https://localhost:8080/",
          "height": 573
        },
        "id": "pjRT7VSmSTF3",
        "outputId": "452933d4-966b-4644-930c-84ecb619bb3c"
      },
      "source": [
        "sns.set_style(\"whitegrid\")\n",
        "plt.figure(figsize=(11,9))\n",
        "cat_merged_df = cat_merged_df.sort_values(by='Installs',ascending=True)\n",
        "cat_view=sns.barplot(x=cat_merged_df.Installs, y=cat_merged_df.Category, data=cat_merged_df)\n",
        "cat_view.set(xlabel='No.of Apps',title=\"Category VS Apps\")\n",
        "plt.show();"
      ],
      "execution_count": 73,
      "outputs": [
        {
          "output_type": "display_data",
          "data": {
            "image/png": "[encoded data removed]",
            "text/plain": [
              "<Figure size 792x648 with 1 Axes>"
            ]
          },
          "metadata": {}
        }
      ]
    },
    {
      "cell_type": "code",
      "metadata": {
        "colab": {
          "base_uri": "https://localhost:8080/",
          "height": 573
        },
        "id": "cxTyJfKoTux8",
        "outputId": "ad62ee40-a8e5-4a15-df23-192c1d720558"
      },
      "source": [
        "sns.set_style(\"whitegrid\")\n",
        "plt.figure(figsize=(11,9))\n",
        "category_view=sns.barplot(x=cat_merged_df.App, y=cat_merged_df.Category, data=cat_merged_df)\n",
        "category_view.set(xlabel='No.of Apps',title=\"Category VS Apps\")\n",
        "plt.show();"
      ],
      "execution_count": 82,
      "outputs": [
        {
          "output_type": "display_data",
          "data": {
            "image/png": "[encoded data removed]",
            "text/plain": [
              "<Figure size 792x648 with 1 Axes>"
            ]
          },
          "metadata": {}
        }
      ]
    },
    {
      "cell_type": "code",
      "metadata": {
        "id": "JW4HqGT7WY_e"
      },
      "source": [
        "\n",
        "cat_merged_df.plot(kind='bar', title='Category VS Apps', ylabel='Category',\n",
        "                    xlabel='App', figsize=(6, 5))"
      ],
      "execution_count": null,
      "outputs": []
    },
    {
      "cell_type": "code",
      "metadata": {
        "colab": {
          "base_uri": "https://localhost:8080/",
          "height": 238
        },
        "id": "XFe6PQXqLx0i",
        "outputId": "18f0a673-74b4-48cd-fba6-339c4a5091ba"
      },
      "source": [
        "Category = merged_df.groupby(['Category'])['App'].count().reset_index().rename(columns={'App':'Count of Apps'})\n",
        "Category = Category.sort_values(by=['Count of Apps'], ascending=False)\n",
        "Category.set_index('Category', inplace= True)\n",
        "Category.head()"
      ],
      "execution_count": 83,
      "outputs": [
        {
          "output_type": "execute_result",
          "data": {
            "text/html": [
              "<div>\n",
              "<style scoped>\n",
              "    .dataframe tbody tr th:only-of-type {\n",
              "        vertical-align: middle;\n",
              "    }\n",
              "\n",
              "    .dataframe tbody tr th {\n",
              "        vertical-align: top;\n",
              "    }\n",
              "\n",
              "    .dataframe thead th {\n",
              "        text-align: right;\n",
              "    }\n",
              "</style>\n",
              "<table border=\"1\" class=\"dataframe\">\n",
              "  <thead>\n",
              "    <tr style=\"text-align: right;\">\n",
              "      <th></th>\n",
              "      <th>Count of Apps</th>\n",
              "    </tr>\n",
              "    <tr>\n",
              "      <th>Category</th>\n",
              "      <th></th>\n",
              "    </tr>\n",
              "  </thead>\n",
              "  <tbody>\n",
              "    <tr>\n",
              "      <th>GAME</th>\n",
              "      <td>6678</td>\n",
              "    </tr>\n",
              "    <tr>\n",
              "      <th>HEALTH_AND_FITNESS</th>\n",
              "      <td>2249</td>\n",
              "    </tr>\n",
              "    <tr>\n",
              "      <th>FAMILY</th>\n",
              "      <td>2009</td>\n",
              "    </tr>\n",
              "    <tr>\n",
              "      <th>DATING</th>\n",
              "      <td>1715</td>\n",
              "    </tr>\n",
              "    <tr>\n",
              "      <th>TRAVEL_AND_LOCAL</th>\n",
              "      <td>1692</td>\n",
              "    </tr>\n",
              "  </tbody>\n",
              "</table>\n",
              "</div>"
            ],
            "text/plain": [
              "                    Count of Apps\n",
              "Category                         \n",
              "GAME                         6678\n",
              "HEALTH_AND_FITNESS           2249\n",
              "FAMILY                       2009\n",
              "DATING                       1715\n",
              "TRAVEL_AND_LOCAL             1692"
            ]
          },
          "metadata": {},
          "execution_count": 83
        }
      ]
    },
    {
      "cell_type": "code",
      "metadata": {
        "id": "X5o56tgh53xZ"
      },
      "source": [
        "cat_head= Category.head(10)\n",
        "top_10_cat = merged_df[merged_df['Category'].isin(cat_head.index)]"
      ],
      "execution_count": 84,
      "outputs": []
    },
    {
      "cell_type": "code",
      "metadata": {
        "colab": {
          "base_uri": "https://localhost:8080/",
          "height": 367
        },
        "id": "tCvNO5hp6R0X",
        "outputId": "0be87a24-e44a-4045-c98d-ff69ca47af2c"
      },
      "source": [
        "fig2, ax = plt.subplots(figsize=(22,5))\n",
        "sns.stripplot(x='Category', y='Rating', data=top_10_cat, palette='rocket', order= top_10_cat['Category'].value_counts().index)\n",
        "plt.xlabel('\\n Top 10 Categories', fontsize= 10, fontweight = 'bold')\n",
        "plt.ylabel('Rating', fontsize= 10, fontweight = 'bold')\n",
        "plt.title('Rating of Top 10 Categories', fontsize = 15, fontweight = 'bold')\n",
        "plt.savefig('Rating of Top 10 Categories.png')\n",
        "plt.show()"
      ],
      "execution_count": 85,
      "outputs": [
        {
          "output_type": "display_data",
          "data": {
            "image/png": "[encoded data removed]",
            "text/plain": [
              "<Figure size 1584x360 with 1 Axes>"
            ]
          },
          "metadata": {}
        }
      ]
    },
    {
      "cell_type": "code",
      "metadata": {
        "id": "DGFGZxY3DFHY"
      },
      "source": [
        "paid_apps = merged_df[(merged_df.Type!='Free')]"
      ],
      "execution_count": 86,
      "outputs": []
    },
    {
      "cell_type": "code",
      "metadata": {
        "colab": {
          "base_uri": "https://localhost:8080/"
        },
        "id": "dWqxvqRUemJe",
        "outputId": "8ca0023b-416c-464e-d96b-a2f04143d3a3"
      },
      "source": [
        "paid_apps.Installs.unique()"
      ],
      "execution_count": 87,
      "outputs": [
        {
          "output_type": "execute_result",
          "data": {
            "text/plain": [
              "array([ 100000,   50000,    1000, 1000000,   10000])"
            ]
          },
          "metadata": {},
          "execution_count": 87
        }
      ]
    },
    {
      "cell_type": "code",
      "metadata": {
        "colab": {
          "base_uri": "https://localhost:8080/",
          "height": 300
        },
        "id": "Ar_iRn8FexVf",
        "outputId": "c75816e8-05e7-4ede-9bcc-2aae44b203df"
      },
      "source": [
        "fig3, ax = plt.subplots(figsize = (6,4))\n",
        "ax.set(facecolor='red')\n",
        "sns.countplot(x=paid_apps['Content_Rating'], palette = 'rocket',order = paid_apps['Content_Rating'].value_counts().index) \n",
        "plt.xlabel('Content Rating', fontsize = 10, fontweight = 'bold')\n",
        "plt.ylabel('Paid Apps', fontsize = 10, fontweight = 'bold')\n",
        "plt.title('Paid Apps across different Content Ratings', fontsize = 15, fontweight = 'bold')\n",
        "plt.savefig('Paid Apps across different Content Ratings.png')\n",
        "plt.show()"
      ],
      "execution_count": 88,
      "outputs": [
        {
          "output_type": "display_data",
          "data": {
            "image/png": "[encoded data removed]",
            "text/plain": [
              "<Figure size 432x288 with 1 Axes>"
            ]
          },
          "metadata": {}
        }
      ]
    }
  ]
}