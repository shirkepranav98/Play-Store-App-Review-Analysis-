{
  "nbformat": 4,
  "nbformat_minor": 0,
  "metadata": {
    "kernelspec": {
      "display_name": "Python 3",
      "language": "python",
      "name": "python3"
    },
    "language_info": {
      "codemirror_mode": {
        "name": "ipython",
        "version": 3
      },
      "file_extension": ".py",
      "mimetype": "text/x-python",
      "name": "python",
      "nbconvert_exporter": "python",
      "pygments_lexer": "ipython3",
      "version": "3.6.6"
    },
    "colab": {
      "name": "Pranav Shirke-Play Store App Review Analysis - EDA Project.ipynb",
      "provenance": [],
      "collapsed_sections": []
    }
  },
  "cells": [
    {
      "cell_type": "markdown",
      "metadata": {
        "id": "Y06xIdG26kRF"
      },
      "source": [
        "## <b> The Play Store apps data has enormous potential to drive app-making businesses to success. Actionable insights can be drawn for developers to work on and capture the Android market. </b>\n",
        "\n",
        "## <b> Each app (row) has values for catergory, rating, size, and more. Another dataset contains customer reviews of the android apps.</b>\n",
        "\n",
        "## <b> Explore and analyze the data to discover key factors responsible for app engagement and success. </b>"
      ]
    },
    {
      "cell_type": "markdown",
      "metadata": {
        "id": "1TS9M_G-DFoV"
      },
      "source": [
        "# Mounting the Drive and Loading the csv files\n",
        "\n",
        "\n",
        "\n"
      ]
    },
    {
      "cell_type": "code",
      "metadata": {
        "id": "Zs9tFn_4DHYB",
        "colab": {
          "base_uri": "https://localhost:8080/"
        },
        "outputId": "3d88f652-7f2e-411d-a0ec-e06896c45a5a"
      },
      "source": [
        "#Mounting Drive\n",
        "from google.colab import drive\n",
        "drive.mount('/content/drive')"
      ],
      "execution_count": 251,
      "outputs": [
        {
          "output_type": "stream",
          "name": "stdout",
          "text": [
            "Drive already mounted at /content/drive; to attempt to forcibly remount, call drive.mount(\"/content/drive\", force_remount=True).\n"
          ]
        }
      ]
    },
    {
      "cell_type": "code",
      "metadata": {
        "id": "_5xtQzJjDc6G"
      },
      "source": [
        "# Import pandas \n",
        "import pandas as pd\n",
        "import numpy as np\n",
        "import seaborn as sns\n",
        "import matplotlib.pyplot as plt"
      ],
      "execution_count": 252,
      "outputs": []
    },
    {
      "cell_type": "code",
      "metadata": {
        "id": "eDu-blm2Ttxg"
      },
      "source": [
        "# Loading two csv files as path1 and path2\n",
        "path1 = '/content/drive/MyDrive/AlmaBetter/Project on play store/csv files/'\n",
        "path2 = '/content/drive/MyDrive/AlmaBetter/Project on play store/csv files/'"
      ],
      "execution_count": 253,
      "outputs": []
    },
    {
      "cell_type": "code",
      "metadata": {
        "id": "pddW5NVKTtuZ"
      },
      "source": [
        "play_s_df = pd.read_csv(path1 + 'Play Store Data.csv')\n",
        "user_r_df = pd.read_csv(path2 + 'User Reviews.csv')"
      ],
      "execution_count": 254,
      "outputs": []
    },
    {
      "cell_type": "markdown",
      "metadata": {
        "id": "Z5_86bBbCIkV"
      },
      "source": [
        "# **1. INTRODUCTION TO DATA**\n",
        "---\n",
        "Firstly let's get to know data. While I was analyzing the data, I used Pandas library.\n",
        "\n",
        "1. info(): It informs about data columns and data types.\n",
        "2. head(): It returns the first five data.\n",
        "3. tail(): It returns the last five data.\n",
        "4. columns : It returns data columns\n",
        "5. describe : To get some basic statistical details\n",
        "5. shape : It gives number of rows and columns in a tuble."
      ]
    },
    {
      "cell_type": "code",
      "metadata": {
        "id": "IZWpvLCVF9Ei",
        "colab": {
          "base_uri": "https://localhost:8080/"
        },
        "outputId": "6fd6d11e-abf5-4154-fab1-d638e7c21ebd"
      },
      "source": [
        "play_s_df.info()"
      ],
      "execution_count": 255,
      "outputs": [
        {
          "output_type": "stream",
          "name": "stdout",
          "text": [
            "<class 'pandas.core.frame.DataFrame'>\n",
            "RangeIndex: 10841 entries, 0 to 10840\n",
            "Data columns (total 13 columns):\n",
            " #   Column          Non-Null Count  Dtype  \n",
            "---  ------          --------------  -----  \n",
            " 0   App             10841 non-null  object \n",
            " 1   Category        10841 non-null  object \n",
            " 2   Rating          9367 non-null   float64\n",
            " 3   Reviews         10841 non-null  object \n",
            " 4   Size            10841 non-null  object \n",
            " 5   Installs        10841 non-null  object \n",
            " 6   Type            10840 non-null  object \n",
            " 7   Price           10841 non-null  object \n",
            " 8   Content Rating  10840 non-null  object \n",
            " 9   Genres          10841 non-null  object \n",
            " 10  Last Updated    10841 non-null  object \n",
            " 11  Current Ver     10833 non-null  object \n",
            " 12  Android Ver     10838 non-null  object \n",
            "dtypes: float64(1), object(12)\n",
            "memory usage: 1.1+ MB\n"
          ]
        }
      ]
    },
    {
      "cell_type": "code",
      "metadata": {
        "id": "wEulCxUsG1ps",
        "colab": {
          "base_uri": "https://localhost:8080/",
          "height": 204
        },
        "outputId": "2beb43d4-ccd4-4a6d-dfae-dd947d3d1879"
      },
      "source": [
        "play_s_df.head()"
      ],
      "execution_count": 256,
      "outputs": [
        {
          "output_type": "execute_result",
          "data": {
            "text/html": [
              "<div>\n",
              "<style scoped>\n",
              "    .dataframe tbody tr th:only-of-type {\n",
              "        vertical-align: middle;\n",
              "    }\n",
              "\n",
              "    .dataframe tbody tr th {\n",
              "        vertical-align: top;\n",
              "    }\n",
              "\n",
              "    .dataframe thead th {\n",
              "        text-align: right;\n",
              "    }\n",
              "</style>\n",
              "<table border=\"1\" class=\"dataframe\">\n",
              "  <thead>\n",
              "    <tr style=\"text-align: right;\">\n",
              "      <th></th>\n",
              "      <th>App</th>\n",
              "      <th>Category</th>\n",
              "      <th>Rating</th>\n",
              "      <th>Reviews</th>\n",
              "      <th>Size</th>\n",
              "      <th>Installs</th>\n",
              "      <th>Type</th>\n",
              "      <th>Price</th>\n",
              "      <th>Content Rating</th>\n",
              "      <th>Genres</th>\n",
              "      <th>Last Updated</th>\n",
              "      <th>Current Ver</th>\n",
              "      <th>Android Ver</th>\n",
              "    </tr>\n",
              "  </thead>\n",
              "  <tbody>\n",
              "    <tr>\n",
              "      <th>0</th>\n",
              "      <td>Photo Editor &amp; Candy Camera &amp; Grid &amp; ScrapBook</td>\n",
              "      <td>ART_AND_DESIGN</td>\n",
              "      <td>4.1</td>\n",
              "      <td>159</td>\n",
              "      <td>19M</td>\n",
              "      <td>10,000+</td>\n",
              "      <td>Free</td>\n",
              "      <td>0</td>\n",
              "      <td>Everyone</td>\n",
              "      <td>Art &amp; Design</td>\n",
              "      <td>January 7, 2018</td>\n",
              "      <td>1.0.0</td>\n",
              "      <td>4.0.3 and up</td>\n",
              "    </tr>\n",
              "    <tr>\n",
              "      <th>1</th>\n",
              "      <td>Coloring book moana</td>\n",
              "      <td>ART_AND_DESIGN</td>\n",
              "      <td>3.9</td>\n",
              "      <td>967</td>\n",
              "      <td>14M</td>\n",
              "      <td>500,000+</td>\n",
              "      <td>Free</td>\n",
              "      <td>0</td>\n",
              "      <td>Everyone</td>\n",
              "      <td>Art &amp; Design;Pretend Play</td>\n",
              "      <td>January 15, 2018</td>\n",
              "      <td>2.0.0</td>\n",
              "      <td>4.0.3 and up</td>\n",
              "    </tr>\n",
              "    <tr>\n",
              "      <th>2</th>\n",
              "      <td>U Launcher Lite – FREE Live Cool Themes, Hide ...</td>\n",
              "      <td>ART_AND_DESIGN</td>\n",
              "      <td>4.7</td>\n",
              "      <td>87510</td>\n",
              "      <td>8.7M</td>\n",
              "      <td>5,000,000+</td>\n",
              "      <td>Free</td>\n",
              "      <td>0</td>\n",
              "      <td>Everyone</td>\n",
              "      <td>Art &amp; Design</td>\n",
              "      <td>August 1, 2018</td>\n",
              "      <td>1.2.4</td>\n",
              "      <td>4.0.3 and up</td>\n",
              "    </tr>\n",
              "    <tr>\n",
              "      <th>3</th>\n",
              "      <td>Sketch - Draw &amp; Paint</td>\n",
              "      <td>ART_AND_DESIGN</td>\n",
              "      <td>4.5</td>\n",
              "      <td>215644</td>\n",
              "      <td>25M</td>\n",
              "      <td>50,000,000+</td>\n",
              "      <td>Free</td>\n",
              "      <td>0</td>\n",
              "      <td>Teen</td>\n",
              "      <td>Art &amp; Design</td>\n",
              "      <td>June 8, 2018</td>\n",
              "      <td>Varies with device</td>\n",
              "      <td>4.2 and up</td>\n",
              "    </tr>\n",
              "    <tr>\n",
              "      <th>4</th>\n",
              "      <td>Pixel Draw - Number Art Coloring Book</td>\n",
              "      <td>ART_AND_DESIGN</td>\n",
              "      <td>4.3</td>\n",
              "      <td>967</td>\n",
              "      <td>2.8M</td>\n",
              "      <td>100,000+</td>\n",
              "      <td>Free</td>\n",
              "      <td>0</td>\n",
              "      <td>Everyone</td>\n",
              "      <td>Art &amp; Design;Creativity</td>\n",
              "      <td>June 20, 2018</td>\n",
              "      <td>1.1</td>\n",
              "      <td>4.4 and up</td>\n",
              "    </tr>\n",
              "  </tbody>\n",
              "</table>\n",
              "</div>"
            ],
            "text/plain": [
              "                                                 App  ...   Android Ver\n",
              "0     Photo Editor & Candy Camera & Grid & ScrapBook  ...  4.0.3 and up\n",
              "1                                Coloring book moana  ...  4.0.3 and up\n",
              "2  U Launcher Lite – FREE Live Cool Themes, Hide ...  ...  4.0.3 and up\n",
              "3                              Sketch - Draw & Paint  ...    4.2 and up\n",
              "4              Pixel Draw - Number Art Coloring Book  ...    4.4 and up\n",
              "\n",
              "[5 rows x 13 columns]"
            ]
          },
          "metadata": {},
          "execution_count": 256
        }
      ]
    },
    {
      "cell_type": "code",
      "metadata": {
        "id": "ZLInYkEbLv4T",
        "colab": {
          "base_uri": "https://localhost:8080/",
          "height": 271
        },
        "outputId": "6f5af362-eea2-4cd2-f9c1-0147ae50a79a"
      },
      "source": [
        "play_s_df.tail()"
      ],
      "execution_count": 257,
      "outputs": [
        {
          "output_type": "execute_result",
          "data": {
            "text/html": [
              "<div>\n",
              "<style scoped>\n",
              "    .dataframe tbody tr th:only-of-type {\n",
              "        vertical-align: middle;\n",
              "    }\n",
              "\n",
              "    .dataframe tbody tr th {\n",
              "        vertical-align: top;\n",
              "    }\n",
              "\n",
              "    .dataframe thead th {\n",
              "        text-align: right;\n",
              "    }\n",
              "</style>\n",
              "<table border=\"1\" class=\"dataframe\">\n",
              "  <thead>\n",
              "    <tr style=\"text-align: right;\">\n",
              "      <th></th>\n",
              "      <th>App</th>\n",
              "      <th>Category</th>\n",
              "      <th>Rating</th>\n",
              "      <th>Reviews</th>\n",
              "      <th>Size</th>\n",
              "      <th>Installs</th>\n",
              "      <th>Type</th>\n",
              "      <th>Price</th>\n",
              "      <th>Content Rating</th>\n",
              "      <th>Genres</th>\n",
              "      <th>Last Updated</th>\n",
              "      <th>Current Ver</th>\n",
              "      <th>Android Ver</th>\n",
              "    </tr>\n",
              "  </thead>\n",
              "  <tbody>\n",
              "    <tr>\n",
              "      <th>10836</th>\n",
              "      <td>Sya9a Maroc - FR</td>\n",
              "      <td>FAMILY</td>\n",
              "      <td>4.5</td>\n",
              "      <td>38</td>\n",
              "      <td>53M</td>\n",
              "      <td>5,000+</td>\n",
              "      <td>Free</td>\n",
              "      <td>0</td>\n",
              "      <td>Everyone</td>\n",
              "      <td>Education</td>\n",
              "      <td>July 25, 2017</td>\n",
              "      <td>1.48</td>\n",
              "      <td>4.1 and up</td>\n",
              "    </tr>\n",
              "    <tr>\n",
              "      <th>10837</th>\n",
              "      <td>Fr. Mike Schmitz Audio Teachings</td>\n",
              "      <td>FAMILY</td>\n",
              "      <td>5.0</td>\n",
              "      <td>4</td>\n",
              "      <td>3.6M</td>\n",
              "      <td>100+</td>\n",
              "      <td>Free</td>\n",
              "      <td>0</td>\n",
              "      <td>Everyone</td>\n",
              "      <td>Education</td>\n",
              "      <td>July 6, 2018</td>\n",
              "      <td>1.0</td>\n",
              "      <td>4.1 and up</td>\n",
              "    </tr>\n",
              "    <tr>\n",
              "      <th>10838</th>\n",
              "      <td>Parkinson Exercices FR</td>\n",
              "      <td>MEDICAL</td>\n",
              "      <td>NaN</td>\n",
              "      <td>3</td>\n",
              "      <td>9.5M</td>\n",
              "      <td>1,000+</td>\n",
              "      <td>Free</td>\n",
              "      <td>0</td>\n",
              "      <td>Everyone</td>\n",
              "      <td>Medical</td>\n",
              "      <td>January 20, 2017</td>\n",
              "      <td>1.0</td>\n",
              "      <td>2.2 and up</td>\n",
              "    </tr>\n",
              "    <tr>\n",
              "      <th>10839</th>\n",
              "      <td>The SCP Foundation DB fr nn5n</td>\n",
              "      <td>BOOKS_AND_REFERENCE</td>\n",
              "      <td>4.5</td>\n",
              "      <td>114</td>\n",
              "      <td>Varies with device</td>\n",
              "      <td>1,000+</td>\n",
              "      <td>Free</td>\n",
              "      <td>0</td>\n",
              "      <td>Mature 17+</td>\n",
              "      <td>Books &amp; Reference</td>\n",
              "      <td>January 19, 2015</td>\n",
              "      <td>Varies with device</td>\n",
              "      <td>Varies with device</td>\n",
              "    </tr>\n",
              "    <tr>\n",
              "      <th>10840</th>\n",
              "      <td>iHoroscope - 2018 Daily Horoscope &amp; Astrology</td>\n",
              "      <td>LIFESTYLE</td>\n",
              "      <td>4.5</td>\n",
              "      <td>398307</td>\n",
              "      <td>19M</td>\n",
              "      <td>10,000,000+</td>\n",
              "      <td>Free</td>\n",
              "      <td>0</td>\n",
              "      <td>Everyone</td>\n",
              "      <td>Lifestyle</td>\n",
              "      <td>July 25, 2018</td>\n",
              "      <td>Varies with device</td>\n",
              "      <td>Varies with device</td>\n",
              "    </tr>\n",
              "  </tbody>\n",
              "</table>\n",
              "</div>"
            ],
            "text/plain": [
              "                                                 App  ...         Android Ver\n",
              "10836                               Sya9a Maroc - FR  ...          4.1 and up\n",
              "10837               Fr. Mike Schmitz Audio Teachings  ...          4.1 and up\n",
              "10838                         Parkinson Exercices FR  ...          2.2 and up\n",
              "10839                  The SCP Foundation DB fr nn5n  ...  Varies with device\n",
              "10840  iHoroscope - 2018 Daily Horoscope & Astrology  ...  Varies with device\n",
              "\n",
              "[5 rows x 13 columns]"
            ]
          },
          "metadata": {},
          "execution_count": 257
        }
      ]
    },
    {
      "cell_type": "code",
      "metadata": {
        "id": "ja8vP0DHECRs",
        "colab": {
          "base_uri": "https://localhost:8080/"
        },
        "outputId": "095e110c-73ef-47fb-fec1-2a5c5441b226"
      },
      "source": [
        "play_s_df.columns"
      ],
      "execution_count": 258,
      "outputs": [
        {
          "output_type": "execute_result",
          "data": {
            "text/plain": [
              "Index(['App', 'Category', 'Rating', 'Reviews', 'Size', 'Installs', 'Type',\n",
              "       'Price', 'Content Rating', 'Genres', 'Last Updated', 'Current Ver',\n",
              "       'Android Ver'],\n",
              "      dtype='object')"
            ]
          },
          "metadata": {},
          "execution_count": 258
        }
      ]
    },
    {
      "cell_type": "code",
      "metadata": {
        "id": "DUZGfgLJ1e3e",
        "colab": {
          "base_uri": "https://localhost:8080/",
          "height": 296
        },
        "outputId": "1d455905-8f57-43eb-e893-d44298fc641d"
      },
      "source": [
        "play_s_df.describe()"
      ],
      "execution_count": 259,
      "outputs": [
        {
          "output_type": "execute_result",
          "data": {
            "text/html": [
              "<div>\n",
              "<style scoped>\n",
              "    .dataframe tbody tr th:only-of-type {\n",
              "        vertical-align: middle;\n",
              "    }\n",
              "\n",
              "    .dataframe tbody tr th {\n",
              "        vertical-align: top;\n",
              "    }\n",
              "\n",
              "    .dataframe thead th {\n",
              "        text-align: right;\n",
              "    }\n",
              "</style>\n",
              "<table border=\"1\" class=\"dataframe\">\n",
              "  <thead>\n",
              "    <tr style=\"text-align: right;\">\n",
              "      <th></th>\n",
              "      <th>Rating</th>\n",
              "    </tr>\n",
              "  </thead>\n",
              "  <tbody>\n",
              "    <tr>\n",
              "      <th>count</th>\n",
              "      <td>9367.000000</td>\n",
              "    </tr>\n",
              "    <tr>\n",
              "      <th>mean</th>\n",
              "      <td>4.193338</td>\n",
              "    </tr>\n",
              "    <tr>\n",
              "      <th>std</th>\n",
              "      <td>0.537431</td>\n",
              "    </tr>\n",
              "    <tr>\n",
              "      <th>min</th>\n",
              "      <td>1.000000</td>\n",
              "    </tr>\n",
              "    <tr>\n",
              "      <th>25%</th>\n",
              "      <td>4.000000</td>\n",
              "    </tr>\n",
              "    <tr>\n",
              "      <th>50%</th>\n",
              "      <td>4.300000</td>\n",
              "    </tr>\n",
              "    <tr>\n",
              "      <th>75%</th>\n",
              "      <td>4.500000</td>\n",
              "    </tr>\n",
              "    <tr>\n",
              "      <th>max</th>\n",
              "      <td>19.000000</td>\n",
              "    </tr>\n",
              "  </tbody>\n",
              "</table>\n",
              "</div>"
            ],
            "text/plain": [
              "            Rating\n",
              "count  9367.000000\n",
              "mean      4.193338\n",
              "std       0.537431\n",
              "min       1.000000\n",
              "25%       4.000000\n",
              "50%       4.300000\n",
              "75%       4.500000\n",
              "max      19.000000"
            ]
          },
          "metadata": {},
          "execution_count": 259
        }
      ]
    },
    {
      "cell_type": "code",
      "metadata": {
        "id": "fyOBtHP5EvZs",
        "colab": {
          "base_uri": "https://localhost:8080/"
        },
        "outputId": "dd11e4b1-4a97-4290-e986-ec804a0f1584"
      },
      "source": [
        "play_s_df.shape"
      ],
      "execution_count": 260,
      "outputs": [
        {
          "output_type": "execute_result",
          "data": {
            "text/plain": [
              "(10841, 13)"
            ]
          },
          "metadata": {},
          "execution_count": 260
        }
      ]
    },
    {
      "cell_type": "markdown",
      "metadata": {
        "id": "s_RHQMh0CAFR"
      },
      "source": [
        "# **Cleaning of Data**\n",
        "---\n",
        "\n"
      ]
    },
    {
      "cell_type": "code",
      "metadata": {
        "id": "DdNTIuZhQWF_",
        "colab": {
          "base_uri": "https://localhost:8080/"
        },
        "outputId": "79b57e42-eeb9-4913-8377-079904405cd1"
      },
      "source": [
        "play_s_df.App.nunique()"
      ],
      "execution_count": 261,
      "outputs": [
        {
          "output_type": "execute_result",
          "data": {
            "text/plain": [
              "9660"
            ]
          },
          "metadata": {},
          "execution_count": 261
        }
      ]
    },
    {
      "cell_type": "markdown",
      "metadata": {
        "id": "5UBxBqrqE7he"
      },
      "source": [
        "# **Remove** **Duplicates** -\n",
        "### There is always a possibility that duplicates may exist within the dataframe and eliminating those duplicates is major task while analyzing the data. This can be done by drop_duplicates method."
      ]
    },
    {
      "cell_type": "code",
      "metadata": {
        "id": "0nelxrJz5SVL",
        "colab": {
          "base_uri": "https://localhost:8080/",
          "height": 204
        },
        "outputId": "92b43f4f-6aa4-4b02-fa13-e48c7086895e"
      },
      "source": [
        "# Firstly, Showing the existence of duplicates using app and counting the values of duplicate apps\n",
        "duplicate =play_s_df.groupby(['App']).agg({'Category': 'count'}).reset_index()\n",
        "duplicate = duplicate.sort_values(by=['Category'], ascending=False)\n",
        "duplicate.head(5)"
      ],
      "execution_count": 262,
      "outputs": [
        {
          "output_type": "execute_result",
          "data": {
            "text/html": [
              "<div>\n",
              "<style scoped>\n",
              "    .dataframe tbody tr th:only-of-type {\n",
              "        vertical-align: middle;\n",
              "    }\n",
              "\n",
              "    .dataframe tbody tr th {\n",
              "        vertical-align: top;\n",
              "    }\n",
              "\n",
              "    .dataframe thead th {\n",
              "        text-align: right;\n",
              "    }\n",
              "</style>\n",
              "<table border=\"1\" class=\"dataframe\">\n",
              "  <thead>\n",
              "    <tr style=\"text-align: right;\">\n",
              "      <th></th>\n",
              "      <th>App</th>\n",
              "      <th>Category</th>\n",
              "    </tr>\n",
              "  </thead>\n",
              "  <tbody>\n",
              "    <tr>\n",
              "      <th>7302</th>\n",
              "      <td>ROBLOX</td>\n",
              "      <td>9</td>\n",
              "    </tr>\n",
              "    <tr>\n",
              "      <th>1934</th>\n",
              "      <td>CBS Sports App - Scores, News, Stats &amp; Watch Live</td>\n",
              "      <td>8</td>\n",
              "    </tr>\n",
              "    <tr>\n",
              "      <th>2364</th>\n",
              "      <td>Candy Crush Saga</td>\n",
              "      <td>7</td>\n",
              "    </tr>\n",
              "    <tr>\n",
              "      <th>3504</th>\n",
              "      <td>Duolingo: Learn Languages Free</td>\n",
              "      <td>7</td>\n",
              "    </tr>\n",
              "    <tr>\n",
              "      <th>101</th>\n",
              "      <td>8 Ball Pool</td>\n",
              "      <td>7</td>\n",
              "    </tr>\n",
              "  </tbody>\n",
              "</table>\n",
              "</div>"
            ],
            "text/plain": [
              "                                                    App  Category\n",
              "7302                                             ROBLOX         9\n",
              "1934  CBS Sports App - Scores, News, Stats & Watch Live         8\n",
              "2364                                   Candy Crush Saga         7\n",
              "3504                     Duolingo: Learn Languages Free         7\n",
              "101                                         8 Ball Pool         7"
            ]
          },
          "metadata": {},
          "execution_count": 262
        }
      ]
    },
    {
      "cell_type": "code",
      "metadata": {
        "colab": {
          "base_uri": "https://localhost:8080/"
        },
        "id": "QxOmqW_47oAN",
        "outputId": "26e6a257-52e4-44f7-c607-01f8ad72a5ef"
      },
      "source": [
        "# Total entries with duplicates\n",
        "before = len(play_s_df.index)\n",
        "print('Total entries with duplicates were '+ (str(before)))"
      ],
      "execution_count": 263,
      "outputs": [
        {
          "output_type": "stream",
          "name": "stdout",
          "text": [
            "Total entries with duplicates were 10841\n"
          ]
        }
      ]
    },
    {
      "cell_type": "code",
      "metadata": {
        "id": "a7Ln7k386PtN"
      },
      "source": [
        "# Sorting the valuse with descending order such as to retain the row which has maximum number of reviews in duplicates\n",
        "play_s_df.sort_values('Reviews',ascending=False,inplace=True)"
      ],
      "execution_count": 264,
      "outputs": []
    },
    {
      "cell_type": "code",
      "metadata": {
        "id": "DyyqY6Ex5_WR",
        "colab": {
          "base_uri": "https://localhost:8080/"
        },
        "outputId": "2b548736-973b-45fc-ce82-ec0bcfcaa50a"
      },
      "source": [
        "# Drop duplicates with a value in a specific column.\n",
        "\n",
        "play_s_df.drop_duplicates(subset=['App','Category'],inplace=True)\n",
        "\n",
        "after = len(play_s_df.index)\n",
        "print('Total entries after duplicates were dropped are '+ (str(after)))\n",
        "print('Total '+ (str(before-after))+' entries were dropped.')"
      ],
      "execution_count": 265,
      "outputs": [
        {
          "output_type": "stream",
          "name": "stdout",
          "text": [
            "Total entries after duplicates were dropped are 9745\n",
            "Total 1096 entries were dropped.\n"
          ]
        }
      ]
    },
    {
      "cell_type": "code",
      "metadata": {
        "id": "h1-DWm9JFTjL",
        "colab": {
          "base_uri": "https://localhost:8080/"
        },
        "outputId": "0b321a91-56e0-4284-f29d-fbf30984dd0b"
      },
      "source": [
        "# Shape of dataframe after removing duplicates\n",
        "play_s_df.shape"
      ],
      "execution_count": 266,
      "outputs": [
        {
          "output_type": "execute_result",
          "data": {
            "text/plain": [
              "(9745, 13)"
            ]
          },
          "metadata": {},
          "execution_count": 266
        }
      ]
    },
    {
      "cell_type": "markdown",
      "metadata": {
        "id": "9ieV2FFta54m"
      },
      "source": [
        "#**Column: Rating**"
      ]
    },
    {
      "cell_type": "code",
      "metadata": {
        "id": "zj78vDeOE2E9"
      },
      "source": [
        "# Changing the column names to one word\n",
        "play_s_df.rename(columns={'Last Updated':'Last_Updated', 'Content Rating':'Content_Rating', 'Current Ver':'Current_Version', 'Android Ver':'Android_Version'}, inplace = True)"
      ],
      "execution_count": 267,
      "outputs": []
    },
    {
      "cell_type": "code",
      "metadata": {
        "id": "FLyHayo92QxG",
        "colab": {
          "base_uri": "https://localhost:8080/"
        },
        "outputId": "4e4fda71-977f-4420-9945-79668d3e2878"
      },
      "source": [
        "# Finding the sum of null values for each dataseries throughout the Dataframe\n",
        "play_s_df.isnull().sum()"
      ],
      "execution_count": 268,
      "outputs": [
        {
          "output_type": "execute_result",
          "data": {
            "text/plain": [
              "App                   0\n",
              "Category              0\n",
              "Rating             1464\n",
              "Reviews               0\n",
              "Size                  0\n",
              "Installs              0\n",
              "Type                  1\n",
              "Price                 0\n",
              "Content_Rating        1\n",
              "Genres                0\n",
              "Last_Updated          0\n",
              "Current_Version       8\n",
              "Android_Version       3\n",
              "dtype: int64"
            ]
          },
          "metadata": {},
          "execution_count": 268
        }
      ]
    },
    {
      "cell_type": "code",
      "metadata": {
        "id": "Q2vsqNYK4o53",
        "colab": {
          "base_uri": "https://localhost:8080/",
          "height": 322
        },
        "outputId": "e2fdfdde-27d0-4610-d545-e5c45780439c"
      },
      "source": [
        "# Plotting Box plot to check outliers exists or not!\n",
        "play_s_df.boxplot(column='Rating');"
      ],
      "execution_count": 269,
      "outputs": [
        {
          "output_type": "display_data",
          "data": {
            "image/png": "[encoded data removed]",
            "text/plain": [
              "<Figure size 576x360 with 1 Axes>"
            ]
          },
          "metadata": {}
        }
      ]
    },
    {
      "cell_type": "markdown",
      "metadata": {
        "id": "FbgpzRri3tLE"
      },
      "source": [
        "### From above we observed that there is one outlier which affects our distribution in a dataframe so we will remove it."
      ]
    },
    {
      "cell_type": "code",
      "metadata": {
        "id": "U113DwVl20UG",
        "colab": {
          "base_uri": "https://localhost:8080/",
          "height": 80
        },
        "outputId": "73119666-4f26-4876-dd9c-37cc1b59f071"
      },
      "source": [
        "# Checking the outliers \n",
        "play_s_df[play_s_df.Rating>5]"
      ],
      "execution_count": 270,
      "outputs": [
        {
          "output_type": "execute_result",
          "data": {
            "text/html": [
              "<div>\n",
              "<style scoped>\n",
              "    .dataframe tbody tr th:only-of-type {\n",
              "        vertical-align: middle;\n",
              "    }\n",
              "\n",
              "    .dataframe tbody tr th {\n",
              "        vertical-align: top;\n",
              "    }\n",
              "\n",
              "    .dataframe thead th {\n",
              "        text-align: right;\n",
              "    }\n",
              "</style>\n",
              "<table border=\"1\" class=\"dataframe\">\n",
              "  <thead>\n",
              "    <tr style=\"text-align: right;\">\n",
              "      <th></th>\n",
              "      <th>App</th>\n",
              "      <th>Category</th>\n",
              "      <th>Rating</th>\n",
              "      <th>Reviews</th>\n",
              "      <th>Size</th>\n",
              "      <th>Installs</th>\n",
              "      <th>Type</th>\n",
              "      <th>Price</th>\n",
              "      <th>Content_Rating</th>\n",
              "      <th>Genres</th>\n",
              "      <th>Last_Updated</th>\n",
              "      <th>Current_Version</th>\n",
              "      <th>Android_Version</th>\n",
              "    </tr>\n",
              "  </thead>\n",
              "  <tbody>\n",
              "    <tr>\n",
              "      <th>10472</th>\n",
              "      <td>Life Made WI-Fi Touchscreen Photo Frame</td>\n",
              "      <td>1.9</td>\n",
              "      <td>19.0</td>\n",
              "      <td>3.0M</td>\n",
              "      <td>1,000+</td>\n",
              "      <td>Free</td>\n",
              "      <td>0</td>\n",
              "      <td>Everyone</td>\n",
              "      <td>NaN</td>\n",
              "      <td>February 11, 2018</td>\n",
              "      <td>1.0.19</td>\n",
              "      <td>4.0 and up</td>\n",
              "      <td>NaN</td>\n",
              "    </tr>\n",
              "  </tbody>\n",
              "</table>\n",
              "</div>"
            ],
            "text/plain": [
              "                                           App  ... Android_Version\n",
              "10472  Life Made WI-Fi Touchscreen Photo Frame  ...             NaN\n",
              "\n",
              "[1 rows x 13 columns]"
            ]
          },
          "metadata": {},
          "execution_count": 270
        }
      ]
    },
    {
      "cell_type": "code",
      "metadata": {
        "id": "dqHnXe_n3EhJ"
      },
      "source": [
        "# Removing the outliers from column because it increases variability in our data.\n",
        "play_s_df.drop([10472],inplace=True)"
      ],
      "execution_count": 271,
      "outputs": []
    },
    {
      "cell_type": "code",
      "metadata": {
        "id": "U4DcMMjP27tu",
        "colab": {
          "base_uri": "https://localhost:8080/",
          "height": 49
        },
        "outputId": "86522402-c9ed-448b-983e-0ef5cdadb8e7"
      },
      "source": [
        "# Checking the dropped outliers with method of slicing\n",
        "play_s_df[10471:10473]"
      ],
      "execution_count": 272,
      "outputs": [
        {
          "output_type": "execute_result",
          "data": {
            "text/html": [
              "<div>\n",
              "<style scoped>\n",
              "    .dataframe tbody tr th:only-of-type {\n",
              "        vertical-align: middle;\n",
              "    }\n",
              "\n",
              "    .dataframe tbody tr th {\n",
              "        vertical-align: top;\n",
              "    }\n",
              "\n",
              "    .dataframe thead th {\n",
              "        text-align: right;\n",
              "    }\n",
              "</style>\n",
              "<table border=\"1\" class=\"dataframe\">\n",
              "  <thead>\n",
              "    <tr style=\"text-align: right;\">\n",
              "      <th></th>\n",
              "      <th>App</th>\n",
              "      <th>Category</th>\n",
              "      <th>Rating</th>\n",
              "      <th>Reviews</th>\n",
              "      <th>Size</th>\n",
              "      <th>Installs</th>\n",
              "      <th>Type</th>\n",
              "      <th>Price</th>\n",
              "      <th>Content_Rating</th>\n",
              "      <th>Genres</th>\n",
              "      <th>Last_Updated</th>\n",
              "      <th>Current_Version</th>\n",
              "      <th>Android_Version</th>\n",
              "    </tr>\n",
              "  </thead>\n",
              "  <tbody>\n",
              "  </tbody>\n",
              "</table>\n",
              "</div>"
            ],
            "text/plain": [
              "Empty DataFrame\n",
              "Columns: [App, Category, Rating, Reviews, Size, Installs, Type, Price, Content_Rating, Genres, Last_Updated, Current_Version, Android_Version]\n",
              "Index: []"
            ]
          },
          "metadata": {},
          "execution_count": 272
        }
      ]
    },
    {
      "cell_type": "code",
      "metadata": {
        "id": "Usyy7c0uUmS3",
        "colab": {
          "base_uri": "https://localhost:8080/",
          "height": 338
        },
        "outputId": "77bba56d-b6c7-4185-f555-4445315050b9"
      },
      "source": [
        "play_s_df.hist(column='Rating',edgecolor='black');"
      ],
      "execution_count": 273,
      "outputs": [
        {
          "output_type": "display_data",
          "data": {
            "image/png": "[encoded data removed]",
            "text/plain": [
              "<Figure size 576x360 with 1 Axes>"
            ]
          },
          "metadata": {}
        }
      ]
    },
    {
      "cell_type": "code",
      "metadata": {
        "id": "C89ajLIa-2Xl",
        "colab": {
          "base_uri": "https://localhost:8080/",
          "height": 394
        },
        "outputId": "419e8aea-bef4-45ab-b759-dd6b747f2465"
      },
      "source": [
        "sns.set(rc={'figure.figsize':(8,5)});\n",
        "sns.distplot(play_s_df.Rating);"
      ],
      "execution_count": 274,
      "outputs": [
        {
          "output_type": "stream",
          "name": "stderr",
          "text": [
            "/usr/local/lib/python3.7/dist-packages/seaborn/distributions.py:2619: FutureWarning: `distplot` is a deprecated function and will be removed in a future version. Please adapt your code to use either `displot` (a figure-level function with similar flexibility) or `histplot` (an axes-level function for histograms).\n",
            "  warnings.warn(msg, FutureWarning)\n"
          ]
        },
        {
          "output_type": "display_data",
          "data": {
            "image/png": "[encoded data removed]",
            "text/plain": [
              "<Figure size 576x360 with 1 Axes>"
            ]
          },
          "metadata": {}
        }
      ]
    },
    {
      "cell_type": "markdown",
      "metadata": {
        "id": "gT484KLP4fZT"
      },
      "source": [
        "### We recognized here from previous graph that our distribution appears as left skewed in direction."
      ]
    },
    {
      "cell_type": "code",
      "metadata": {
        "id": "R1nVfs6WTUWQ"
      },
      "source": [
        "''' Filling null values with median value because as we can see from the above distplot appeared as skewed to left. \n",
        "So the median is usually preferred in measures of central tendency when your data set is skewed '''\n",
        "\n",
        "play_s_df['Rating'] = play_s_df['Rating'].fillna(play_s_df['Rating'].median())"
      ],
      "execution_count": 275,
      "outputs": []
    },
    {
      "cell_type": "code",
      "metadata": {
        "id": "_uMSYxwCTUay",
        "colab": {
          "base_uri": "https://localhost:8080/"
        },
        "outputId": "bb329a5a-51da-4770-8c2b-5b55fdea3361"
      },
      "source": [
        "# Counting the number of null values in Rating column\n",
        "play_s_df.Rating.isnull().sum()"
      ],
      "execution_count": 276,
      "outputs": [
        {
          "output_type": "execute_result",
          "data": {
            "text/plain": [
              "0"
            ]
          },
          "metadata": {},
          "execution_count": 276
        }
      ]
    },
    {
      "cell_type": "markdown",
      "metadata": {
        "id": "8tlf2UtObK9l"
      },
      "source": [
        "#**Column: Last_Updated**"
      ]
    },
    {
      "cell_type": "code",
      "metadata": {
        "id": "zgsGZFkvLuAT"
      },
      "source": [
        "# Converting datetime format for Last_Updated column\n",
        "# Importing datetime modules\n",
        "from datetime import datetime\n",
        "from datetime import date"
      ],
      "execution_count": 277,
      "outputs": []
    },
    {
      "cell_type": "code",
      "metadata": {
        "colab": {
          "base_uri": "https://localhost:8080/"
        },
        "id": "e9_-zOEu5Gdd",
        "outputId": "eaaef119-eea0-4ede-ccf7-8de4e0f216c2"
      },
      "source": [
        "# Look into datatype for Last_Updated \n",
        "play_s_df['Last_Updated'].dtype"
      ],
      "execution_count": 278,
      "outputs": [
        {
          "output_type": "execute_result",
          "data": {
            "text/plain": [
              "dtype('O')"
            ]
          },
          "metadata": {},
          "execution_count": 278
        }
      ]
    },
    {
      "cell_type": "code",
      "metadata": {
        "id": "a0T9XbUGxejF"
      },
      "source": [
        "# We examined that 'O' is for object dtype so we'll convert it into datetime format\n",
        "play_s_df['Last_Updated'] = pd.to_datetime(play_s_df['Last_Updated'],errors='coerce')"
      ],
      "execution_count": 279,
      "outputs": []
    },
    {
      "cell_type": "markdown",
      "metadata": {
        "id": "yp0ScJHebrcG"
      },
      "source": [
        "#**Column: Reviews**"
      ]
    },
    {
      "cell_type": "code",
      "metadata": {
        "id": "U07nsV2_bam3",
        "colab": {
          "base_uri": "https://localhost:8080/"
        },
        "outputId": "686859bc-59dc-4ebe-cfff-f90e536e6fc0"
      },
      "source": [
        "#Checking null values\n",
        "play_s_df.Reviews.isnull().sum()"
      ],
      "execution_count": 280,
      "outputs": [
        {
          "output_type": "execute_result",
          "data": {
            "text/plain": [
              "0"
            ]
          },
          "metadata": {},
          "execution_count": 280
        }
      ]
    },
    {
      "cell_type": "code",
      "metadata": {
        "id": "OSQT-nk91Xpd"
      },
      "source": [
        "# Converting the datatype of Reviews into numeric datatype\n",
        "play_s_df['Reviews'] = pd.to_numeric(play_s_df['Reviews'])"
      ],
      "execution_count": 281,
      "outputs": []
    },
    {
      "cell_type": "code",
      "metadata": {
        "id": "mz0HtnyJ99Qq",
        "colab": {
          "base_uri": "https://localhost:8080/"
        },
        "outputId": "e7effee2-5e3a-4daa-b787-69bbe8e1417a"
      },
      "source": [
        "# Checking the changes in a datatype of Reviews\n",
        "play_s_df.Reviews.dtype"
      ],
      "execution_count": 282,
      "outputs": [
        {
          "output_type": "execute_result",
          "data": {
            "text/plain": [
              "dtype('int64')"
            ]
          },
          "metadata": {},
          "execution_count": 282
        }
      ]
    },
    {
      "cell_type": "markdown",
      "metadata": {
        "id": "AR3r8aWVcTTE"
      },
      "source": [
        "#**Column: Type**"
      ]
    },
    {
      "cell_type": "code",
      "metadata": {
        "id": "7sGmZo6aBHTV",
        "colab": {
          "base_uri": "https://localhost:8080/"
        },
        "outputId": "ff17f0f0-ff78-4c3f-bb2f-484ccc69945a"
      },
      "source": [
        "# Checking the null values in Type Column\n",
        "play_s_df['Type'].isnull().sum()"
      ],
      "execution_count": 283,
      "outputs": [
        {
          "output_type": "execute_result",
          "data": {
            "text/plain": [
              "1"
            ]
          },
          "metadata": {},
          "execution_count": 283
        }
      ]
    },
    {
      "cell_type": "code",
      "metadata": {
        "colab": {
          "base_uri": "https://localhost:8080/"
        },
        "id": "c5FLXW9RE_hb",
        "outputId": "4365956e-ffb3-4ffa-e118-6cfbf7b7ddff"
      },
      "source": [
        "# Checking the mode of Type Column\n",
        "play_s_df['Type'].mode()"
      ],
      "execution_count": 284,
      "outputs": [
        {
          "output_type": "execute_result",
          "data": {
            "text/plain": [
              "0    Free\n",
              "dtype: object"
            ]
          },
          "metadata": {},
          "execution_count": 284
        }
      ]
    },
    {
      "cell_type": "code",
      "metadata": {
        "id": "6ODal38B9q0V",
        "colab": {
          "base_uri": "https://localhost:8080/",
          "height": 80
        },
        "outputId": "db769d20-f218-4b49-cdf7-5831277ad9fb"
      },
      "source": [
        "# Display the row which have null values in Type Column. Apart from Free and Paid Type, this column also has 1 NaN, which is displayed below:\n",
        "play_s_df[play_s_df.Type.isna()]"
      ],
      "execution_count": 285,
      "outputs": [
        {
          "output_type": "execute_result",
          "data": {
            "text/html": [
              "<div>\n",
              "<style scoped>\n",
              "    .dataframe tbody tr th:only-of-type {\n",
              "        vertical-align: middle;\n",
              "    }\n",
              "\n",
              "    .dataframe tbody tr th {\n",
              "        vertical-align: top;\n",
              "    }\n",
              "\n",
              "    .dataframe thead th {\n",
              "        text-align: right;\n",
              "    }\n",
              "</style>\n",
              "<table border=\"1\" class=\"dataframe\">\n",
              "  <thead>\n",
              "    <tr style=\"text-align: right;\">\n",
              "      <th></th>\n",
              "      <th>App</th>\n",
              "      <th>Category</th>\n",
              "      <th>Rating</th>\n",
              "      <th>Reviews</th>\n",
              "      <th>Size</th>\n",
              "      <th>Installs</th>\n",
              "      <th>Type</th>\n",
              "      <th>Price</th>\n",
              "      <th>Content_Rating</th>\n",
              "      <th>Genres</th>\n",
              "      <th>Last_Updated</th>\n",
              "      <th>Current_Version</th>\n",
              "      <th>Android_Version</th>\n",
              "    </tr>\n",
              "  </thead>\n",
              "  <tbody>\n",
              "    <tr>\n",
              "      <th>9148</th>\n",
              "      <td>Command &amp; Conquer: Rivals</td>\n",
              "      <td>FAMILY</td>\n",
              "      <td>4.3</td>\n",
              "      <td>0</td>\n",
              "      <td>Varies with device</td>\n",
              "      <td>0</td>\n",
              "      <td>NaN</td>\n",
              "      <td>0</td>\n",
              "      <td>Everyone 10+</td>\n",
              "      <td>Strategy</td>\n",
              "      <td>2018-06-28</td>\n",
              "      <td>Varies with device</td>\n",
              "      <td>Varies with device</td>\n",
              "    </tr>\n",
              "  </tbody>\n",
              "</table>\n",
              "</div>"
            ],
            "text/plain": [
              "                            App  ...     Android_Version\n",
              "9148  Command & Conquer: Rivals  ...  Varies with device\n",
              "\n",
              "[1 rows x 13 columns]"
            ]
          },
          "metadata": {},
          "execution_count": 285
        }
      ]
    },
    {
      "cell_type": "code",
      "metadata": {
        "id": "1lvhnWyFEj6s"
      },
      "source": [
        "# We can see from above row that it contains one null value so we can replace it by mode of Type column\n",
        "# Because displayed row has a Price equal to 0, so from this we can conclude finally to change the value into 'Free'\n",
        "play_s_df['Type'] = play_s_df['Type'].fillna('Free')"
      ],
      "execution_count": 286,
      "outputs": []
    },
    {
      "cell_type": "code",
      "metadata": {
        "id": "jH1hrhbGo8lz",
        "colab": {
          "base_uri": "https://localhost:8080/"
        },
        "outputId": "2db4ba4d-ba63-482c-8969-9eec0c4093e1"
      },
      "source": [
        "# Checking the null values in Type Column\n",
        "play_s_df.Type.isnull().sum()"
      ],
      "execution_count": 287,
      "outputs": [
        {
          "output_type": "execute_result",
          "data": {
            "text/plain": [
              "0"
            ]
          },
          "metadata": {},
          "execution_count": 287
        }
      ]
    },
    {
      "cell_type": "markdown",
      "metadata": {
        "id": "U4Nb6SdIdHzk"
      },
      "source": [
        "#**Column: Size**"
      ]
    },
    {
      "cell_type": "code",
      "metadata": {
        "colab": {
          "base_uri": "https://localhost:8080/",
          "height": 49
        },
        "id": "9wKnNJtnCmU1",
        "outputId": "340cb673-bbc7-414c-e62b-66fd87620a79"
      },
      "source": [
        "# Checking null values \n",
        "play_s_df[play_s_df['Size'].isna()]"
      ],
      "execution_count": 288,
      "outputs": [
        {
          "output_type": "execute_result",
          "data": {
            "text/html": [
              "<div>\n",
              "<style scoped>\n",
              "    .dataframe tbody tr th:only-of-type {\n",
              "        vertical-align: middle;\n",
              "    }\n",
              "\n",
              "    .dataframe tbody tr th {\n",
              "        vertical-align: top;\n",
              "    }\n",
              "\n",
              "    .dataframe thead th {\n",
              "        text-align: right;\n",
              "    }\n",
              "</style>\n",
              "<table border=\"1\" class=\"dataframe\">\n",
              "  <thead>\n",
              "    <tr style=\"text-align: right;\">\n",
              "      <th></th>\n",
              "      <th>App</th>\n",
              "      <th>Category</th>\n",
              "      <th>Rating</th>\n",
              "      <th>Reviews</th>\n",
              "      <th>Size</th>\n",
              "      <th>Installs</th>\n",
              "      <th>Type</th>\n",
              "      <th>Price</th>\n",
              "      <th>Content_Rating</th>\n",
              "      <th>Genres</th>\n",
              "      <th>Last_Updated</th>\n",
              "      <th>Current_Version</th>\n",
              "      <th>Android_Version</th>\n",
              "    </tr>\n",
              "  </thead>\n",
              "  <tbody>\n",
              "  </tbody>\n",
              "</table>\n",
              "</div>"
            ],
            "text/plain": [
              "Empty DataFrame\n",
              "Columns: [App, Category, Rating, Reviews, Size, Installs, Type, Price, Content_Rating, Genres, Last_Updated, Current_Version, Android_Version]\n",
              "Index: []"
            ]
          },
          "metadata": {},
          "execution_count": 288
        }
      ]
    },
    {
      "cell_type": "code",
      "metadata": {
        "colab": {
          "base_uri": "https://localhost:8080/"
        },
        "id": "-nDA39alQmIt",
        "outputId": "a1ac0b1a-8462-4590-ffb4-ec40377a9772"
      },
      "source": [
        "# It returns a scalar value which is the count of all the unique values in the index\n",
        "play_s_df.Size.nunique()"
      ],
      "execution_count": 289,
      "outputs": [
        {
          "output_type": "execute_result",
          "data": {
            "text/plain": [
              "461"
            ]
          },
          "metadata": {},
          "execution_count": 289
        }
      ]
    },
    {
      "cell_type": "code",
      "metadata": {
        "id": "nujujkKadWmC",
        "colab": {
          "base_uri": "https://localhost:8080/"
        },
        "outputId": "3cc62277-eed0-4293-8053-df93e2f86f60"
      },
      "source": [
        "# Examining the Unique values\n",
        "play_s_df.Size.unique()[:7]"
      ],
      "execution_count": 290,
      "outputs": [
        {
          "output_type": "execute_result",
          "data": {
            "text/plain": [
              "array(['31M', '91k', '18M', '33M', '22M', 'Varies with device', '5.5M'],\n",
              "      dtype=object)"
            ]
          },
          "metadata": {},
          "execution_count": 290
        }
      ]
    },
    {
      "cell_type": "markdown",
      "metadata": {
        "id": "Ul6ubsv-QijL"
      },
      "source": [
        "### Above array of values shows that there is a different types values including such as '31M', 'Varies with device', '91k'."
      ]
    },
    {
      "cell_type": "markdown",
      "metadata": {
        "id": "k2UzOKegjFpK"
      },
      "source": [
        "### Amidst all the apps in this dataset, none has its size reach 1GB. All the values we have to parse either end with ‘M’ (Megabyte) or ‘k’ (kilobyte). So here we parsed the values in only MB(megabyte) as it is better way of representing the size in a dataset."
      ]
    },
    {
      "cell_type": "code",
      "metadata": {
        "id": "0XV4uwgfdWR-",
        "colab": {
          "base_uri": "https://localhost:8080/"
        },
        "outputId": "a6fd6ecb-9c6f-402c-e902-517784a03f8d"
      },
      "source": [
        "# Expressly Transforming the Variable Size value into proper float value\n",
        "play_s_df['Size'] = play_s_df.Size.apply(lambda x: str(x).replace(\"Varies with device\",'NaN') if \"Varies with device\" in str(x) else x)\n",
        "play_s_df['Size'] = play_s_df.Size.apply(lambda x: str(x).replace(\"M\",\"\") if \"M\" in str(x) else x)\n",
        "play_s_df['Size'] = play_s_df.Size.apply(lambda x: float(str(x).replace(\"k\",\"\"))/1024 if \"k\" in str(x) else x) # 1 MB = 1024kb\n",
        "play_s_df['Size'] = play_s_df['Size'].astype(float)\n",
        "play_s_df['Size'] = play_s_df['Size'].fillna(play_s_df['Size'].mean())\n",
        "play_s_df['Size'].dtype"
      ],
      "execution_count": 291,
      "outputs": [
        {
          "output_type": "execute_result",
          "data": {
            "text/plain": [
              "dtype('float64')"
            ]
          },
          "metadata": {},
          "execution_count": 291
        }
      ]
    },
    {
      "cell_type": "markdown",
      "metadata": {
        "id": "Ek5ZAFsNAVvZ"
      },
      "source": [
        "#**Column: Installs**"
      ]
    },
    {
      "cell_type": "code",
      "metadata": {
        "id": "QjCNGtap_oM-",
        "colab": {
          "base_uri": "https://localhost:8080/"
        },
        "outputId": "857f5e1d-9a13-4f96-88a7-c8693011d6ea"
      },
      "source": [
        "# Checking unique values in Column\n",
        "play_s_df.Installs.unique()"
      ],
      "execution_count": 292,
      "outputs": [
        {
          "output_type": "execute_result",
          "data": {
            "text/plain": [
              "array(['1,000,000+', '100,000+', '500,000+', '50,000+', '10,000,000+',\n",
              "       '5,000,000+', '10,000+', '50,000,000+', '100,000,000+', '5,000+',\n",
              "       '1,000+', '1,000,000,000+', '500+', '10+', '100+', '50+',\n",
              "       '500,000,000+', '5+', '1+', '0+', '0'], dtype=object)"
            ]
          },
          "metadata": {},
          "execution_count": 292
        }
      ]
    },
    {
      "cell_type": "markdown",
      "metadata": {
        "id": "durJi3HxN4m5"
      },
      "source": [
        "### Data type of Installs is object. We make similar procedures, which constructed in the 'Size'."
      ]
    },
    {
      "cell_type": "code",
      "metadata": {
        "id": "_bKZKTR0Mb0R",
        "colab": {
          "base_uri": "https://localhost:8080/"
        },
        "outputId": "c2e44f3b-f08a-4c9d-9dc1-102b00c4342c"
      },
      "source": [
        "# Now Transforming number of Installs into proper integer number \n",
        "play_s_df['Installs'] = play_s_df.Installs.apply(lambda x: str(x).replace(\"+\",\"\") if \"+\" in str(x) else x)\n",
        "play_s_df['Installs'] = play_s_df.Installs.apply(lambda x: str(x).replace(\",\",\"\") if \",\" in str(x) else x)\n",
        "play_s_df['Installs'] = play_s_df.Installs.astype(int)\n",
        "play_s_df['Installs'].dtype"
      ],
      "execution_count": 293,
      "outputs": [
        {
          "output_type": "execute_result",
          "data": {
            "text/plain": [
              "dtype('int64')"
            ]
          },
          "metadata": {},
          "execution_count": 293
        }
      ]
    },
    {
      "cell_type": "markdown",
      "metadata": {
        "id": "XG6sjlr7QzXW"
      },
      "source": [
        "# **Column: Price**"
      ]
    },
    {
      "cell_type": "code",
      "metadata": {
        "id": "Y-RXMM_gRfKY",
        "colab": {
          "base_uri": "https://localhost:8080/"
        },
        "outputId": "d75260d2-794c-46b5-8180-bef8c0050c88"
      },
      "source": [
        "# Observing the unique values in Column\n",
        "play_s_df.Price.min(),play_s_df.Price.max()"
      ],
      "execution_count": 294,
      "outputs": [
        {
          "output_type": "execute_result",
          "data": {
            "text/plain": [
              "('$0.99', '0')"
            ]
          },
          "metadata": {},
          "execution_count": 294
        }
      ]
    },
    {
      "cell_type": "markdown",
      "metadata": {
        "id": "4q_mjmMmRyG-"
      },
      "source": [
        "### As we look out for unique values that will be like this lead: ‘0’ if it is free, else a '$' sign followed by a floating-point number. Datatype of Price is object. We can make similar code as in Installs to get appropriate dtype. "
      ]
    },
    {
      "cell_type": "code",
      "metadata": {
        "id": "NeNLM7zi_u3a",
        "colab": {
          "base_uri": "https://localhost:8080/"
        },
        "outputId": "4ac72830-1ce5-4ea1-baa6-bc007c312455"
      },
      "source": [
        "play_s_df['Price'] = play_s_df['Price'].apply(lambda x: str(x).replace(\"$\",\"\") if \"$\" in str(x) else x)\n",
        "play_s_df['Price'] = play_s_df['Price'].astype(float)\n",
        "play_s_df['Price'].dtype"
      ],
      "execution_count": 295,
      "outputs": [
        {
          "output_type": "execute_result",
          "data": {
            "text/plain": [
              "dtype('float64')"
            ]
          },
          "metadata": {},
          "execution_count": 295
        }
      ]
    },
    {
      "cell_type": "markdown",
      "metadata": {
        "id": "3BZ1yfw7ELWU"
      },
      "source": [
        "# **Column: Current_Version**"
      ]
    },
    {
      "cell_type": "code",
      "metadata": {
        "id": "Ws_C-QPbEWXS",
        "colab": {
          "base_uri": "https://localhost:8080/"
        },
        "outputId": "38ee5876-b72e-402e-c894-062a11f221ae"
      },
      "source": [
        "# Observing the null values in Current_Version Column\n",
        "play_s_df.Current_Version.isnull().sum()"
      ],
      "execution_count": 296,
      "outputs": [
        {
          "output_type": "execute_result",
          "data": {
            "text/plain": [
              "8"
            ]
          },
          "metadata": {},
          "execution_count": 296
        }
      ]
    },
    {
      "cell_type": "code",
      "metadata": {
        "id": "6wRHH8lJEfW8",
        "colab": {
          "base_uri": "https://localhost:8080/",
          "height": 296
        },
        "outputId": "db8c186c-cb3c-4714-a1db-6f3774a5cd31"
      },
      "source": [
        "# Displaying NaN values which we have to fill with mode of Current_Version\n",
        "play_s_df[play_s_df.Current_Version.isna()]"
      ],
      "execution_count": 297,
      "outputs": [
        {
          "output_type": "execute_result",
          "data": {
            "text/html": [
              "<div>\n",
              "<style scoped>\n",
              "    .dataframe tbody tr th:only-of-type {\n",
              "        vertical-align: middle;\n",
              "    }\n",
              "\n",
              "    .dataframe tbody tr th {\n",
              "        vertical-align: top;\n",
              "    }\n",
              "\n",
              "    .dataframe thead th {\n",
              "        text-align: right;\n",
              "    }\n",
              "</style>\n",
              "<table border=\"1\" class=\"dataframe\">\n",
              "  <thead>\n",
              "    <tr style=\"text-align: right;\">\n",
              "      <th></th>\n",
              "      <th>App</th>\n",
              "      <th>Category</th>\n",
              "      <th>Rating</th>\n",
              "      <th>Reviews</th>\n",
              "      <th>Size</th>\n",
              "      <th>Installs</th>\n",
              "      <th>Type</th>\n",
              "      <th>Price</th>\n",
              "      <th>Content_Rating</th>\n",
              "      <th>Genres</th>\n",
              "      <th>Last_Updated</th>\n",
              "      <th>Current_Version</th>\n",
              "      <th>Android_Version</th>\n",
              "    </tr>\n",
              "  </thead>\n",
              "  <tbody>\n",
              "    <tr>\n",
              "      <th>10342</th>\n",
              "      <td>La Fe de Jesus</td>\n",
              "      <td>BOOKS_AND_REFERENCE</td>\n",
              "      <td>4.3</td>\n",
              "      <td>8</td>\n",
              "      <td>0.642578</td>\n",
              "      <td>1000</td>\n",
              "      <td>Free</td>\n",
              "      <td>0.00</td>\n",
              "      <td>Everyone</td>\n",
              "      <td>Books &amp; Reference</td>\n",
              "      <td>2017-01-31</td>\n",
              "      <td>NaN</td>\n",
              "      <td>3.0 and up</td>\n",
              "    </tr>\n",
              "    <tr>\n",
              "      <th>15</th>\n",
              "      <td>Learn To Draw Kawaii Characters</td>\n",
              "      <td>ART_AND_DESIGN</td>\n",
              "      <td>3.2</td>\n",
              "      <td>55</td>\n",
              "      <td>2.700000</td>\n",
              "      <td>5000</td>\n",
              "      <td>Free</td>\n",
              "      <td>0.00</td>\n",
              "      <td>Everyone</td>\n",
              "      <td>Art &amp; Design</td>\n",
              "      <td>2018-06-06</td>\n",
              "      <td>NaN</td>\n",
              "      <td>4.2 and up</td>\n",
              "    </tr>\n",
              "    <tr>\n",
              "      <th>7407</th>\n",
              "      <td>Calculate My IQ</td>\n",
              "      <td>FAMILY</td>\n",
              "      <td>4.3</td>\n",
              "      <td>44</td>\n",
              "      <td>7.200000</td>\n",
              "      <td>10000</td>\n",
              "      <td>Free</td>\n",
              "      <td>0.00</td>\n",
              "      <td>Everyone</td>\n",
              "      <td>Entertainment</td>\n",
              "      <td>2017-04-03</td>\n",
              "      <td>NaN</td>\n",
              "      <td>2.3 and up</td>\n",
              "    </tr>\n",
              "    <tr>\n",
              "      <th>6322</th>\n",
              "      <td>Virtual DJ Sound Mixer</td>\n",
              "      <td>TOOLS</td>\n",
              "      <td>4.2</td>\n",
              "      <td>4010</td>\n",
              "      <td>8.700000</td>\n",
              "      <td>500000</td>\n",
              "      <td>Free</td>\n",
              "      <td>0.00</td>\n",
              "      <td>Everyone</td>\n",
              "      <td>Tools</td>\n",
              "      <td>2017-05-10</td>\n",
              "      <td>NaN</td>\n",
              "      <td>4.0 and up</td>\n",
              "    </tr>\n",
              "    <tr>\n",
              "      <th>1553</th>\n",
              "      <td>Market Update Helper</td>\n",
              "      <td>LIBRARIES_AND_DEMO</td>\n",
              "      <td>4.1</td>\n",
              "      <td>20145</td>\n",
              "      <td>0.010742</td>\n",
              "      <td>1000000</td>\n",
              "      <td>Free</td>\n",
              "      <td>0.00</td>\n",
              "      <td>Everyone</td>\n",
              "      <td>Libraries &amp; Demo</td>\n",
              "      <td>2013-02-12</td>\n",
              "      <td>NaN</td>\n",
              "      <td>1.5 and up</td>\n",
              "    </tr>\n",
              "    <tr>\n",
              "      <th>7333</th>\n",
              "      <td>Dots puzzle</td>\n",
              "      <td>FAMILY</td>\n",
              "      <td>4.0</td>\n",
              "      <td>179</td>\n",
              "      <td>14.000000</td>\n",
              "      <td>50000</td>\n",
              "      <td>Paid</td>\n",
              "      <td>0.99</td>\n",
              "      <td>Everyone</td>\n",
              "      <td>Puzzle</td>\n",
              "      <td>2018-04-18</td>\n",
              "      <td>NaN</td>\n",
              "      <td>4.0 and up</td>\n",
              "    </tr>\n",
              "    <tr>\n",
              "      <th>7730</th>\n",
              "      <td>UFO-CQ</td>\n",
              "      <td>TOOLS</td>\n",
              "      <td>4.3</td>\n",
              "      <td>1</td>\n",
              "      <td>0.231445</td>\n",
              "      <td>10</td>\n",
              "      <td>Paid</td>\n",
              "      <td>0.99</td>\n",
              "      <td>Everyone</td>\n",
              "      <td>Tools</td>\n",
              "      <td>2016-07-04</td>\n",
              "      <td>NaN</td>\n",
              "      <td>2.0 and up</td>\n",
              "    </tr>\n",
              "    <tr>\n",
              "      <th>6803</th>\n",
              "      <td>BT Master</td>\n",
              "      <td>FAMILY</td>\n",
              "      <td>4.3</td>\n",
              "      <td>0</td>\n",
              "      <td>0.216797</td>\n",
              "      <td>100</td>\n",
              "      <td>Free</td>\n",
              "      <td>0.00</td>\n",
              "      <td>Everyone</td>\n",
              "      <td>Education</td>\n",
              "      <td>2016-11-06</td>\n",
              "      <td>NaN</td>\n",
              "      <td>1.6 and up</td>\n",
              "    </tr>\n",
              "  </tbody>\n",
              "</table>\n",
              "</div>"
            ],
            "text/plain": [
              "                                   App  ... Android_Version\n",
              "10342                   La Fe de Jesus  ...      3.0 and up\n",
              "15     Learn To Draw Kawaii Characters  ...      4.2 and up\n",
              "7407                   Calculate My IQ  ...      2.3 and up\n",
              "6322            Virtual DJ Sound Mixer  ...      4.0 and up\n",
              "1553              Market Update Helper  ...      1.5 and up\n",
              "7333                       Dots puzzle  ...      4.0 and up\n",
              "7730                            UFO-CQ  ...      2.0 and up\n",
              "6803                         BT Master  ...      1.6 and up\n",
              "\n",
              "[8 rows x 13 columns]"
            ]
          },
          "metadata": {},
          "execution_count": 297
        }
      ]
    },
    {
      "cell_type": "code",
      "metadata": {
        "id": "k1RV0POEEfSn"
      },
      "source": [
        "# # Filling NaN values with mode of Current_Version\n",
        "play_s_df['Current_Version'].fillna(str(play_s_df['Current_Version'].mode().values[0]), inplace=True)"
      ],
      "execution_count": 298,
      "outputs": []
    },
    {
      "cell_type": "markdown",
      "metadata": {
        "id": "8DVmVefz0fGZ"
      },
      "source": [
        "# **Column: Android_Version**"
      ]
    },
    {
      "cell_type": "code",
      "metadata": {
        "id": "r1OLGHMT0XJb",
        "colab": {
          "base_uri": "https://localhost:8080/"
        },
        "outputId": "6c60d2dd-034d-4de4-ec96-0c2f5595f861"
      },
      "source": [
        "# Observing the null values in Android_Version Column\n",
        "play_s_df.Android_Version.isnull().sum()"
      ],
      "execution_count": 299,
      "outputs": [
        {
          "output_type": "execute_result",
          "data": {
            "text/plain": [
              "2"
            ]
          },
          "metadata": {},
          "execution_count": 299
        }
      ]
    },
    {
      "cell_type": "code",
      "metadata": {
        "id": "9fDVWglR09-h",
        "colab": {
          "base_uri": "https://localhost:8080/",
          "height": 111
        },
        "outputId": "f3b189e0-58eb-4d9d-b1ec-6ecc40352908"
      },
      "source": [
        "# Displaying NaN values which we have to fill with mode of Current_Version\n",
        "play_s_df[play_s_df.Android_Version.isna()]"
      ],
      "execution_count": 300,
      "outputs": [
        {
          "output_type": "execute_result",
          "data": {
            "text/html": [
              "<div>\n",
              "<style scoped>\n",
              "    .dataframe tbody tr th:only-of-type {\n",
              "        vertical-align: middle;\n",
              "    }\n",
              "\n",
              "    .dataframe tbody tr th {\n",
              "        vertical-align: top;\n",
              "    }\n",
              "\n",
              "    .dataframe thead th {\n",
              "        text-align: right;\n",
              "    }\n",
              "</style>\n",
              "<table border=\"1\" class=\"dataframe\">\n",
              "  <thead>\n",
              "    <tr style=\"text-align: right;\">\n",
              "      <th></th>\n",
              "      <th>App</th>\n",
              "      <th>Category</th>\n",
              "      <th>Rating</th>\n",
              "      <th>Reviews</th>\n",
              "      <th>Size</th>\n",
              "      <th>Installs</th>\n",
              "      <th>Type</th>\n",
              "      <th>Price</th>\n",
              "      <th>Content_Rating</th>\n",
              "      <th>Genres</th>\n",
              "      <th>Last_Updated</th>\n",
              "      <th>Current_Version</th>\n",
              "      <th>Android_Version</th>\n",
              "    </tr>\n",
              "  </thead>\n",
              "  <tbody>\n",
              "    <tr>\n",
              "      <th>4453</th>\n",
              "      <td>[substratum] Vacuum: P</td>\n",
              "      <td>PERSONALIZATION</td>\n",
              "      <td>4.4</td>\n",
              "      <td>230</td>\n",
              "      <td>11.0</td>\n",
              "      <td>1000</td>\n",
              "      <td>Paid</td>\n",
              "      <td>1.49</td>\n",
              "      <td>Everyone</td>\n",
              "      <td>Personalization</td>\n",
              "      <td>2018-07-20</td>\n",
              "      <td>4.4</td>\n",
              "      <td>NaN</td>\n",
              "    </tr>\n",
              "    <tr>\n",
              "      <th>4490</th>\n",
              "      <td>Pi Dark [substratum]</td>\n",
              "      <td>PERSONALIZATION</td>\n",
              "      <td>4.5</td>\n",
              "      <td>189</td>\n",
              "      <td>2.1</td>\n",
              "      <td>10000</td>\n",
              "      <td>Free</td>\n",
              "      <td>0.00</td>\n",
              "      <td>Everyone</td>\n",
              "      <td>Personalization</td>\n",
              "      <td>2018-03-27</td>\n",
              "      <td>1.1</td>\n",
              "      <td>NaN</td>\n",
              "    </tr>\n",
              "  </tbody>\n",
              "</table>\n",
              "</div>"
            ],
            "text/plain": [
              "                         App         Category  ...  Current_Version  Android_Version\n",
              "4453  [substratum] Vacuum: P  PERSONALIZATION  ...              4.4              NaN\n",
              "4490    Pi Dark [substratum]  PERSONALIZATION  ...              1.1              NaN\n",
              "\n",
              "[2 rows x 13 columns]"
            ]
          },
          "metadata": {},
          "execution_count": 300
        }
      ]
    },
    {
      "cell_type": "code",
      "metadata": {
        "id": "17Ilt3jO1Eb1"
      },
      "source": [
        "# # Filling NaN values with mode of Android_Version and replacing 'and up' with empty quotes\n",
        "play_s_df['Android_Version'].fillna(str(play_s_df['Android_Version'].mode().values[0]), inplace=True)\n"
      ],
      "execution_count": 301,
      "outputs": []
    },
    {
      "cell_type": "code",
      "metadata": {
        "id": "C_QlPjzn5Plt",
        "colab": {
          "base_uri": "https://localhost:8080/"
        },
        "outputId": "8c9b005b-5979-4fac-b3ef-5cd84eaa0930"
      },
      "source": [
        "play_s_df.isnull().sum()"
      ],
      "execution_count": 302,
      "outputs": [
        {
          "output_type": "execute_result",
          "data": {
            "text/plain": [
              "App                0\n",
              "Category           0\n",
              "Rating             0\n",
              "Reviews            0\n",
              "Size               0\n",
              "Installs           0\n",
              "Type               0\n",
              "Price              0\n",
              "Content_Rating     0\n",
              "Genres             0\n",
              "Last_Updated       0\n",
              "Current_Version    0\n",
              "Android_Version    0\n",
              "dtype: int64"
            ]
          },
          "metadata": {},
          "execution_count": 302
        }
      ]
    },
    {
      "cell_type": "markdown",
      "metadata": {
        "id": "r6SvpREnThCZ"
      },
      "source": [
        "# **User Review** "
      ]
    },
    {
      "cell_type": "code",
      "metadata": {
        "colab": {
          "base_uri": "https://localhost:8080/",
          "height": 204
        },
        "id": "gqJ65nhJLkpZ",
        "outputId": "3a0d4185-7505-492c-a931-6b5ae0956b33"
      },
      "source": [
        "user_r_df.head()"
      ],
      "execution_count": 303,
      "outputs": [
        {
          "output_type": "execute_result",
          "data": {
            "text/html": [
              "<div>\n",
              "<style scoped>\n",
              "    .dataframe tbody tr th:only-of-type {\n",
              "        vertical-align: middle;\n",
              "    }\n",
              "\n",
              "    .dataframe tbody tr th {\n",
              "        vertical-align: top;\n",
              "    }\n",
              "\n",
              "    .dataframe thead th {\n",
              "        text-align: right;\n",
              "    }\n",
              "</style>\n",
              "<table border=\"1\" class=\"dataframe\">\n",
              "  <thead>\n",
              "    <tr style=\"text-align: right;\">\n",
              "      <th></th>\n",
              "      <th>App</th>\n",
              "      <th>Translated_Review</th>\n",
              "      <th>Sentiment</th>\n",
              "      <th>Sentiment_Polarity</th>\n",
              "      <th>Sentiment_Subjectivity</th>\n",
              "    </tr>\n",
              "  </thead>\n",
              "  <tbody>\n",
              "    <tr>\n",
              "      <th>0</th>\n",
              "      <td>10 Best Foods for You</td>\n",
              "      <td>I like eat delicious food. That's I'm cooking ...</td>\n",
              "      <td>Positive</td>\n",
              "      <td>1.00</td>\n",
              "      <td>0.533333</td>\n",
              "    </tr>\n",
              "    <tr>\n",
              "      <th>1</th>\n",
              "      <td>10 Best Foods for You</td>\n",
              "      <td>This help eating healthy exercise regular basis</td>\n",
              "      <td>Positive</td>\n",
              "      <td>0.25</td>\n",
              "      <td>0.288462</td>\n",
              "    </tr>\n",
              "    <tr>\n",
              "      <th>2</th>\n",
              "      <td>10 Best Foods for You</td>\n",
              "      <td>NaN</td>\n",
              "      <td>NaN</td>\n",
              "      <td>NaN</td>\n",
              "      <td>NaN</td>\n",
              "    </tr>\n",
              "    <tr>\n",
              "      <th>3</th>\n",
              "      <td>10 Best Foods for You</td>\n",
              "      <td>Works great especially going grocery store</td>\n",
              "      <td>Positive</td>\n",
              "      <td>0.40</td>\n",
              "      <td>0.875000</td>\n",
              "    </tr>\n",
              "    <tr>\n",
              "      <th>4</th>\n",
              "      <td>10 Best Foods for You</td>\n",
              "      <td>Best idea us</td>\n",
              "      <td>Positive</td>\n",
              "      <td>1.00</td>\n",
              "      <td>0.300000</td>\n",
              "    </tr>\n",
              "  </tbody>\n",
              "</table>\n",
              "</div>"
            ],
            "text/plain": [
              "                     App  ... Sentiment_Subjectivity\n",
              "0  10 Best Foods for You  ...               0.533333\n",
              "1  10 Best Foods for You  ...               0.288462\n",
              "2  10 Best Foods for You  ...                    NaN\n",
              "3  10 Best Foods for You  ...               0.875000\n",
              "4  10 Best Foods for You  ...               0.300000\n",
              "\n",
              "[5 rows x 5 columns]"
            ]
          },
          "metadata": {},
          "execution_count": 303
        }
      ]
    },
    {
      "cell_type": "code",
      "metadata": {
        "colab": {
          "base_uri": "https://localhost:8080/",
          "height": 204
        },
        "id": "CmMo9ZLJTn_K",
        "outputId": "febcc357-0b2d-4bc4-a334-73cd5ea57957"
      },
      "source": [
        "user_r_df.tail()"
      ],
      "execution_count": 304,
      "outputs": [
        {
          "output_type": "execute_result",
          "data": {
            "text/html": [
              "<div>\n",
              "<style scoped>\n",
              "    .dataframe tbody tr th:only-of-type {\n",
              "        vertical-align: middle;\n",
              "    }\n",
              "\n",
              "    .dataframe tbody tr th {\n",
              "        vertical-align: top;\n",
              "    }\n",
              "\n",
              "    .dataframe thead th {\n",
              "        text-align: right;\n",
              "    }\n",
              "</style>\n",
              "<table border=\"1\" class=\"dataframe\">\n",
              "  <thead>\n",
              "    <tr style=\"text-align: right;\">\n",
              "      <th></th>\n",
              "      <th>App</th>\n",
              "      <th>Translated_Review</th>\n",
              "      <th>Sentiment</th>\n",
              "      <th>Sentiment_Polarity</th>\n",
              "      <th>Sentiment_Subjectivity</th>\n",
              "    </tr>\n",
              "  </thead>\n",
              "  <tbody>\n",
              "    <tr>\n",
              "      <th>64290</th>\n",
              "      <td>Houzz Interior Design Ideas</td>\n",
              "      <td>NaN</td>\n",
              "      <td>NaN</td>\n",
              "      <td>NaN</td>\n",
              "      <td>NaN</td>\n",
              "    </tr>\n",
              "    <tr>\n",
              "      <th>64291</th>\n",
              "      <td>Houzz Interior Design Ideas</td>\n",
              "      <td>NaN</td>\n",
              "      <td>NaN</td>\n",
              "      <td>NaN</td>\n",
              "      <td>NaN</td>\n",
              "    </tr>\n",
              "    <tr>\n",
              "      <th>64292</th>\n",
              "      <td>Houzz Interior Design Ideas</td>\n",
              "      <td>NaN</td>\n",
              "      <td>NaN</td>\n",
              "      <td>NaN</td>\n",
              "      <td>NaN</td>\n",
              "    </tr>\n",
              "    <tr>\n",
              "      <th>64293</th>\n",
              "      <td>Houzz Interior Design Ideas</td>\n",
              "      <td>NaN</td>\n",
              "      <td>NaN</td>\n",
              "      <td>NaN</td>\n",
              "      <td>NaN</td>\n",
              "    </tr>\n",
              "    <tr>\n",
              "      <th>64294</th>\n",
              "      <td>Houzz Interior Design Ideas</td>\n",
              "      <td>NaN</td>\n",
              "      <td>NaN</td>\n",
              "      <td>NaN</td>\n",
              "      <td>NaN</td>\n",
              "    </tr>\n",
              "  </tbody>\n",
              "</table>\n",
              "</div>"
            ],
            "text/plain": [
              "                               App  ... Sentiment_Subjectivity\n",
              "64290  Houzz Interior Design Ideas  ...                    NaN\n",
              "64291  Houzz Interior Design Ideas  ...                    NaN\n",
              "64292  Houzz Interior Design Ideas  ...                    NaN\n",
              "64293  Houzz Interior Design Ideas  ...                    NaN\n",
              "64294  Houzz Interior Design Ideas  ...                    NaN\n",
              "\n",
              "[5 rows x 5 columns]"
            ]
          },
          "metadata": {},
          "execution_count": 304
        }
      ]
    },
    {
      "cell_type": "code",
      "metadata": {
        "colab": {
          "base_uri": "https://localhost:8080/"
        },
        "id": "LGEc64oRcZON",
        "outputId": "78b269a7-f06b-46a0-d496-01abb3fd37fa"
      },
      "source": [
        "user_r_df.columns"
      ],
      "execution_count": 305,
      "outputs": [
        {
          "output_type": "execute_result",
          "data": {
            "text/plain": [
              "Index(['App', 'Translated_Review', 'Sentiment', 'Sentiment_Polarity',\n",
              "       'Sentiment_Subjectivity'],\n",
              "      dtype='object')"
            ]
          },
          "metadata": {},
          "execution_count": 305
        }
      ]
    },
    {
      "cell_type": "code",
      "metadata": {
        "colab": {
          "base_uri": "https://localhost:8080/"
        },
        "id": "UgkoPSTvTtHC",
        "outputId": "9b7637d6-ab2b-4dcd-85ef-788074de5cb0"
      },
      "source": [
        "user_r_df.shape"
      ],
      "execution_count": 306,
      "outputs": [
        {
          "output_type": "execute_result",
          "data": {
            "text/plain": [
              "(64295, 5)"
            ]
          },
          "metadata": {},
          "execution_count": 306
        }
      ]
    },
    {
      "cell_type": "code",
      "metadata": {
        "colab": {
          "base_uri": "https://localhost:8080/",
          "height": 296
        },
        "id": "T6jjZ3dsTztL",
        "outputId": "2a913d8c-695b-497c-caae-7cae3e779b22"
      },
      "source": [
        "user_r_df.describe()"
      ],
      "execution_count": 307,
      "outputs": [
        {
          "output_type": "execute_result",
          "data": {
            "text/html": [
              "<div>\n",
              "<style scoped>\n",
              "    .dataframe tbody tr th:only-of-type {\n",
              "        vertical-align: middle;\n",
              "    }\n",
              "\n",
              "    .dataframe tbody tr th {\n",
              "        vertical-align: top;\n",
              "    }\n",
              "\n",
              "    .dataframe thead th {\n",
              "        text-align: right;\n",
              "    }\n",
              "</style>\n",
              "<table border=\"1\" class=\"dataframe\">\n",
              "  <thead>\n",
              "    <tr style=\"text-align: right;\">\n",
              "      <th></th>\n",
              "      <th>Sentiment_Polarity</th>\n",
              "      <th>Sentiment_Subjectivity</th>\n",
              "    </tr>\n",
              "  </thead>\n",
              "  <tbody>\n",
              "    <tr>\n",
              "      <th>count</th>\n",
              "      <td>37432.000000</td>\n",
              "      <td>37432.000000</td>\n",
              "    </tr>\n",
              "    <tr>\n",
              "      <th>mean</th>\n",
              "      <td>0.182146</td>\n",
              "      <td>0.492704</td>\n",
              "    </tr>\n",
              "    <tr>\n",
              "      <th>std</th>\n",
              "      <td>0.351301</td>\n",
              "      <td>0.259949</td>\n",
              "    </tr>\n",
              "    <tr>\n",
              "      <th>min</th>\n",
              "      <td>-1.000000</td>\n",
              "      <td>0.000000</td>\n",
              "    </tr>\n",
              "    <tr>\n",
              "      <th>25%</th>\n",
              "      <td>0.000000</td>\n",
              "      <td>0.357143</td>\n",
              "    </tr>\n",
              "    <tr>\n",
              "      <th>50%</th>\n",
              "      <td>0.150000</td>\n",
              "      <td>0.514286</td>\n",
              "    </tr>\n",
              "    <tr>\n",
              "      <th>75%</th>\n",
              "      <td>0.400000</td>\n",
              "      <td>0.650000</td>\n",
              "    </tr>\n",
              "    <tr>\n",
              "      <th>max</th>\n",
              "      <td>1.000000</td>\n",
              "      <td>1.000000</td>\n",
              "    </tr>\n",
              "  </tbody>\n",
              "</table>\n",
              "</div>"
            ],
            "text/plain": [
              "       Sentiment_Polarity  Sentiment_Subjectivity\n",
              "count        37432.000000            37432.000000\n",
              "mean             0.182146                0.492704\n",
              "std              0.351301                0.259949\n",
              "min             -1.000000                0.000000\n",
              "25%              0.000000                0.357143\n",
              "50%              0.150000                0.514286\n",
              "75%              0.400000                0.650000\n",
              "max              1.000000                1.000000"
            ]
          },
          "metadata": {},
          "execution_count": 307
        }
      ]
    },
    {
      "cell_type": "markdown",
      "metadata": {
        "id": "DvreIZrH1Xef"
      },
      "source": [
        "# **Merging two dataset**\n",
        "## While functioning with CSV files during data analysis, there are two files named as User Reviews and Play Store Data in which we have to commit the data visualization. For that there’s a need to merge these two files into a single data frame. Favorably, the Pandas library contribute us with various methods such as merge, concat, and join to make this feasible. \n",
        "\n"
      ]
    },
    {
      "cell_type": "code",
      "metadata": {
        "id": "4i6_qCSa7EQJ"
      },
      "source": [
        "# Defining variable to two merged dataset as merged_df\n",
        "merged_df = play_s_df.merge(user_r_df, on='App')"
      ],
      "execution_count": 308,
      "outputs": []
    },
    {
      "cell_type": "code",
      "metadata": {
        "id": "AzjRIew27EK7",
        "colab": {
          "base_uri": "https://localhost:8080/",
          "height": 716
        },
        "outputId": "46e2e63b-5f50-4610-c5de-55210aef0a0f"
      },
      "source": [
        "merged_df.head(10)"
      ],
      "execution_count": 309,
      "outputs": [
        {
          "output_type": "execute_result",
          "data": {
            "text/html": [
              "<div>\n",
              "<style scoped>\n",
              "    .dataframe tbody tr th:only-of-type {\n",
              "        vertical-align: middle;\n",
              "    }\n",
              "\n",
              "    .dataframe tbody tr th {\n",
              "        vertical-align: top;\n",
              "    }\n",
              "\n",
              "    .dataframe thead th {\n",
              "        text-align: right;\n",
              "    }\n",
              "</style>\n",
              "<table border=\"1\" class=\"dataframe\">\n",
              "  <thead>\n",
              "    <tr style=\"text-align: right;\">\n",
              "      <th></th>\n",
              "      <th>App</th>\n",
              "      <th>Category</th>\n",
              "      <th>Rating</th>\n",
              "      <th>Reviews</th>\n",
              "      <th>Size</th>\n",
              "      <th>Installs</th>\n",
              "      <th>Type</th>\n",
              "      <th>Price</th>\n",
              "      <th>Content_Rating</th>\n",
              "      <th>Genres</th>\n",
              "      <th>Last_Updated</th>\n",
              "      <th>Current_Version</th>\n",
              "      <th>Android_Version</th>\n",
              "      <th>Translated_Review</th>\n",
              "      <th>Sentiment</th>\n",
              "      <th>Sentiment_Polarity</th>\n",
              "      <th>Sentiment_Subjectivity</th>\n",
              "    </tr>\n",
              "  </thead>\n",
              "  <tbody>\n",
              "    <tr>\n",
              "      <th>0</th>\n",
              "      <td>DreamTrips</td>\n",
              "      <td>TRAVEL_AND_LOCAL</td>\n",
              "      <td>4.7</td>\n",
              "      <td>9971</td>\n",
              "      <td>22.0</td>\n",
              "      <td>500000</td>\n",
              "      <td>Free</td>\n",
              "      <td>0.0</td>\n",
              "      <td>Teen</td>\n",
              "      <td>Travel &amp; Local</td>\n",
              "      <td>2018-08-06</td>\n",
              "      <td>1.28.1</td>\n",
              "      <td>5.0 and up</td>\n",
              "      <td>NaN</td>\n",
              "      <td>NaN</td>\n",
              "      <td>NaN</td>\n",
              "      <td>NaN</td>\n",
              "    </tr>\n",
              "    <tr>\n",
              "      <th>1</th>\n",
              "      <td>DreamTrips</td>\n",
              "      <td>TRAVEL_AND_LOCAL</td>\n",
              "      <td>4.7</td>\n",
              "      <td>9971</td>\n",
              "      <td>22.0</td>\n",
              "      <td>500000</td>\n",
              "      <td>Free</td>\n",
              "      <td>0.0</td>\n",
              "      <td>Teen</td>\n",
              "      <td>Travel &amp; Local</td>\n",
              "      <td>2018-08-06</td>\n",
              "      <td>1.28.1</td>\n",
              "      <td>5.0 and up</td>\n",
              "      <td>NaN</td>\n",
              "      <td>NaN</td>\n",
              "      <td>NaN</td>\n",
              "      <td>NaN</td>\n",
              "    </tr>\n",
              "    <tr>\n",
              "      <th>2</th>\n",
              "      <td>DreamTrips</td>\n",
              "      <td>TRAVEL_AND_LOCAL</td>\n",
              "      <td>4.7</td>\n",
              "      <td>9971</td>\n",
              "      <td>22.0</td>\n",
              "      <td>500000</td>\n",
              "      <td>Free</td>\n",
              "      <td>0.0</td>\n",
              "      <td>Teen</td>\n",
              "      <td>Travel &amp; Local</td>\n",
              "      <td>2018-08-06</td>\n",
              "      <td>1.28.1</td>\n",
              "      <td>5.0 and up</td>\n",
              "      <td>NaN</td>\n",
              "      <td>NaN</td>\n",
              "      <td>NaN</td>\n",
              "      <td>NaN</td>\n",
              "    </tr>\n",
              "    <tr>\n",
              "      <th>3</th>\n",
              "      <td>DreamTrips</td>\n",
              "      <td>TRAVEL_AND_LOCAL</td>\n",
              "      <td>4.7</td>\n",
              "      <td>9971</td>\n",
              "      <td>22.0</td>\n",
              "      <td>500000</td>\n",
              "      <td>Free</td>\n",
              "      <td>0.0</td>\n",
              "      <td>Teen</td>\n",
              "      <td>Travel &amp; Local</td>\n",
              "      <td>2018-08-06</td>\n",
              "      <td>1.28.1</td>\n",
              "      <td>5.0 and up</td>\n",
              "      <td>NaN</td>\n",
              "      <td>NaN</td>\n",
              "      <td>NaN</td>\n",
              "      <td>NaN</td>\n",
              "    </tr>\n",
              "    <tr>\n",
              "      <th>4</th>\n",
              "      <td>DreamTrips</td>\n",
              "      <td>TRAVEL_AND_LOCAL</td>\n",
              "      <td>4.7</td>\n",
              "      <td>9971</td>\n",
              "      <td>22.0</td>\n",
              "      <td>500000</td>\n",
              "      <td>Free</td>\n",
              "      <td>0.0</td>\n",
              "      <td>Teen</td>\n",
              "      <td>Travel &amp; Local</td>\n",
              "      <td>2018-08-06</td>\n",
              "      <td>1.28.1</td>\n",
              "      <td>5.0 and up</td>\n",
              "      <td>NaN</td>\n",
              "      <td>NaN</td>\n",
              "      <td>NaN</td>\n",
              "      <td>NaN</td>\n",
              "    </tr>\n",
              "    <tr>\n",
              "      <th>5</th>\n",
              "      <td>DreamTrips</td>\n",
              "      <td>TRAVEL_AND_LOCAL</td>\n",
              "      <td>4.7</td>\n",
              "      <td>9971</td>\n",
              "      <td>22.0</td>\n",
              "      <td>500000</td>\n",
              "      <td>Free</td>\n",
              "      <td>0.0</td>\n",
              "      <td>Teen</td>\n",
              "      <td>Travel &amp; Local</td>\n",
              "      <td>2018-08-06</td>\n",
              "      <td>1.28.1</td>\n",
              "      <td>5.0 and up</td>\n",
              "      <td>NaN</td>\n",
              "      <td>NaN</td>\n",
              "      <td>NaN</td>\n",
              "      <td>NaN</td>\n",
              "    </tr>\n",
              "    <tr>\n",
              "      <th>6</th>\n",
              "      <td>DreamTrips</td>\n",
              "      <td>TRAVEL_AND_LOCAL</td>\n",
              "      <td>4.7</td>\n",
              "      <td>9971</td>\n",
              "      <td>22.0</td>\n",
              "      <td>500000</td>\n",
              "      <td>Free</td>\n",
              "      <td>0.0</td>\n",
              "      <td>Teen</td>\n",
              "      <td>Travel &amp; Local</td>\n",
              "      <td>2018-08-06</td>\n",
              "      <td>1.28.1</td>\n",
              "      <td>5.0 and up</td>\n",
              "      <td>I'm grateful booking engine dreamtrips. I've a...</td>\n",
              "      <td>Positive</td>\n",
              "      <td>0.2000</td>\n",
              "      <td>0.2000</td>\n",
              "    </tr>\n",
              "    <tr>\n",
              "      <th>7</th>\n",
              "      <td>DreamTrips</td>\n",
              "      <td>TRAVEL_AND_LOCAL</td>\n",
              "      <td>4.7</td>\n",
              "      <td>9971</td>\n",
              "      <td>22.0</td>\n",
              "      <td>500000</td>\n",
              "      <td>Free</td>\n",
              "      <td>0.0</td>\n",
              "      <td>Teen</td>\n",
              "      <td>Travel &amp; Local</td>\n",
              "      <td>2018-08-06</td>\n",
              "      <td>1.28.1</td>\n",
              "      <td>5.0 and up</td>\n",
              "      <td>This great app. I One book plane, hotel, dream...</td>\n",
              "      <td>Positive</td>\n",
              "      <td>0.8500</td>\n",
              "      <td>0.8750</td>\n",
              "    </tr>\n",
              "    <tr>\n",
              "      <th>8</th>\n",
              "      <td>DreamTrips</td>\n",
              "      <td>TRAVEL_AND_LOCAL</td>\n",
              "      <td>4.7</td>\n",
              "      <td>9971</td>\n",
              "      <td>22.0</td>\n",
              "      <td>500000</td>\n",
              "      <td>Free</td>\n",
              "      <td>0.0</td>\n",
              "      <td>Teen</td>\n",
              "      <td>Travel &amp; Local</td>\n",
              "      <td>2018-08-06</td>\n",
              "      <td>1.28.1</td>\n",
              "      <td>5.0 and up</td>\n",
              "      <td>Its slow rovia keeps going back disappointed g...</td>\n",
              "      <td>Negative</td>\n",
              "      <td>-0.1375</td>\n",
              "      <td>0.4125</td>\n",
              "    </tr>\n",
              "    <tr>\n",
              "      <th>9</th>\n",
              "      <td>DreamTrips</td>\n",
              "      <td>TRAVEL_AND_LOCAL</td>\n",
              "      <td>4.7</td>\n",
              "      <td>9971</td>\n",
              "      <td>22.0</td>\n",
              "      <td>500000</td>\n",
              "      <td>Free</td>\n",
              "      <td>0.0</td>\n",
              "      <td>Teen</td>\n",
              "      <td>Travel &amp; Local</td>\n",
              "      <td>2018-08-06</td>\n",
              "      <td>1.28.1</td>\n",
              "      <td>5.0 and up</td>\n",
              "      <td>Try get dreams trips Germany UK</td>\n",
              "      <td>Neutral</td>\n",
              "      <td>0.0000</td>\n",
              "      <td>0.0000</td>\n",
              "    </tr>\n",
              "  </tbody>\n",
              "</table>\n",
              "</div>"
            ],
            "text/plain": [
              "          App          Category  ...  Sentiment_Polarity  Sentiment_Subjectivity\n",
              "0  DreamTrips  TRAVEL_AND_LOCAL  ...                 NaN                     NaN\n",
              "1  DreamTrips  TRAVEL_AND_LOCAL  ...                 NaN                     NaN\n",
              "2  DreamTrips  TRAVEL_AND_LOCAL  ...                 NaN                     NaN\n",
              "3  DreamTrips  TRAVEL_AND_LOCAL  ...                 NaN                     NaN\n",
              "4  DreamTrips  TRAVEL_AND_LOCAL  ...                 NaN                     NaN\n",
              "5  DreamTrips  TRAVEL_AND_LOCAL  ...                 NaN                     NaN\n",
              "6  DreamTrips  TRAVEL_AND_LOCAL  ...              0.2000                  0.2000\n",
              "7  DreamTrips  TRAVEL_AND_LOCAL  ...              0.8500                  0.8750\n",
              "8  DreamTrips  TRAVEL_AND_LOCAL  ...             -0.1375                  0.4125\n",
              "9  DreamTrips  TRAVEL_AND_LOCAL  ...              0.0000                  0.0000\n",
              "\n",
              "[10 rows x 17 columns]"
            ]
          },
          "metadata": {},
          "execution_count": 309
        }
      ]
    },
    {
      "cell_type": "code",
      "metadata": {
        "id": "QB4CtAdtHTQI",
        "colab": {
          "base_uri": "https://localhost:8080/"
        },
        "outputId": "dc0f8340-1cc5-4831-faaf-47d9ad73280c"
      },
      "source": [
        "# Checking the null values in merged dataset\n",
        "merged_df.isnull().sum()"
      ],
      "execution_count": 310,
      "outputs": [
        {
          "output_type": "execute_result",
          "data": {
            "text/plain": [
              "App                           0\n",
              "Category                      0\n",
              "Rating                        0\n",
              "Reviews                       0\n",
              "Size                          0\n",
              "Installs                      0\n",
              "Type                          0\n",
              "Price                         0\n",
              "Content_Rating                0\n",
              "Genres                        0\n",
              "Last_Updated                  0\n",
              "Current_Version               0\n",
              "Android_Version               0\n",
              "Translated_Review         27480\n",
              "Sentiment                 27475\n",
              "Sentiment_Polarity        27475\n",
              "Sentiment_Subjectivity    27475\n",
              "dtype: int64"
            ]
          },
          "metadata": {},
          "execution_count": 310
        }
      ]
    },
    {
      "cell_type": "code",
      "metadata": {
        "id": "KCgvYyPwHTOK"
      },
      "source": [
        "# Eliminating the null values as this affect the performance and accuracy of our data analysis. \n",
        "merged_df.dropna(inplace=True)"
      ],
      "execution_count": 311,
      "outputs": []
    },
    {
      "cell_type": "code",
      "metadata": {
        "id": "TaAq3Sba7EJJ",
        "colab": {
          "base_uri": "https://localhost:8080/"
        },
        "outputId": "6b3aa9b9-8404-4a88-ae10-3ad0199cfa69"
      },
      "source": [
        "# Acquiring details for merged dataset after removing all null values\n",
        "merged_df.info()"
      ],
      "execution_count": 312,
      "outputs": [
        {
          "output_type": "stream",
          "name": "stdout",
          "text": [
            "<class 'pandas.core.frame.DataFrame'>\n",
            "Int64Index: 38494 entries, 6 to 65971\n",
            "Data columns (total 17 columns):\n",
            " #   Column                  Non-Null Count  Dtype         \n",
            "---  ------                  --------------  -----         \n",
            " 0   App                     38494 non-null  object        \n",
            " 1   Category                38494 non-null  object        \n",
            " 2   Rating                  38494 non-null  float64       \n",
            " 3   Reviews                 38494 non-null  int64         \n",
            " 4   Size                    38494 non-null  float64       \n",
            " 5   Installs                38494 non-null  int64         \n",
            " 6   Type                    38494 non-null  object        \n",
            " 7   Price                   38494 non-null  float64       \n",
            " 8   Content_Rating          38494 non-null  object        \n",
            " 9   Genres                  38494 non-null  object        \n",
            " 10  Last_Updated            38494 non-null  datetime64[ns]\n",
            " 11  Current_Version         38494 non-null  object        \n",
            " 12  Android_Version         38494 non-null  object        \n",
            " 13  Translated_Review       38494 non-null  object        \n",
            " 14  Sentiment               38494 non-null  object        \n",
            " 15  Sentiment_Polarity      38494 non-null  float64       \n",
            " 16  Sentiment_Subjectivity  38494 non-null  float64       \n",
            "dtypes: datetime64[ns](1), float64(5), int64(2), object(9)\n",
            "memory usage: 5.3+ MB\n"
          ]
        }
      ]
    },
    {
      "cell_type": "code",
      "metadata": {
        "id": "NiSiSNwTOvGJ",
        "colab": {
          "base_uri": "https://localhost:8080/",
          "height": 296
        },
        "outputId": "eb83f479-6c3e-4988-ad4a-ba7eeb9e7d2a"
      },
      "source": [
        "# Computing some basic statistical details like mean, max, std, IQR,etc\n",
        "merged_df.describe()"
      ],
      "execution_count": 313,
      "outputs": [
        {
          "output_type": "execute_result",
          "data": {
            "text/html": [
              "<div>\n",
              "<style scoped>\n",
              "    .dataframe tbody tr th:only-of-type {\n",
              "        vertical-align: middle;\n",
              "    }\n",
              "\n",
              "    .dataframe tbody tr th {\n",
              "        vertical-align: top;\n",
              "    }\n",
              "\n",
              "    .dataframe thead th {\n",
              "        text-align: right;\n",
              "    }\n",
              "</style>\n",
              "<table border=\"1\" class=\"dataframe\">\n",
              "  <thead>\n",
              "    <tr style=\"text-align: right;\">\n",
              "      <th></th>\n",
              "      <th>Rating</th>\n",
              "      <th>Reviews</th>\n",
              "      <th>Size</th>\n",
              "      <th>Installs</th>\n",
              "      <th>Price</th>\n",
              "      <th>Sentiment_Polarity</th>\n",
              "      <th>Sentiment_Subjectivity</th>\n",
              "    </tr>\n",
              "  </thead>\n",
              "  <tbody>\n",
              "    <tr>\n",
              "      <th>count</th>\n",
              "      <td>38494.000000</td>\n",
              "      <td>3.849400e+04</td>\n",
              "      <td>38494.000000</td>\n",
              "      <td>3.849400e+04</td>\n",
              "      <td>38494.000000</td>\n",
              "      <td>38494.000000</td>\n",
              "      <td>38494.000000</td>\n",
              "    </tr>\n",
              "    <tr>\n",
              "      <th>mean</th>\n",
              "      <td>4.303788</td>\n",
              "      <td>1.765131e+06</td>\n",
              "      <td>27.486221</td>\n",
              "      <td>4.698885e+07</td>\n",
              "      <td>0.101921</td>\n",
              "      <td>0.176653</td>\n",
              "      <td>0.494367</td>\n",
              "    </tr>\n",
              "    <tr>\n",
              "      <th>std</th>\n",
              "      <td>0.298290</td>\n",
              "      <td>6.180830e+06</td>\n",
              "      <td>22.865211</td>\n",
              "      <td>1.453509e+08</td>\n",
              "      <td>1.258622</td>\n",
              "      <td>0.347698</td>\n",
              "      <td>0.254838</td>\n",
              "    </tr>\n",
              "    <tr>\n",
              "      <th>min</th>\n",
              "      <td>2.600000</td>\n",
              "      <td>1.140000e+02</td>\n",
              "      <td>0.008301</td>\n",
              "      <td>1.000000e+03</td>\n",
              "      <td>0.000000</td>\n",
              "      <td>-1.000000</td>\n",
              "      <td>0.000000</td>\n",
              "    </tr>\n",
              "    <tr>\n",
              "      <th>25%</th>\n",
              "      <td>4.200000</td>\n",
              "      <td>1.179800e+04</td>\n",
              "      <td>14.000000</td>\n",
              "      <td>1.000000e+06</td>\n",
              "      <td>0.000000</td>\n",
              "      <td>0.000000</td>\n",
              "      <td>0.366667</td>\n",
              "    </tr>\n",
              "    <tr>\n",
              "      <th>50%</th>\n",
              "      <td>4.300000</td>\n",
              "      <td>6.941700e+04</td>\n",
              "      <td>20.524013</td>\n",
              "      <td>5.000000e+06</td>\n",
              "      <td>0.000000</td>\n",
              "      <td>0.148052</td>\n",
              "      <td>0.513333</td>\n",
              "    </tr>\n",
              "    <tr>\n",
              "      <th>75%</th>\n",
              "      <td>4.500000</td>\n",
              "      <td>8.071550e+05</td>\n",
              "      <td>31.000000</td>\n",
              "      <td>1.000000e+07</td>\n",
              "      <td>0.000000</td>\n",
              "      <td>0.400000</td>\n",
              "      <td>0.650000</td>\n",
              "    </tr>\n",
              "    <tr>\n",
              "      <th>max</th>\n",
              "      <td>4.900000</td>\n",
              "      <td>7.815831e+07</td>\n",
              "      <td>99.000000</td>\n",
              "      <td>1.000000e+09</td>\n",
              "      <td>29.990000</td>\n",
              "      <td>1.000000</td>\n",
              "      <td>1.000000</td>\n",
              "    </tr>\n",
              "  </tbody>\n",
              "</table>\n",
              "</div>"
            ],
            "text/plain": [
              "             Rating       Reviews  ...  Sentiment_Polarity  Sentiment_Subjectivity\n",
              "count  38494.000000  3.849400e+04  ...        38494.000000            38494.000000\n",
              "mean       4.303788  1.765131e+06  ...            0.176653                0.494367\n",
              "std        0.298290  6.180830e+06  ...            0.347698                0.254838\n",
              "min        2.600000  1.140000e+02  ...           -1.000000                0.000000\n",
              "25%        4.200000  1.179800e+04  ...            0.000000                0.366667\n",
              "50%        4.300000  6.941700e+04  ...            0.148052                0.513333\n",
              "75%        4.500000  8.071550e+05  ...            0.400000                0.650000\n",
              "max        4.900000  7.815831e+07  ...            1.000000                1.000000\n",
              "\n",
              "[8 rows x 7 columns]"
            ]
          },
          "metadata": {},
          "execution_count": 313
        }
      ]
    },
    {
      "cell_type": "markdown",
      "metadata": {
        "id": "n1-AzBB3MRGR"
      },
      "source": [
        "# **Exploratory Analysis and Visualization**"
      ]
    },
    {
      "cell_type": "markdown",
      "metadata": {
        "id": "Vlvx8K1b-Bj4"
      },
      "source": [
        "# **1- Correlation Map**\n",
        "### Let us find correlation between columns in a dataframe. Correlation map is used to detect the pairwise correlation between all quantitative measurables in a dataset. "
      ]
    },
    {
      "cell_type": "code",
      "metadata": {
        "id": "z0W4GGkRQG1d",
        "colab": {
          "base_uri": "https://localhost:8080/",
          "height": 662
        },
        "outputId": "204ed943-c0f6-4559-f9a5-7698fe503b2c"
      },
      "source": [
        "# Correlation map\n",
        "f,ax = plt.subplots(figsize=(12,9))\n",
        "sns.heatmap(merged_df.corr(), annot=True, linewidths=.8, fmt= '.2f',ax=ax)\n",
        "plt.show()"
      ],
      "execution_count": 314,
      "outputs": [
        {
          "output_type": "display_data",
          "data": {
            "image/png": "[encoded data removed]",
            "text/plain": [
              "<Figure size 864x648 with 2 Axes>"
            ]
          },
          "metadata": {}
        }
      ]
    },
    {
      "cell_type": "markdown",
      "metadata": {
        "id": "pLEx1GpVddXM"
      },
      "source": [
        "\n",
        "## 2 - Most Downloaded apps in Play Store Dataset\n",
        "\n",
        "\n",
        "\n"
      ]
    },
    {
      "cell_type": "code",
      "metadata": {
        "id": "8TsABG-RQNPz",
        "colab": {
          "base_uri": "https://localhost:8080/",
          "height": 204
        },
        "outputId": "3de73178-a824-4cee-f66c-ef92b54855be"
      },
      "source": [
        "# Counting the Apps within in each Category over all Columns and saving it in Category_df dataframe\n",
        "\n",
        "Category_df=merged_df.groupby(merged_df.Category).count()\n",
        "Category_df.reset_index(inplace=True)\n",
        "Category_df = Category_df[['Category', 'Installs']]\n",
        "Category_df = Category_df.sort_values(by=['Installs'], ascending=False)\n",
        "Category_df.head(5)"
      ],
      "execution_count": 353,
      "outputs": [
        {
          "output_type": "execute_result",
          "data": {
            "text/html": [
              "<div>\n",
              "<style scoped>\n",
              "    .dataframe tbody tr th:only-of-type {\n",
              "        vertical-align: middle;\n",
              "    }\n",
              "\n",
              "    .dataframe tbody tr th {\n",
              "        vertical-align: top;\n",
              "    }\n",
              "\n",
              "    .dataframe thead th {\n",
              "        text-align: right;\n",
              "    }\n",
              "</style>\n",
              "<table border=\"1\" class=\"dataframe\">\n",
              "  <thead>\n",
              "    <tr style=\"text-align: right;\">\n",
              "      <th></th>\n",
              "      <th>Category</th>\n",
              "      <th>Installs</th>\n",
              "    </tr>\n",
              "  </thead>\n",
              "  <tbody>\n",
              "    <tr>\n",
              "      <th>14</th>\n",
              "      <td>GAME</td>\n",
              "      <td>6678</td>\n",
              "    </tr>\n",
              "    <tr>\n",
              "      <th>11</th>\n",
              "      <td>FAMILY</td>\n",
              "      <td>4349</td>\n",
              "    </tr>\n",
              "    <tr>\n",
              "      <th>15</th>\n",
              "      <td>HEALTH_AND_FITNESS</td>\n",
              "      <td>2249</td>\n",
              "    </tr>\n",
              "    <tr>\n",
              "      <th>7</th>\n",
              "      <td>DATING</td>\n",
              "      <td>1715</td>\n",
              "    </tr>\n",
              "    <tr>\n",
              "      <th>28</th>\n",
              "      <td>SPORTS</td>\n",
              "      <td>1701</td>\n",
              "    </tr>\n",
              "  </tbody>\n",
              "</table>\n",
              "</div>"
            ],
            "text/plain": [
              "              Category  Installs\n",
              "14                GAME      6678\n",
              "11              FAMILY      4349\n",
              "15  HEALTH_AND_FITNESS      2249\n",
              "7               DATING      1715\n",
              "28              SPORTS      1701"
            ]
          },
          "metadata": {},
          "execution_count": 353
        }
      ]
    },
    {
      "cell_type": "code",
      "metadata": {
        "id": "pjRT7VSmSTF3",
        "colab": {
          "base_uri": "https://localhost:8080/",
          "height": 573
        },
        "outputId": "1eff6aaf-7e2a-4825-d0d2-d8557d714d4f"
      },
      "source": [
        "# Ordered sorting of Categories with respect to number of installs\n",
        "\n",
        "sns.set_style(\"whitegrid\")\n",
        "plt.figure(figsize=(11,9))\n",
        "category_view=sns.barplot(x=Category_df.Installs, y=Category_df.Category, data=Category_df)\n",
        "category_view.set(xlabel='No.of Apps',title=\"Category VS Apps\")\n",
        "plt.show();"
      ],
      "execution_count": 356,
      "outputs": [
        {
          "output_type": "display_data",
          "data": {
            "image/png": "[encoded data removed]",
            "text/plain": [
              "<Figure size 792x648 with 1 Axes>"
            ]
          },
          "metadata": {}
        }
      ]
    },
    {
      "cell_type": "markdown",
      "metadata": {
        "id": "Op6B1oBsjFqW"
      },
      "source": [
        "## We can conclude from above that Highest number of Installs found in **Game** Category and then followed by **Family,** **Health and Fitness,** **Dating,** **Sports**."
      ]
    },
    {
      "cell_type": "markdown",
      "metadata": {
        "id": "fbH_4MVvROEm"
      },
      "source": [
        "# 3 - Average rating per category"
      ]
    },
    {
      "cell_type": "code",
      "metadata": {
        "id": "cc4XElyMhT5I",
        "colab": {
          "base_uri": "https://localhost:8080/",
          "height": 358
        },
        "outputId": "5cd176f6-dc69-4ce9-ba25-71dd22fdef36"
      },
      "source": [
        "# Computing mean over Rating column over each apps of Category\n",
        "# Let us make a dataframe storing the above intution named as mean_rating_df \n",
        "mean_rating_df=merged_df.groupby(merged_df.Category).mean()\n",
        "mean_rating_df.reset_index(inplace=True)\n",
        "mean_rating_df =mean_rating_df.sort_values(by='Rating',ascending=False)\n",
        "mean_rating_df = mean_rating_df[['Category','Rating']]\n",
        "mean_rating_df.head(10)"
      ],
      "execution_count": 317,
      "outputs": [
        {
          "output_type": "execute_result",
          "data": {
            "text/html": [
              "<div>\n",
              "<style scoped>\n",
              "    .dataframe tbody tr th:only-of-type {\n",
              "        vertical-align: middle;\n",
              "    }\n",
              "\n",
              "    .dataframe tbody tr th {\n",
              "        vertical-align: top;\n",
              "    }\n",
              "\n",
              "    .dataframe thead th {\n",
              "        text-align: right;\n",
              "    }\n",
              "</style>\n",
              "<table border=\"1\" class=\"dataframe\">\n",
              "  <thead>\n",
              "    <tr style=\"text-align: right;\">\n",
              "      <th></th>\n",
              "      <th>Category</th>\n",
              "      <th>Rating</th>\n",
              "    </tr>\n",
              "  </thead>\n",
              "  <tbody>\n",
              "    <tr>\n",
              "      <th>1</th>\n",
              "      <td>AUTO_AND_VEHICLES</td>\n",
              "      <td>4.577855</td>\n",
              "    </tr>\n",
              "    <tr>\n",
              "      <th>14</th>\n",
              "      <td>GAME</td>\n",
              "      <td>4.441015</td>\n",
              "    </tr>\n",
              "    <tr>\n",
              "      <th>15</th>\n",
              "      <td>HEALTH_AND_FITNESS</td>\n",
              "      <td>4.392308</td>\n",
              "    </tr>\n",
              "    <tr>\n",
              "      <th>13</th>\n",
              "      <td>FOOD_AND_DRINK</td>\n",
              "      <td>4.385266</td>\n",
              "    </tr>\n",
              "    <tr>\n",
              "      <th>11</th>\n",
              "      <td>FAMILY</td>\n",
              "      <td>4.366015</td>\n",
              "    </tr>\n",
              "    <tr>\n",
              "      <th>25</th>\n",
              "      <td>PRODUCTIVITY</td>\n",
              "      <td>4.365619</td>\n",
              "    </tr>\n",
              "    <tr>\n",
              "      <th>3</th>\n",
              "      <td>BOOKS_AND_REFERENCE</td>\n",
              "      <td>4.362366</td>\n",
              "    </tr>\n",
              "    <tr>\n",
              "      <th>23</th>\n",
              "      <td>PERSONALIZATION</td>\n",
              "      <td>4.337886</td>\n",
              "    </tr>\n",
              "    <tr>\n",
              "      <th>10</th>\n",
              "      <td>EVENTS</td>\n",
              "      <td>4.336076</td>\n",
              "    </tr>\n",
              "    <tr>\n",
              "      <th>24</th>\n",
              "      <td>PHOTOGRAPHY</td>\n",
              "      <td>4.327041</td>\n",
              "    </tr>\n",
              "  </tbody>\n",
              "</table>\n",
              "</div>"
            ],
            "text/plain": [
              "               Category    Rating\n",
              "1     AUTO_AND_VEHICLES  4.577855\n",
              "14                 GAME  4.441015\n",
              "15   HEALTH_AND_FITNESS  4.392308\n",
              "13       FOOD_AND_DRINK  4.385266\n",
              "11               FAMILY  4.366015\n",
              "25         PRODUCTIVITY  4.365619\n",
              "3   BOOKS_AND_REFERENCE  4.362366\n",
              "23      PERSONALIZATION  4.337886\n",
              "10               EVENTS  4.336076\n",
              "24          PHOTOGRAPHY  4.327041"
            ]
          },
          "metadata": {},
          "execution_count": 317
        }
      ]
    },
    {
      "cell_type": "code",
      "metadata": {
        "colab": {
          "base_uri": "https://localhost:8080/",
          "height": 920
        },
        "id": "CtLhU3nh0rxE",
        "outputId": "3aa55269-c290-49d3-9e6c-a18dea116bde"
      },
      "source": [
        "fig, ax = plt.subplots(figsize=(13,13))\n",
        "mean_rating_df=mean_rating_df.sort_values(by=\"Rating\",ascending=True)\n",
        "# add the plot\n",
        "ax1=sns.barplot(x=mean_rating_df.Category, y=mean_rating_df.Rating, data=mean_rating_df, capsize=0.2, ax=ax)\n",
        "# add the annotation\n",
        "for bar in ax1.patches:\n",
        "   ax1.annotate(format(bar.get_height(), '.2f'),\n",
        "                   (bar.get_x() + bar.get_width() / 2,\n",
        "                    bar.get_height()), ha='center', va='center',\n",
        "                   size=10, xytext=(0, 8),\n",
        "                   textcoords='offset points')\n",
        "plt.xticks(rotation=90)\n",
        "ax.set(xlabel='Category',title=\"Category vs Avg Rating\")\n",
        "plt.show()"
      ],
      "execution_count": 318,
      "outputs": [
        {
          "output_type": "display_data",
          "data": {
            "image/png": "[encoded data removed]",
            "text/plain": [
              "<Figure size 936x936 with 1 Axes>"
            ]
          },
          "metadata": {}
        }
      ]
    },
    {
      "cell_type": "markdown",
      "metadata": {
        "id": "CtpucHNUpI-l"
      },
      "source": [
        "###  We can see from the Category vs Avg Rating graph that **Auto and Vehicles** Category have average number of ratings with 4.58 as more and **Libraries and Demo** Category with 4.06 as less."
      ]
    },
    {
      "cell_type": "markdown",
      "metadata": {
        "id": "MwqaQnPe8fVa"
      },
      "source": [
        "# 4 - Top 10 Categories"
      ]
    },
    {
      "cell_type": "code",
      "metadata": {
        "colab": {
          "base_uri": "https://localhost:8080/",
          "height": 388
        },
        "id": "Ebca3Oz3_XXJ",
        "outputId": "1a14f9cf-c876-40cd-c5ac-ec263bb09630"
      },
      "source": [
        "cat_head"
      ],
      "execution_count": 361,
      "outputs": [
        {
          "output_type": "execute_result",
          "data": {
            "text/html": [
              "<div>\n",
              "<style scoped>\n",
              "    .dataframe tbody tr th:only-of-type {\n",
              "        vertical-align: middle;\n",
              "    }\n",
              "\n",
              "    .dataframe tbody tr th {\n",
              "        vertical-align: top;\n",
              "    }\n",
              "\n",
              "    .dataframe thead th {\n",
              "        text-align: right;\n",
              "    }\n",
              "</style>\n",
              "<table border=\"1\" class=\"dataframe\">\n",
              "  <thead>\n",
              "    <tr style=\"text-align: right;\">\n",
              "      <th></th>\n",
              "      <th>Count of Apps</th>\n",
              "    </tr>\n",
              "    <tr>\n",
              "      <th>Category</th>\n",
              "      <th></th>\n",
              "    </tr>\n",
              "  </thead>\n",
              "  <tbody>\n",
              "    <tr>\n",
              "      <th>GAME</th>\n",
              "      <td>6678</td>\n",
              "    </tr>\n",
              "    <tr>\n",
              "      <th>FAMILY</th>\n",
              "      <td>4349</td>\n",
              "    </tr>\n",
              "    <tr>\n",
              "      <th>HEALTH_AND_FITNESS</th>\n",
              "      <td>2249</td>\n",
              "    </tr>\n",
              "    <tr>\n",
              "      <th>DATING</th>\n",
              "      <td>1715</td>\n",
              "    </tr>\n",
              "    <tr>\n",
              "      <th>SPORTS</th>\n",
              "      <td>1701</td>\n",
              "    </tr>\n",
              "    <tr>\n",
              "      <th>TRAVEL_AND_LOCAL</th>\n",
              "      <td>1692</td>\n",
              "    </tr>\n",
              "    <tr>\n",
              "      <th>PRODUCTIVITY</th>\n",
              "      <td>1463</td>\n",
              "    </tr>\n",
              "    <tr>\n",
              "      <th>TOOLS</th>\n",
              "      <td>1451</td>\n",
              "    </tr>\n",
              "    <tr>\n",
              "      <th>FINANCE</th>\n",
              "      <td>1435</td>\n",
              "    </tr>\n",
              "    <tr>\n",
              "      <th>MEDICAL</th>\n",
              "      <td>1400</td>\n",
              "    </tr>\n",
              "  </tbody>\n",
              "</table>\n",
              "</div>"
            ],
            "text/plain": [
              "                    Count of Apps\n",
              "Category                         \n",
              "GAME                         6678\n",
              "FAMILY                       4349\n",
              "HEALTH_AND_FITNESS           2249\n",
              "DATING                       1715\n",
              "SPORTS                       1701\n",
              "TRAVEL_AND_LOCAL             1692\n",
              "PRODUCTIVITY                 1463\n",
              "TOOLS                        1451\n",
              "FINANCE                      1435\n",
              "MEDICAL                      1400"
            ]
          },
          "metadata": {},
          "execution_count": 361
        }
      ]
    },
    {
      "cell_type": "code",
      "metadata": {
        "id": "X5o56tgh53xZ"
      },
      "source": [
        "# Top 10 \n",
        "cat_head= Category.head(10)\n",
        "top_10_cat = merged_df[merged_df['Category'].isin(cat_head.index)] "
      ],
      "execution_count": 366,
      "outputs": []
    },
    {
      "cell_type": "code",
      "metadata": {
        "id": "tCvNO5hp6R0X",
        "colab": {
          "base_uri": "https://localhost:8080/",
          "height": 367
        },
        "outputId": "8bc83cb1-a7af-47d4-d17f-9cae0d496cee"
      },
      "source": [
        "# Representing stripplot with Category on x-axis and Rating on y-axis\n",
        "fig2, ax = plt.subplots(figsize=(22,5))\n",
        "sns.stripplot(x='Category', y='Rating', data=top_10_cat, palette='muted', order= top_10_cat['Category'].value_counts().index)\n",
        "plt.xlabel('\\n Top 10 Categories', fontsize= 10, fontweight = 'bold')\n",
        "plt.ylabel('Rating', fontsize= 10, fontweight = 'bold')\n",
        "plt.title('Rating of Top 10 Categories', fontsize = 15, fontweight = 'bold')\n",
        "plt.savefig('Rating of Top 10 Categories.png')\n",
        "plt.show()"
      ],
      "execution_count": 367,
      "outputs": [
        {
          "output_type": "display_data",
          "data": {
            "image/png": "[encoded data removed]",
            "text/plain": [
              "<Figure size 1584x360 with 1 Axes>"
            ]
          },
          "metadata": {}
        }
      ]
    },
    {
      "cell_type": "markdown",
      "metadata": {
        "id": "7gG-HSJLC2wC"
      },
      "source": [
        "# 5 - Price vs Category vs Type "
      ]
    },
    {
      "cell_type": "code",
      "metadata": {
        "id": "XMxYdZRgJG3j",
        "colab": {
          "base_uri": "https://localhost:8080/",
          "height": 671
        },
        "outputId": "49772e1f-50b6-4546-dabd-d3a50b6822a9"
      },
      "source": [
        "# Plotting relplot for visualizing statistical relationships between scatter plots and line plots.\n",
        "sns.relplot(y=\"Category\", x=\"Price\", hue=\"Type\", size=\"Reviews\", sizes=(80, 600), alpha=1, palette=\"bright\", height=9, data=merged_df)"
      ],
      "execution_count": 377,
      "outputs": [
        {
          "output_type": "execute_result",
          "data": {
            "text/plain": [
              "<seaborn.axisgrid.FacetGrid at 0x7fa7d100d290>"
            ]
          },
          "metadata": {},
          "execution_count": 377
        },
        {
          "output_type": "display_data",
          "data": {
            "image/png": "[encoded data removed]",
            "text/plain": [
              "<Figure size 714.85x648 with 1 Axes>"
            ]
          },
          "metadata": {}
        }
      ]
    },
    {
      "cell_type": "markdown",
      "metadata": {
        "id": "48CWl5AcYYPZ"
      },
      "source": [
        "## Price Vs Ratings plot delivers that Type of Apps is either PAID or FREE, Circle is larger if Reviews are more. **Social,** **Family,** **Game,** **Sports** Categories have highest number of reviews."
      ]
    },
    {
      "cell_type": "markdown",
      "metadata": {
        "id": "tGY_L4-QLWKg"
      },
      "source": [
        "# 6 - Type vs Sentiment Polarity"
      ]
    },
    {
      "cell_type": "code",
      "metadata": {
        "id": "bVizbEHC_kmU",
        "colab": {
          "base_uri": "https://localhost:8080/",
          "height": 576
        },
        "outputId": "24fa9fe0-470d-41a7-b2fa-13f90fca154b"
      },
      "source": [
        "plt.figure(figsize=(10,8))\n",
        "sns.stripplot(x=merged_df['Type'],y=merged_df['Sentiment_Polarity'],jitter=True)\n",
        "plt.title('Free Vs Paid Sentiment Polarity',fontdict={'fontsize':30})\n",
        "sns.set_style(\"whitegrid\")\n",
        "plt.xticks(fontsize=20)\n",
        "plt.yticks(fontsize=20)"
      ],
      "execution_count": 325,
      "outputs": [
        {
          "output_type": "execute_result",
          "data": {
            "text/plain": [
              "(array([-1.25, -1.  , -0.75, -0.5 , -0.25,  0.  ,  0.25,  0.5 ,  0.75,\n",
              "         1.  ,  1.25]), <a list of 11 Text major ticklabel objects>)"
            ]
          },
          "metadata": {},
          "execution_count": 325
        },
        {
          "output_type": "display_data",
          "data": {
            "image/png": "[encoded data removed]",
            "text/plain": [
              "<Figure size 720x576 with 1 Axes>"
            ]
          },
          "metadata": {}
        }
      ]
    },
    {
      "cell_type": "markdown",
      "metadata": {
        "id": "71yzxa8fBiDa"
      },
      "source": [
        "#Type vs Sentiment_Polarity graph clearly shows that Paid Apps are less likely to recieve bad reviews and Free apps have a more equal distribution of Setiment Polarity.\n"
      ]
    },
    {
      "cell_type": "markdown",
      "metadata": {
        "id": "xVIlLFt4MOAw"
      },
      "source": [
        "# 7 - Category vs Apps vs Sentiment"
      ]
    },
    {
      "cell_type": "code",
      "metadata": {
        "id": "8ZDr26fi_uD3",
        "colab": {
          "base_uri": "https://localhost:8080/",
          "height": 572
        },
        "outputId": "9d035f7f-ee67-456d-ff99-e138bc66c62e"
      },
      "source": [
        "plt.figure(figsize=(14,5))\n",
        "sns.countplot(x=merged_df['Category'],hue=merged_df['Sentiment'],orient='y',palette='Dark2')\n",
        "plt.xticks(fontsize=15 , rotation=90)\n",
        "plt.yticks(fontsize=20)\n",
        "plt.xlabel('Categories', fontsize = 20)\n",
        "plt.ylabel('Count', fontsize = 20)\n",
        "plt.legend(prop={'size': 20})\n",
        "plt.title('Types of Reviews for each Category',fontdict={'fontsize':30})"
      ],
      "execution_count": 388,
      "outputs": [
        {
          "output_type": "execute_result",
          "data": {
            "text/plain": [
              "Text(0.5, 1.0, 'Types of Reviews for each Category')"
            ]
          },
          "metadata": {},
          "execution_count": 388
        },
        {
          "output_type": "display_data",
          "data": {
            "image/png": "[encoded data removed]",
            "text/plain": [
              "<Figure size 1008x360 with 1 Axes>"
            ]
          },
          "metadata": {}
        }
      ]
    },
    {
      "cell_type": "markdown",
      "metadata": {
        "id": "X6ZkP1Z0IIsV"
      },
      "source": [
        "## **Game** Category appears to have the most Positive and Negative Reviews. Shows volatility of Game Category. **Health and Fitness** appears to have least Negative reviews in relation to its positive reviews."
      ]
    },
    {
      "cell_type": "code",
      "metadata": {
        "colab": {
          "base_uri": "https://localhost:8080/",
          "height": 1000
        },
        "id": "x_hVbfeEOZ5Q",
        "outputId": "6405e89a-9faa-4df6-b508-e8bd3aeac2d1"
      },
      "source": [
        "top_installed_and_rated_apps = merged_df.sort_values(by=[\"Rating\", \"Sentiment_Polarity\"], ascending=False)\n",
        "top_installed_and_rated_apps.head(10)"
      ],
      "execution_count": 396,
      "outputs": [
        {
          "output_type": "execute_result",
          "data": {
            "text/html": [
              "<div>\n",
              "<style scoped>\n",
              "    .dataframe tbody tr th:only-of-type {\n",
              "        vertical-align: middle;\n",
              "    }\n",
              "\n",
              "    .dataframe tbody tr th {\n",
              "        vertical-align: top;\n",
              "    }\n",
              "\n",
              "    .dataframe thead th {\n",
              "        text-align: right;\n",
              "    }\n",
              "</style>\n",
              "<table border=\"1\" class=\"dataframe\">\n",
              "  <thead>\n",
              "    <tr style=\"text-align: right;\">\n",
              "      <th></th>\n",
              "      <th>App</th>\n",
              "      <th>Category</th>\n",
              "      <th>Rating</th>\n",
              "      <th>Reviews</th>\n",
              "      <th>Size</th>\n",
              "      <th>Installs</th>\n",
              "      <th>Type</th>\n",
              "      <th>Price</th>\n",
              "      <th>Content_Rating</th>\n",
              "      <th>Genres</th>\n",
              "      <th>Last_Updated</th>\n",
              "      <th>Current_Version</th>\n",
              "      <th>Android_Version</th>\n",
              "      <th>Translated_Review</th>\n",
              "      <th>Sentiment</th>\n",
              "      <th>Sentiment_Polarity</th>\n",
              "      <th>Sentiment_Subjectivity</th>\n",
              "      <th>Month</th>\n",
              "    </tr>\n",
              "  </thead>\n",
              "  <tbody>\n",
              "    <tr>\n",
              "      <th>13946</th>\n",
              "      <td>DMV Permit Practice Test 2018 Edition</td>\n",
              "      <td>AUTO_AND_VEHICLES</td>\n",
              "      <td>4.9</td>\n",
              "      <td>6090</td>\n",
              "      <td>27.0</td>\n",
              "      <td>100000</td>\n",
              "      <td>Free</td>\n",
              "      <td>0.0</td>\n",
              "      <td>Everyone</td>\n",
              "      <td>Auto &amp; Vehicles</td>\n",
              "      <td>2018-07-03</td>\n",
              "      <td>1.7</td>\n",
              "      <td>4.2 and up</td>\n",
              "      <td>Great learning tool, son studying written I us...</td>\n",
              "      <td>Positive</td>\n",
              "      <td>1.000000</td>\n",
              "      <td>0.750000</td>\n",
              "      <td>7</td>\n",
              "    </tr>\n",
              "    <tr>\n",
              "      <th>13947</th>\n",
              "      <td>DMV Permit Practice Test 2018 Edition</td>\n",
              "      <td>AUTO_AND_VEHICLES</td>\n",
              "      <td>4.9</td>\n",
              "      <td>6090</td>\n",
              "      <td>27.0</td>\n",
              "      <td>100000</td>\n",
              "      <td>Free</td>\n",
              "      <td>0.0</td>\n",
              "      <td>Everyone</td>\n",
              "      <td>Auto &amp; Vehicles</td>\n",
              "      <td>2018-07-03</td>\n",
              "      <td>1.7</td>\n",
              "      <td>4.2 and up</td>\n",
              "      <td>Awesome, breaks things sections makes easier s...</td>\n",
              "      <td>Positive</td>\n",
              "      <td>1.000000</td>\n",
              "      <td>1.000000</td>\n",
              "      <td>7</td>\n",
              "    </tr>\n",
              "    <tr>\n",
              "      <th>13948</th>\n",
              "      <td>DMV Permit Practice Test 2018 Edition</td>\n",
              "      <td>AUTO_AND_VEHICLES</td>\n",
              "      <td>4.9</td>\n",
              "      <td>6090</td>\n",
              "      <td>27.0</td>\n",
              "      <td>100000</td>\n",
              "      <td>Free</td>\n",
              "      <td>0.0</td>\n",
              "      <td>Everyone</td>\n",
              "      <td>Auto &amp; Vehicles</td>\n",
              "      <td>2018-07-03</td>\n",
              "      <td>1.7</td>\n",
              "      <td>4.2 and up</td>\n",
              "      <td>best help pass permit tests.</td>\n",
              "      <td>Positive</td>\n",
              "      <td>1.000000</td>\n",
              "      <td>0.300000</td>\n",
              "      <td>7</td>\n",
              "    </tr>\n",
              "    <tr>\n",
              "      <th>7426</th>\n",
              "      <td>CDL Practice Test 2018 Edition</td>\n",
              "      <td>AUTO_AND_VEHICLES</td>\n",
              "      <td>4.9</td>\n",
              "      <td>7774</td>\n",
              "      <td>17.0</td>\n",
              "      <td>100000</td>\n",
              "      <td>Free</td>\n",
              "      <td>0.0</td>\n",
              "      <td>Everyone</td>\n",
              "      <td>Auto &amp; Vehicles</td>\n",
              "      <td>2018-07-03</td>\n",
              "      <td>1.7</td>\n",
              "      <td>4.2 and up</td>\n",
              "      <td>It great practice looking get CDL license.</td>\n",
              "      <td>Positive</td>\n",
              "      <td>0.800000</td>\n",
              "      <td>0.750000</td>\n",
              "      <td>7</td>\n",
              "    </tr>\n",
              "    <tr>\n",
              "      <th>13928</th>\n",
              "      <td>DMV Permit Practice Test 2018 Edition</td>\n",
              "      <td>AUTO_AND_VEHICLES</td>\n",
              "      <td>4.9</td>\n",
              "      <td>6090</td>\n",
              "      <td>27.0</td>\n",
              "      <td>100000</td>\n",
              "      <td>Free</td>\n",
              "      <td>0.0</td>\n",
              "      <td>Everyone</td>\n",
              "      <td>Auto &amp; Vehicles</td>\n",
              "      <td>2018-07-03</td>\n",
              "      <td>1.7</td>\n",
              "      <td>4.2 and up</td>\n",
              "      <td>It's great wish came manual, study practice ta...</td>\n",
              "      <td>Positive</td>\n",
              "      <td>0.800000</td>\n",
              "      <td>0.750000</td>\n",
              "      <td>7</td>\n",
              "    </tr>\n",
              "    <tr>\n",
              "      <th>34773</th>\n",
              "      <td>Down Dog: Great Yoga Anywhere</td>\n",
              "      <td>HEALTH_AND_FITNESS</td>\n",
              "      <td>4.9</td>\n",
              "      <td>28945</td>\n",
              "      <td>12.0</td>\n",
              "      <td>500000</td>\n",
              "      <td>Free</td>\n",
              "      <td>0.0</td>\n",
              "      <td>Teen</td>\n",
              "      <td>Health &amp; Fitness</td>\n",
              "      <td>2018-05-17</td>\n",
              "      <td>2.6.1</td>\n",
              "      <td>4.2 and up</td>\n",
              "      <td>Absolute BEST Yoga app. Her verbal cues perfec...</td>\n",
              "      <td>Positive</td>\n",
              "      <td>0.528571</td>\n",
              "      <td>0.664286</td>\n",
              "      <td>5</td>\n",
              "    </tr>\n",
              "    <tr>\n",
              "      <th>7412</th>\n",
              "      <td>CDL Practice Test 2018 Edition</td>\n",
              "      <td>AUTO_AND_VEHICLES</td>\n",
              "      <td>4.9</td>\n",
              "      <td>7774</td>\n",
              "      <td>17.0</td>\n",
              "      <td>100000</td>\n",
              "      <td>Free</td>\n",
              "      <td>0.0</td>\n",
              "      <td>Everyone</td>\n",
              "      <td>Auto &amp; Vehicles</td>\n",
              "      <td>2018-07-03</td>\n",
              "      <td>1.7</td>\n",
              "      <td>4.2 and up</td>\n",
              "      <td>I never thought I would find helpful like guys...</td>\n",
              "      <td>Positive</td>\n",
              "      <td>0.520000</td>\n",
              "      <td>0.500000</td>\n",
              "      <td>7</td>\n",
              "    </tr>\n",
              "    <tr>\n",
              "      <th>7440</th>\n",
              "      <td>CDL Practice Test 2018 Edition</td>\n",
              "      <td>AUTO_AND_VEHICLES</td>\n",
              "      <td>4.9</td>\n",
              "      <td>7774</td>\n",
              "      <td>17.0</td>\n",
              "      <td>100000</td>\n",
              "      <td>Free</td>\n",
              "      <td>0.0</td>\n",
              "      <td>Everyone</td>\n",
              "      <td>Auto &amp; Vehicles</td>\n",
              "      <td>2018-07-03</td>\n",
              "      <td>1.7</td>\n",
              "      <td>4.2 and up</td>\n",
              "      <td>This app is bomb!! My love I WILL PASS THE CDL...</td>\n",
              "      <td>Positive</td>\n",
              "      <td>0.500000</td>\n",
              "      <td>0.600000</td>\n",
              "      <td>7</td>\n",
              "    </tr>\n",
              "    <tr>\n",
              "      <th>13939</th>\n",
              "      <td>DMV Permit Practice Test 2018 Edition</td>\n",
              "      <td>AUTO_AND_VEHICLES</td>\n",
              "      <td>4.9</td>\n",
              "      <td>6090</td>\n",
              "      <td>27.0</td>\n",
              "      <td>100000</td>\n",
              "      <td>Free</td>\n",
              "      <td>0.0</td>\n",
              "      <td>Everyone</td>\n",
              "      <td>Auto &amp; Vehicles</td>\n",
              "      <td>2018-07-03</td>\n",
              "      <td>1.7</td>\n",
              "      <td>4.2 and up</td>\n",
              "      <td>Excellent questions goes back missed questions...</td>\n",
              "      <td>Positive</td>\n",
              "      <td>0.500000</td>\n",
              "      <td>0.500000</td>\n",
              "      <td>7</td>\n",
              "    </tr>\n",
              "    <tr>\n",
              "      <th>13943</th>\n",
              "      <td>DMV Permit Practice Test 2018 Edition</td>\n",
              "      <td>AUTO_AND_VEHICLES</td>\n",
              "      <td>4.9</td>\n",
              "      <td>6090</td>\n",
              "      <td>27.0</td>\n",
              "      <td>100000</td>\n",
              "      <td>Free</td>\n",
              "      <td>0.0</td>\n",
              "      <td>Everyone</td>\n",
              "      <td>Auto &amp; Vehicles</td>\n",
              "      <td>2018-07-03</td>\n",
              "      <td>1.7</td>\n",
              "      <td>4.2 and up</td>\n",
              "      <td>Amazing incredibly helpful studying learning e...</td>\n",
              "      <td>Positive</td>\n",
              "      <td>0.500000</td>\n",
              "      <td>0.933333</td>\n",
              "      <td>7</td>\n",
              "    </tr>\n",
              "  </tbody>\n",
              "</table>\n",
              "</div>"
            ],
            "text/plain": [
              "                                         App  ... Month\n",
              "13946  DMV Permit Practice Test 2018 Edition  ...     7\n",
              "13947  DMV Permit Practice Test 2018 Edition  ...     7\n",
              "13948  DMV Permit Practice Test 2018 Edition  ...     7\n",
              "7426          CDL Practice Test 2018 Edition  ...     7\n",
              "13928  DMV Permit Practice Test 2018 Edition  ...     7\n",
              "34773          Down Dog: Great Yoga Anywhere  ...     5\n",
              "7412          CDL Practice Test 2018 Edition  ...     7\n",
              "7440          CDL Practice Test 2018 Edition  ...     7\n",
              "13939  DMV Permit Practice Test 2018 Edition  ...     7\n",
              "13943  DMV Permit Practice Test 2018 Edition  ...     7\n",
              "\n",
              "[10 rows x 18 columns]"
            ]
          },
          "metadata": {},
          "execution_count": 396
        }
      ]
    },
    {
      "cell_type": "code",
      "metadata": {
        "id": "4pvdpS0MPyuN"
      },
      "source": [
        "install_rated=top_installed_and_rated_apps.head(100)\n",
        "install_rated[\"Content Rating\"].value_counts().plot.pie()\n",
        "plt.title(\"Content Rating - Top 100 (Main) Apps\")\n",
        "plt.show()"
      ],
      "execution_count": null,
      "outputs": []
    },
    {
      "cell_type": "code",
      "metadata": {
        "id": "s7fVkvJnSMtG"
      },
      "source": [
        ""
      ],
      "execution_count": null,
      "outputs": []
    },
    {
      "cell_type": "code",
      "metadata": {
        "id": "5ffRZrIASMom"
      },
      "source": [
        ""
      ],
      "execution_count": null,
      "outputs": []
    },
    {
      "cell_type": "code",
      "metadata": {
        "id": "D6-Yc4GhSMkX"
      },
      "source": [
        ""
      ],
      "execution_count": null,
      "outputs": []
    },
    {
      "cell_type": "code",
      "metadata": {
        "id": "IKYEV_aTSMNO"
      },
      "source": [
        ""
      ],
      "execution_count": null,
      "outputs": []
    },
    {
      "cell_type": "code",
      "metadata": {
        "id": "1UxyUC9bg3DU"
      },
      "source": [
        "# Which free app is having highest installs and most number of reviews with rating greater than 4?"
      ],
      "execution_count": 330,
      "outputs": []
    }
  ]
}